{
 "cells": [
  {
   "cell_type": "markdown",
   "metadata": {},
   "source": [
    "## Introduction to business scenario\n",
    "You work for a travel booking website that is working to improve the customer experience for flights that were delayed. The company wants to create a feature to let customers know if the flight will be delayed due to weather when the customers are booking the flight to or from the busiest airports for domestic travel in the US. \n",
    "\n",
    "You are tasked with solving part of this problem by leveraging machine learning to identify whether the flight will be delayed due to weather. You have been given access to the a dataset of on-time performance of domestic flights operated by large air carriers. You can use this data to train a machine learning model to predict if the flight is going to be delayed for the busiest airports.\n",
    "\n",
    "## About this dataset\n",
    "This dataset contains scheduled and actual departure and arrival times reported by certified US air carriers that account for at least 1% of domestic scheduled passenger revenues. The data was collected by the Office of Airline Information, Bureau of Transportation Statistics (BTS). The dataset contains date, time, origin, destination, airline, distance, and delay status of flights for flights between 2013 and 2018.\n",
    "\n",
    "### Features\n",
    "For more information about features in the dataset, see [On-time delay dataset features](https://www.transtats.bts.gov/Fields.asp?gnoyr_VQ=FGJ).\n",
    "\n",
    "### Dataset attributions  \n",
    "\n",
    "Website: https://www.transtats.bts.gov/"
   ]
  },
  {
   "cell_type": "markdown",
   "metadata": {},
   "source": [
    "# Step 1: Problem formulation and data collection\n",
    "\n",
    "\n",
    "### 1. why ML is an appropriate solution to deploy.\n",
    "Predicting flight delays due to weather involves analyzing complex patterns in historical data, including weather conditions, flight schedules, and airport-specific trends. These relationships are too intricate to model with rule-based systems or manual analysis. ML can provide scalable, accurate, and adaptive predictions to improve customer experience.\n",
    "\n",
    "### 2. Formulate the business problem, success metrics, and desired ML output.\n",
    "Business Problem:\n",
    "Customers need timely information about potential weather-related flight delays to make informed booking decisions, enhancing their trust and satisfaction with the platform.\n",
    "\n",
    "Business Goal:\n",
    "Reduce customer complaints about unanticipated flight delays by providing reliable delay predictions at booking time.\n",
    "\n",
    "Success Metric:\n",
    "\n",
    "Achieve an accuracy of at least 85% in predicting weather-related delays.\n",
    "Minimize false negatives (unpredicted delays) to improve customer experience.\n",
    "ML Problem Statement:\n",
    "Develop a binary classification model that predicts whether a flight will be delayed due to weather based on historical flight performance and weather data.\n",
    "\n",
    "### 3. Identify the type of ML problem we’re dealing with.\n",
    "This is a supervised learning problem focused on binary classification:\n",
    "\n",
    "Output: Delayed (1) or Not Delayed (0).\n",
    "Input Features: Historical weather conditions, flight schedules, and airport-specific data.\n"
   ]
  },
  {
   "cell_type": "markdown",
   "metadata": {},
   "source": [
    "### Setup\n",
    "\n",
    "Now that we have decided where to focus our energy, let's set things up so you can start working on solving the problem.\n",
    "\n",
    "**Note:** This notebook was created and tested on an `ml.m4.xlarge` notebook instance. \n",
    "\n",
    "Replace **`<LabBucketName>`** with the resource name that was provided with your lab account."
   ]
  },
  {
   "cell_type": "code",
   "execution_count": 1,
   "metadata": {},
   "outputs": [],
   "source": [
    "# Change the bucket according to your information\n",
    "bucket = '<LabBucketName>'"
   ]
  },
  {
   "cell_type": "code",
   "execution_count": 2,
   "metadata": {},
   "outputs": [],
   "source": [
    "%%capture \n",
    "\n",
    "%matplotlib inline\n",
    "%pip install --upgrade boto3 botocore===1.33.2 -q\n",
    "%pip install xgboost=='0.90' -q"
   ]
  },
  {
   "cell_type": "code",
   "execution_count": 3,
   "metadata": {},
   "outputs": [],
   "source": [
    "import os\n",
    "from pathlib2 import Path\n",
    "from zipfile import ZipFile\n",
    "import time\n",
    "\n",
    "import pandas as pd\n",
    "import numpy as np\n",
    "import subprocess\n",
    "\n",
    "import matplotlib.pyplot as plt\n",
    "import seaborn as sns\n",
    "\n",
    "sns.set()\n",
    "\n",
    "import warnings\n",
    "warnings.filterwarnings('ignore')"
   ]
  },
  {
   "cell_type": "markdown",
   "metadata": {},
   "source": [
    "# Step 2: Data preprocessing and visualization\n",
    "First, import the necessary libraries and read the data into a Pandas dataframe. After that, we'll explore the data. Look for the shape of the dataset and explore your columns and the types of columns you're working with (numerical, categorical). Consider performing basic statistics on the features to get a sense of feature means and ranges. Take a close look at your target column and determine its distribution.\n",
    "\n",
    "### Specific questions to consider\n",
    "1. What can you deduce from the basic statistics you ran on the features? \n",
    "\n",
    "2. What can you deduce from the distributions of the target classes?\n",
    "\n",
    "3. Is there anything else you deduced from exploring the data?\n",
    "\n",
    "#### <span style=\"color: blue;\">Project presentation: Include a summary of your answers to these and other similar questions in your project presentations.</span>"
   ]
  },
  {
   "cell_type": "markdown",
   "metadata": {},
   "source": [
    "Start by bringing in the dataset from an Amazon S3 public bucket to this notebook environment."
   ]
  },
  {
   "cell_type": "code",
   "execution_count": 4,
   "metadata": {},
   "outputs": [
    {
     "name": "stdout",
     "output_type": "stream",
     "text": [
      "download: s3://aws-tc-largeobjects/ILT-TF-200-MLDWTS/flight_delay_project/csvFlightData-5/On_Time_Reporting_Carrier_On_Time_Performance_1987_present_2014_11.zip to ../project/data/FlightDelays/On_Time_Reporting_Carrier_On_Time_Performance_1987_present_2014_11.zip\n",
      "download: s3://aws-tc-largeobjects/ILT-TF-200-MLDWTS/flight_delay_project/csvFlightData-5/On_Time_Reporting_Carrier_On_Time_Performance_1987_present_2014_12.zip to ../project/data/FlightDelays/On_Time_Reporting_Carrier_On_Time_Performance_1987_present_2014_12.zip\n",
      "download: s3://aws-tc-largeobjects/ILT-TF-200-MLDWTS/flight_delay_project/csvFlightData-5/On_Time_Reporting_Carrier_On_Time_Performance_1987_present_2014_2.zip to ../project/data/FlightDelays/On_Time_Reporting_Carrier_On_Time_Performance_1987_present_2014_2.zip\n",
      "download: s3://aws-tc-largeobjects/ILT-TF-200-MLDWTS/flight_delay_project/csvFlightData-5/On_Time_Reporting_Carrier_On_Time_Performance_1987_present_2014_5.zip to ../project/data/FlightDelays/On_Time_Reporting_Carrier_On_Time_Performance_1987_present_2014_5.zip\n",
      "download: s3://aws-tc-largeobjects/ILT-TF-200-MLDWTS/flight_delay_project/csvFlightData-5/On_Time_Reporting_Carrier_On_Time_Performance_1987_present_2014_4.zip to ../project/data/FlightDelays/On_Time_Reporting_Carrier_On_Time_Performance_1987_present_2014_4.zip\n",
      "download: s3://aws-tc-largeobjects/ILT-TF-200-MLDWTS/flight_delay_project/csvFlightData-5/On_Time_Reporting_Carrier_On_Time_Performance_1987_present_2014_3.zip to ../project/data/FlightDelays/On_Time_Reporting_Carrier_On_Time_Performance_1987_present_2014_3.zip\n",
      "download: s3://aws-tc-largeobjects/ILT-TF-200-MLDWTS/flight_delay_project/csvFlightData-5/On_Time_Reporting_Carrier_On_Time_Performance_1987_present_2014_6.zip to ../project/data/FlightDelays/On_Time_Reporting_Carrier_On_Time_Performance_1987_present_2014_6.zip\n",
      "download: s3://aws-tc-largeobjects/ILT-TF-200-MLDWTS/flight_delay_project/csvFlightData-5/On_Time_Reporting_Carrier_On_Time_Performance_1987_present_2014_10.zip to ../project/data/FlightDelays/On_Time_Reporting_Carrier_On_Time_Performance_1987_present_2014_10.zip\n",
      "download: s3://aws-tc-largeobjects/ILT-TF-200-MLDWTS/flight_delay_project/csvFlightData-5/On_Time_Reporting_Carrier_On_Time_Performance_1987_present_2014_8.zip to ../project/data/FlightDelays/On_Time_Reporting_Carrier_On_Time_Performance_1987_present_2014_8.zip\n",
      "download: s3://aws-tc-largeobjects/ILT-TF-200-MLDWTS/flight_delay_project/csvFlightData-5/On_Time_Reporting_Carrier_On_Time_Performance_1987_present_2014_7.zip to ../project/data/FlightDelays/On_Time_Reporting_Carrier_On_Time_Performance_1987_present_2014_7.zip\n",
      "download: s3://aws-tc-largeobjects/ILT-TF-200-MLDWTS/flight_delay_project/csvFlightData-5/On_Time_Reporting_Carrier_On_Time_Performance_1987_present_2015_11.zip to ../project/data/FlightDelays/On_Time_Reporting_Carrier_On_Time_Performance_1987_present_2015_11.zip\n",
      "download: s3://aws-tc-largeobjects/ILT-TF-200-MLDWTS/flight_delay_project/csvFlightData-5/On_Time_Reporting_Carrier_On_Time_Performance_1987_present_2015_12.zip to ../project/data/FlightDelays/On_Time_Reporting_Carrier_On_Time_Performance_1987_present_2015_12.zip\n",
      "download: s3://aws-tc-largeobjects/ILT-TF-200-MLDWTS/flight_delay_project/csvFlightData-5/On_Time_Reporting_Carrier_On_Time_Performance_1987_present_2015_2.zip to ../project/data/FlightDelays/On_Time_Reporting_Carrier_On_Time_Performance_1987_present_2015_2.zip\n",
      "download: s3://aws-tc-largeobjects/ILT-TF-200-MLDWTS/flight_delay_project/csvFlightData-5/On_Time_Reporting_Carrier_On_Time_Performance_1987_present_2015_3.zip to ../project/data/FlightDelays/On_Time_Reporting_Carrier_On_Time_Performance_1987_present_2015_3.zip\n",
      "download: s3://aws-tc-largeobjects/ILT-TF-200-MLDWTS/flight_delay_project/csvFlightData-5/On_Time_Reporting_Carrier_On_Time_Performance_1987_present_2015_5.zip to ../project/data/FlightDelays/On_Time_Reporting_Carrier_On_Time_Performance_1987_present_2015_5.zip\n",
      "download: s3://aws-tc-largeobjects/ILT-TF-200-MLDWTS/flight_delay_project/csvFlightData-5/On_Time_Reporting_Carrier_On_Time_Performance_1987_present_2015_4.zip to ../project/data/FlightDelays/On_Time_Reporting_Carrier_On_Time_Performance_1987_present_2015_4.zip\n",
      "download: s3://aws-tc-largeobjects/ILT-TF-200-MLDWTS/flight_delay_project/csvFlightData-5/On_Time_Reporting_Carrier_On_Time_Performance_1987_present_2015_6.zip to ../project/data/FlightDelays/On_Time_Reporting_Carrier_On_Time_Performance_1987_present_2015_6.zip\n",
      "download: s3://aws-tc-largeobjects/ILT-TF-200-MLDWTS/flight_delay_project/csvFlightData-5/On_Time_Reporting_Carrier_On_Time_Performance_1987_present_2014_9.zip to ../project/data/FlightDelays/On_Time_Reporting_Carrier_On_Time_Performance_1987_present_2014_9.zip\n",
      "download: s3://aws-tc-largeobjects/ILT-TF-200-MLDWTS/flight_delay_project/csvFlightData-5/On_Time_Reporting_Carrier_On_Time_Performance_1987_present_2014_1.zip to ../project/data/FlightDelays/On_Time_Reporting_Carrier_On_Time_Performance_1987_present_2014_1.zip\n",
      "download: s3://aws-tc-largeobjects/ILT-TF-200-MLDWTS/flight_delay_project/csvFlightData-5/On_Time_Reporting_Carrier_On_Time_Performance_1987_present_2015_10.zip to ../project/data/FlightDelays/On_Time_Reporting_Carrier_On_Time_Performance_1987_present_2015_10.zip\n",
      "download: s3://aws-tc-largeobjects/ILT-TF-200-MLDWTS/flight_delay_project/csvFlightData-5/On_Time_Reporting_Carrier_On_Time_Performance_1987_present_2015_1.zip to ../project/data/FlightDelays/On_Time_Reporting_Carrier_On_Time_Performance_1987_present_2015_1.zip\n",
      "download: s3://aws-tc-largeobjects/ILT-TF-200-MLDWTS/flight_delay_project/csvFlightData-5/On_Time_Reporting_Carrier_On_Time_Performance_1987_present_2016_1.zip to ../project/data/FlightDelays/On_Time_Reporting_Carrier_On_Time_Performance_1987_present_2016_1.zip\n",
      "download: s3://aws-tc-largeobjects/ILT-TF-200-MLDWTS/flight_delay_project/csvFlightData-5/On_Time_Reporting_Carrier_On_Time_Performance_1987_present_2015_7.zip to ../project/data/FlightDelays/On_Time_Reporting_Carrier_On_Time_Performance_1987_present_2015_7.zip\n",
      "download: s3://aws-tc-largeobjects/ILT-TF-200-MLDWTS/flight_delay_project/csvFlightData-5/On_Time_Reporting_Carrier_On_Time_Performance_1987_present_2015_8.zip to ../project/data/FlightDelays/On_Time_Reporting_Carrier_On_Time_Performance_1987_present_2015_8.zip\n",
      "download: s3://aws-tc-largeobjects/ILT-TF-200-MLDWTS/flight_delay_project/csvFlightData-5/On_Time_Reporting_Carrier_On_Time_Performance_1987_present_2016_10.zip to ../project/data/FlightDelays/On_Time_Reporting_Carrier_On_Time_Performance_1987_present_2016_10.zip\n",
      "download: s3://aws-tc-largeobjects/ILT-TF-200-MLDWTS/flight_delay_project/csvFlightData-5/On_Time_Reporting_Carrier_On_Time_Performance_1987_present_2016_2.zip to ../project/data/FlightDelays/On_Time_Reporting_Carrier_On_Time_Performance_1987_present_2016_2.zip\n",
      "download: s3://aws-tc-largeobjects/ILT-TF-200-MLDWTS/flight_delay_project/csvFlightData-5/On_Time_Reporting_Carrier_On_Time_Performance_1987_present_2016_11.zip to ../project/data/FlightDelays/On_Time_Reporting_Carrier_On_Time_Performance_1987_present_2016_11.zip\n",
      "download: s3://aws-tc-largeobjects/ILT-TF-200-MLDWTS/flight_delay_project/csvFlightData-5/On_Time_Reporting_Carrier_On_Time_Performance_1987_present_2016_12.zip to ../project/data/FlightDelays/On_Time_Reporting_Carrier_On_Time_Performance_1987_present_2016_12.zip\n",
      "download: s3://aws-tc-largeobjects/ILT-TF-200-MLDWTS/flight_delay_project/csvFlightData-5/On_Time_Reporting_Carrier_On_Time_Performance_1987_present_2016_3.zip to ../project/data/FlightDelays/On_Time_Reporting_Carrier_On_Time_Performance_1987_present_2016_3.zip\n",
      "download: s3://aws-tc-largeobjects/ILT-TF-200-MLDWTS/flight_delay_project/csvFlightData-5/On_Time_Reporting_Carrier_On_Time_Performance_1987_present_2016_6.zip to ../project/data/FlightDelays/On_Time_Reporting_Carrier_On_Time_Performance_1987_present_2016_6.zip\n",
      "download: s3://aws-tc-largeobjects/ILT-TF-200-MLDWTS/flight_delay_project/csvFlightData-5/On_Time_Reporting_Carrier_On_Time_Performance_1987_present_2015_9.zip to ../project/data/FlightDelays/On_Time_Reporting_Carrier_On_Time_Performance_1987_present_2015_9.zip\n",
      "download: s3://aws-tc-largeobjects/ILT-TF-200-MLDWTS/flight_delay_project/csvFlightData-5/On_Time_Reporting_Carrier_On_Time_Performance_1987_present_2016_4.zip to ../project/data/FlightDelays/On_Time_Reporting_Carrier_On_Time_Performance_1987_present_2016_4.zip\n",
      "download: s3://aws-tc-largeobjects/ILT-TF-200-MLDWTS/flight_delay_project/csvFlightData-5/On_Time_Reporting_Carrier_On_Time_Performance_1987_present_2016_7.zip to ../project/data/FlightDelays/On_Time_Reporting_Carrier_On_Time_Performance_1987_present_2016_7.zip\n",
      "download: s3://aws-tc-largeobjects/ILT-TF-200-MLDWTS/flight_delay_project/csvFlightData-5/On_Time_Reporting_Carrier_On_Time_Performance_1987_present_2017_1.zip to ../project/data/FlightDelays/On_Time_Reporting_Carrier_On_Time_Performance_1987_present_2017_1.zip\n",
      "download: s3://aws-tc-largeobjects/ILT-TF-200-MLDWTS/flight_delay_project/csvFlightData-5/On_Time_Reporting_Carrier_On_Time_Performance_1987_present_2017_10.zip to ../project/data/FlightDelays/On_Time_Reporting_Carrier_On_Time_Performance_1987_present_2017_10.zip\n",
      "download: s3://aws-tc-largeobjects/ILT-TF-200-MLDWTS/flight_delay_project/csvFlightData-5/On_Time_Reporting_Carrier_On_Time_Performance_1987_present_2016_9.zip to ../project/data/FlightDelays/On_Time_Reporting_Carrier_On_Time_Performance_1987_present_2016_9.zip\n",
      "download: s3://aws-tc-largeobjects/ILT-TF-200-MLDWTS/flight_delay_project/csvFlightData-5/On_Time_Reporting_Carrier_On_Time_Performance_1987_present_2017_12.zip to ../project/data/FlightDelays/On_Time_Reporting_Carrier_On_Time_Performance_1987_present_2017_12.zip\n",
      "download: s3://aws-tc-largeobjects/ILT-TF-200-MLDWTS/flight_delay_project/csvFlightData-5/On_Time_Reporting_Carrier_On_Time_Performance_1987_present_2016_5.zip to ../project/data/FlightDelays/On_Time_Reporting_Carrier_On_Time_Performance_1987_present_2016_5.zip\n",
      "download: s3://aws-tc-largeobjects/ILT-TF-200-MLDWTS/flight_delay_project/csvFlightData-5/On_Time_Reporting_Carrier_On_Time_Performance_1987_present_2017_11.zip to ../project/data/FlightDelays/On_Time_Reporting_Carrier_On_Time_Performance_1987_present_2017_11.zip\n",
      "download: s3://aws-tc-largeobjects/ILT-TF-200-MLDWTS/flight_delay_project/csvFlightData-5/On_Time_Reporting_Carrier_On_Time_Performance_1987_present_2017_3.zip to ../project/data/FlightDelays/On_Time_Reporting_Carrier_On_Time_Performance_1987_present_2017_3.zip\n",
      "download: s3://aws-tc-largeobjects/ILT-TF-200-MLDWTS/flight_delay_project/csvFlightData-5/On_Time_Reporting_Carrier_On_Time_Performance_1987_present_2017_6.zip to ../project/data/FlightDelays/On_Time_Reporting_Carrier_On_Time_Performance_1987_present_2017_6.zip\n",
      "download: s3://aws-tc-largeobjects/ILT-TF-200-MLDWTS/flight_delay_project/csvFlightData-5/On_Time_Reporting_Carrier_On_Time_Performance_1987_present_2017_4.zip to ../project/data/FlightDelays/On_Time_Reporting_Carrier_On_Time_Performance_1987_present_2017_4.zip\n",
      "download: s3://aws-tc-largeobjects/ILT-TF-200-MLDWTS/flight_delay_project/csvFlightData-5/On_Time_Reporting_Carrier_On_Time_Performance_1987_present_2017_8.zip to ../project/data/FlightDelays/On_Time_Reporting_Carrier_On_Time_Performance_1987_present_2017_8.zip\n",
      "download: s3://aws-tc-largeobjects/ILT-TF-200-MLDWTS/flight_delay_project/csvFlightData-5/On_Time_Reporting_Carrier_On_Time_Performance_1987_present_2017_7.zip to ../project/data/FlightDelays/On_Time_Reporting_Carrier_On_Time_Performance_1987_present_2017_7.zip\n",
      "download: s3://aws-tc-largeobjects/ILT-TF-200-MLDWTS/flight_delay_project/csvFlightData-5/On_Time_Reporting_Carrier_On_Time_Performance_1987_present_2017_9.zip to ../project/data/FlightDelays/On_Time_Reporting_Carrier_On_Time_Performance_1987_present_2017_9.zip\n",
      "download: s3://aws-tc-largeobjects/ILT-TF-200-MLDWTS/flight_delay_project/csvFlightData-5/On_Time_Reporting_Carrier_On_Time_Performance_1987_present_2017_2.zip to ../project/data/FlightDelays/On_Time_Reporting_Carrier_On_Time_Performance_1987_present_2017_2.zip\n",
      "download: s3://aws-tc-largeobjects/ILT-TF-200-MLDWTS/flight_delay_project/csvFlightData-5/On_Time_Reporting_Carrier_On_Time_Performance_1987_present_2018_10.zip to ../project/data/FlightDelays/On_Time_Reporting_Carrier_On_Time_Performance_1987_present_2018_10.zip\n",
      "download: s3://aws-tc-largeobjects/ILT-TF-200-MLDWTS/flight_delay_project/csvFlightData-5/On_Time_Reporting_Carrier_On_Time_Performance_1987_present_2018_12.zip to ../project/data/FlightDelays/On_Time_Reporting_Carrier_On_Time_Performance_1987_present_2018_12.zip\n",
      "download: s3://aws-tc-largeobjects/ILT-TF-200-MLDWTS/flight_delay_project/csvFlightData-5/On_Time_Reporting_Carrier_On_Time_Performance_1987_present_2016_8.zip to ../project/data/FlightDelays/On_Time_Reporting_Carrier_On_Time_Performance_1987_present_2016_8.zip\n",
      "download: s3://aws-tc-largeobjects/ILT-TF-200-MLDWTS/flight_delay_project/csvFlightData-5/On_Time_Reporting_Carrier_On_Time_Performance_1987_present_2018_3.zip to ../project/data/FlightDelays/On_Time_Reporting_Carrier_On_Time_Performance_1987_present_2018_3.zip\n",
      "download: s3://aws-tc-largeobjects/ILT-TF-200-MLDWTS/flight_delay_project/csvFlightData-5/On_Time_Reporting_Carrier_On_Time_Performance_1987_present_2018_4.zip to ../project/data/FlightDelays/On_Time_Reporting_Carrier_On_Time_Performance_1987_present_2018_4.zip\n",
      "download: s3://aws-tc-largeobjects/ILT-TF-200-MLDWTS/flight_delay_project/csvFlightData-5/On_Time_Reporting_Carrier_On_Time_Performance_1987_present_2018_1.zip to ../project/data/FlightDelays/On_Time_Reporting_Carrier_On_Time_Performance_1987_present_2018_1.zip\n",
      "download: s3://aws-tc-largeobjects/ILT-TF-200-MLDWTS/flight_delay_project/csvFlightData-5/On_Time_Reporting_Carrier_On_Time_Performance_1987_present_2017_5.zip to ../project/data/FlightDelays/On_Time_Reporting_Carrier_On_Time_Performance_1987_present_2017_5.zip\n",
      "download: s3://aws-tc-largeobjects/ILT-TF-200-MLDWTS/flight_delay_project/csvFlightData-5/On_Time_Reporting_Carrier_On_Time_Performance_1987_present_2018_6.zip to ../project/data/FlightDelays/On_Time_Reporting_Carrier_On_Time_Performance_1987_present_2018_6.zip\n",
      "download: s3://aws-tc-largeobjects/ILT-TF-200-MLDWTS/flight_delay_project/csvFlightData-5/On_Time_Reporting_Carrier_On_Time_Performance_1987_present_2018_5.zip to ../project/data/FlightDelays/On_Time_Reporting_Carrier_On_Time_Performance_1987_present_2018_5.zip\n",
      "download: s3://aws-tc-largeobjects/ILT-TF-200-MLDWTS/flight_delay_project/csvFlightData-5/On_Time_Reporting_Carrier_On_Time_Performance_1987_present_2018_11.zip to ../project/data/FlightDelays/On_Time_Reporting_Carrier_On_Time_Performance_1987_present_2018_11.zip\n",
      "download: s3://aws-tc-largeobjects/ILT-TF-200-MLDWTS/flight_delay_project/csvFlightData-5/On_Time_Reporting_Carrier_On_Time_Performance_1987_present_2018_8.zip to ../project/data/FlightDelays/On_Time_Reporting_Carrier_On_Time_Performance_1987_present_2018_8.zip\n",
      "download: s3://aws-tc-largeobjects/ILT-TF-200-MLDWTS/flight_delay_project/csvFlightData-5/On_Time_Reporting_Carrier_On_Time_Performance_1987_present_2018_2.zip to ../project/data/FlightDelays/On_Time_Reporting_Carrier_On_Time_Performance_1987_present_2018_2.zip\n",
      "download: s3://aws-tc-largeobjects/ILT-TF-200-MLDWTS/flight_delay_project/csvFlightData-5/On_Time_Reporting_Carrier_On_Time_Performance_1987_present_2018_9.zip to ../project/data/FlightDelays/On_Time_Reporting_Carrier_On_Time_Performance_1987_present_2018_9.zip\n",
      "download: s3://aws-tc-largeobjects/ILT-TF-200-MLDWTS/flight_delay_project/csvFlightData-5/On_Time_Reporting_Carrier_On_Time_Performance_1987_present_2018_7.zip to ../project/data/FlightDelays/On_Time_Reporting_Carrier_On_Time_Performance_1987_present_2018_7.zip\n"
     ]
    }
   ],
   "source": [
    "# Check whether the file is already in the desired path or if it needs to be downloaded\n",
    "\n",
    "base_path = '/home/ec2-user/SageMaker/project/data/FlightDelays/'\n",
    "csv_base_path = '/home/ec2-user/SageMaker/project/data/csvFlightDelays/'\n",
    "file_path = 'On_Time_Reporting_Carrier_On_Time_Performance_1987_present_2014_1.zip'\n",
    "\n",
    "if not os.path.isfile(base_path + file_path):\n",
    "    subprocess.run(['mkdir', '-p', base_path])\n",
    "    subprocess.run(['mkdir', '-p', csv_base_path])\n",
    "    subprocess.run(['aws', 's3', 'cp', \n",
    "                    's3://aws-tc-largeobjects/ILT-TF-200-MLDWTS/flight_delay_project/csvFlightData-5/', \n",
    "                    base_path,'--recursive'])\n",
    "else:\n",
    "    print('File already downloaded!')"
   ]
  },
  {
   "cell_type": "code",
   "execution_count": 5,
   "metadata": {},
   "outputs": [
    {
     "data": {
      "text/plain": [
       "60"
      ]
     },
     "execution_count": 5,
     "metadata": {},
     "output_type": "execute_result"
    }
   ],
   "source": [
    "zip_files = [str(file) for file in list(Path(base_path).iterdir()) if '.zip' in str(file)]\n",
    "len(zip_files)"
   ]
  },
  {
   "cell_type": "markdown",
   "metadata": {},
   "source": [
    "#### Extract CSV files from ZIP files"
   ]
  },
  {
   "cell_type": "code",
   "execution_count": 6,
   "metadata": {
    "scrolled": true
   },
   "outputs": [
    {
     "name": "stdout",
     "output_type": "stream",
     "text": [
      "Extracting /home/ec2-user/SageMaker/project/data/FlightDelays/On_Time_Reporting_Carrier_On_Time_Performance_1987_present_2015_12.zip \n",
      "Extracting /home/ec2-user/SageMaker/project/data/FlightDelays/On_Time_Reporting_Carrier_On_Time_Performance_1987_present_2017_9.zip \n",
      "Extracting /home/ec2-user/SageMaker/project/data/FlightDelays/On_Time_Reporting_Carrier_On_Time_Performance_1987_present_2015_11.zip \n",
      "Extracting /home/ec2-user/SageMaker/project/data/FlightDelays/On_Time_Reporting_Carrier_On_Time_Performance_1987_present_2015_3.zip \n",
      "Extracting /home/ec2-user/SageMaker/project/data/FlightDelays/On_Time_Reporting_Carrier_On_Time_Performance_1987_present_2018_6.zip \n",
      "Extracting /home/ec2-user/SageMaker/project/data/FlightDelays/On_Time_Reporting_Carrier_On_Time_Performance_1987_present_2014_3.zip \n",
      "Extracting /home/ec2-user/SageMaker/project/data/FlightDelays/On_Time_Reporting_Carrier_On_Time_Performance_1987_present_2017_3.zip \n",
      "Extracting /home/ec2-user/SageMaker/project/data/FlightDelays/On_Time_Reporting_Carrier_On_Time_Performance_1987_present_2016_12.zip \n",
      "Extracting /home/ec2-user/SageMaker/project/data/FlightDelays/On_Time_Reporting_Carrier_On_Time_Performance_1987_present_2015_4.zip \n",
      "Extracting /home/ec2-user/SageMaker/project/data/FlightDelays/On_Time_Reporting_Carrier_On_Time_Performance_1987_present_2016_4.zip \n",
      "Extracting /home/ec2-user/SageMaker/project/data/FlightDelays/On_Time_Reporting_Carrier_On_Time_Performance_1987_present_2014_12.zip \n",
      "Extracting /home/ec2-user/SageMaker/project/data/FlightDelays/On_Time_Reporting_Carrier_On_Time_Performance_1987_present_2018_12.zip \n",
      "Extracting /home/ec2-user/SageMaker/project/data/FlightDelays/On_Time_Reporting_Carrier_On_Time_Performance_1987_present_2014_10.zip \n",
      "Extracting /home/ec2-user/SageMaker/project/data/FlightDelays/On_Time_Reporting_Carrier_On_Time_Performance_1987_present_2016_10.zip \n",
      "Extracting /home/ec2-user/SageMaker/project/data/FlightDelays/On_Time_Reporting_Carrier_On_Time_Performance_1987_present_2018_8.zip \n",
      "Extracting /home/ec2-user/SageMaker/project/data/FlightDelays/On_Time_Reporting_Carrier_On_Time_Performance_1987_present_2016_3.zip \n",
      "Extracting /home/ec2-user/SageMaker/project/data/FlightDelays/On_Time_Reporting_Carrier_On_Time_Performance_1987_present_2016_9.zip \n",
      "Extracting /home/ec2-user/SageMaker/project/data/FlightDelays/On_Time_Reporting_Carrier_On_Time_Performance_1987_present_2014_4.zip \n",
      "Extracting /home/ec2-user/SageMaker/project/data/FlightDelays/On_Time_Reporting_Carrier_On_Time_Performance_1987_present_2018_1.zip \n",
      "Extracting /home/ec2-user/SageMaker/project/data/FlightDelays/On_Time_Reporting_Carrier_On_Time_Performance_1987_present_2018_7.zip \n",
      "Extracting /home/ec2-user/SageMaker/project/data/FlightDelays/On_Time_Reporting_Carrier_On_Time_Performance_1987_present_2015_10.zip \n",
      "Extracting /home/ec2-user/SageMaker/project/data/FlightDelays/On_Time_Reporting_Carrier_On_Time_Performance_1987_present_2017_4.zip \n",
      "Extracting /home/ec2-user/SageMaker/project/data/FlightDelays/On_Time_Reporting_Carrier_On_Time_Performance_1987_present_2018_2.zip \n",
      "Extracting /home/ec2-user/SageMaker/project/data/FlightDelays/On_Time_Reporting_Carrier_On_Time_Performance_1987_present_2016_7.zip \n",
      "Extracting /home/ec2-user/SageMaker/project/data/FlightDelays/On_Time_Reporting_Carrier_On_Time_Performance_1987_present_2017_5.zip \n",
      "Extracting /home/ec2-user/SageMaker/project/data/FlightDelays/On_Time_Reporting_Carrier_On_Time_Performance_1987_present_2016_1.zip \n",
      "Extracting /home/ec2-user/SageMaker/project/data/FlightDelays/On_Time_Reporting_Carrier_On_Time_Performance_1987_present_2014_7.zip \n",
      "Extracting /home/ec2-user/SageMaker/project/data/FlightDelays/On_Time_Reporting_Carrier_On_Time_Performance_1987_present_2017_8.zip \n",
      "Extracting /home/ec2-user/SageMaker/project/data/FlightDelays/On_Time_Reporting_Carrier_On_Time_Performance_1987_present_2014_1.zip \n",
      "Extracting /home/ec2-user/SageMaker/project/data/FlightDelays/On_Time_Reporting_Carrier_On_Time_Performance_1987_present_2017_12.zip \n",
      "Extracting /home/ec2-user/SageMaker/project/data/FlightDelays/On_Time_Reporting_Carrier_On_Time_Performance_1987_present_2014_8.zip \n",
      "Extracting /home/ec2-user/SageMaker/project/data/FlightDelays/On_Time_Reporting_Carrier_On_Time_Performance_1987_present_2015_5.zip \n",
      "Extracting /home/ec2-user/SageMaker/project/data/FlightDelays/On_Time_Reporting_Carrier_On_Time_Performance_1987_present_2017_1.zip \n",
      "Extracting /home/ec2-user/SageMaker/project/data/FlightDelays/On_Time_Reporting_Carrier_On_Time_Performance_1987_present_2014_5.zip \n",
      "Extracting /home/ec2-user/SageMaker/project/data/FlightDelays/On_Time_Reporting_Carrier_On_Time_Performance_1987_present_2014_6.zip \n",
      "Extracting /home/ec2-user/SageMaker/project/data/FlightDelays/On_Time_Reporting_Carrier_On_Time_Performance_1987_present_2016_11.zip \n",
      "Extracting /home/ec2-user/SageMaker/project/data/FlightDelays/On_Time_Reporting_Carrier_On_Time_Performance_1987_present_2016_8.zip \n",
      "Extracting /home/ec2-user/SageMaker/project/data/FlightDelays/On_Time_Reporting_Carrier_On_Time_Performance_1987_present_2014_9.zip \n",
      "Extracting /home/ec2-user/SageMaker/project/data/FlightDelays/On_Time_Reporting_Carrier_On_Time_Performance_1987_present_2018_10.zip \n",
      "Extracting /home/ec2-user/SageMaker/project/data/FlightDelays/On_Time_Reporting_Carrier_On_Time_Performance_1987_present_2015_6.zip \n",
      "Extracting /home/ec2-user/SageMaker/project/data/FlightDelays/On_Time_Reporting_Carrier_On_Time_Performance_1987_present_2017_2.zip \n",
      "Extracting /home/ec2-user/SageMaker/project/data/FlightDelays/On_Time_Reporting_Carrier_On_Time_Performance_1987_present_2014_11.zip \n",
      "Extracting /home/ec2-user/SageMaker/project/data/FlightDelays/On_Time_Reporting_Carrier_On_Time_Performance_1987_present_2016_6.zip \n",
      "Extracting /home/ec2-user/SageMaker/project/data/FlightDelays/On_Time_Reporting_Carrier_On_Time_Performance_1987_present_2015_8.zip \n",
      "Extracting /home/ec2-user/SageMaker/project/data/FlightDelays/On_Time_Reporting_Carrier_On_Time_Performance_1987_present_2014_2.zip \n",
      "Extracting /home/ec2-user/SageMaker/project/data/FlightDelays/On_Time_Reporting_Carrier_On_Time_Performance_1987_present_2018_9.zip \n",
      "Extracting /home/ec2-user/SageMaker/project/data/FlightDelays/On_Time_Reporting_Carrier_On_Time_Performance_1987_present_2017_10.zip \n",
      "Extracting /home/ec2-user/SageMaker/project/data/FlightDelays/On_Time_Reporting_Carrier_On_Time_Performance_1987_present_2018_11.zip \n",
      "Extracting /home/ec2-user/SageMaker/project/data/FlightDelays/On_Time_Reporting_Carrier_On_Time_Performance_1987_present_2017_11.zip \n",
      "Extracting /home/ec2-user/SageMaker/project/data/FlightDelays/On_Time_Reporting_Carrier_On_Time_Performance_1987_present_2015_9.zip \n",
      "Extracting /home/ec2-user/SageMaker/project/data/FlightDelays/On_Time_Reporting_Carrier_On_Time_Performance_1987_present_2016_2.zip \n",
      "Extracting /home/ec2-user/SageMaker/project/data/FlightDelays/On_Time_Reporting_Carrier_On_Time_Performance_1987_present_2015_7.zip \n",
      "Extracting /home/ec2-user/SageMaker/project/data/FlightDelays/On_Time_Reporting_Carrier_On_Time_Performance_1987_present_2015_2.zip \n",
      "Extracting /home/ec2-user/SageMaker/project/data/FlightDelays/On_Time_Reporting_Carrier_On_Time_Performance_1987_present_2016_5.zip \n",
      "Extracting /home/ec2-user/SageMaker/project/data/FlightDelays/On_Time_Reporting_Carrier_On_Time_Performance_1987_present_2017_7.zip \n",
      "Extracting /home/ec2-user/SageMaker/project/data/FlightDelays/On_Time_Reporting_Carrier_On_Time_Performance_1987_present_2015_1.zip \n",
      "Extracting /home/ec2-user/SageMaker/project/data/FlightDelays/On_Time_Reporting_Carrier_On_Time_Performance_1987_present_2018_5.zip \n",
      "Extracting /home/ec2-user/SageMaker/project/data/FlightDelays/On_Time_Reporting_Carrier_On_Time_Performance_1987_present_2018_4.zip \n",
      "Extracting /home/ec2-user/SageMaker/project/data/FlightDelays/On_Time_Reporting_Carrier_On_Time_Performance_1987_present_2018_3.zip \n",
      "Extracting /home/ec2-user/SageMaker/project/data/FlightDelays/On_Time_Reporting_Carrier_On_Time_Performance_1987_present_2017_6.zip \n",
      "Files Extracted\n"
     ]
    }
   ],
   "source": [
    "def zip2csv(zipFile_name , file_path = '/home/ec2-user/SageMaker/project/data/csvFlightDelays'):\n",
    "    \"\"\"\n",
    "    Extract csv from zip files\n",
    "    zipFile_name: name of the zip file\n",
    "    file_path : name of the folder to store csv\n",
    "    \"\"\"\n",
    "    try:\n",
    "        with ZipFile(zipFile_name, 'r') as z: \n",
    "            print(f'Extracting {zipFile_name} ') \n",
    "            z.extractall(path=file_path) \n",
    "    except:\n",
    "        print(f'zip2csv failed for {zipFile_name}')\n",
    "\n",
    "for file in zip_files:\n",
    "    zip2csv(file)\n",
    "\n",
    "print(\"Files Extracted\")"
   ]
  },
  {
   "cell_type": "code",
   "execution_count": 7,
   "metadata": {},
   "outputs": [
    {
     "data": {
      "text/plain": [
       "60"
      ]
     },
     "execution_count": 7,
     "metadata": {},
     "output_type": "execute_result"
    }
   ],
   "source": [
    "csv_files = [str(file) for file in list(Path(csv_base_path).iterdir()) if '.csv' in str(file)]\n",
    "len(csv_files)"
   ]
  },
  {
   "cell_type": "markdown",
   "metadata": {},
   "source": [
    "Before loading the CSV file, read the HTML file from the extracted folder. This HTML file includes the background and more information on the features included in the dataset."
   ]
  },
  {
   "cell_type": "code",
   "execution_count": 8,
   "metadata": {},
   "outputs": [
    {
     "data": {
      "text/html": [
       "\n",
       "        <iframe\n",
       "            width=\"1000\"\n",
       "            height=\"600\"\n",
       "            src=\"./data/csvFlightDelays/readme.html\"\n",
       "            frameborder=\"0\"\n",
       "            allowfullscreen\n",
       "            \n",
       "        ></iframe>\n",
       "        "
      ],
      "text/plain": [
       "<IPython.lib.display.IFrame at 0x7fe9e64020b0>"
      ]
     },
     "execution_count": 8,
     "metadata": {},
     "output_type": "execute_result"
    }
   ],
   "source": [
    "from IPython.display import IFrame, HTML\n",
    "\n",
    "IFrame(src=\"../project/data/csvFlightDelays/readme.html\", width=1000, height=600)"
   ]
  },
  {
   "cell_type": "markdown",
   "metadata": {},
   "source": [
    "#### Load sample CSV\n",
    "\n",
    "Before combining all the CSV files, get a sense of the data from a single CSV file. Using Pandas, read the `On_Time_Reporting_Carrier_On_Time_Performance_(1987_present)_2018_9.csv` file first. You can use the Python built-in `read_csv` function ([documentation](https://pandas.pydata.org/pandas-docs/stable/reference/api/pandas.read_csv.html))."
   ]
  },
  {
   "cell_type": "code",
   "execution_count": 9,
   "metadata": {},
   "outputs": [],
   "source": [
    "df_temp = pd.read_csv(f\"{csv_base_path}On_Time_Reporting_Carrier_On_Time_Performance_(1987_present)_2018_9.csv\")"
   ]
  },
  {
   "cell_type": "markdown",
   "metadata": {},
   "source": [
    "**Question**: Print the row and column length in the dataset, and print the column names.\n",
    "\n",
    "**Hint**: Use the `<dataframe>.shape` function to view the rows and columns of a dataframe and `<dataframe>.columns` to view the column names."
   ]
  },
  {
   "cell_type": "code",
   "execution_count": 10,
   "metadata": {},
   "outputs": [
    {
     "name": "stdout",
     "output_type": "stream",
     "text": [
      "Rows and columns in one csv file is (585749, 110)\n"
     ]
    }
   ],
   "source": [
    "df_shape = df_temp.shape\n",
    "print(f'Rows and columns in one csv file is {df_shape}')"
   ]
  },
  {
   "cell_type": "markdown",
   "metadata": {},
   "source": [
    "**Question**: Print the first 10 rows of the dataset.  \n",
    "\n",
    "**Hint**: Use the built-in Pandas function `head(x)` to print `x` number of rows."
   ]
  },
  {
   "cell_type": "code",
   "execution_count": 11,
   "metadata": {
    "scrolled": true
   },
   "outputs": [
    {
     "data": {
      "text/html": [
       "<div>\n",
       "<style scoped>\n",
       "    .dataframe tbody tr th:only-of-type {\n",
       "        vertical-align: middle;\n",
       "    }\n",
       "\n",
       "    .dataframe tbody tr th {\n",
       "        vertical-align: top;\n",
       "    }\n",
       "\n",
       "    .dataframe thead th {\n",
       "        text-align: right;\n",
       "    }\n",
       "</style>\n",
       "<table border=\"1\" class=\"dataframe\">\n",
       "  <thead>\n",
       "    <tr style=\"text-align: right;\">\n",
       "      <th></th>\n",
       "      <th>Year</th>\n",
       "      <th>Quarter</th>\n",
       "      <th>Month</th>\n",
       "      <th>DayofMonth</th>\n",
       "      <th>DayOfWeek</th>\n",
       "      <th>FlightDate</th>\n",
       "      <th>Reporting_Airline</th>\n",
       "      <th>DOT_ID_Reporting_Airline</th>\n",
       "      <th>IATA_CODE_Reporting_Airline</th>\n",
       "      <th>Tail_Number</th>\n",
       "      <th>...</th>\n",
       "      <th>Div4TailNum</th>\n",
       "      <th>Div5Airport</th>\n",
       "      <th>Div5AirportID</th>\n",
       "      <th>Div5AirportSeqID</th>\n",
       "      <th>Div5WheelsOn</th>\n",
       "      <th>Div5TotalGTime</th>\n",
       "      <th>Div5LongestGTime</th>\n",
       "      <th>Div5WheelsOff</th>\n",
       "      <th>Div5TailNum</th>\n",
       "      <th>Unnamed: 109</th>\n",
       "    </tr>\n",
       "  </thead>\n",
       "  <tbody>\n",
       "    <tr>\n",
       "      <th>0</th>\n",
       "      <td>2018</td>\n",
       "      <td>3</td>\n",
       "      <td>9</td>\n",
       "      <td>3</td>\n",
       "      <td>1</td>\n",
       "      <td>2018-09-03</td>\n",
       "      <td>9E</td>\n",
       "      <td>20363</td>\n",
       "      <td>9E</td>\n",
       "      <td>N908XJ</td>\n",
       "      <td>...</td>\n",
       "      <td>NaN</td>\n",
       "      <td>NaN</td>\n",
       "      <td>NaN</td>\n",
       "      <td>NaN</td>\n",
       "      <td>NaN</td>\n",
       "      <td>NaN</td>\n",
       "      <td>NaN</td>\n",
       "      <td>NaN</td>\n",
       "      <td>NaN</td>\n",
       "      <td>NaN</td>\n",
       "    </tr>\n",
       "    <tr>\n",
       "      <th>1</th>\n",
       "      <td>2018</td>\n",
       "      <td>3</td>\n",
       "      <td>9</td>\n",
       "      <td>9</td>\n",
       "      <td>7</td>\n",
       "      <td>2018-09-09</td>\n",
       "      <td>9E</td>\n",
       "      <td>20363</td>\n",
       "      <td>9E</td>\n",
       "      <td>N315PQ</td>\n",
       "      <td>...</td>\n",
       "      <td>NaN</td>\n",
       "      <td>NaN</td>\n",
       "      <td>NaN</td>\n",
       "      <td>NaN</td>\n",
       "      <td>NaN</td>\n",
       "      <td>NaN</td>\n",
       "      <td>NaN</td>\n",
       "      <td>NaN</td>\n",
       "      <td>NaN</td>\n",
       "      <td>NaN</td>\n",
       "    </tr>\n",
       "    <tr>\n",
       "      <th>2</th>\n",
       "      <td>2018</td>\n",
       "      <td>3</td>\n",
       "      <td>9</td>\n",
       "      <td>10</td>\n",
       "      <td>1</td>\n",
       "      <td>2018-09-10</td>\n",
       "      <td>9E</td>\n",
       "      <td>20363</td>\n",
       "      <td>9E</td>\n",
       "      <td>N582CA</td>\n",
       "      <td>...</td>\n",
       "      <td>NaN</td>\n",
       "      <td>NaN</td>\n",
       "      <td>NaN</td>\n",
       "      <td>NaN</td>\n",
       "      <td>NaN</td>\n",
       "      <td>NaN</td>\n",
       "      <td>NaN</td>\n",
       "      <td>NaN</td>\n",
       "      <td>NaN</td>\n",
       "      <td>NaN</td>\n",
       "    </tr>\n",
       "    <tr>\n",
       "      <th>3</th>\n",
       "      <td>2018</td>\n",
       "      <td>3</td>\n",
       "      <td>9</td>\n",
       "      <td>13</td>\n",
       "      <td>4</td>\n",
       "      <td>2018-09-13</td>\n",
       "      <td>9E</td>\n",
       "      <td>20363</td>\n",
       "      <td>9E</td>\n",
       "      <td>N292PQ</td>\n",
       "      <td>...</td>\n",
       "      <td>NaN</td>\n",
       "      <td>NaN</td>\n",
       "      <td>NaN</td>\n",
       "      <td>NaN</td>\n",
       "      <td>NaN</td>\n",
       "      <td>NaN</td>\n",
       "      <td>NaN</td>\n",
       "      <td>NaN</td>\n",
       "      <td>NaN</td>\n",
       "      <td>NaN</td>\n",
       "    </tr>\n",
       "    <tr>\n",
       "      <th>4</th>\n",
       "      <td>2018</td>\n",
       "      <td>3</td>\n",
       "      <td>9</td>\n",
       "      <td>14</td>\n",
       "      <td>5</td>\n",
       "      <td>2018-09-14</td>\n",
       "      <td>9E</td>\n",
       "      <td>20363</td>\n",
       "      <td>9E</td>\n",
       "      <td>N600LR</td>\n",
       "      <td>...</td>\n",
       "      <td>NaN</td>\n",
       "      <td>NaN</td>\n",
       "      <td>NaN</td>\n",
       "      <td>NaN</td>\n",
       "      <td>NaN</td>\n",
       "      <td>NaN</td>\n",
       "      <td>NaN</td>\n",
       "      <td>NaN</td>\n",
       "      <td>NaN</td>\n",
       "      <td>NaN</td>\n",
       "    </tr>\n",
       "    <tr>\n",
       "      <th>5</th>\n",
       "      <td>2018</td>\n",
       "      <td>3</td>\n",
       "      <td>9</td>\n",
       "      <td>16</td>\n",
       "      <td>7</td>\n",
       "      <td>2018-09-16</td>\n",
       "      <td>9E</td>\n",
       "      <td>20363</td>\n",
       "      <td>9E</td>\n",
       "      <td>N316PQ</td>\n",
       "      <td>...</td>\n",
       "      <td>NaN</td>\n",
       "      <td>NaN</td>\n",
       "      <td>NaN</td>\n",
       "      <td>NaN</td>\n",
       "      <td>NaN</td>\n",
       "      <td>NaN</td>\n",
       "      <td>NaN</td>\n",
       "      <td>NaN</td>\n",
       "      <td>NaN</td>\n",
       "      <td>NaN</td>\n",
       "    </tr>\n",
       "    <tr>\n",
       "      <th>6</th>\n",
       "      <td>2018</td>\n",
       "      <td>3</td>\n",
       "      <td>9</td>\n",
       "      <td>17</td>\n",
       "      <td>1</td>\n",
       "      <td>2018-09-17</td>\n",
       "      <td>9E</td>\n",
       "      <td>20363</td>\n",
       "      <td>9E</td>\n",
       "      <td>N916XJ</td>\n",
       "      <td>...</td>\n",
       "      <td>NaN</td>\n",
       "      <td>NaN</td>\n",
       "      <td>NaN</td>\n",
       "      <td>NaN</td>\n",
       "      <td>NaN</td>\n",
       "      <td>NaN</td>\n",
       "      <td>NaN</td>\n",
       "      <td>NaN</td>\n",
       "      <td>NaN</td>\n",
       "      <td>NaN</td>\n",
       "    </tr>\n",
       "    <tr>\n",
       "      <th>7</th>\n",
       "      <td>2018</td>\n",
       "      <td>3</td>\n",
       "      <td>9</td>\n",
       "      <td>20</td>\n",
       "      <td>4</td>\n",
       "      <td>2018-09-20</td>\n",
       "      <td>9E</td>\n",
       "      <td>20363</td>\n",
       "      <td>9E</td>\n",
       "      <td>N371CA</td>\n",
       "      <td>...</td>\n",
       "      <td>NaN</td>\n",
       "      <td>NaN</td>\n",
       "      <td>NaN</td>\n",
       "      <td>NaN</td>\n",
       "      <td>NaN</td>\n",
       "      <td>NaN</td>\n",
       "      <td>NaN</td>\n",
       "      <td>NaN</td>\n",
       "      <td>NaN</td>\n",
       "      <td>NaN</td>\n",
       "    </tr>\n",
       "    <tr>\n",
       "      <th>8</th>\n",
       "      <td>2018</td>\n",
       "      <td>3</td>\n",
       "      <td>9</td>\n",
       "      <td>21</td>\n",
       "      <td>5</td>\n",
       "      <td>2018-09-21</td>\n",
       "      <td>9E</td>\n",
       "      <td>20363</td>\n",
       "      <td>9E</td>\n",
       "      <td>N601LR</td>\n",
       "      <td>...</td>\n",
       "      <td>NaN</td>\n",
       "      <td>NaN</td>\n",
       "      <td>NaN</td>\n",
       "      <td>NaN</td>\n",
       "      <td>NaN</td>\n",
       "      <td>NaN</td>\n",
       "      <td>NaN</td>\n",
       "      <td>NaN</td>\n",
       "      <td>NaN</td>\n",
       "      <td>NaN</td>\n",
       "    </tr>\n",
       "    <tr>\n",
       "      <th>9</th>\n",
       "      <td>2018</td>\n",
       "      <td>3</td>\n",
       "      <td>9</td>\n",
       "      <td>23</td>\n",
       "      <td>7</td>\n",
       "      <td>2018-09-23</td>\n",
       "      <td>9E</td>\n",
       "      <td>20363</td>\n",
       "      <td>9E</td>\n",
       "      <td>N906XJ</td>\n",
       "      <td>...</td>\n",
       "      <td>NaN</td>\n",
       "      <td>NaN</td>\n",
       "      <td>NaN</td>\n",
       "      <td>NaN</td>\n",
       "      <td>NaN</td>\n",
       "      <td>NaN</td>\n",
       "      <td>NaN</td>\n",
       "      <td>NaN</td>\n",
       "      <td>NaN</td>\n",
       "      <td>NaN</td>\n",
       "    </tr>\n",
       "  </tbody>\n",
       "</table>\n",
       "<p>10 rows × 110 columns</p>\n",
       "</div>"
      ],
      "text/plain": [
       "   Year  Quarter  Month  DayofMonth  DayOfWeek  FlightDate Reporting_Airline  \\\n",
       "0  2018        3      9           3          1  2018-09-03                9E   \n",
       "1  2018        3      9           9          7  2018-09-09                9E   \n",
       "2  2018        3      9          10          1  2018-09-10                9E   \n",
       "3  2018        3      9          13          4  2018-09-13                9E   \n",
       "4  2018        3      9          14          5  2018-09-14                9E   \n",
       "5  2018        3      9          16          7  2018-09-16                9E   \n",
       "6  2018        3      9          17          1  2018-09-17                9E   \n",
       "7  2018        3      9          20          4  2018-09-20                9E   \n",
       "8  2018        3      9          21          5  2018-09-21                9E   \n",
       "9  2018        3      9          23          7  2018-09-23                9E   \n",
       "\n",
       "   DOT_ID_Reporting_Airline IATA_CODE_Reporting_Airline Tail_Number  ...  \\\n",
       "0                     20363                          9E      N908XJ  ...   \n",
       "1                     20363                          9E      N315PQ  ...   \n",
       "2                     20363                          9E      N582CA  ...   \n",
       "3                     20363                          9E      N292PQ  ...   \n",
       "4                     20363                          9E      N600LR  ...   \n",
       "5                     20363                          9E      N316PQ  ...   \n",
       "6                     20363                          9E      N916XJ  ...   \n",
       "7                     20363                          9E      N371CA  ...   \n",
       "8                     20363                          9E      N601LR  ...   \n",
       "9                     20363                          9E      N906XJ  ...   \n",
       "\n",
       "   Div4TailNum  Div5Airport  Div5AirportID  Div5AirportSeqID Div5WheelsOn  \\\n",
       "0          NaN          NaN            NaN               NaN          NaN   \n",
       "1          NaN          NaN            NaN               NaN          NaN   \n",
       "2          NaN          NaN            NaN               NaN          NaN   \n",
       "3          NaN          NaN            NaN               NaN          NaN   \n",
       "4          NaN          NaN            NaN               NaN          NaN   \n",
       "5          NaN          NaN            NaN               NaN          NaN   \n",
       "6          NaN          NaN            NaN               NaN          NaN   \n",
       "7          NaN          NaN            NaN               NaN          NaN   \n",
       "8          NaN          NaN            NaN               NaN          NaN   \n",
       "9          NaN          NaN            NaN               NaN          NaN   \n",
       "\n",
       "  Div5TotalGTime Div5LongestGTime  Div5WheelsOff Div5TailNum  Unnamed: 109  \n",
       "0            NaN              NaN            NaN         NaN           NaN  \n",
       "1            NaN              NaN            NaN         NaN           NaN  \n",
       "2            NaN              NaN            NaN         NaN           NaN  \n",
       "3            NaN              NaN            NaN         NaN           NaN  \n",
       "4            NaN              NaN            NaN         NaN           NaN  \n",
       "5            NaN              NaN            NaN         NaN           NaN  \n",
       "6            NaN              NaN            NaN         NaN           NaN  \n",
       "7            NaN              NaN            NaN         NaN           NaN  \n",
       "8            NaN              NaN            NaN         NaN           NaN  \n",
       "9            NaN              NaN            NaN         NaN           NaN  \n",
       "\n",
       "[10 rows x 110 columns]"
      ]
     },
     "execution_count": 11,
     "metadata": {},
     "output_type": "execute_result"
    }
   ],
   "source": [
    "df_temp.head(10)"
   ]
  },
  {
   "cell_type": "markdown",
   "metadata": {},
   "source": [
    "**Question**: Print all the columns in the dataset. Use `<dataframe>.columns` to view the column names."
   ]
  },
  {
   "cell_type": "code",
   "execution_count": 12,
   "metadata": {},
   "outputs": [
    {
     "name": "stdout",
     "output_type": "stream",
     "text": [
      "The column names are :\n",
      "#########\n",
      "Year\n",
      "Quarter\n",
      "Month\n",
      "DayofMonth\n",
      "DayOfWeek\n",
      "FlightDate\n",
      "Reporting_Airline\n",
      "DOT_ID_Reporting_Airline\n",
      "IATA_CODE_Reporting_Airline\n",
      "Tail_Number\n",
      "Flight_Number_Reporting_Airline\n",
      "OriginAirportID\n",
      "OriginAirportSeqID\n",
      "OriginCityMarketID\n",
      "Origin\n",
      "OriginCityName\n",
      "OriginState\n",
      "OriginStateFips\n",
      "OriginStateName\n",
      "OriginWac\n",
      "DestAirportID\n",
      "DestAirportSeqID\n",
      "DestCityMarketID\n",
      "Dest\n",
      "DestCityName\n",
      "DestState\n",
      "DestStateFips\n",
      "DestStateName\n",
      "DestWac\n",
      "CRSDepTime\n",
      "DepTime\n",
      "DepDelay\n",
      "DepDelayMinutes\n",
      "DepDel15\n",
      "DepartureDelayGroups\n",
      "DepTimeBlk\n",
      "TaxiOut\n",
      "WheelsOff\n",
      "WheelsOn\n",
      "TaxiIn\n",
      "CRSArrTime\n",
      "ArrTime\n",
      "ArrDelay\n",
      "ArrDelayMinutes\n",
      "ArrDel15\n",
      "ArrivalDelayGroups\n",
      "ArrTimeBlk\n",
      "Cancelled\n",
      "CancellationCode\n",
      "Diverted\n",
      "CRSElapsedTime\n",
      "ActualElapsedTime\n",
      "AirTime\n",
      "Flights\n",
      "Distance\n",
      "DistanceGroup\n",
      "CarrierDelay\n",
      "WeatherDelay\n",
      "NASDelay\n",
      "SecurityDelay\n",
      "LateAircraftDelay\n",
      "FirstDepTime\n",
      "TotalAddGTime\n",
      "LongestAddGTime\n",
      "DivAirportLandings\n",
      "DivReachedDest\n",
      "DivActualElapsedTime\n",
      "DivArrDelay\n",
      "DivDistance\n",
      "Div1Airport\n",
      "Div1AirportID\n",
      "Div1AirportSeqID\n",
      "Div1WheelsOn\n",
      "Div1TotalGTime\n",
      "Div1LongestGTime\n",
      "Div1WheelsOff\n",
      "Div1TailNum\n",
      "Div2Airport\n",
      "Div2AirportID\n",
      "Div2AirportSeqID\n",
      "Div2WheelsOn\n",
      "Div2TotalGTime\n",
      "Div2LongestGTime\n",
      "Div2WheelsOff\n",
      "Div2TailNum\n",
      "Div3Airport\n",
      "Div3AirportID\n",
      "Div3AirportSeqID\n",
      "Div3WheelsOn\n",
      "Div3TotalGTime\n",
      "Div3LongestGTime\n",
      "Div3WheelsOff\n",
      "Div3TailNum\n",
      "Div4Airport\n",
      "Div4AirportID\n",
      "Div4AirportSeqID\n",
      "Div4WheelsOn\n",
      "Div4TotalGTime\n",
      "Div4LongestGTime\n",
      "Div4WheelsOff\n",
      "Div4TailNum\n",
      "Div5Airport\n",
      "Div5AirportID\n",
      "Div5AirportSeqID\n",
      "Div5WheelsOn\n",
      "Div5TotalGTime\n",
      "Div5LongestGTime\n",
      "Div5WheelsOff\n",
      "Div5TailNum\n",
      "Unnamed: 109\n"
     ]
    }
   ],
   "source": [
    "print(f'The column names are :')\n",
    "print('#########')\n",
    "for col in df_temp.columns:\n",
    "    print(col)"
   ]
  },
  {
   "cell_type": "markdown",
   "metadata": {},
   "source": [
    "**Question**: Print all the columns in the dataset that contain the word 'Del'. This will help you see how many columns have delay data in them.\n",
    "\n",
    "**Hint**: You can use a Python list comprehension to include values that pass certain `if` statement criteria.\n",
    "\n",
    "For example: `[x for x in [1,2,3,4,5] if x > 2]`  \n",
    "\n",
    "**Hint**: You can use the `in` keyword ([documentation](https://www.w3schools.com/python/ref_keyword_in.asp)) to check if the value is in a list or not. \n",
    "\n",
    "For example: `5 in [1,2,3,4,5]`"
   ]
  },
  {
   "cell_type": "code",
   "execution_count": 13,
   "metadata": {},
   "outputs": [
    {
     "data": {
      "text/plain": [
       "['DepDelay',\n",
       " 'DepDelayMinutes',\n",
       " 'DepDel15',\n",
       " 'DepartureDelayGroups',\n",
       " 'ArrDelay',\n",
       " 'ArrDelayMinutes',\n",
       " 'ArrDel15',\n",
       " 'ArrivalDelayGroups',\n",
       " 'CarrierDelay',\n",
       " 'WeatherDelay',\n",
       " 'NASDelay',\n",
       " 'SecurityDelay',\n",
       " 'LateAircraftDelay',\n",
       " 'DivArrDelay']"
      ]
     },
     "execution_count": 13,
     "metadata": {},
     "output_type": "execute_result"
    }
   ],
   "source": [
    "[col for col in df_temp.columns if 'Del' in col]"
   ]
  },
  {
   "cell_type": "markdown",
   "metadata": {},
   "source": [
    "Here are some more questions to help you find out more about your dataset.\n",
    "\n",
    "**Questions**   \n",
    "1. How many rows and columns does the dataset have?   \n",
    "2. How many years are included in the dataset?   \n",
    "3. What is the date range for the dataset?   \n",
    "4. Which airlines are included in the dataset?   \n",
    "5. Which origin and destination airports are covered?"
   ]
  },
  {
   "cell_type": "code",
   "execution_count": 14,
   "metadata": {},
   "outputs": [
    {
     "name": "stdout",
     "output_type": "stream",
     "text": [
      "The #rows and #columns are  585749  and  110\n",
      "The years in this dataset are:  [2018]\n",
      "The months covered in this dataset are:  [9]\n",
      "The date range for data is : 2018-09-01  to  2018-09-30\n",
      "The airlines covered in this dataset are:  ['9E', 'B6', 'WN', 'YV', 'YX', 'EV', 'AA', 'AS', 'DL', 'HA', 'UA', 'F9', 'G4', 'MQ', 'NK', 'OH', 'OO']\n",
      "The Origin airports covered are:  ['DFW', 'LGA', 'MSN', 'MSP', 'ATL', 'BDL', 'VLD', 'JFK', 'RDU', 'CHS', 'DTW', 'GRB', 'PVD', 'SHV', 'FNT', 'PIT', 'RIC', 'RST', 'RSW', 'CVG', 'LIT', 'ORD', 'JAX', 'TRI', 'BOS', 'CWA', 'DCA', 'CHO', 'AVP', 'IND', 'GRR', 'BTR', 'MEM', 'TUL', 'CLE', 'STL', 'BTV', 'OMA', 'MGM', 'TVC', 'SAV', 'GSP', 'EWR', 'OAJ', 'BNA', 'MCI', 'TLH', 'ROC', 'LEX', 'PWM', 'BUF', 'AGS', 'CLT', 'GSO', 'BWI', 'SAT', 'PHL', 'TYS', 'ACK', 'DSM', 'GNV', 'AVL', 'BGR', 'MHT', 'ILM', 'MOT', 'IAH', 'SBN', 'SYR', 'ORF', 'MKE', 'XNA', 'MSY', 'PBI', 'ABE', 'HPN', 'EVV', 'ALB', 'LNK', 'AUS', 'PHF', 'CHA', 'GTR', 'BMI', 'BQK', 'CID', 'CAK', 'ATW', 'ABY', 'CAE', 'SRQ', 'MLI', 'BHM', 'IAD', 'CSG', 'CMH', 'MCO', 'MBS', 'FLL', 'SDF', 'TPA', 'MVY', 'LAS', 'LGB', 'SFO', 'SAN', 'LAX', 'RNO', 'PDX', 'ANC', 'ABQ', 'SLC', 'DEN', 'PHX', 'OAK', 'SMF', 'SJU', 'SEA', 'HOU', 'STX', 'BUR', 'SWF', 'SJC', 'DAB', 'BQN', 'PSE', 'ORH', 'HYA', 'STT', 'ONT', 'HRL', 'ICT', 'ISP', 'LBB', 'MAF', 'MDW', 'OKC', 'PNS', 'SNA', 'TUS', 'AMA', 'BOI', 'CRP', 'DAL', 'ECP', 'ELP', 'GEG', 'LFT', 'MFE', 'MDT', 'JAN', 'COS', 'MOB', 'VPS', 'MTJ', 'DRO', 'GPT', 'BFL', 'MRY', 'SBA', 'PSP', 'FSD', 'BRO', 'RAP', 'COU', 'STS', 'PIA', 'FAT', 'SBP', 'FSM', 'HSV', 'BIS', 'DAY', 'BZN', 'MIA', 'EYW', 'MYR', 'HHH', 'GJT', 'FAR', 'SGF', 'HOB', 'CLL', 'LRD', 'AEX', 'ERI', 'MLU', 'LCH', 'ROA', 'LAW', 'MHK', 'GRK', 'SAF', 'GRI', 'JLN', 'ROW', 'FWA', 'CRW', 'LAN', 'OGG', 'HNL', 'KOA', 'EGE', 'LIH', 'MLB', 'JAC', 'FAI', 'RDM', 'ADQ', 'BET', 'BRW', 'SCC', 'KTN', 'YAK', 'CDV', 'JNU', 'SIT', 'PSG', 'WRG', 'OME', 'OTZ', 'ADK', 'FCA', 'FAY', 'PSC', 'BIL', 'MSO', 'ITO', 'PPG', 'MFR', 'EUG', 'GUM', 'SPN', 'DLH', 'TTN', 'BKG', 'SFB', 'PIE', 'PGD', 'AZA', 'SMX', 'RFD', 'SCK', 'OWB', 'HTS', 'BLV', 'IAG', 'USA', 'GFK', 'BLI', 'ELM', 'PBG', 'LCK', 'GTF', 'OGD', 'IDA', 'PVU', 'TOL', 'PSM', 'CKB', 'HGR', 'SPI', 'STC', 'ACT', 'TYR', 'ABI', 'AZO', 'CMI', 'BPT', 'GCK', 'MQT', 'ALO', 'TXK', 'SPS', 'SWO', 'DBQ', 'SUX', 'SJT', 'GGG', 'LSE', 'LBE', 'ACY', 'LYH', 'PGV', 'HVN', 'EWN', 'DHN', 'PIH', 'IMT', 'WYS', 'CPR', 'SCE', 'HLN', 'SUN', 'ISN', 'CMX', 'EAU', 'LWB', 'SHD', 'LBF', 'HYS', 'SLN', 'EAR', 'VEL', 'CNY', 'GCC', 'RKS', 'PUB', 'LBL', 'MKG', 'PAH', 'CGI', 'UIN', 'BFF', 'DVL', 'JMS', 'LAR', 'SGU', 'PRC', 'ASE', 'RDD', 'ACV', 'OTH', 'COD', 'LWS', 'ABR', 'APN', 'ESC', 'PLN', 'BJI', 'BRD', 'BTM', 'CDC', 'CIU', 'EKO', 'TWF', 'HIB', 'BGM', 'RHI', 'ITH', 'INL', 'FLG', 'YUM', 'MEI', 'PIB', 'HDN']\n",
      "The Destination airports covered are:  ['CVG', 'PWM', 'RDU', 'MSP', 'MSN', 'SHV', 'CLT', 'PIT', 'RIC', 'IAH', 'ATL', 'JFK', 'DCA', 'DTW', 'LGA', 'TYS', 'PVD', 'FNT', 'LIT', 'BUF', 'ORD', 'TRI', 'IND', 'BGR', 'AVP', 'BWI', 'LEX', 'BDL', 'GRR', 'CWA', 'TUL', 'MEM', 'AGS', 'EWR', 'MGM', 'PHL', 'SYR', 'OMA', 'STL', 'TVC', 'ORF', 'CLE', 'ABY', 'BOS', 'OAJ', 'TLH', 'BTR', 'SAT', 'JAX', 'BNA', 'CHO', 'VLD', 'ROC', 'DFW', 'GNV', 'ACK', 'PBI', 'CHS', 'GRB', 'MOT', 'MKE', 'DSM', 'ILM', 'GSO', 'MCI', 'SBN', 'BTV', 'MVY', 'XNA', 'RST', 'EVV', 'HPN', 'RSW', 'MDT', 'ROA', 'GSP', 'MCO', 'CSG', 'SAV', 'PHF', 'ALB', 'CHA', 'ABE', 'BMI', 'MSY', 'IAD', 'GTR', 'CID', 'CAK', 'ATW', 'AUS', 'BQK', 'MLI', 'CAE', 'CMH', 'AVL', 'MBS', 'FLL', 'SDF', 'TPA', 'LNK', 'SRQ', 'MHT', 'BHM', 'LAS', 'SFO', 'SAN', 'RNO', 'LGB', 'ANC', 'PDX', 'SJU', 'ABQ', 'SLC', 'DEN', 'LAX', 'PHX', 'OAK', 'SMF', 'SEA', 'STX', 'BUR', 'DAB', 'SJC', 'SWF', 'HOU', 'BQN', 'PSE', 'ORH', 'HYA', 'STT', 'ONT', 'DAL', 'ECP', 'ELP', 'HRL', 'MAF', 'MDW', 'OKC', 'PNS', 'SNA', 'AMA', 'BOI', 'GEG', 'ICT', 'LBB', 'TUS', 'ISP', 'CRP', 'MFE', 'LFT', 'VPS', 'JAN', 'COS', 'MOB', 'DRO', 'GPT', 'BFL', 'COU', 'SBP', 'MTJ', 'SBA', 'PSP', 'FSD', 'FSM', 'BRO', 'PIA', 'STS', 'FAT', 'RAP', 'MRY', 'HSV', 'BIS', 'DAY', 'BZN', 'MIA', 'EYW', 'MYR', 'HHH', 'GJT', 'FAR', 'MLU', 'LRD', 'CLL', 'LCH', 'FWA', 'GRK', 'SGF', 'HOB', 'LAW', 'MHK', 'SAF', 'JLN', 'ROW', 'GRI', 'AEX', 'CRW', 'LAN', 'ERI', 'HNL', 'KOA', 'OGG', 'EGE', 'LIH', 'JAC', 'MLB', 'RDM', 'BET', 'ADQ', 'BRW', 'SCC', 'FAI', 'JNU', 'CDV', 'YAK', 'SIT', 'KTN', 'WRG', 'PSG', 'OME', 'OTZ', 'ADK', 'FCA', 'BIL', 'PSC', 'FAY', 'MSO', 'ITO', 'PPG', 'MFR', 'DLH', 'EUG', 'GUM', 'SPN', 'TTN', 'BKG', 'AZA', 'SFB', 'LCK', 'BLI', 'SCK', 'PIE', 'RFD', 'PVU', 'PBG', 'BLV', 'PGD', 'SPI', 'USA', 'TOL', 'IDA', 'ELM', 'HTS', 'HGR', 'SMX', 'OGD', 'GFK', 'STC', 'GTF', 'IAG', 'CKB', 'OWB', 'PSM', 'ABI', 'TYR', 'ALO', 'SUX', 'AZO', 'ACT', 'CMI', 'BPT', 'TXK', 'SWO', 'SPS', 'DBQ', 'SJT', 'GGG', 'LSE', 'MQT', 'GCK', 'LBE', 'ACY', 'LYH', 'PGV', 'HVN', 'EWN', 'DHN', 'PIH', 'WYS', 'SCE', 'IMT', 'HLN', 'ASE', 'SUN', 'ISN', 'EAR', 'SGU', 'VEL', 'SHD', 'LWB', 'MKG', 'SLN', 'HYS', 'BFF', 'PUB', 'LBL', 'CMX', 'EAU', 'PAH', 'UIN', 'RKS', 'CGI', 'CNY', 'JMS', 'DVL', 'LAR', 'GCC', 'LBF', 'PRC', 'RDD', 'ACV', 'OTH', 'COD', 'LWS', 'ABR', 'APN', 'PLN', 'BJI', 'CPR', 'BRD', 'BTM', 'CDC', 'CIU', 'ESC', 'EKO', 'ITH', 'HIB', 'BGM', 'TWF', 'RHI', 'INL', 'FLG', 'YUM', 'MEI', 'PIB', 'HDN']\n"
     ]
    }
   ],
   "source": [
    "print(\"The #rows and #columns are \", df_temp.shape[0] , \" and \", df_temp.shape[1])\n",
    "print(\"The years in this dataset are: \", list(df_temp.Year.unique()))\n",
    "print(\"The months covered in this dataset are: \", sorted(list(df_temp.Month.unique())))\n",
    "print(\"The date range for data is :\" , min(df_temp.FlightDate), \" to \", max(df_temp.FlightDate))\n",
    "print(\"The airlines covered in this dataset are: \", list(df_temp.Reporting_Airline.unique()))\n",
    "print(\"The Origin airports covered are: \", list(df_temp.Origin.unique()))\n",
    "print(\"The Destination airports covered are: \", list(df_temp.Dest.unique()))"
   ]
  },
  {
   "cell_type": "markdown",
   "metadata": {},
   "source": [
    "**Question**: What is the count of all the origin and destination airports?\n",
    "\n",
    "**Hint**: You can use the Pandas `values_count` function ([documentation](https://pandas.pydata.org/pandas-docs/stable/reference/api/pandas.Series.value_counts.html)) to find out the values for each airport using the columns `Origin` and `Dest`."
   ]
  },
  {
   "cell_type": "code",
   "execution_count": 15,
   "metadata": {},
   "outputs": [
    {
     "data": {
      "text/html": [
       "<div>\n",
       "<style scoped>\n",
       "    .dataframe tbody tr th:only-of-type {\n",
       "        vertical-align: middle;\n",
       "    }\n",
       "\n",
       "    .dataframe tbody tr th {\n",
       "        vertical-align: top;\n",
       "    }\n",
       "\n",
       "    .dataframe thead th {\n",
       "        text-align: right;\n",
       "    }\n",
       "</style>\n",
       "<table border=\"1\" class=\"dataframe\">\n",
       "  <thead>\n",
       "    <tr style=\"text-align: right;\">\n",
       "      <th></th>\n",
       "      <th>Origin</th>\n",
       "      <th>Destination</th>\n",
       "    </tr>\n",
       "  </thead>\n",
       "  <tbody>\n",
       "    <tr>\n",
       "      <th>ABE</th>\n",
       "      <td>303</td>\n",
       "      <td>303</td>\n",
       "    </tr>\n",
       "    <tr>\n",
       "      <th>ABI</th>\n",
       "      <td>169</td>\n",
       "      <td>169</td>\n",
       "    </tr>\n",
       "    <tr>\n",
       "      <th>ABQ</th>\n",
       "      <td>2077</td>\n",
       "      <td>2076</td>\n",
       "    </tr>\n",
       "    <tr>\n",
       "      <th>ABR</th>\n",
       "      <td>60</td>\n",
       "      <td>60</td>\n",
       "    </tr>\n",
       "    <tr>\n",
       "      <th>ABY</th>\n",
       "      <td>79</td>\n",
       "      <td>79</td>\n",
       "    </tr>\n",
       "    <tr>\n",
       "      <th>...</th>\n",
       "      <td>...</td>\n",
       "      <td>...</td>\n",
       "    </tr>\n",
       "    <tr>\n",
       "      <th>WRG</th>\n",
       "      <td>60</td>\n",
       "      <td>60</td>\n",
       "    </tr>\n",
       "    <tr>\n",
       "      <th>WYS</th>\n",
       "      <td>52</td>\n",
       "      <td>52</td>\n",
       "    </tr>\n",
       "    <tr>\n",
       "      <th>XNA</th>\n",
       "      <td>1004</td>\n",
       "      <td>1004</td>\n",
       "    </tr>\n",
       "    <tr>\n",
       "      <th>YAK</th>\n",
       "      <td>60</td>\n",
       "      <td>60</td>\n",
       "    </tr>\n",
       "    <tr>\n",
       "      <th>YUM</th>\n",
       "      <td>96</td>\n",
       "      <td>96</td>\n",
       "    </tr>\n",
       "  </tbody>\n",
       "</table>\n",
       "<p>346 rows × 2 columns</p>\n",
       "</div>"
      ],
      "text/plain": [
       "     Origin  Destination\n",
       "ABE     303          303\n",
       "ABI     169          169\n",
       "ABQ    2077         2076\n",
       "ABR      60           60\n",
       "ABY      79           79\n",
       "..      ...          ...\n",
       "WRG      60           60\n",
       "WYS      52           52\n",
       "XNA    1004         1004\n",
       "YAK      60           60\n",
       "YUM      96           96\n",
       "\n",
       "[346 rows x 2 columns]"
      ]
     },
     "execution_count": 15,
     "metadata": {},
     "output_type": "execute_result"
    }
   ],
   "source": [
    "counts = pd.DataFrame({'Origin':df_temp['Origin'].value_counts(), 'Destination':df_temp['Dest'].value_counts()})\n",
    "counts"
   ]
  },
  {
   "cell_type": "markdown",
   "metadata": {},
   "source": [
    "**Question**: Print the top 15 origin and destination airports based on number of flights in the dataset.\n",
    "\n",
    "**Hint**: You can use the Pandas `sort_values` function ([documentation](https://pandas.pydata.org/pandas-docs/stable/reference/api/pandas.DataFrame.sort_values.html))."
   ]
  },
  {
   "cell_type": "code",
   "execution_count": 16,
   "metadata": {},
   "outputs": [
    {
     "data": {
      "text/html": [
       "<div>\n",
       "<style scoped>\n",
       "    .dataframe tbody tr th:only-of-type {\n",
       "        vertical-align: middle;\n",
       "    }\n",
       "\n",
       "    .dataframe tbody tr th {\n",
       "        vertical-align: top;\n",
       "    }\n",
       "\n",
       "    .dataframe thead th {\n",
       "        text-align: right;\n",
       "    }\n",
       "</style>\n",
       "<table border=\"1\" class=\"dataframe\">\n",
       "  <thead>\n",
       "    <tr style=\"text-align: right;\">\n",
       "      <th></th>\n",
       "      <th>Origin</th>\n",
       "      <th>Destination</th>\n",
       "    </tr>\n",
       "  </thead>\n",
       "  <tbody>\n",
       "    <tr>\n",
       "      <th>ATL</th>\n",
       "      <td>31525</td>\n",
       "      <td>31521</td>\n",
       "    </tr>\n",
       "    <tr>\n",
       "      <th>ORD</th>\n",
       "      <td>28257</td>\n",
       "      <td>28250</td>\n",
       "    </tr>\n",
       "    <tr>\n",
       "      <th>DFW</th>\n",
       "      <td>22802</td>\n",
       "      <td>22795</td>\n",
       "    </tr>\n",
       "    <tr>\n",
       "      <th>DEN</th>\n",
       "      <td>19807</td>\n",
       "      <td>19807</td>\n",
       "    </tr>\n",
       "    <tr>\n",
       "      <th>CLT</th>\n",
       "      <td>19655</td>\n",
       "      <td>19654</td>\n",
       "    </tr>\n",
       "    <tr>\n",
       "      <th>LAX</th>\n",
       "      <td>17875</td>\n",
       "      <td>17873</td>\n",
       "    </tr>\n",
       "    <tr>\n",
       "      <th>SFO</th>\n",
       "      <td>14332</td>\n",
       "      <td>14348</td>\n",
       "    </tr>\n",
       "    <tr>\n",
       "      <th>IAH</th>\n",
       "      <td>14210</td>\n",
       "      <td>14203</td>\n",
       "    </tr>\n",
       "    <tr>\n",
       "      <th>LGA</th>\n",
       "      <td>13850</td>\n",
       "      <td>13850</td>\n",
       "    </tr>\n",
       "    <tr>\n",
       "      <th>MSP</th>\n",
       "      <td>13349</td>\n",
       "      <td>13347</td>\n",
       "    </tr>\n",
       "    <tr>\n",
       "      <th>LAS</th>\n",
       "      <td>13318</td>\n",
       "      <td>13322</td>\n",
       "    </tr>\n",
       "    <tr>\n",
       "      <th>PHX</th>\n",
       "      <td>13126</td>\n",
       "      <td>13128</td>\n",
       "    </tr>\n",
       "    <tr>\n",
       "      <th>DTW</th>\n",
       "      <td>12725</td>\n",
       "      <td>12724</td>\n",
       "    </tr>\n",
       "    <tr>\n",
       "      <th>BOS</th>\n",
       "      <td>12223</td>\n",
       "      <td>12227</td>\n",
       "    </tr>\n",
       "    <tr>\n",
       "      <th>SEA</th>\n",
       "      <td>11872</td>\n",
       "      <td>11877</td>\n",
       "    </tr>\n",
       "  </tbody>\n",
       "</table>\n",
       "</div>"
      ],
      "text/plain": [
       "     Origin  Destination\n",
       "ATL   31525        31521\n",
       "ORD   28257        28250\n",
       "DFW   22802        22795\n",
       "DEN   19807        19807\n",
       "CLT   19655        19654\n",
       "LAX   17875        17873\n",
       "SFO   14332        14348\n",
       "IAH   14210        14203\n",
       "LGA   13850        13850\n",
       "MSP   13349        13347\n",
       "LAS   13318        13322\n",
       "PHX   13126        13128\n",
       "DTW   12725        12724\n",
       "BOS   12223        12227\n",
       "SEA   11872        11877"
      ]
     },
     "execution_count": 16,
     "metadata": {},
     "output_type": "execute_result"
    }
   ],
   "source": [
    "counts.sort_values(by=['Origin'],ascending=False).head(15)"
   ]
  },
  {
   "cell_type": "markdown",
   "metadata": {},
   "source": [
    "**Question**: Given all the information about a flight trip, can you predict if it would be delayed?"
   ]
  },
  {
   "cell_type": "markdown",
   "metadata": {},
   "source": [
    "**Answer**: The column **ArrDel15** is an indicator variable that takes the value 1 when the delay is more than 15 minutes, 0 otherwise.\n",
    "\n",
    "You could use this as a target column for the classification problem."
   ]
  },
  {
   "cell_type": "markdown",
   "metadata": {},
   "source": [
    "Now, assume you are traveling from San Francisco to Los Angeles on a work trip. You want to have an ideas if your flight will be delayed, given a set of features, so that you can manage your reservations in Los Angeles better. How many features from this dataset would you know before your flight?\n",
    "\n",
    "Columns such as `CarrierDelay`, `WeatherDelay`, `NASDelay`, `SecurityDelay`, `LateAircraftDelay`, and `DivArrDelay` contain information about a delay. But this delay could have occurred at the origin or destination. If there were a sudden weather delay 10 minutes before landing, this data would not be helpful in managing your Los Angeles reservations.\n",
    "\n",
    "So to simplify the problem statement, consider the following columns to predict an arrival delay:\n",
    "\n",
    "`Year`, `Quarter`, `Month`, `DayofMonth`, `DayOfWeek`, `FlightDate`, `Reporting_Airline`, `Origin`, `OriginState`, `Dest`, `DestState`, `CRSDepTime`, `DepDelayMinutes`, `DepartureDelayGroups`, `Cancelled`, `Diverted`, `Distance`, `DistanceGroup`, `ArrDelay`, `ArrDelayMinutes`, `ArrDel15`, `AirTime`\n",
    "\n",
    "You will also filter the source and destination airports to be:\n",
    "- Top airports: ATL, ORD, DFW, DEN, CLT, LAX, IAH, PHX, SFO\n",
    "- Top 5 airlines: UA, OO, WN, AA, DL\n",
    "\n",
    "This should help in reducing the size of data across the CSV files to be combined."
   ]
  },
  {
   "cell_type": "markdown",
   "metadata": {},
   "source": [
    "#### Combine all CSV files\n",
    "\n",
    "**Hint**:  \n",
    "First, create an empy dataframe that you will use to copy your individual dataframes from each file. Then, for each file in the `csv_files` list:\n",
    "\n",
    "1. Read the CSV file into a dataframe  \n",
    "2. Filter the columns based on the `filter_cols` variable\n",
    "\n",
    "```\n",
    "        columns = ['col1', 'col2']\n",
    "        df_filter = df[columns]\n",
    "```\n",
    "\n",
    "3. Keep only the subset_vals in each of the subset_cols. Use the `isin` Pandas function ([documentation](https://pandas.pydata.org/pandas-docs/stable/reference/api/pandas.DataFrame.isin.html)) to check if the `val` is in the dataframe column and then choose the rows that include it.\n",
    "\n",
    "```\n",
    "        df_eg[df_eg['col1'].isin('5')]\n",
    "```\n",
    "\n",
    "4. Concatenate the dataframe with the empty dataframe "
   ]
  },
  {
   "cell_type": "code",
   "execution_count": 17,
   "metadata": {},
   "outputs": [],
   "source": [
    "def combine_csv(csv_files, filter_cols, subset_cols, subset_vals, file_name = '/home/ec2-user/SageMaker/project/data/FlightDelays/combined_files.csv'):\n",
    "    \"\"\"\n",
    "    Combine csv files into one Data Frame\n",
    "    csv_files: list of csv file paths\n",
    "    filter_cols: list of columns to filter\n",
    "    subset_cols: list of columns to subset rows\n",
    "    subset_vals: list of list of values to subset rows\n",
    "    \"\"\"\n",
    "    \n",
    "    df = pd.DataFrame()\n",
    "    \n",
    "    for file in csv_files:\n",
    "        df_temp = pd.read_csv(file)\n",
    "        df_temp = df_temp[filter_cols]\n",
    "        for col, val in zip(subset_cols,subset_vals):\n",
    "            df_temp = df_temp[df_temp[col].isin(val)]      \n",
    "        \n",
    "        df = pd.concat([df, df_temp], axis=0)\n",
    "    \n",
    "        \n",
    "    df.to_csv(file_name, index=False)\n",
    "    print(f'Combined csv stored at {file_name}')"
   ]
  },
  {
   "cell_type": "code",
   "execution_count": 18,
   "metadata": {},
   "outputs": [],
   "source": [
    "#cols is the list of columns to predict Arrival Delay \n",
    "cols = ['Year','Quarter','Month','DayofMonth','DayOfWeek','FlightDate',\n",
    "        'Reporting_Airline','Origin','OriginState','Dest','DestState',\n",
    "        'CRSDepTime','Cancelled','Diverted','Distance','DistanceGroup',\n",
    "        'ArrDelay','ArrDelayMinutes','ArrDel15','AirTime']\n",
    "\n",
    "subset_cols = ['Origin', 'Dest', 'Reporting_Airline']\n",
    "\n",
    "# subset_vals is a list collection of the top origin and destination airports and top 5 airlines\n",
    "subset_vals = [['ATL', 'ORD', 'DFW', 'DEN', 'CLT', 'LAX', 'IAH', 'PHX', 'SFO'], \n",
    "               ['ATL', 'ORD', 'DFW', 'DEN', 'CLT', 'LAX', 'IAH', 'PHX', 'SFO'], \n",
    "               ['UA', 'OO', 'WN', 'AA', 'DL']]"
   ]
  },
  {
   "cell_type": "markdown",
   "metadata": {},
   "source": [
    "Use the function above to merge all the different files into a single file that you can read easily. \n",
    "\n",
    "**Note**: This will take 5-7 minutes to complete."
   ]
  },
  {
   "cell_type": "code",
   "execution_count": 19,
   "metadata": {},
   "outputs": [
    {
     "name": "stdout",
     "output_type": "stream",
     "text": [
      "Combined csv stored at /home/ec2-user/SageMaker/project/data/FlightDelays/combined_files.csv\n",
      "csv's merged in 5.52 minutes\n"
     ]
    }
   ],
   "source": [
    "start = time.time()\n",
    "combine_csv(csv_files, cols, subset_cols, subset_vals)\n",
    "print(f'csv\\'s merged in {round((time.time() - start)/60,2)} minutes')"
   ]
  },
  {
   "cell_type": "markdown",
   "metadata": {},
   "source": [
    "#### Load dataset\n",
    "\n",
    "Load the combined dataset."
   ]
  },
  {
   "cell_type": "code",
   "execution_count": 20,
   "metadata": {},
   "outputs": [],
   "source": [
    "data = pd.read_csv('/home/ec2-user/SageMaker/project/data/FlightDelays/combined_files.csv')"
   ]
  },
  {
   "cell_type": "markdown",
   "metadata": {},
   "source": [
    "Print the first 5 records."
   ]
  },
  {
   "cell_type": "code",
   "execution_count": 21,
   "metadata": {},
   "outputs": [
    {
     "data": {
      "text/html": [
       "<div>\n",
       "<style scoped>\n",
       "    .dataframe tbody tr th:only-of-type {\n",
       "        vertical-align: middle;\n",
       "    }\n",
       "\n",
       "    .dataframe tbody tr th {\n",
       "        vertical-align: top;\n",
       "    }\n",
       "\n",
       "    .dataframe thead th {\n",
       "        text-align: right;\n",
       "    }\n",
       "</style>\n",
       "<table border=\"1\" class=\"dataframe\">\n",
       "  <thead>\n",
       "    <tr style=\"text-align: right;\">\n",
       "      <th></th>\n",
       "      <th>Year</th>\n",
       "      <th>Quarter</th>\n",
       "      <th>Month</th>\n",
       "      <th>DayofMonth</th>\n",
       "      <th>DayOfWeek</th>\n",
       "      <th>FlightDate</th>\n",
       "      <th>Reporting_Airline</th>\n",
       "      <th>Origin</th>\n",
       "      <th>OriginState</th>\n",
       "      <th>Dest</th>\n",
       "      <th>DestState</th>\n",
       "      <th>CRSDepTime</th>\n",
       "      <th>Cancelled</th>\n",
       "      <th>Diverted</th>\n",
       "      <th>Distance</th>\n",
       "      <th>DistanceGroup</th>\n",
       "      <th>ArrDelay</th>\n",
       "      <th>ArrDelayMinutes</th>\n",
       "      <th>ArrDel15</th>\n",
       "      <th>AirTime</th>\n",
       "    </tr>\n",
       "  </thead>\n",
       "  <tbody>\n",
       "    <tr>\n",
       "      <th>0</th>\n",
       "      <td>2014</td>\n",
       "      <td>4</td>\n",
       "      <td>12</td>\n",
       "      <td>1</td>\n",
       "      <td>1</td>\n",
       "      <td>2014-12-01</td>\n",
       "      <td>AA</td>\n",
       "      <td>DFW</td>\n",
       "      <td>TX</td>\n",
       "      <td>SFO</td>\n",
       "      <td>CA</td>\n",
       "      <td>755</td>\n",
       "      <td>1.0</td>\n",
       "      <td>0.0</td>\n",
       "      <td>1464.0</td>\n",
       "      <td>6</td>\n",
       "      <td>NaN</td>\n",
       "      <td>NaN</td>\n",
       "      <td>NaN</td>\n",
       "      <td>NaN</td>\n",
       "    </tr>\n",
       "    <tr>\n",
       "      <th>1</th>\n",
       "      <td>2014</td>\n",
       "      <td>4</td>\n",
       "      <td>12</td>\n",
       "      <td>2</td>\n",
       "      <td>2</td>\n",
       "      <td>2014-12-02</td>\n",
       "      <td>AA</td>\n",
       "      <td>DFW</td>\n",
       "      <td>TX</td>\n",
       "      <td>SFO</td>\n",
       "      <td>CA</td>\n",
       "      <td>755</td>\n",
       "      <td>0.0</td>\n",
       "      <td>0.0</td>\n",
       "      <td>1464.0</td>\n",
       "      <td>6</td>\n",
       "      <td>99.0</td>\n",
       "      <td>99.0</td>\n",
       "      <td>1.0</td>\n",
       "      <td>214.0</td>\n",
       "    </tr>\n",
       "    <tr>\n",
       "      <th>2</th>\n",
       "      <td>2014</td>\n",
       "      <td>4</td>\n",
       "      <td>12</td>\n",
       "      <td>3</td>\n",
       "      <td>3</td>\n",
       "      <td>2014-12-03</td>\n",
       "      <td>AA</td>\n",
       "      <td>DFW</td>\n",
       "      <td>TX</td>\n",
       "      <td>SFO</td>\n",
       "      <td>CA</td>\n",
       "      <td>755</td>\n",
       "      <td>0.0</td>\n",
       "      <td>0.0</td>\n",
       "      <td>1464.0</td>\n",
       "      <td>6</td>\n",
       "      <td>28.0</td>\n",
       "      <td>28.0</td>\n",
       "      <td>1.0</td>\n",
       "      <td>236.0</td>\n",
       "    </tr>\n",
       "    <tr>\n",
       "      <th>3</th>\n",
       "      <td>2014</td>\n",
       "      <td>4</td>\n",
       "      <td>12</td>\n",
       "      <td>4</td>\n",
       "      <td>4</td>\n",
       "      <td>2014-12-04</td>\n",
       "      <td>AA</td>\n",
       "      <td>DFW</td>\n",
       "      <td>TX</td>\n",
       "      <td>SFO</td>\n",
       "      <td>CA</td>\n",
       "      <td>755</td>\n",
       "      <td>0.0</td>\n",
       "      <td>0.0</td>\n",
       "      <td>1464.0</td>\n",
       "      <td>6</td>\n",
       "      <td>-18.0</td>\n",
       "      <td>0.0</td>\n",
       "      <td>0.0</td>\n",
       "      <td>195.0</td>\n",
       "    </tr>\n",
       "    <tr>\n",
       "      <th>4</th>\n",
       "      <td>2014</td>\n",
       "      <td>4</td>\n",
       "      <td>12</td>\n",
       "      <td>5</td>\n",
       "      <td>5</td>\n",
       "      <td>2014-12-05</td>\n",
       "      <td>AA</td>\n",
       "      <td>DFW</td>\n",
       "      <td>TX</td>\n",
       "      <td>SFO</td>\n",
       "      <td>CA</td>\n",
       "      <td>755</td>\n",
       "      <td>0.0</td>\n",
       "      <td>0.0</td>\n",
       "      <td>1464.0</td>\n",
       "      <td>6</td>\n",
       "      <td>-5.0</td>\n",
       "      <td>0.0</td>\n",
       "      <td>0.0</td>\n",
       "      <td>212.0</td>\n",
       "    </tr>\n",
       "  </tbody>\n",
       "</table>\n",
       "</div>"
      ],
      "text/plain": [
       "   Year  Quarter  Month  DayofMonth  DayOfWeek  FlightDate Reporting_Airline  \\\n",
       "0  2014        4     12           1          1  2014-12-01                AA   \n",
       "1  2014        4     12           2          2  2014-12-02                AA   \n",
       "2  2014        4     12           3          3  2014-12-03                AA   \n",
       "3  2014        4     12           4          4  2014-12-04                AA   \n",
       "4  2014        4     12           5          5  2014-12-05                AA   \n",
       "\n",
       "  Origin OriginState Dest DestState  CRSDepTime  Cancelled  Diverted  \\\n",
       "0    DFW          TX  SFO        CA         755        1.0       0.0   \n",
       "1    DFW          TX  SFO        CA         755        0.0       0.0   \n",
       "2    DFW          TX  SFO        CA         755        0.0       0.0   \n",
       "3    DFW          TX  SFO        CA         755        0.0       0.0   \n",
       "4    DFW          TX  SFO        CA         755        0.0       0.0   \n",
       "\n",
       "   Distance  DistanceGroup  ArrDelay  ArrDelayMinutes  ArrDel15  AirTime  \n",
       "0    1464.0              6       NaN              NaN       NaN      NaN  \n",
       "1    1464.0              6      99.0             99.0       1.0    214.0  \n",
       "2    1464.0              6      28.0             28.0       1.0    236.0  \n",
       "3    1464.0              6     -18.0              0.0       0.0    195.0  \n",
       "4    1464.0              6      -5.0              0.0       0.0    212.0  "
      ]
     },
     "execution_count": 21,
     "metadata": {},
     "output_type": "execute_result"
    }
   ],
   "source": [
    "data.head(5)"
   ]
  },
  {
   "cell_type": "markdown",
   "metadata": {},
   "source": [
    "Here are some more questions to help you find out more about your dataset.\n",
    "\n",
    "**Questions**   \n",
    "1. How many rows and columns does the dataset have?   \n",
    "2. How many years are included in the dataset?   \n",
    "3. What is the date range for the dataset?   \n",
    "4. Which airlines are included in the dataset?   \n",
    "5. Which origin and destination airports are covered?"
   ]
  },
  {
   "cell_type": "code",
   "execution_count": 22,
   "metadata": {},
   "outputs": [
    {
     "name": "stdout",
     "output_type": "stream",
     "text": [
      "The #rows and #columns are  1658130  and  20\n",
      "The years in this dataset are:  [2014, 2017, 2018, 2015, 2016]\n",
      "The months covered in this dataset are:  [1, 2, 3, 4, 5, 6, 7, 8, 9, 10, 11, 12]\n",
      "The date range for data is : 2014-01-01  to  2018-12-31\n",
      "The airlines covered in this dataset are:  ['AA', 'DL', 'UA', 'WN', 'OO']\n",
      "The Origin airports covered are:  ['DFW', 'SFO', 'DEN', 'ATL', 'PHX', 'ORD', 'LAX', 'IAH', 'CLT']\n",
      "The Destination airports covered are:  ['SFO', 'DFW', 'DEN', 'ATL', 'PHX', 'ORD', 'LAX', 'IAH', 'CLT']\n"
     ]
    }
   ],
   "source": [
    "print(\"The #rows and #columns are \", data.shape[0] , \" and \", data.shape[1])\n",
    "print(\"The years in this dataset are: \", list(data.Year.unique()))\n",
    "print(\"The months covered in this dataset are: \", sorted(list(data.Month.unique())))\n",
    "print(\"The date range for data is :\" , min(data.FlightDate), \" to \", max(data.FlightDate))\n",
    "print(\"The airlines covered in this dataset are: \", list(data.Reporting_Airline.unique()))\n",
    "print(\"The Origin airports covered are: \", list(data.Origin.unique()))\n",
    "print(\"The Destination airports covered are: \", list(data.Dest.unique()))"
   ]
  },
  {
   "cell_type": "markdown",
   "metadata": {},
   "source": [
    "Let's define our **target column : is_delay** (1 - if arrival time delayed more than 15 minutes, 0 - otherwise). Use the `rename` method to rename the column from `ArrDel15` to `is_delay`.\n",
    "\n",
    "**Hint**: You can use the Pandas `rename` function ([documentation](https://pandas.pydata.org/pandas-docs/stable/reference/api/pandas.DataFrame.rename.html)).\n",
    "\n",
    "For example:\n",
    "```\n",
    "df.rename(columns={'col1':'column1'}, inplace=True)\n",
    "```"
   ]
  },
  {
   "cell_type": "code",
   "execution_count": 23,
   "metadata": {},
   "outputs": [],
   "source": [
    "# Rename ArrDel15 to is_delay\n",
    "data.rename(columns={'ArrDel15':'is_delay'}, inplace=True) "
   ]
  },
  {
   "cell_type": "markdown",
   "metadata": {},
   "source": [
    "Look for nulls across columns. You can use the `isnull()` function ([documentation](https://pandas.pydata.org/pandas-docs/version/0.17.0/generated/pandas.isnull.html)).\n",
    "\n",
    "**Hint**: `isnull()` detects whether the particular value is null or not and gives you a boolean (True or False) in its place. Use the `sum(axis=0)` function to sum up the number of columns."
   ]
  },
  {
   "cell_type": "code",
   "execution_count": 24,
   "metadata": {},
   "outputs": [
    {
     "data": {
      "text/plain": [
       "Year                     0\n",
       "Quarter                  0\n",
       "Month                    0\n",
       "DayofMonth               0\n",
       "DayOfWeek                0\n",
       "FlightDate               0\n",
       "Reporting_Airline        0\n",
       "Origin                   0\n",
       "OriginState              0\n",
       "Dest                     0\n",
       "DestState                0\n",
       "CRSDepTime               0\n",
       "Cancelled                0\n",
       "Diverted                 0\n",
       "Distance                 0\n",
       "DistanceGroup            0\n",
       "ArrDelay             22540\n",
       "ArrDelayMinutes      22540\n",
       "is_delay             22540\n",
       "AirTime              22540\n",
       "dtype: int64"
      ]
     },
     "execution_count": 24,
     "metadata": {},
     "output_type": "execute_result"
    }
   ],
   "source": [
    "data.isnull().sum(axis = 0)"
   ]
  },
  {
   "cell_type": "markdown",
   "metadata": {},
   "source": [
    "The arrival delay details and airtime are missing for 22540 out of 1658130 rows, which is 1.3%. You can either remove or impute these rows. The documentation does not mention anything about missing rows.\n",
    "\n",
    "**Hint**: Use the `~` operator to choose the values that aren't null from the `isnull()` output.\n",
    "\n",
    "For example:\n",
    "```\n",
    "null_eg = df_eg[~df_eg['column_name'].isnull()]\n",
    "```"
   ]
  },
  {
   "cell_type": "code",
   "execution_count": 25,
   "metadata": {},
   "outputs": [
    {
     "data": {
      "text/plain": [
       "Year                 0\n",
       "Quarter              0\n",
       "Month                0\n",
       "DayofMonth           0\n",
       "DayOfWeek            0\n",
       "FlightDate           0\n",
       "Reporting_Airline    0\n",
       "Origin               0\n",
       "OriginState          0\n",
       "Dest                 0\n",
       "DestState            0\n",
       "CRSDepTime           0\n",
       "Cancelled            0\n",
       "Diverted             0\n",
       "Distance             0\n",
       "DistanceGroup        0\n",
       "ArrDelay             0\n",
       "ArrDelayMinutes      0\n",
       "is_delay             0\n",
       "AirTime              0\n",
       "dtype: int64"
      ]
     },
     "execution_count": 25,
     "metadata": {},
     "output_type": "execute_result"
    }
   ],
   "source": [
    "### Remove null columns\n",
    "data = data[~data.is_delay.isnull()]\n",
    "data.isnull().sum(axis = 0)"
   ]
  },
  {
   "cell_type": "markdown",
   "metadata": {},
   "source": [
    "Get the hour of the day in 24-hour time format from CRSDepTime."
   ]
  },
  {
   "cell_type": "code",
   "execution_count": 26,
   "metadata": {},
   "outputs": [],
   "source": [
    "data['DepHourofDay'] = (data['CRSDepTime']//100)"
   ]
  },
  {
   "cell_type": "markdown",
   "metadata": {},
   "source": [
    "## **The ML problem statement**\n",
    "- Given a set of features, can you predict if a flight is going to be delayed more than 15 minutes?\n",
    "- Because the target variable takes only 0/1 value, you could use a classification algorithm. \n",
    "\n",
    "Before jumping to modeling, it is always a good practice to look at feature distribution, correlations, etc.\n",
    "- This will give an idea of any non-linearity/patterns in the data.\n",
    "    - Linear models: Add power/exponential/interaction features\n",
    "    - Try a non-linear model\n",
    "- Data imbalance \n",
    "    - Choose metrics that will not give biased model performance (accuracy. vs AUC)\n",
    "    - Use weighted/custom loss functions\n",
    "- Missing data\n",
    "    - Do imputation based on simple statistics - mean, median, mode (numerical variables) frequent class (categorical variables)\n",
    "    - Clustering based imputation (KNNs to predict column value)\n",
    "    - Drop column"
   ]
  },
  {
   "cell_type": "markdown",
   "metadata": {},
   "source": [
    "### Data exploration\n",
    "\n",
    "#### Check class delay vs. no delay\n",
    "\n",
    "**Hint**: Use a `groupby` plot ([documentation](https://pandas.pydata.org/pandas-docs/stable/reference/api/pandas.DataFrame.groupby.html)) with a `bar` plot ([documentation](https://matplotlib.org/tutorials/introductory/pyplot.html)) to plot the frequency vs. distribution of the class."
   ]
  },
  {
   "cell_type": "code",
   "execution_count": 27,
   "metadata": {},
   "outputs": [
    {
     "data": {
      "image/png": "[encoded data removed]",
      "text/plain": [
       "<Figure size 640x480 with 1 Axes>"
      ]
     },
     "metadata": {},
     "output_type": "display_data"
    }
   ],
   "source": [
    "(data.groupby('is_delay').size()/len(data) ).plot(kind='bar')\n",
    "plt.ylabel('Frequency')\n",
    "plt.title('Distribution of classes')\n",
    "plt.show()"
   ]
  },
  {
   "cell_type": "markdown",
   "metadata": {},
   "source": [
    "**Question**: What can you deduce from the bar plot about the ratio of delay vs. no delay?"
   ]
  },
  {
   "cell_type": "markdown",
   "metadata": {},
   "source": [
    "**Answer:** 80% of flights arrive on time, but 20% do not. This is clear class imbalance."
   ]
  },
  {
   "cell_type": "markdown",
   "metadata": {},
   "source": [
    "**Questions**: \n",
    "\n",
    "- Which months have the most delays?\n",
    "- What time of the day has the most delays?\n",
    "- What day of the week has the most delays?\n",
    "- Which airline has the most delays?\n",
    "- Which origin and destination airports have the most delays?\n",
    "- Is flight distance a factor in the delays?"
   ]
  },
  {
   "cell_type": "code",
   "execution_count": 28,
   "metadata": {},
   "outputs": [
    {
     "data": {
      "image/png": "[encoded data removed]",
      "text/plain": [
       "<Figure size 2000x2000 with 6 Axes>"
      ]
     },
     "metadata": {},
     "output_type": "display_data"
    }
   ],
   "source": [
    "viz_columns = ['Month', 'DepHourofDay', 'DayOfWeek', 'Reporting_Airline', 'Origin', 'Dest']\n",
    "fig, axes = plt.subplots(3, 2, figsize=(20,20), squeeze=False)\n",
    "# fig.autofmt_xdate(rotation=90)\n",
    "\n",
    "for idx, column in enumerate(viz_columns):\n",
    "    ax = axes[idx//2, idx%2]\n",
    "    temp = data.groupby(column)['is_delay'].value_counts(normalize=True).rename('percentage').\\\n",
    "    mul(100).reset_index().sort_values(column)\n",
    "    sns.barplot(x=column, y=\"percentage\", hue=\"is_delay\", data=temp, ax=ax)\n",
    "    plt.ylabel('% delay/no-delay')\n",
    "    \n",
    "\n",
    "plt.show()"
   ]
  },
  {
   "cell_type": "code",
   "execution_count": 29,
   "metadata": {},
   "outputs": [
    {
     "data": {
      "image/png": "[encoded data removed]",
      "text/plain": [
       "<Figure size 500x500 with 1 Axes>"
      ]
     },
     "metadata": {},
     "output_type": "display_data"
    }
   ],
   "source": [
    "sns.lmplot( x=\"is_delay\", y=\"Distance\", data=data, fit_reg=False, hue='is_delay', legend=False)\n",
    "plt.legend(loc='center')\n",
    "plt.xlabel('is_delay')\n",
    "plt.ylabel('Distance')\n",
    "plt.show()"
   ]
  },
  {
   "cell_type": "markdown",
   "metadata": {},
   "source": [
    "**Answers**\n",
    "- We see that the % delay is high in May, June, July, and August (Months 5-8).\n",
    "- % delays are higher at night than during the day. There are no flights departing at 3AM!\n",
    "- Sunday(1), Wednesday(4), Saturday(7) have relatively higher delays than other days.\n",
    "- Airline WN has the highest % delays compared to others.\n",
    "- Delays seem to occur in both short and long distance flight journeys.\n",
    "- Flights with SFO as a destination have higher delays than others.\n",
    "\n",
    "Even though some of the variables are encoded in numbers, it is important to consider them as categorical variables because we don't see a quantitative relation between them and the target variable."
   ]
  },
  {
   "cell_type": "markdown",
   "metadata": {},
   "source": [
    "### Features\n",
    "\n",
    "Look at all the columns and what their specific types are."
   ]
  },
  {
   "cell_type": "code",
   "execution_count": 30,
   "metadata": {},
   "outputs": [
    {
     "data": {
      "text/plain": [
       "Index(['Year', 'Quarter', 'Month', 'DayofMonth', 'DayOfWeek', 'FlightDate',\n",
       "       'Reporting_Airline', 'Origin', 'OriginState', 'Dest', 'DestState',\n",
       "       'CRSDepTime', 'Cancelled', 'Diverted', 'Distance', 'DistanceGroup',\n",
       "       'ArrDelay', 'ArrDelayMinutes', 'is_delay', 'AirTime', 'DepHourofDay'],\n",
       "      dtype='object')"
      ]
     },
     "execution_count": 30,
     "metadata": {},
     "output_type": "execute_result"
    }
   ],
   "source": [
    "data.columns"
   ]
  },
  {
   "cell_type": "markdown",
   "metadata": {},
   "source": [
    "Filtering the required columns:\n",
    "- Date is redundant, because you have Year, Quarter, Month, DayofMonth, and DayOfWeek to describe the date.\n",
    "- Use Origin and Dest codes instead of OriginState and DestState.\n",
    "- Because you are just classifying whether the flight is delayed or not, you don't need TotalDelayMinutes, DepDelayMinutes, and ArrDelayMinutes.\n",
    "\n",
    "Treat DepHourofDay as a categorical variable because it doesn't have any quantitative relation with the target.\n",
    "- If you had to do a one-hot encoding of it, it would result in 23 more columns.\n",
    "- Other alternatives to handling categorical variables include hash encoding, regularized mean encoding, and bucketizing the values, among others.\n",
    "- Just split into buckets here.\n",
    "\n",
    "**Hint**: To change a column type to category, use the `astype` function ([documentation](https://pandas.pydata.org/pandas-docs/stable/reference/api/pandas.DataFrame.astype.html))."
   ]
  },
  {
   "cell_type": "code",
   "execution_count": 31,
   "metadata": {},
   "outputs": [],
   "source": [
    "data_orig = data.copy()\n",
    "data = data[[ 'Quarter', 'Month', 'DayofMonth', 'DayOfWeek', \n",
    "       'Reporting_Airline', 'Origin', 'Dest','Distance','DepHourofDay', 'is_delay']]\n",
    "categorical_columns  = ['Quarter', 'Month', 'DayofMonth', 'DayOfWeek', \n",
    "       'Reporting_Airline', 'Origin', 'Dest', 'DepHourofDay', 'is_delay']\n",
    "for c in categorical_columns:\n",
    "    data[c] = data[c].astype('category')"
   ]
  },
  {
   "cell_type": "markdown",
   "metadata": {},
   "source": [
    "To use one-hot encoding, use the Pandas `get_dummies` function for the categorical columns that you selected above. Then, you can concatenate those generated features to your original dataset using the Pandas `concat` function. For encoding categorical variables, you can also use *dummy encoding* by using a keyword `drop_first=True`. For more information on dummy encoding, see https://en.wikiversity.org/wiki/Dummy_variable_(statistics).\n",
    "\n",
    "For example:\n",
    "```\n",
    "pd.get_dummies(df[['column1','columns2']], drop_first=True)\n",
    "```"
   ]
  },
  {
   "cell_type": "code",
   "execution_count": 32,
   "metadata": {},
   "outputs": [],
   "source": [
    "categorical_columns.remove('is_delay')\n",
    "data_dummies = pd.get_dummies(data[categorical_columns], drop_first=True, dtype='int64')\n",
    "data = pd.concat([data, data_dummies], axis = 1)\n",
    "data.drop(categorical_columns,axis=1, inplace=True)"
   ]
  },
  {
   "cell_type": "markdown",
   "metadata": {},
   "source": [
    "Check the length of the dataset and the new columnms."
   ]
  },
  {
   "cell_type": "code",
   "execution_count": 33,
   "metadata": {},
   "outputs": [
    {
     "data": {
      "text/plain": [
       "1635590"
      ]
     },
     "execution_count": 33,
     "metadata": {},
     "output_type": "execute_result"
    }
   ],
   "source": [
    "len(data)"
   ]
  },
  {
   "cell_type": "code",
   "execution_count": 34,
   "metadata": {},
   "outputs": [
    {
     "data": {
      "text/plain": [
       "Index(['Distance', 'is_delay', 'Quarter_2', 'Quarter_3', 'Quarter_4',\n",
       "       'Month_2', 'Month_3', 'Month_4', 'Month_5', 'Month_6', 'Month_7',\n",
       "       'Month_8', 'Month_9', 'Month_10', 'Month_11', 'Month_12',\n",
       "       'DayofMonth_2', 'DayofMonth_3', 'DayofMonth_4', 'DayofMonth_5',\n",
       "       'DayofMonth_6', 'DayofMonth_7', 'DayofMonth_8', 'DayofMonth_9',\n",
       "       'DayofMonth_10', 'DayofMonth_11', 'DayofMonth_12', 'DayofMonth_13',\n",
       "       'DayofMonth_14', 'DayofMonth_15', 'DayofMonth_16', 'DayofMonth_17',\n",
       "       'DayofMonth_18', 'DayofMonth_19', 'DayofMonth_20', 'DayofMonth_21',\n",
       "       'DayofMonth_22', 'DayofMonth_23', 'DayofMonth_24', 'DayofMonth_25',\n",
       "       'DayofMonth_26', 'DayofMonth_27', 'DayofMonth_28', 'DayofMonth_29',\n",
       "       'DayofMonth_30', 'DayofMonth_31', 'DayOfWeek_2', 'DayOfWeek_3',\n",
       "       'DayOfWeek_4', 'DayOfWeek_5', 'DayOfWeek_6', 'DayOfWeek_7',\n",
       "       'Reporting_Airline_DL', 'Reporting_Airline_OO', 'Reporting_Airline_UA',\n",
       "       'Reporting_Airline_WN', 'Origin_CLT', 'Origin_DEN', 'Origin_DFW',\n",
       "       'Origin_IAH', 'Origin_LAX', 'Origin_ORD', 'Origin_PHX', 'Origin_SFO',\n",
       "       'Dest_CLT', 'Dest_DEN', 'Dest_DFW', 'Dest_IAH', 'Dest_LAX', 'Dest_ORD',\n",
       "       'Dest_PHX', 'Dest_SFO', 'DepHourofDay_1', 'DepHourofDay_2',\n",
       "       'DepHourofDay_4', 'DepHourofDay_5', 'DepHourofDay_6', 'DepHourofDay_7',\n",
       "       'DepHourofDay_8', 'DepHourofDay_9', 'DepHourofDay_10',\n",
       "       'DepHourofDay_11', 'DepHourofDay_12', 'DepHourofDay_13',\n",
       "       'DepHourofDay_14', 'DepHourofDay_15', 'DepHourofDay_16',\n",
       "       'DepHourofDay_17', 'DepHourofDay_18', 'DepHourofDay_19',\n",
       "       'DepHourofDay_20', 'DepHourofDay_21', 'DepHourofDay_22',\n",
       "       'DepHourofDay_23'],\n",
       "      dtype='object')"
      ]
     },
     "execution_count": 34,
     "metadata": {},
     "output_type": "execute_result"
    }
   ],
   "source": [
    "data.columns"
   ]
  },
  {
   "cell_type": "markdown",
   "metadata": {},
   "source": [
    "Now you are ready to do model training. Before splitting the data, rename the column `is_delay` to `target`.\n",
    "\n",
    "**Hint**: You can use the Pandas `rename` function ([documentation](https://pandas.pydata.org/pandas-docs/stable/reference/api/pandas.DataFrame.rename.html))."
   ]
  },
  {
   "cell_type": "code",
   "execution_count": 35,
   "metadata": {},
   "outputs": [],
   "source": [
    "data.rename(columns = {'is_delay':'target'}, inplace=True )"
   ]
  },
  {
   "cell_type": "markdown",
   "metadata": {},
   "source": [
    "# Project Solution Lab 3: "
   ]
  },
  {
   "cell_type": "markdown",
   "metadata": {},
   "source": [
    "# Step 3: Model training and evaluation\n",
    "\n",
    "There are some preliminary steps that you must include when converting the dataset from a dataframe to a format that a machine learning algorithm can use. For Amazon SageMaker, here are the steps you need to take:\n",
    "\n",
    "1. Split the data into `train_data`, `validation_data`, and `test_data` using `sklearn.model_selection.train_test_split`.  \n",
    "2. Convert the dataset to an appropriate file format that the Amazon SageMaker training job can use. This can be either a CSV file or record protobuf. For more information, see [Common Data Formats for Training](https://docs.aws.amazon.com/sagemaker/latest/dg/cdf-training.html).  \n",
    "3. Upload the data to your Amazon S3 bucket. If you have not created one before, see [Create a Bucket](https://docs.aws.amazon.com/AmazonS3/latest/gsg/CreatingABucket.html).  \n",
    "\n",
    "Use the following cells to complete these steps. Insert and delete cells where needed.\n",
    "\n",
    "#### <span style=\"color: blue;\">Project presentation: Take note of the key decisions you've made in this phase in your project presentation.</span>"
   ]
  },
  {
   "cell_type": "markdown",
   "metadata": {},
   "source": [
    "### Train test split"
   ]
  },
  {
   "cell_type": "code",
   "execution_count": 36,
   "metadata": {},
   "outputs": [],
   "source": [
    "from sklearn.model_selection import train_test_split\n",
    "\n",
    "def create_training_sets(data):\n",
    "    \"\"\"\n",
    "    Convert data frame to train, validation and test\n",
    "    params:\n",
    "        data: The dataframe with the dataset to be split\n",
    "    Returns:\n",
    "        train_features: Training feature dataset\n",
    "        test_features: Test feature dataset \n",
    "        train_labels: Labels for the training dataset\n",
    "        test_labels: Labels for the test dataset\n",
    "        val_features: Validation feature dataset\n",
    "        val_labels: Labels for the validation dataset\n",
    "    \"\"\"\n",
    "    # Extract the target variable from the dataframe and convert the type to float32\n",
    "    ys = np.array(data[\"target\"]).astype(\"float32\")\n",
    "    \n",
    "    # Drop all the unwanted columns including the target column\n",
    "    drop_list = [\"target\"]\n",
    "    \n",
    "    # Drop the columns from the drop_list and convert the data into a NumPy array of type float32\n",
    "    xs = np.array(data.drop(drop_list, axis=1)).astype(\"float32\")\n",
    "    \n",
    "    np.random.seed(0)\n",
    "    \n",
    "    # Use the sklearn function train_test_split to split the dataset in the ratio train 80% and test 20%\n",
    "    train_features, test_features, train_labels, test_labels = train_test_split(\n",
    "    xs, ys, test_size=0.2, stratify=ys)\n",
    "    \n",
    "    # Use the sklearn function again to split the temp dataset into 50% validation and 50% test\n",
    "    val_features, test_features, val_labels, test_labels = train_test_split(\n",
    "    test_features, test_labels, test_size=0.5, stratify=test_labels)\n",
    "    \n",
    "    return train_features, test_features, train_labels, test_labels, val_features, val_labels"
   ]
  },
  {
   "cell_type": "code",
   "execution_count": 37,
   "metadata": {},
   "outputs": [
    {
     "name": "stdout",
     "output_type": "stream",
     "text": [
      "Length of train_features is: (1308472, 93)\n",
      "Length of train_labels is: (1308472,)\n",
      "Length of val_features is: (163559, 93)\n",
      "Length of val_labels is: (163559,)\n",
      "Length of test_features is: (163559, 93)\n",
      "Length of test_labels is: (163559,)\n"
     ]
    }
   ],
   "source": [
    "train_features, test_features, train_labels, test_labels, val_features, val_labels = create_training_sets(data)\n",
    "\n",
    "print(f\"Length of train_features is: {train_features.shape}\")\n",
    "print(f\"Length of train_labels is: {train_labels.shape}\")\n",
    "print(f\"Length of val_features is: {val_features.shape}\")\n",
    "print(f\"Length of val_labels is: {val_labels.shape}\")\n",
    "print(f\"Length of test_features is: {test_features.shape}\")\n",
    "print(f\"Length of test_labels is: {test_labels.shape}\")"
   ]
  },
  {
   "cell_type": "markdown",
   "metadata": {},
   "source": [
    "**Answer**\n",
    "```\n",
    "Length of train_features is: (1308472, 94)\n",
    "Length of train_labels is: (1308472,)\n",
    "Length of val_features is: (163559, 94)\n",
    "Length of val_labels is: (163559,)\n",
    "Length of test_features is: (163559, 94)\n",
    "Length of test_labels is: (163559,)\n",
    "```"
   ]
  },
  {
   "cell_type": "code",
   "execution_count": 38,
   "metadata": {},
   "outputs": [
    {
     "name": "stdout",
     "output_type": "stream",
     "text": [
      "Train class split\n",
      "[1033806  274666]\n",
      "0.20991354801631215\n",
      "\n",
      "Validation class split\n",
      "[129226  34333]\n",
      "0.20991201951589336\n",
      "\n",
      "Test class split\n",
      "[129226  34333]\n",
      "0.20991201951589336\n"
     ]
    }
   ],
   "source": [
    "print('Train class split')\n",
    "tr_hist = np.histogram(train_labels, bins=2)[0]\n",
    "print(tr_hist)\n",
    "print(tr_hist[1]*1. / (tr_hist[0] + tr_hist[1]))\n",
    "\n",
    "print('\\nValidation class split')\n",
    "val_hist = np.histogram(val_labels, bins=2)[0]\n",
    "print(val_hist)\n",
    "print(val_hist[1]*1. / (val_hist[0] + val_hist[1]))\n",
    "\n",
    "print('\\nTest class split')\n",
    "test_hist = np.histogram(test_labels, bins=2)[0]\n",
    "print(test_hist)\n",
    "print(test_hist[1]*1. / (test_hist[0] + test_hist[1]))"
   ]
  },
  {
   "cell_type": "markdown",
   "metadata": {},
   "source": [
    "### Baseline classification model"
   ]
  },
  {
   "cell_type": "code",
   "execution_count": 39,
   "metadata": {},
   "outputs": [],
   "source": [
    "\n",
    "\n",
    "import sagemaker\n",
    "from sagemaker.serializers import CSVSerializer\n",
    "from sagemaker.amazon.amazon_estimator import RecordSet\n",
    "import boto3\n",
    "\n",
    "# Instantiate the LinearLearner estimator object\n",
    "num_classes = len(pd.unique(train_labels)) \n",
    "\n",
    "classifier_estimator = sagemaker.LinearLearner(role=sagemaker.get_execution_role(),\n",
    "                                               instance_count=1,\n",
    "                                               instance_type='ml.m4.xlarge',\n",
    "                                               predictor_type='binary_classifier',\n",
    "                                              binary_classifier_model_selection_criteria = 'cross_entropy_loss')"
   ]
  },
  {
   "cell_type": "markdown",
   "metadata": {},
   "source": [
    "Linear learner accepts training data in protobuf or CSV content types, and accepts inference requests in protobuf, CSV, or JSON content types. Training data has features and ground-truth labels, while the data in an inference request has only features.\n",
    "\n",
    "In a production pipeline, it is recommended to convert the data to the Amazon SageMaker protobuf format and store it in Amazon S3. However, to get up and running quickly, AWS provides the convenient method `record_set` for converting and uploading when the dataset is small enough to fit in local memory. It accepts NumPy arrays like the ones you already have, so let's use it here. The `RecordSet` object will keep track of the temporary Amazon S3 location of your data. Use the `estimator.record_set` function to create train, validation, and test records. Then, use the `estimator.fit` function to start your training job."
   ]
  },
  {
   "cell_type": "code",
   "execution_count": 40,
   "metadata": {},
   "outputs": [
    {
     "name": "stderr",
     "output_type": "stream",
     "text": [
      "INFO:sagemaker.image_uris:Same images used for training and inference. Defaulting to image scope: inference.\n",
      "INFO:sagemaker.image_uris:Ignoring unnecessary instance type: None.\n",
      "INFO:sagemaker:Creating training-job with name: linear-learner-2023-01-24-19-24-09-353\n"
     ]
    },
    {
     "name": "stdout",
     "output_type": "stream",
     "text": [
      "2023-01-24 19:24:09 Starting - Starting the training job......\n",
      "2023-01-24 19:24:51 Starting - Preparing the instances for training...\n",
      "2023-01-24 19:25:39 Downloading - Downloading input data......\n",
      "2023-01-24 19:26:19 Training - Downloading the training image......\n",
      "2023-01-24 19:27:20 Training - Training image download completed. Training in progress..\u001b[34mDocker entrypoint called with argument(s): train\u001b[0m\n",
      "\u001b[34mRunning default environment configuration script\u001b[0m\n",
      "\u001b[34m[01/24/2023 19:27:40 INFO 140302672115520] Reading default configuration from /opt/amazon/lib/python3.7/site-packages/algorithm/resources/default-input.json: {'mini_batch_size': '1000', 'epochs': '15', 'feature_dim': 'auto', 'use_bias': 'true', 'binary_classifier_model_selection_criteria': 'accuracy', 'f_beta': '1.0', 'target_recall': '0.8', 'target_precision': '0.8', 'num_models': 'auto', 'num_calibration_samples': '10000000', 'init_method': 'uniform', 'init_scale': '0.07', 'init_sigma': '0.01', 'init_bias': '0.0', 'optimizer': 'auto', 'loss': 'auto', 'margin': '1.0', 'quantile': '0.5', 'loss_insensitivity': '0.01', 'huber_delta': '1.0', 'num_classes': '1', 'accuracy_top_k': '3', 'wd': 'auto', 'l1': 'auto', 'momentum': 'auto', 'learning_rate': 'auto', 'beta_1': 'auto', 'beta_2': 'auto', 'bias_lr_mult': 'auto', 'bias_wd_mult': 'auto', 'use_lr_scheduler': 'true', 'lr_scheduler_step': 'auto', 'lr_scheduler_factor': 'auto', 'lr_scheduler_minimum_lr': 'auto', 'positive_example_weight_mult': '1.0', 'balance_multiclass_weights': 'false', 'normalize_data': 'true', 'normalize_label': 'auto', 'unbias_data': 'auto', 'unbias_label': 'auto', 'num_point_for_scaler': '10000', '_kvstore': 'auto', '_num_gpus': 'auto', '_num_kv_servers': 'auto', '_log_level': 'info', '_tuning_objective_metric': '', 'early_stopping_patience': '3', 'early_stopping_tolerance': '0.001', '_enable_profiler': 'false'}\u001b[0m\n",
      "\u001b[34m[01/24/2023 19:27:40 INFO 140302672115520] Merging with provided configuration from /opt/ml/input/config/hyperparameters.json: {'binary_classifier_model_selection_criteria': 'cross_entropy_loss', 'feature_dim': '93', 'mini_batch_size': '1000', 'predictor_type': 'binary_classifier'}\u001b[0m\n",
      "\u001b[34m[01/24/2023 19:27:40 INFO 140302672115520] Final configuration: {'mini_batch_size': '1000', 'epochs': '15', 'feature_dim': '93', 'use_bias': 'true', 'binary_classifier_model_selection_criteria': 'cross_entropy_loss', 'f_beta': '1.0', 'target_recall': '0.8', 'target_precision': '0.8', 'num_models': 'auto', 'num_calibration_samples': '10000000', 'init_method': 'uniform', 'init_scale': '0.07', 'init_sigma': '0.01', 'init_bias': '0.0', 'optimizer': 'auto', 'loss': 'auto', 'margin': '1.0', 'quantile': '0.5', 'loss_insensitivity': '0.01', 'huber_delta': '1.0', 'num_classes': '1', 'accuracy_top_k': '3', 'wd': 'auto', 'l1': 'auto', 'momentum': 'auto', 'learning_rate': 'auto', 'beta_1': 'auto', 'beta_2': 'auto', 'bias_lr_mult': 'auto', 'bias_wd_mult': 'auto', 'use_lr_scheduler': 'true', 'lr_scheduler_step': 'auto', 'lr_scheduler_factor': 'auto', 'lr_scheduler_minimum_lr': 'auto', 'positive_example_weight_mult': '1.0', 'balance_multiclass_weights': 'false', 'normalize_data': 'true', 'normalize_label': 'auto', 'unbias_data': 'auto', 'unbias_label': 'auto', 'num_point_for_scaler': '10000', '_kvstore': 'auto', '_num_gpus': 'auto', '_num_kv_servers': 'auto', '_log_level': 'info', '_tuning_objective_metric': '', 'early_stopping_patience': '3', 'early_stopping_tolerance': '0.001', '_enable_profiler': 'false', 'predictor_type': 'binary_classifier'}\u001b[0m\n",
      "\u001b[34m[01/24/2023 19:27:43 WARNING 140302672115520] Loggers have already been setup.\u001b[0m\n",
      "\u001b[34m[01/24/2023 19:27:43 INFO 140302672115520] Final configuration: {'mini_batch_size': '1000', 'epochs': '15', 'feature_dim': '93', 'use_bias': 'true', 'binary_classifier_model_selection_criteria': 'cross_entropy_loss', 'f_beta': '1.0', 'target_recall': '0.8', 'target_precision': '0.8', 'num_models': 'auto', 'num_calibration_samples': '10000000', 'init_method': 'uniform', 'init_scale': '0.07', 'init_sigma': '0.01', 'init_bias': '0.0', 'optimizer': 'auto', 'loss': 'auto', 'margin': '1.0', 'quantile': '0.5', 'loss_insensitivity': '0.01', 'huber_delta': '1.0', 'num_classes': '1', 'accuracy_top_k': '3', 'wd': 'auto', 'l1': 'auto', 'momentum': 'auto', 'learning_rate': 'auto', 'beta_1': 'auto', 'beta_2': 'auto', 'bias_lr_mult': 'auto', 'bias_wd_mult': 'auto', 'use_lr_scheduler': 'true', 'lr_scheduler_step': 'auto', 'lr_scheduler_factor': 'auto', 'lr_scheduler_minimum_lr': 'auto', 'positive_example_weight_mult': '1.0', 'balance_multiclass_weights': 'false', 'normalize_data': 'true', 'normalize_label': 'auto', 'unbias_data': 'auto', 'unbias_label': 'auto', 'num_point_for_scaler': '10000', '_kvstore': 'auto', '_num_gpus': 'auto', '_num_kv_servers': 'auto', '_log_level': 'info', '_tuning_objective_metric': '', 'early_stopping_patience': '3', 'early_stopping_tolerance': '0.001', '_enable_profiler': 'false', 'predictor_type': 'binary_classifier'}\u001b[0m\n",
      "\u001b[34m[01/24/2023 19:27:43 WARNING 140302672115520] Loggers have already been setup.\u001b[0m\n",
      "\u001b[34mProcess 7 is a worker.\u001b[0m\n",
      "\u001b[34m[01/24/2023 19:27:43 INFO 140302672115520] Using default worker.\u001b[0m\n",
      "\u001b[34m[01/24/2023 19:27:43 INFO 140302672115520] Checkpoint loading and saving are disabled.\u001b[0m\n",
      "\u001b[34m[2023-01-24 19:27:43.299] [tensorio] [warning] TensorIO is already initialized; ignoring the initialization routine.\u001b[0m\n",
      "\u001b[34m[2023-01-24 19:27:43.357] [tensorio] [info] epoch_stats={\"data_pipeline\": \"/opt/ml/input/data/train\", \"epoch\": 0, \"duration\": 60, \"num_examples\": 1, \"num_bytes\": 420000}\u001b[0m\n",
      "\u001b[34m[01/24/2023 19:27:43 INFO 140302672115520] Create Store: local\u001b[0m\n",
      "\u001b[34m[2023-01-24 19:27:43.486] [tensorio] [info] epoch_stats={\"data_pipeline\": \"/opt/ml/input/data/train\", \"epoch\": 1, \"duration\": 128, \"num_examples\": 11, \"num_bytes\": 4620000}\u001b[0m\n",
      "\u001b[34m[01/24/2023 19:27:43 INFO 140302672115520] Scaler algorithm parameters\n",
      " <algorithm.scaler.ScalerAlgorithmStable object at 0x7f9a395e8610>\u001b[0m\n",
      "\u001b[34m[01/24/2023 19:27:43 INFO 140302672115520] Scaling model computed with parameters:\n",
      " {'stdev_label': None, 'stdev_weight': \u001b[0m\n",
      "\u001b[34m[5.3701947e+02 4.3616742e-01 4.3823552e-01 4.3073216e-01 2.5908905e-01\n",
      " 2.8236720e-01 2.7601960e-01 2.7697837e-01 2.8434971e-01 2.8196827e-01\n",
      " 2.8605148e-01 2.7477977e-01 2.7820411e-01 2.7171496e-01 2.7325347e-01\n",
      " 1.8052630e-01 1.7405386e-01 1.7600000e-01 1.7331764e-01 1.7744364e-01\n",
      " 1.7934786e-01 1.6907686e-01 1.8099520e-01 1.7958423e-01 1.7934787e-01\n",
      " 1.7863651e-01 1.7183442e-01 1.7672352e-01 1.9075631e-01 1.8285701e-01\n",
      " 1.8400958e-01 1.8538184e-01 1.7478655e-01 1.7958425e-01 1.7672351e-01\n",
      " 1.7696394e-01 1.7575809e-01 1.6907685e-01 1.8741828e-01 1.8285701e-01\n",
      " 1.8216139e-01 1.7083749e-01 1.6983394e-01 1.6806139e-01 1.3426247e-01\n",
      " 3.4632558e-01 3.6016271e-01 3.5200915e-01 3.5946098e-01 3.2196113e-01\n",
      " 3.4830266e-01 3.7354302e-01 2.4197932e-01 4.5705760e-01 3.2044286e-01\n",
      " 2.3982988e-01 3.2163680e-01 3.2464233e-01 2.6959682e-01 3.5546011e-01\n",
      " 3.3408982e-01 3.0526051e-01 3.3082199e-01 2.4700649e-01 3.1759027e-01\n",
      " 3.2517400e-01 2.6774198e-01 3.5401529e-01 3.3266717e-01 2.9878402e-01\n",
      " 3.3720139e-01 5.4690041e-02 9.5341923e-03 9.5341923e-03 1.6075072e-01\n",
      " 2.2421481e-01 2.5893900e-01 2.4828212e-01 2.4065955e-01 2.4214360e-01\n",
      " 2.3782340e-01 2.4620476e-01 2.4345286e-01 2.4230778e-01 2.3477200e-01\n",
      " 2.3322700e-01 2.4459095e-01 2.2147587e-01 2.2493814e-01 1.9617246e-01\n",
      " 1.4756915e-01 1.7551577e-01 1.1823998e-01]\u001b[0m\n",
      "\u001b[34m<NDArray 93 @cpu(0)>, 'mean_label': None, 'mean_weight': \u001b[0m\n",
      "\u001b[34m[1.00876294e+03 2.55545497e-01 2.59272754e-01 2.46090919e-01\n",
      " 7.23636299e-02 8.73636380e-02 8.30909163e-02 8.37272778e-02\n",
      " 8.87272730e-02 8.70909095e-02 8.99090990e-02 8.22727233e-02\n",
      " 8.45454559e-02 8.02727342e-02 8.12727362e-02 3.37272771e-02\n",
      " 3.12727280e-02 3.20000015e-02 3.10000014e-02 3.25454585e-02\n",
      " 3.32727283e-02 2.94545498e-02 3.39090973e-02 3.33636329e-02\n",
      " 3.32727320e-02 3.29999998e-02 3.04545481e-02 3.22727300e-02\n",
      " 3.78181897e-02 3.46363634e-02 3.50909121e-02 3.56363654e-02\n",
      " 3.15454565e-02 3.33636366e-02 3.22727300e-02 3.23636346e-02\n",
      " 3.19090933e-02 2.94545479e-02 3.64545472e-02 3.46363634e-02\n",
      " 3.43636423e-02 3.00909095e-02 2.97272746e-02 2.90909130e-02\n",
      " 1.83636378e-02 1.39363647e-01 1.53181851e-01 1.44909099e-01\n",
      " 1.52454555e-01 1.17454559e-01 1.41272753e-01 1.67636365e-01\n",
      " 6.24545440e-02 2.97272742e-01 1.16181821e-01 6.12727329e-02\n",
      " 1.17181830e-01 1.19727276e-01 7.89090917e-02 1.48363650e-01\n",
      " 1.28000006e-01 1.04000010e-01 1.25090912e-01 6.52727336e-02\n",
      " 1.13818191e-01 1.20181836e-01 7.77272731e-02 1.46909133e-01\n",
      " 1.26727283e-01 9.90909189e-02 1.30818203e-01 3.00000026e-03\n",
      " 9.09090813e-05 9.09090959e-05 2.65454575e-02 5.30909151e-02\n",
      " 7.22727403e-02 6.59999996e-02 6.17272817e-02 6.25454485e-02\n",
      " 6.01818264e-02 6.48181885e-02 6.32727370e-02 6.26363680e-02\n",
      " 5.85454553e-02 5.77272773e-02 6.39090911e-02 5.17272763e-02\n",
      " 5.34545481e-02 4.00909111e-02 2.22727284e-02 3.18181813e-02\n",
      " 1.41818197e-02]\u001b[0m\n",
      "\u001b[34m<NDArray 93 @cpu(0)>}\u001b[0m\n",
      "\u001b[34m[01/24/2023 19:27:43 INFO 140302672115520] nvidia-smi: took 0.035 seconds to run.\u001b[0m\n",
      "\u001b[34m[01/24/2023 19:27:43 INFO 140302672115520] nvidia-smi identified 0 GPUs.\u001b[0m\n",
      "\u001b[34m[01/24/2023 19:27:43 INFO 140302672115520] Number of GPUs being used: 0\u001b[0m\n",
      "\u001b[34m#metrics {\"StartTime\": 1674588463.6080036, \"EndTime\": 1674588463.608043, \"Dimensions\": {\"Algorithm\": \"Linear Learner\", \"Host\": \"algo-1\", \"Operation\": \"training\", \"Meta\": \"init_train_data_iter\"}, \"Metrics\": {\"Total Records Seen\": {\"sum\": 12000.0, \"count\": 1, \"min\": 12000, \"max\": 12000}, \"Total Batches Seen\": {\"sum\": 12.0, \"count\": 1, \"min\": 12, \"max\": 12}, \"Max Records Seen Between Resets\": {\"sum\": 11000.0, \"count\": 1, \"min\": 11000, \"max\": 11000}, \"Max Batches Seen Between Resets\": {\"sum\": 11.0, \"count\": 1, \"min\": 11, \"max\": 11}, \"Reset Count\": {\"sum\": 2.0, \"count\": 1, \"min\": 2, \"max\": 2}, \"Number of Records Since Last Reset\": {\"sum\": 0.0, \"count\": 1, \"min\": 0, \"max\": 0}, \"Number of Batches Since Last Reset\": {\"sum\": 0.0, \"count\": 1, \"min\": 0, \"max\": 0}}}\u001b[0m\n",
      "\u001b[34m[2023-01-24 19:28:28.900] [tensorio] [info] epoch_stats={\"data_pipeline\": \"/opt/ml/input/data/train\", \"epoch\": 3, \"duration\": 45291, \"num_examples\": 1309, \"num_bytes\": 549558240}\u001b[0m\n",
      "\u001b[34m#metrics {\"StartTime\": 1674588508.9001114, \"EndTime\": 1674588508.9001882, \"Dimensions\": {\"Algorithm\": \"Linear Learner\", \"Host\": \"algo-1\", \"Operation\": \"training\", \"epoch\": 0, \"model\": 0}, \"Metrics\": {\"train_binary_classification_cross_entropy_objective\": {\"sum\": 0.4944220683013263, \"count\": 1, \"min\": 0.4944220683013263, \"max\": 0.4944220683013263}}}\u001b[0m\n",
      "\u001b[34m#metrics {\"StartTime\": 1674588508.9004593, \"EndTime\": 1674588508.9004831, \"Dimensions\": {\"Algorithm\": \"Linear Learner\", \"Host\": \"algo-1\", \"Operation\": \"training\", \"epoch\": 0, \"model\": 1}, \"Metrics\": {\"train_binary_classification_cross_entropy_objective\": {\"sum\": 0.4950582941271114, \"count\": 1, \"min\": 0.4950582941271114, \"max\": 0.4950582941271114}}}\u001b[0m\n",
      "\u001b[34m#metrics {\"StartTime\": 1674588508.90055, \"EndTime\": 1674588508.9005694, \"Dimensions\": {\"Algorithm\": \"Linear Learner\", \"Host\": \"algo-1\", \"Operation\": \"training\", \"epoch\": 0, \"model\": 2}, \"Metrics\": {\"train_binary_classification_cross_entropy_objective\": {\"sum\": 0.494556631082424, \"count\": 1, \"min\": 0.494556631082424, \"max\": 0.494556631082424}}}\u001b[0m\n",
      "\u001b[34m#metrics {\"StartTime\": 1674588508.9006393, \"EndTime\": 1674588508.9006588, \"Dimensions\": {\"Algorithm\": \"Linear Learner\", \"Host\": \"algo-1\", \"Operation\": \"training\", \"epoch\": 0, \"model\": 3}, \"Metrics\": {\"train_binary_classification_cross_entropy_objective\": {\"sum\": 0.49505350650705693, \"count\": 1, \"min\": 0.49505350650705693, \"max\": 0.49505350650705693}}}\u001b[0m\n",
      "\u001b[34m#metrics {\"StartTime\": 1674588508.9007137, \"EndTime\": 1674588508.9007318, \"Dimensions\": {\"Algorithm\": \"Linear Learner\", \"Host\": \"algo-1\", \"Operation\": \"training\", \"epoch\": 0, \"model\": 4}, \"Metrics\": {\"train_binary_classification_cross_entropy_objective\": {\"sum\": 0.5079667855825628, \"count\": 1, \"min\": 0.5079667855825628, \"max\": 0.5079667855825628}}}\u001b[0m\n",
      "\u001b[34m#metrics {\"StartTime\": 1674588508.900799, \"EndTime\": 1674588508.9008179, \"Dimensions\": {\"Algorithm\": \"Linear Learner\", \"Host\": \"algo-1\", \"Operation\": \"training\", \"epoch\": 0, \"model\": 5}, \"Metrics\": {\"train_binary_classification_cross_entropy_objective\": {\"sum\": 0.5183978957896568, \"count\": 1, \"min\": 0.5183978957896568, \"max\": 0.5183978957896568}}}\u001b[0m\n",
      "\u001b[34m#metrics {\"StartTime\": 1674588508.9008777, \"EndTime\": 1674588508.9008956, \"Dimensions\": {\"Algorithm\": \"Linear Learner\", \"Host\": \"algo-1\", \"Operation\": \"training\", \"epoch\": 0, \"model\": 6}, \"Metrics\": {\"train_binary_classification_cross_entropy_objective\": {\"sum\": 0.5080391186822081, \"count\": 1, \"min\": 0.5080391186822081, \"max\": 0.5080391186822081}}}\u001b[0m\n",
      "\u001b[34m#metrics {\"StartTime\": 1674588508.900961, \"EndTime\": 1674588508.900982, \"Dimensions\": {\"Algorithm\": \"Linear Learner\", \"Host\": \"algo-1\", \"Operation\": \"training\", \"epoch\": 0, \"model\": 7}, \"Metrics\": {\"train_binary_classification_cross_entropy_objective\": {\"sum\": 0.5184127471877166, \"count\": 1, \"min\": 0.5184127471877166, \"max\": 0.5184127471877166}}}\u001b[0m\n",
      "\u001b[34m#metrics {\"StartTime\": 1674588508.901044, \"EndTime\": 1674588508.9010627, \"Dimensions\": {\"Algorithm\": \"Linear Learner\", \"Host\": \"algo-1\", \"Operation\": \"training\", \"epoch\": 0, \"model\": 8}, \"Metrics\": {\"train_binary_classification_cross_entropy_objective\": {\"sum\": 0.4946028684330278, \"count\": 1, \"min\": 0.4946028684330278, \"max\": 0.4946028684330278}}}\u001b[0m\n",
      "\u001b[34m#metrics {\"StartTime\": 1674588508.901116, \"EndTime\": 1674588508.901134, \"Dimensions\": {\"Algorithm\": \"Linear Learner\", \"Host\": \"algo-1\", \"Operation\": \"training\", \"epoch\": 0, \"model\": 9}, \"Metrics\": {\"train_binary_classification_cross_entropy_objective\": {\"sum\": 0.4950686058254417, \"count\": 1, \"min\": 0.4950686058254417, \"max\": 0.4950686058254417}}}\u001b[0m\n",
      "\u001b[34m#metrics {\"StartTime\": 1674588508.9011898, \"EndTime\": 1674588508.901207, \"Dimensions\": {\"Algorithm\": \"Linear Learner\", \"Host\": \"algo-1\", \"Operation\": \"training\", \"epoch\": 0, \"model\": 10}, \"Metrics\": {\"train_binary_classification_cross_entropy_objective\": {\"sum\": 0.49464518254831297, \"count\": 1, \"min\": 0.49464518254831297, \"max\": 0.49464518254831297}}}\u001b[0m\n",
      "\u001b[34m#metrics {\"StartTime\": 1674588508.9012735, \"EndTime\": 1674588508.9012918, \"Dimensions\": {\"Algorithm\": \"Linear Learner\", \"Host\": \"algo-1\", \"Operation\": \"training\", \"epoch\": 0, \"model\": 11}, \"Metrics\": {\"train_binary_classification_cross_entropy_objective\": {\"sum\": 0.49507299016083417, \"count\": 1, \"min\": 0.49507299016083417, \"max\": 0.49507299016083417}}}\u001b[0m\n",
      "\u001b[34m#metrics {\"StartTime\": 1674588508.9013584, \"EndTime\": 1674588508.9013767, \"Dimensions\": {\"Algorithm\": \"Linear Learner\", \"Host\": \"algo-1\", \"Operation\": \"training\", \"epoch\": 0, \"model\": 12}, \"Metrics\": {\"train_binary_classification_cross_entropy_objective\": {\"sum\": 0.507143207048422, \"count\": 1, \"min\": 0.507143207048422, \"max\": 0.507143207048422}}}\u001b[0m\n",
      "\u001b[34m#metrics {\"StartTime\": 1674588508.901434, \"EndTime\": 1674588508.9014506, \"Dimensions\": {\"Algorithm\": \"Linear Learner\", \"Host\": \"algo-1\", \"Operation\": \"training\", \"epoch\": 0, \"model\": 13}, \"Metrics\": {\"train_binary_classification_cross_entropy_objective\": {\"sum\": 0.516658576288719, \"count\": 1, \"min\": 0.516658576288719, \"max\": 0.516658576288719}}}\u001b[0m\n",
      "\u001b[34m#metrics {\"StartTime\": 1674588508.9015083, \"EndTime\": 1674588508.901526, \"Dimensions\": {\"Algorithm\": \"Linear Learner\", \"Host\": \"algo-1\", \"Operation\": \"training\", \"epoch\": 0, \"model\": 14}, \"Metrics\": {\"train_binary_classification_cross_entropy_objective\": {\"sum\": 0.5071657482462192, \"count\": 1, \"min\": 0.5071657482462192, \"max\": 0.5071657482462192}}}\u001b[0m\n",
      "\u001b[34m#metrics {\"StartTime\": 1674588508.9015942, \"EndTime\": 1674588508.9016128, \"Dimensions\": {\"Algorithm\": \"Linear Learner\", \"Host\": \"algo-1\", \"Operation\": \"training\", \"epoch\": 0, \"model\": 15}, \"Metrics\": {\"train_binary_classification_cross_entropy_objective\": {\"sum\": 0.5167024109166697, \"count\": 1, \"min\": 0.5167024109166697, \"max\": 0.5167024109166697}}}\u001b[0m\n",
      "\u001b[34m#metrics {\"StartTime\": 1674588508.9016845, \"EndTime\": 1674588508.9017026, \"Dimensions\": {\"Algorithm\": \"Linear Learner\", \"Host\": \"algo-1\", \"Operation\": \"training\", \"epoch\": 0, \"model\": 16}, \"Metrics\": {\"train_binary_classification_cross_entropy_objective\": {\"sum\": 0.5093216293288299, \"count\": 1, \"min\": 0.5093216293288299, \"max\": 0.5093216293288299}}}\u001b[0m\n",
      "\u001b[34m#metrics {\"StartTime\": 1674588508.9017622, \"EndTime\": 1674588508.9017813, \"Dimensions\": {\"Algorithm\": \"Linear Learner\", \"Host\": \"algo-1\", \"Operation\": \"training\", \"epoch\": 0, \"model\": 17}, \"Metrics\": {\"train_binary_classification_cross_entropy_objective\": {\"sum\": 0.5094195546141458, \"count\": 1, \"min\": 0.5094195546141458, \"max\": 0.5094195546141458}}}\u001b[0m\n",
      "\u001b[34m#metrics {\"StartTime\": 1674588508.9018402, \"EndTime\": 1674588508.9018598, \"Dimensions\": {\"Algorithm\": \"Linear Learner\", \"Host\": \"algo-1\", \"Operation\": \"training\", \"epoch\": 0, \"model\": 18}, \"Metrics\": {\"train_binary_classification_cross_entropy_objective\": {\"sum\": 0.509303315212238, \"count\": 1, \"min\": 0.509303315212238, \"max\": 0.509303315212238}}}\u001b[0m\n",
      "\u001b[34m#metrics {\"StartTime\": 1674588508.9019234, \"EndTime\": 1674588508.901944, \"Dimensions\": {\"Algorithm\": \"Linear Learner\", \"Host\": \"algo-1\", \"Operation\": \"training\", \"epoch\": 0, \"model\": 19}, \"Metrics\": {\"train_binary_classification_cross_entropy_objective\": {\"sum\": 0.5094231266173384, \"count\": 1, \"min\": 0.5094231266173384, \"max\": 0.5094231266173384}}}\u001b[0m\n",
      "\u001b[34m#metrics {\"StartTime\": 1674588508.9020095, \"EndTime\": 1674588508.9020293, \"Dimensions\": {\"Algorithm\": \"Linear Learner\", \"Host\": \"algo-1\", \"Operation\": \"training\", \"epoch\": 0, \"model\": 20}, \"Metrics\": {\"train_binary_classification_cross_entropy_objective\": {\"sum\": 0.5108769366529738, \"count\": 1, \"min\": 0.5108769366529738, \"max\": 0.5108769366529738}}}\u001b[0m\n",
      "\u001b[34m#metrics {\"StartTime\": 1674588508.902088, \"EndTime\": 1674588508.9021068, \"Dimensions\": {\"Algorithm\": \"Linear Learner\", \"Host\": \"algo-1\", \"Operation\": \"training\", \"epoch\": 0, \"model\": 21}, \"Metrics\": {\"train_binary_classification_cross_entropy_objective\": {\"sum\": 0.5122423387579962, \"count\": 1, \"min\": 0.5122423387579962, \"max\": 0.5122423387579962}}}\u001b[0m\n",
      "\u001b[34m#metrics {\"StartTime\": 1674588508.9021637, \"EndTime\": 1674588508.902181, \"Dimensions\": {\"Algorithm\": \"Linear Learner\", \"Host\": \"algo-1\", \"Operation\": \"training\", \"epoch\": 0, \"model\": 22}, \"Metrics\": {\"train_binary_classification_cross_entropy_objective\": {\"sum\": 0.5108824300970142, \"count\": 1, \"min\": 0.5108824300970142, \"max\": 0.5108824300970142}}}\u001b[0m\n",
      "\u001b[34m#metrics {\"StartTime\": 1674588508.9022467, \"EndTime\": 1674588508.9022646, \"Dimensions\": {\"Algorithm\": \"Linear Learner\", \"Host\": \"algo-1\", \"Operation\": \"training\", \"epoch\": 0, \"model\": 23}, \"Metrics\": {\"train_binary_classification_cross_entropy_objective\": {\"sum\": 0.5122573685952283, \"count\": 1, \"min\": 0.5122573685952283, \"max\": 0.5122573685952283}}}\u001b[0m\n",
      "\u001b[34m#metrics {\"StartTime\": 1674588508.9023216, \"EndTime\": 1674588508.902339, \"Dimensions\": {\"Algorithm\": \"Linear Learner\", \"Host\": \"algo-1\", \"Operation\": \"training\", \"epoch\": 0, \"model\": 24}, \"Metrics\": {\"train_binary_classification_cross_entropy_objective\": {\"sum\": 0.5151446657326608, \"count\": 1, \"min\": 0.5151446657326608, \"max\": 0.5151446657326608}}}\u001b[0m\n",
      "\u001b[34m#metrics {\"StartTime\": 1674588508.9023914, \"EndTime\": 1674588508.9024096, \"Dimensions\": {\"Algorithm\": \"Linear Learner\", \"Host\": \"algo-1\", \"Operation\": \"training\", \"epoch\": 0, \"model\": 25}, \"Metrics\": {\"train_binary_classification_cross_entropy_objective\": {\"sum\": 0.5151727939570716, \"count\": 1, \"min\": 0.5151727939570716, \"max\": 0.5151727939570716}}}\u001b[0m\n",
      "\u001b[34m#metrics {\"StartTime\": 1674588508.9024649, \"EndTime\": 1674588508.9024813, \"Dimensions\": {\"Algorithm\": \"Linear Learner\", \"Host\": \"algo-1\", \"Operation\": \"training\", \"epoch\": 0, \"model\": 26}, \"Metrics\": {\"train_binary_classification_cross_entropy_objective\": {\"sum\": 0.5151522874744661, \"count\": 1, \"min\": 0.5151522874744661, \"max\": 0.5151522874744661}}}\u001b[0m\n",
      "\u001b[34m#metrics {\"StartTime\": 1674588508.9025378, \"EndTime\": 1674588508.9025545, \"Dimensions\": {\"Algorithm\": \"Linear Learner\", \"Host\": \"algo-1\", \"Operation\": \"training\", \"epoch\": 0, \"model\": 27}, \"Metrics\": {\"train_binary_classification_cross_entropy_objective\": {\"sum\": 0.5151754340775516, \"count\": 1, \"min\": 0.5151754340775516, \"max\": 0.5151754340775516}}}\u001b[0m\n",
      "\u001b[34m#metrics {\"StartTime\": 1674588508.9026086, \"EndTime\": 1674588508.9026246, \"Dimensions\": {\"Algorithm\": \"Linear Learner\", \"Host\": \"algo-1\", \"Operation\": \"training\", \"epoch\": 0, \"model\": 28}, \"Metrics\": {\"train_binary_classification_cross_entropy_objective\": {\"sum\": 0.515275476298201, \"count\": 1, \"min\": 0.515275476298201, \"max\": 0.515275476298201}}}\u001b[0m\n",
      "\u001b[34m#metrics {\"StartTime\": 1674588508.9027128, \"EndTime\": 1674588508.9027324, \"Dimensions\": {\"Algorithm\": \"Linear Learner\", \"Host\": \"algo-1\", \"Operation\": \"training\", \"epoch\": 0, \"model\": 29}, \"Metrics\": {\"train_binary_classification_cross_entropy_objective\": {\"sum\": 0.5157018200702259, \"count\": 1, \"min\": 0.5157018200702259, \"max\": 0.5157018200702259}}}\u001b[0m\n",
      "\u001b[34m#metrics {\"StartTime\": 1674588508.90279, \"EndTime\": 1674588508.902808, \"Dimensions\": {\"Algorithm\": \"Linear Learner\", \"Host\": \"algo-1\", \"Operation\": \"training\", \"epoch\": 0, \"model\": 30}, \"Metrics\": {\"train_binary_classification_cross_entropy_objective\": {\"sum\": 0.5152843479541463, \"count\": 1, \"min\": 0.5152843479541463, \"max\": 0.5152843479541463}}}\u001b[0m\n",
      "\u001b[34m#metrics {\"StartTime\": 1674588508.9028597, \"EndTime\": 1674588508.9028757, \"Dimensions\": {\"Algorithm\": \"Linear Learner\", \"Host\": \"algo-1\", \"Operation\": \"training\", \"epoch\": 0, \"model\": 31}, \"Metrics\": {\"train_binary_classification_cross_entropy_objective\": {\"sum\": 0.5156820767603882, \"count\": 1, \"min\": 0.5156820767603882, \"max\": 0.5156820767603882}}}\u001b[0m\n",
      "\u001b[34m[01/24/2023 19:28:28 INFO 140302672115520] #quality_metric: host=algo-1, epoch=0, train binary_classification_cross_entropy_objective <loss>=0.4944220683013263\u001b[0m\n",
      "\u001b[34m[2023-01-24 19:28:28.926] [tensorio] [info] epoch_stats={\"data_pipeline\": \"/opt/ml/input/data/validation\", \"epoch\": 0, \"duration\": 45626, \"num_examples\": 1, \"num_bytes\": 420000}\u001b[0m\n",
      "\u001b[34m[2023-01-24 19:28:33.485] [tensorio] [info] epoch_stats={\"data_pipeline\": \"/opt/ml/input/data/validation\", \"epoch\": 2, \"duration\": 4559, \"num_examples\": 164, \"num_bytes\": 68694780}\u001b[0m\n",
      "\u001b[34m#metrics {\"StartTime\": 1674588513.494713, \"EndTime\": 1674588513.4947693, \"Dimensions\": {\"Algorithm\": \"Linear Learner\", \"Host\": \"algo-1\", \"Operation\": \"training\", \"epoch\": 0, \"model\": 0}, \"Metrics\": {\"validation_binary_classification_cross_entropy_objective\": {\"sum\": 0.4921706439541217, \"count\": 1, \"min\": 0.4921706439541217, \"max\": 0.4921706439541217}}}\u001b[0m\n",
      "\u001b[34m#metrics {\"StartTime\": 1674588513.4948525, \"EndTime\": 1674588513.4948688, \"Dimensions\": {\"Algorithm\": \"Linear Learner\", \"Host\": \"algo-1\", \"Operation\": \"training\", \"epoch\": 0, \"model\": 1}, \"Metrics\": {\"validation_binary_classification_cross_entropy_objective\": {\"sum\": 0.49281290501529407, \"count\": 1, \"min\": 0.49281290501529407, \"max\": 0.49281290501529407}}}\u001b[0m\n",
      "\u001b[34m#metrics {\"StartTime\": 1674588513.4949281, \"EndTime\": 1674588513.4949455, \"Dimensions\": {\"Algorithm\": \"Linear Learner\", \"Host\": \"algo-1\", \"Operation\": \"training\", \"epoch\": 0, \"model\": 2}, \"Metrics\": {\"validation_binary_classification_cross_entropy_objective\": {\"sum\": 0.49217512506133704, \"count\": 1, \"min\": 0.49217512506133704, \"max\": 0.49217512506133704}}}\u001b[0m\n",
      "\u001b[34m#metrics {\"StartTime\": 1674588513.4949782, \"EndTime\": 1674588513.4949877, \"Dimensions\": {\"Algorithm\": \"Linear Learner\", \"Host\": \"algo-1\", \"Operation\": \"training\", \"epoch\": 0, \"model\": 3}, \"Metrics\": {\"validation_binary_classification_cross_entropy_objective\": {\"sum\": 0.4928089759183923, \"count\": 1, \"min\": 0.4928089759183923, \"max\": 0.4928089759183923}}}\u001b[0m\n",
      "\u001b[34m#metrics {\"StartTime\": 1674588513.495035, \"EndTime\": 1674588513.4950504, \"Dimensions\": {\"Algorithm\": \"Linear Learner\", \"Host\": \"algo-1\", \"Operation\": \"training\", \"epoch\": 0, \"model\": 4}, \"Metrics\": {\"validation_binary_classification_cross_entropy_objective\": {\"sum\": 0.49882009731281507, \"count\": 1, \"min\": 0.49882009731281507, \"max\": 0.49882009731281507}}}\u001b[0m\n",
      "\u001b[34m#metrics {\"StartTime\": 1674588513.4951067, \"EndTime\": 1674588513.4951239, \"Dimensions\": {\"Algorithm\": \"Linear Learner\", \"Host\": \"algo-1\", \"Operation\": \"training\", \"epoch\": 0, \"model\": 5}, \"Metrics\": {\"validation_binary_classification_cross_entropy_objective\": {\"sum\": 0.5135227116817245, \"count\": 1, \"min\": 0.5135227116817245, \"max\": 0.5135227116817245}}}\u001b[0m\n",
      "\u001b[34m#metrics {\"StartTime\": 1674588513.4951801, \"EndTime\": 1674588513.4951975, \"Dimensions\": {\"Algorithm\": \"Linear Learner\", \"Host\": \"algo-1\", \"Operation\": \"training\", \"epoch\": 0, \"model\": 6}, \"Metrics\": {\"validation_binary_classification_cross_entropy_objective\": {\"sum\": 0.4988135973610524, \"count\": 1, \"min\": 0.4988135973610524, \"max\": 0.4988135973610524}}}\u001b[0m\n",
      "\u001b[34m#metrics {\"StartTime\": 1674588513.4952543, \"EndTime\": 1674588513.4952717, \"Dimensions\": {\"Algorithm\": \"Linear Learner\", \"Host\": \"algo-1\", \"Operation\": \"training\", \"epoch\": 0, \"model\": 7}, \"Metrics\": {\"validation_binary_classification_cross_entropy_objective\": {\"sum\": 0.5135211613509164, \"count\": 1, \"min\": 0.5135211613509164, \"max\": 0.5135211613509164}}}\u001b[0m\n",
      "\u001b[34m#metrics {\"StartTime\": 1674588513.4953277, \"EndTime\": 1674588513.4953458, \"Dimensions\": {\"Algorithm\": \"Linear Learner\", \"Host\": \"algo-1\", \"Operation\": \"training\", \"epoch\": 0, \"model\": 8}, \"Metrics\": {\"validation_binary_classification_cross_entropy_objective\": {\"sum\": 0.4923750958118993, \"count\": 1, \"min\": 0.4923750958118993, \"max\": 0.4923750958118993}}}\u001b[0m\n",
      "\u001b[34m#metrics {\"StartTime\": 1674588513.495408, \"EndTime\": 1674588513.4954264, \"Dimensions\": {\"Algorithm\": \"Linear Learner\", \"Host\": \"algo-1\", \"Operation\": \"training\", \"epoch\": 0, \"model\": 9}, \"Metrics\": {\"validation_binary_classification_cross_entropy_objective\": {\"sum\": 0.4929451876585342, \"count\": 1, \"min\": 0.4929451876585342, \"max\": 0.4929451876585342}}}\u001b[0m\n",
      "\u001b[34m#metrics {\"StartTime\": 1674588513.4954832, \"EndTime\": 1674588513.4955008, \"Dimensions\": {\"Algorithm\": \"Linear Learner\", \"Host\": \"algo-1\", \"Operation\": \"training\", \"epoch\": 0, \"model\": 10}, \"Metrics\": {\"validation_binary_classification_cross_entropy_objective\": {\"sum\": 0.4923751624225743, \"count\": 1, \"min\": 0.4923751624225743, \"max\": 0.4923751624225743}}}\u001b[0m\n",
      "\u001b[34m#metrics {\"StartTime\": 1674588513.495557, \"EndTime\": 1674588513.4955745, \"Dimensions\": {\"Algorithm\": \"Linear Learner\", \"Host\": \"algo-1\", \"Operation\": \"training\", \"epoch\": 0, \"model\": 11}, \"Metrics\": {\"validation_binary_classification_cross_entropy_objective\": {\"sum\": 0.4929460348455644, \"count\": 1, \"min\": 0.4929460348455644, \"max\": 0.4929460348455644}}}\u001b[0m\n",
      "\u001b[34m#metrics {\"StartTime\": 1674588513.4956303, \"EndTime\": 1674588513.495648, \"Dimensions\": {\"Algorithm\": \"Linear Learner\", \"Host\": \"algo-1\", \"Operation\": \"training\", \"epoch\": 0, \"model\": 12}, \"Metrics\": {\"validation_binary_classification_cross_entropy_objective\": {\"sum\": 0.4978985489797749, \"count\": 1, \"min\": 0.4978985489797749, \"max\": 0.4978985489797749}}}\u001b[0m\n",
      "\u001b[34m#metrics {\"StartTime\": 1674588513.4957037, \"EndTime\": 1674588513.4957204, \"Dimensions\": {\"Algorithm\": \"Linear Learner\", \"Host\": \"algo-1\", \"Operation\": \"training\", \"epoch\": 0, \"model\": 13}, \"Metrics\": {\"validation_binary_classification_cross_entropy_objective\": {\"sum\": 0.5111994438485549, \"count\": 1, \"min\": 0.5111994438485549, \"max\": 0.5111994438485549}}}\u001b[0m\n",
      "\u001b[34m#metrics {\"StartTime\": 1674588513.4957755, \"EndTime\": 1674588513.495793, \"Dimensions\": {\"Algorithm\": \"Linear Learner\", \"Host\": \"algo-1\", \"Operation\": \"training\", \"epoch\": 0, \"model\": 14}, \"Metrics\": {\"validation_binary_classification_cross_entropy_objective\": {\"sum\": 0.49789745102314475, \"count\": 1, \"min\": 0.49789745102314475, \"max\": 0.49789745102314475}}}\u001b[0m\n",
      "\u001b[34m#metrics {\"StartTime\": 1674588513.4958496, \"EndTime\": 1674588513.4958673, \"Dimensions\": {\"Algorithm\": \"Linear Learner\", \"Host\": \"algo-1\", \"Operation\": \"training\", \"epoch\": 0, \"model\": 15}, \"Metrics\": {\"validation_binary_classification_cross_entropy_objective\": {\"sum\": 0.5112166917219331, \"count\": 1, \"min\": 0.5112166917219331, \"max\": 0.5112166917219331}}}\u001b[0m\n",
      "\u001b[34m#metrics {\"StartTime\": 1674588513.4959228, \"EndTime\": 1674588513.4959397, \"Dimensions\": {\"Algorithm\": \"Linear Learner\", \"Host\": \"algo-1\", \"Operation\": \"training\", \"epoch\": 0, \"model\": 16}, \"Metrics\": {\"validation_binary_classification_cross_entropy_objective\": {\"sum\": 0.507855571358054, \"count\": 1, \"min\": 0.507855571358054, \"max\": 0.507855571358054}}}\u001b[0m\n",
      "\u001b[34m#metrics {\"StartTime\": 1674588513.495996, \"EndTime\": 1674588513.4960127, \"Dimensions\": {\"Algorithm\": \"Linear Learner\", \"Host\": \"algo-1\", \"Operation\": \"training\", \"epoch\": 0, \"model\": 17}, \"Metrics\": {\"validation_binary_classification_cross_entropy_objective\": {\"sum\": 0.5074755460755823, \"count\": 1, \"min\": 0.5074755460755823, \"max\": 0.5074755460755823}}}\u001b[0m\n",
      "\u001b[34m#metrics {\"StartTime\": 1674588513.496069, \"EndTime\": 1674588513.496085, \"Dimensions\": {\"Algorithm\": \"Linear Learner\", \"Host\": \"algo-1\", \"Operation\": \"training\", \"epoch\": 0, \"model\": 18}, \"Metrics\": {\"validation_binary_classification_cross_entropy_objective\": {\"sum\": 0.5078619879998268, \"count\": 1, \"min\": 0.5078619879998268, \"max\": 0.5078619879998268}}}\u001b[0m\n",
      "\u001b[34m#metrics {\"StartTime\": 1674588513.496138, \"EndTime\": 1674588513.4961543, \"Dimensions\": {\"Algorithm\": \"Linear Learner\", \"Host\": \"algo-1\", \"Operation\": \"training\", \"epoch\": 0, \"model\": 19}, \"Metrics\": {\"validation_binary_classification_cross_entropy_objective\": {\"sum\": 0.5074541345685559, \"count\": 1, \"min\": 0.5074541345685559, \"max\": 0.5074541345685559}}}\u001b[0m\n",
      "\u001b[34m#metrics {\"StartTime\": 1674588513.4962094, \"EndTime\": 1674588513.496226, \"Dimensions\": {\"Algorithm\": \"Linear Learner\", \"Host\": \"algo-1\", \"Operation\": \"training\", \"epoch\": 0, \"model\": 20}, \"Metrics\": {\"validation_binary_classification_cross_entropy_objective\": {\"sum\": 0.5076280617579967, \"count\": 1, \"min\": 0.5076280617579967, \"max\": 0.5076280617579967}}}\u001b[0m\n",
      "\u001b[34m#metrics {\"StartTime\": 1674588513.496282, \"EndTime\": 1674588513.4962993, \"Dimensions\": {\"Algorithm\": \"Linear Learner\", \"Host\": \"algo-1\", \"Operation\": \"training\", \"epoch\": 0, \"model\": 21}, \"Metrics\": {\"validation_binary_classification_cross_entropy_objective\": {\"sum\": 0.5113526586631797, \"count\": 1, \"min\": 0.5113526586631797, \"max\": 0.5113526586631797}}}\u001b[0m\n",
      "\u001b[34m#metrics {\"StartTime\": 1674588513.496359, \"EndTime\": 1674588513.4963777, \"Dimensions\": {\"Algorithm\": \"Linear Learner\", \"Host\": \"algo-1\", \"Operation\": \"training\", \"epoch\": 0, \"model\": 22}, \"Metrics\": {\"validation_binary_classification_cross_entropy_objective\": {\"sum\": 0.5076330857328839, \"count\": 1, \"min\": 0.5076330857328839, \"max\": 0.5076330857328839}}}\u001b[0m\n",
      "\u001b[34m#metrics {\"StartTime\": 1674588513.4964287, \"EndTime\": 1674588513.4964454, \"Dimensions\": {\"Algorithm\": \"Linear Learner\", \"Host\": \"algo-1\", \"Operation\": \"training\", \"epoch\": 0, \"model\": 23}, \"Metrics\": {\"validation_binary_classification_cross_entropy_objective\": {\"sum\": 0.511351824816943, \"count\": 1, \"min\": 0.511351824816943, \"max\": 0.511351824816943}}}\u001b[0m\n",
      "\u001b[34m#metrics {\"StartTime\": 1674588513.4965115, \"EndTime\": 1674588513.496529, \"Dimensions\": {\"Algorithm\": \"Linear Learner\", \"Host\": \"algo-1\", \"Operation\": \"training\", \"epoch\": 0, \"model\": 24}, \"Metrics\": {\"validation_binary_classification_cross_entropy_objective\": {\"sum\": 0.5138954407629782, \"count\": 1, \"min\": 0.5138954407629782, \"max\": 0.5138954407629782}}}\u001b[0m\n",
      "\u001b[34m#metrics {\"StartTime\": 1674588513.4965873, \"EndTime\": 1674588513.4966035, \"Dimensions\": {\"Algorithm\": \"Linear Learner\", \"Host\": \"algo-1\", \"Operation\": \"training\", \"epoch\": 0, \"model\": 25}, \"Metrics\": {\"validation_binary_classification_cross_entropy_objective\": {\"sum\": 0.5138413603582676, \"count\": 1, \"min\": 0.5138413603582676, \"max\": 0.5138413603582676}}}\u001b[0m\n",
      "\u001b[34m#metrics {\"StartTime\": 1674588513.4966662, \"EndTime\": 1674588513.4966836, \"Dimensions\": {\"Algorithm\": \"Linear Learner\", \"Host\": \"algo-1\", \"Operation\": \"training\", \"epoch\": 0, \"model\": 26}, \"Metrics\": {\"validation_binary_classification_cross_entropy_objective\": {\"sum\": 0.513894889592295, \"count\": 1, \"min\": 0.513894889592295, \"max\": 0.513894889592295}}}\u001b[0m\n",
      "\u001b[34m#metrics {\"StartTime\": 1674588513.4967399, \"EndTime\": 1674588513.4967568, \"Dimensions\": {\"Algorithm\": \"Linear Learner\", \"Host\": \"algo-1\", \"Operation\": \"training\", \"epoch\": 0, \"model\": 27}, \"Metrics\": {\"validation_binary_classification_cross_entropy_objective\": {\"sum\": 0.5138475566437178, \"count\": 1, \"min\": 0.5138475566437178, \"max\": 0.5138475566437178}}}\u001b[0m\n",
      "\u001b[34m#metrics {\"StartTime\": 1674588513.4968154, \"EndTime\": 1674588513.496832, \"Dimensions\": {\"Algorithm\": \"Linear Learner\", \"Host\": \"algo-1\", \"Operation\": \"training\", \"epoch\": 0, \"model\": 28}, \"Metrics\": {\"validation_binary_classification_cross_entropy_objective\": {\"sum\": 0.5139015385317999, \"count\": 1, \"min\": 0.5139015385317999, \"max\": 0.5139015385317999}}}\u001b[0m\n",
      "\u001b[34m#metrics {\"StartTime\": 1674588513.4968755, \"EndTime\": 1674588513.496891, \"Dimensions\": {\"Algorithm\": \"Linear Learner\", \"Host\": \"algo-1\", \"Operation\": \"training\", \"epoch\": 0, \"model\": 29}, \"Metrics\": {\"validation_binary_classification_cross_entropy_objective\": {\"sum\": 0.5141300275140226, \"count\": 1, \"min\": 0.5141300275140226, \"max\": 0.5141300275140226}}}\u001b[0m\n",
      "\u001b[34m#metrics {\"StartTime\": 1674588513.496946, \"EndTime\": 1674588513.496962, \"Dimensions\": {\"Algorithm\": \"Linear Learner\", \"Host\": \"algo-1\", \"Operation\": \"training\", \"epoch\": 0, \"model\": 30}, \"Metrics\": {\"validation_binary_classification_cross_entropy_objective\": {\"sum\": 0.5138755127895004, \"count\": 1, \"min\": 0.5138755127895004, \"max\": 0.5138755127895004}}}\u001b[0m\n",
      "\u001b[34m#metrics {\"StartTime\": 1674588513.497017, \"EndTime\": 1674588513.497035, \"Dimensions\": {\"Algorithm\": \"Linear Learner\", \"Host\": \"algo-1\", \"Operation\": \"training\", \"epoch\": 0, \"model\": 31}, \"Metrics\": {\"validation_binary_classification_cross_entropy_objective\": {\"sum\": 0.5139455758379334, \"count\": 1, \"min\": 0.5139455758379334, \"max\": 0.5139455758379334}}}\u001b[0m\n",
      "\u001b[34m[01/24/2023 19:28:33 INFO 140302672115520] #quality_metric: host=algo-1, epoch=0, validation binary_classification_cross_entropy_objective <loss>=0.4921706439541217\u001b[0m\n",
      "\u001b[34m[01/24/2023 19:28:33 INFO 140302672115520] #early_stopping_criteria_metric: host=algo-1, epoch=0, criteria=binary_classification_cross_entropy_objective, value=0.4921706439541217\u001b[0m\n",
      "\u001b[34m[01/24/2023 19:28:33 INFO 140302672115520] Epoch 0: Loss improved. Updating best model\u001b[0m\n",
      "\u001b[34m[01/24/2023 19:28:33 INFO 140302672115520] Saving model for epoch: 0\u001b[0m\n",
      "\u001b[34m[01/24/2023 19:28:33 INFO 140302672115520] Saved checkpoint to \"/tmp/tmpea2mdl77/mx-mod-0000.params\"\u001b[0m\n",
      "\u001b[34m[01/24/2023 19:28:33 INFO 140302672115520] #progress_metric: host=algo-1, completed 6.666666666666667 % of epochs\u001b[0m\n",
      "\u001b[34m#metrics {\"StartTime\": 1674588463.6083508, \"EndTime\": 1674588513.5052595, \"Dimensions\": {\"Algorithm\": \"Linear Learner\", \"Host\": \"algo-1\", \"Operation\": \"training\", \"epoch\": 0, \"Meta\": \"training_data_iter\"}, \"Metrics\": {\"Total Records Seen\": {\"sum\": 1320472.0, \"count\": 1, \"min\": 1320472, \"max\": 1320472}, \"Total Batches Seen\": {\"sum\": 1321.0, \"count\": 1, \"min\": 1321, \"max\": 1321}, \"Max Records Seen Between Resets\": {\"sum\": 1308472.0, \"count\": 1, \"min\": 1308472, \"max\": 1308472}, \"Max Batches Seen Between Resets\": {\"sum\": 1309.0, \"count\": 1, \"min\": 1309, \"max\": 1309}, \"Reset Count\": {\"sum\": 3.0, \"count\": 1, \"min\": 3, \"max\": 3}, \"Number of Records Since Last Reset\": {\"sum\": 1308472.0, \"count\": 1, \"min\": 1308472, \"max\": 1308472}, \"Number of Batches Since Last Reset\": {\"sum\": 1309.0, \"count\": 1, \"min\": 1309, \"max\": 1309}}}\u001b[0m\n",
      "\u001b[34m[01/24/2023 19:28:33 INFO 140302672115520] #throughput_metric: host=algo-1, train throughput=26223.427836179646 records/second\u001b[0m\n",
      "\u001b[34m[2023-01-24 19:29:18.643] [tensorio] [info] epoch_stats={\"data_pipeline\": \"/opt/ml/input/data/train\", \"epoch\": 5, \"duration\": 45137, \"num_examples\": 1309, \"num_bytes\": 549558240}\u001b[0m\n",
      "\u001b[34m#metrics {\"StartTime\": 1674588558.64341, \"EndTime\": 1674588558.643498, \"Dimensions\": {\"Algorithm\": \"Linear Learner\", \"Host\": \"algo-1\", \"Operation\": \"training\", \"epoch\": 1, \"model\": 0}, \"Metrics\": {\"train_binary_classification_cross_entropy_objective\": {\"sum\": 0.4921931681501756, \"count\": 1, \"min\": 0.4921931681501756, \"max\": 0.4921931681501756}}}\u001b[0m\n",
      "\u001b[34m#metrics {\"StartTime\": 1674588558.6435876, \"EndTime\": 1674588558.64361, \"Dimensions\": {\"Algorithm\": \"Linear Learner\", \"Host\": \"algo-1\", \"Operation\": \"training\", \"epoch\": 1, \"model\": 1}, \"Metrics\": {\"train_binary_classification_cross_entropy_objective\": {\"sum\": 0.4932044551044429, \"count\": 1, \"min\": 0.4932044551044429, \"max\": 0.4932044551044429}}}\u001b[0m\n",
      "\u001b[34m#metrics {\"StartTime\": 1674588558.643672, \"EndTime\": 1674588558.6436896, \"Dimensions\": {\"Algorithm\": \"Linear Learner\", \"Host\": \"algo-1\", \"Operation\": \"training\", \"epoch\": 1, \"model\": 2}, \"Metrics\": {\"train_binary_classification_cross_entropy_objective\": {\"sum\": 0.4922000211663202, \"count\": 1, \"min\": 0.4922000211663202, \"max\": 0.4922000211663202}}}\u001b[0m\n",
      "\u001b[34m#metrics {\"StartTime\": 1674588558.6437445, \"EndTime\": 1674588558.6437619, \"Dimensions\": {\"Algorithm\": \"Linear Learner\", \"Host\": \"algo-1\", \"Operation\": \"training\", \"epoch\": 1, \"model\": 3}, \"Metrics\": {\"train_binary_classification_cross_entropy_objective\": {\"sum\": 0.49320140775628046, \"count\": 1, \"min\": 0.49320140775628046, \"max\": 0.49320140775628046}}}\u001b[0m\n",
      "\u001b[34m#metrics {\"StartTime\": 1674588558.6438093, \"EndTime\": 1674588558.6438222, \"Dimensions\": {\"Algorithm\": \"Linear Learner\", \"Host\": \"algo-1\", \"Operation\": \"training\", \"epoch\": 1, \"model\": 4}, \"Metrics\": {\"train_binary_classification_cross_entropy_objective\": {\"sum\": 0.4963090775516055, \"count\": 1, \"min\": 0.4963090775516055, \"max\": 0.4963090775516055}}}\u001b[0m\n",
      "\u001b[34m#metrics {\"StartTime\": 1674588558.6438813, \"EndTime\": 1674588558.6438992, \"Dimensions\": {\"Algorithm\": \"Linear Learner\", \"Host\": \"algo-1\", \"Operation\": \"training\", \"epoch\": 1, \"model\": 5}, \"Metrics\": {\"train_binary_classification_cross_entropy_objective\": {\"sum\": 0.5145669689820083, \"count\": 1, \"min\": 0.5145669689820083, \"max\": 0.5145669689820083}}}\u001b[0m\n",
      "\u001b[34m#metrics {\"StartTime\": 1674588558.6439657, \"EndTime\": 1674588558.6439843, \"Dimensions\": {\"Algorithm\": \"Linear Learner\", \"Host\": \"algo-1\", \"Operation\": \"training\", \"epoch\": 1, \"model\": 6}, \"Metrics\": {\"train_binary_classification_cross_entropy_objective\": {\"sum\": 0.4963060718968009, \"count\": 1, \"min\": 0.4963060718968009, \"max\": 0.4963060718968009}}}\u001b[0m\n",
      "\u001b[34m#metrics {\"StartTime\": 1674588558.6440437, \"EndTime\": 1674588558.644062, \"Dimensions\": {\"Algorithm\": \"Linear Learner\", \"Host\": \"algo-1\", \"Operation\": \"training\", \"epoch\": 1, \"model\": 7}, \"Metrics\": {\"train_binary_classification_cross_entropy_objective\": {\"sum\": 0.5145817896991695, \"count\": 1, \"min\": 0.5145817896991695, \"max\": 0.5145817896991695}}}\u001b[0m\n",
      "\u001b[34m#metrics {\"StartTime\": 1674588558.6441185, \"EndTime\": 1674588558.6441324, \"Dimensions\": {\"Algorithm\": \"Linear Learner\", \"Host\": \"algo-1\", \"Operation\": \"training\", \"epoch\": 1, \"model\": 8}, \"Metrics\": {\"train_binary_classification_cross_entropy_objective\": {\"sum\": 0.49237563216649793, \"count\": 1, \"min\": 0.49237563216649793, \"max\": 0.49237563216649793}}}\u001b[0m\n",
      "\u001b[34m#metrics {\"StartTime\": 1674588558.6441913, \"EndTime\": 1674588558.6442091, \"Dimensions\": {\"Algorithm\": \"Linear Learner\", \"Host\": \"algo-1\", \"Operation\": \"training\", \"epoch\": 1, \"model\": 9}, \"Metrics\": {\"train_binary_classification_cross_entropy_objective\": {\"sum\": 0.4933401865594613, \"count\": 1, \"min\": 0.4933401865594613, \"max\": 0.4933401865594613}}}\u001b[0m\n",
      "\u001b[34m#metrics {\"StartTime\": 1674588558.6442597, \"EndTime\": 1674588558.6442764, \"Dimensions\": {\"Algorithm\": \"Linear Learner\", \"Host\": \"algo-1\", \"Operation\": \"training\", \"epoch\": 1, \"model\": 10}, \"Metrics\": {\"train_binary_classification_cross_entropy_objective\": {\"sum\": 0.49237499710689625, \"count\": 1, \"min\": 0.49237499710689625, \"max\": 0.49237499710689625}}}\u001b[0m\n",
      "\u001b[34m#metrics {\"StartTime\": 1674588558.6443403, \"EndTime\": 1674588558.6443589, \"Dimensions\": {\"Algorithm\": \"Linear Learner\", \"Host\": \"algo-1\", \"Operation\": \"training\", \"epoch\": 1, \"model\": 11}, \"Metrics\": {\"train_binary_classification_cross_entropy_objective\": {\"sum\": 0.4933401238677699, \"count\": 1, \"min\": 0.4933401238677699, \"max\": 0.4933401238677699}}}\u001b[0m\n",
      "\u001b[34m#metrics {\"StartTime\": 1674588558.644406, \"EndTime\": 1674588558.6444237, \"Dimensions\": {\"Algorithm\": \"Linear Learner\", \"Host\": \"algo-1\", \"Operation\": \"training\", \"epoch\": 1, \"model\": 12}, \"Metrics\": {\"train_binary_classification_cross_entropy_objective\": {\"sum\": 0.49621446351684195, \"count\": 1, \"min\": 0.49621446351684195, \"max\": 0.49621446351684195}}}\u001b[0m\n",
      "\u001b[34m#metrics {\"StartTime\": 1674588558.6444716, \"EndTime\": 1674588558.6444879, \"Dimensions\": {\"Algorithm\": \"Linear Learner\", \"Host\": \"algo-1\", \"Operation\": \"training\", \"epoch\": 1, \"model\": 13}, \"Metrics\": {\"train_binary_classification_cross_entropy_objective\": {\"sum\": 0.5132015326263708, \"count\": 1, \"min\": 0.5132015326263708, \"max\": 0.5132015326263708}}}\u001b[0m\n",
      "\u001b[34m#metrics {\"StartTime\": 1674588558.6445508, \"EndTime\": 1674588558.6445696, \"Dimensions\": {\"Algorithm\": \"Linear Learner\", \"Host\": \"algo-1\", \"Operation\": \"training\", \"epoch\": 1, \"model\": 14}, \"Metrics\": {\"train_binary_classification_cross_entropy_objective\": {\"sum\": 0.4962147565369212, \"count\": 1, \"min\": 0.4962147565369212, \"max\": 0.4962147565369212}}}\u001b[0m\n",
      "\u001b[34m#metrics {\"StartTime\": 1674588558.6446257, \"EndTime\": 1674588558.6446438, \"Dimensions\": {\"Algorithm\": \"Linear Learner\", \"Host\": \"algo-1\", \"Operation\": \"training\", \"epoch\": 1, \"model\": 15}, \"Metrics\": {\"train_binary_classification_cross_entropy_objective\": {\"sum\": 0.513213846072509, \"count\": 1, \"min\": 0.513213846072509, \"max\": 0.513213846072509}}}\u001b[0m\n",
      "\u001b[34m#metrics {\"StartTime\": 1674588558.6446922, \"EndTime\": 1674588558.6447096, \"Dimensions\": {\"Algorithm\": \"Linear Learner\", \"Host\": \"algo-1\", \"Operation\": \"training\", \"epoch\": 1, \"model\": 16}, \"Metrics\": {\"train_binary_classification_cross_entropy_objective\": {\"sum\": 0.5078097464185243, \"count\": 1, \"min\": 0.5078097464185243, \"max\": 0.5078097464185243}}}\u001b[0m\n",
      "\u001b[34m#metrics {\"StartTime\": 1674588558.644771, \"EndTime\": 1674588558.6447952, \"Dimensions\": {\"Algorithm\": \"Linear Learner\", \"Host\": \"algo-1\", \"Operation\": \"training\", \"epoch\": 1, \"model\": 17}, \"Metrics\": {\"train_binary_classification_cross_entropy_objective\": {\"sum\": 0.5080378748342531, \"count\": 1, \"min\": 0.5080378748342531, \"max\": 0.5080378748342531}}}\u001b[0m\n",
      "\u001b[34m#metrics {\"StartTime\": 1674588558.6448448, \"EndTime\": 1674588558.6448612, \"Dimensions\": {\"Algorithm\": \"Linear Learner\", \"Host\": \"algo-1\", \"Operation\": \"training\", \"epoch\": 1, \"model\": 18}, \"Metrics\": {\"train_binary_classification_cross_entropy_objective\": {\"sum\": 0.5078098690721238, \"count\": 1, \"min\": 0.5078098690721238, \"max\": 0.5078098690721238}}}\u001b[0m\n",
      "\u001b[34m#metrics {\"StartTime\": 1674588558.6449184, \"EndTime\": 1674588558.6449354, \"Dimensions\": {\"Algorithm\": \"Linear Learner\", \"Host\": \"algo-1\", \"Operation\": \"training\", \"epoch\": 1, \"model\": 19}, \"Metrics\": {\"train_binary_classification_cross_entropy_objective\": {\"sum\": 0.5080380311318494, \"count\": 1, \"min\": 0.5080380311318494, \"max\": 0.5080380311318494}}}\u001b[0m\n",
      "\u001b[34m#metrics {\"StartTime\": 1674588558.6449866, \"EndTime\": 1674588558.645013, \"Dimensions\": {\"Algorithm\": \"Linear Learner\", \"Host\": \"algo-1\", \"Operation\": \"training\", \"epoch\": 1, \"model\": 20}, \"Metrics\": {\"train_binary_classification_cross_entropy_objective\": {\"sum\": 0.5085912560512531, \"count\": 1, \"min\": 0.5085912560512531, \"max\": 0.5085912560512531}}}\u001b[0m\n",
      "\u001b[34m#metrics {\"StartTime\": 1674588558.6450677, \"EndTime\": 1674588558.6450837, \"Dimensions\": {\"Algorithm\": \"Linear Learner\", \"Host\": \"algo-1\", \"Operation\": \"training\", \"epoch\": 1, \"model\": 21}, \"Metrics\": {\"train_binary_classification_cross_entropy_objective\": {\"sum\": 0.5115288479306282, \"count\": 1, \"min\": 0.5115288479306282, \"max\": 0.5115288479306282}}}\u001b[0m\n",
      "\u001b[34m#metrics {\"StartTime\": 1674588558.645135, \"EndTime\": 1674588558.6451533, \"Dimensions\": {\"Algorithm\": \"Linear Learner\", \"Host\": \"algo-1\", \"Operation\": \"training\", \"epoch\": 1, \"model\": 22}, \"Metrics\": {\"train_binary_classification_cross_entropy_objective\": {\"sum\": 0.5085910728991214, \"count\": 1, \"min\": 0.5085910728991214, \"max\": 0.5085910728991214}}}\u001b[0m\n",
      "\u001b[34m#metrics {\"StartTime\": 1674588558.645205, \"EndTime\": 1674588558.645222, \"Dimensions\": {\"Algorithm\": \"Linear Learner\", \"Host\": \"algo-1\", \"Operation\": \"training\", \"epoch\": 1, \"model\": 23}, \"Metrics\": {\"train_binary_classification_cross_entropy_objective\": {\"sum\": 0.5115289320872829, \"count\": 1, \"min\": 0.5115289320872829, \"max\": 0.5115289320872829}}}\u001b[0m\n",
      "\u001b[34m#metrics {\"StartTime\": 1674588558.64528, \"EndTime\": 1674588558.6452966, \"Dimensions\": {\"Algorithm\": \"Linear Learner\", \"Host\": \"algo-1\", \"Operation\": \"training\", \"epoch\": 1, \"model\": 24}, \"Metrics\": {\"train_binary_classification_cross_entropy_objective\": {\"sum\": 0.5137681389438268, \"count\": 1, \"min\": 0.5137681389438268, \"max\": 0.5137681389438268}}}\u001b[0m\n",
      "\u001b[34m#metrics {\"StartTime\": 1674588558.6453474, \"EndTime\": 1674588558.645364, \"Dimensions\": {\"Algorithm\": \"Linear Learner\", \"Host\": \"algo-1\", \"Operation\": \"training\", \"epoch\": 1, \"model\": 25}, \"Metrics\": {\"train_binary_classification_cross_entropy_objective\": {\"sum\": 0.513831813357292, \"count\": 1, \"min\": 0.513831813357292, \"max\": 0.513831813357292}}}\u001b[0m\n",
      "\u001b[34m#metrics {\"StartTime\": 1674588558.6454134, \"EndTime\": 1674588558.6454306, \"Dimensions\": {\"Algorithm\": \"Linear Learner\", \"Host\": \"algo-1\", \"Operation\": \"training\", \"epoch\": 1, \"model\": 26}, \"Metrics\": {\"train_binary_classification_cross_entropy_objective\": {\"sum\": 0.5137686120129507, \"count\": 1, \"min\": 0.5137686120129507, \"max\": 0.5137686120129507}}}\u001b[0m\n",
      "\u001b[34m#metrics {\"StartTime\": 1674588558.6454787, \"EndTime\": 1674588558.6454945, \"Dimensions\": {\"Algorithm\": \"Linear Learner\", \"Host\": \"algo-1\", \"Operation\": \"training\", \"epoch\": 1, \"model\": 27}, \"Metrics\": {\"train_binary_classification_cross_entropy_objective\": {\"sum\": 0.5138318928243188, \"count\": 1, \"min\": 0.5138318928243188, \"max\": 0.5138318928243188}}}\u001b[0m\n",
      "\u001b[34m#metrics {\"StartTime\": 1674588558.645545, \"EndTime\": 1674588558.6455626, \"Dimensions\": {\"Algorithm\": \"Linear Learner\", \"Host\": \"algo-1\", \"Operation\": \"training\", \"epoch\": 1, \"model\": 28}, \"Metrics\": {\"train_binary_classification_cross_entropy_objective\": {\"sum\": 0.5140293974803493, \"count\": 1, \"min\": 0.5140293974803493, \"max\": 0.5140293974803493}}}\u001b[0m\n",
      "\u001b[34m#metrics {\"StartTime\": 1674588558.6456096, \"EndTime\": 1674588558.645626, \"Dimensions\": {\"Algorithm\": \"Linear Learner\", \"Host\": \"algo-1\", \"Operation\": \"training\", \"epoch\": 1, \"model\": 29}, \"Metrics\": {\"train_binary_classification_cross_entropy_objective\": {\"sum\": 0.5151340853256552, \"count\": 1, \"min\": 0.5151340853256552, \"max\": 0.5151340853256552}}}\u001b[0m\n",
      "\u001b[34m#metrics {\"StartTime\": 1674588558.6456764, \"EndTime\": 1674588558.6456935, \"Dimensions\": {\"Algorithm\": \"Linear Learner\", \"Host\": \"algo-1\", \"Operation\": \"training\", \"epoch\": 1, \"model\": 30}, \"Metrics\": {\"train_binary_classification_cross_entropy_objective\": {\"sum\": 0.5140293929307104, \"count\": 1, \"min\": 0.5140293929307104, \"max\": 0.5140293929307104}}}\u001b[0m\n",
      "\u001b[34m#metrics {\"StartTime\": 1674588558.645751, \"EndTime\": 1674588558.6457686, \"Dimensions\": {\"Algorithm\": \"Linear Learner\", \"Host\": \"algo-1\", \"Operation\": \"training\", \"epoch\": 1, \"model\": 31}, \"Metrics\": {\"train_binary_classification_cross_entropy_objective\": {\"sum\": 0.5151312925472901, \"count\": 1, \"min\": 0.5151312925472901, \"max\": 0.5151312925472901}}}\u001b[0m\n",
      "\u001b[34m[01/24/2023 19:29:18 INFO 140302672115520] #quality_metric: host=algo-1, epoch=1, train binary_classification_cross_entropy_objective <loss>=0.4921931681501756\u001b[0m\n",
      "\u001b[34m[2023-01-24 19:29:22.883] [tensorio] [info] epoch_stats={\"data_pipeline\": \"/opt/ml/input/data/validation\", \"epoch\": 5, \"duration\": 4210, \"num_examples\": 164, \"num_bytes\": 68694780}\u001b[0m\n",
      "\u001b[34m#metrics {\"StartTime\": 1674588562.8919654, \"EndTime\": 1674588562.892021, \"Dimensions\": {\"Algorithm\": \"Linear Learner\", \"Host\": \"algo-1\", \"Operation\": \"training\", \"epoch\": 1, \"model\": 0}, \"Metrics\": {\"validation_binary_classification_cross_entropy_objective\": {\"sum\": 0.4918540647798241, \"count\": 1, \"min\": 0.4918540647798241, \"max\": 0.4918540647798241}}}\u001b[0m\n",
      "\u001b[34m#metrics {\"StartTime\": 1674588562.8921084, \"EndTime\": 1674588562.8921323, \"Dimensions\": {\"Algorithm\": \"Linear Learner\", \"Host\": \"algo-1\", \"Operation\": \"training\", \"epoch\": 1, \"model\": 1}, \"Metrics\": {\"validation_binary_classification_cross_entropy_objective\": {\"sum\": 0.4926937903882353, \"count\": 1, \"min\": 0.4926937903882353, \"max\": 0.4926937903882353}}}\u001b[0m\n",
      "\u001b[34m#metrics {\"StartTime\": 1674588562.8922005, \"EndTime\": 1674588562.8922215, \"Dimensions\": {\"Algorithm\": \"Linear Learner\", \"Host\": \"algo-1\", \"Operation\": \"training\", \"epoch\": 1, \"model\": 2}, \"Metrics\": {\"validation_binary_classification_cross_entropy_objective\": {\"sum\": 0.4918583530519341, \"count\": 1, \"min\": 0.4918583530519341, \"max\": 0.4918583530519341}}}\u001b[0m\n",
      "\u001b[34m#metrics {\"StartTime\": 1674588562.8922827, \"EndTime\": 1674588562.8923023, \"Dimensions\": {\"Algorithm\": \"Linear Learner\", \"Host\": \"algo-1\", \"Operation\": \"training\", \"epoch\": 1, \"model\": 3}, \"Metrics\": {\"validation_binary_classification_cross_entropy_objective\": {\"sum\": 0.4926929944186568, \"count\": 1, \"min\": 0.4926929944186568, \"max\": 0.4926929944186568}}}\u001b[0m\n",
      "\u001b[34m#metrics {\"StartTime\": 1674588562.8923614, \"EndTime\": 1674588562.8923805, \"Dimensions\": {\"Algorithm\": \"Linear Learner\", \"Host\": \"algo-1\", \"Operation\": \"training\", \"epoch\": 1, \"model\": 4}, \"Metrics\": {\"validation_binary_classification_cross_entropy_objective\": {\"sum\": 0.4940287776535579, \"count\": 1, \"min\": 0.4940287776535579, \"max\": 0.4940287776535579}}}\u001b[0m\n",
      "\u001b[34m#metrics {\"StartTime\": 1674588562.892436, \"EndTime\": 1674588562.892454, \"Dimensions\": {\"Algorithm\": \"Linear Learner\", \"Host\": \"algo-1\", \"Operation\": \"training\", \"epoch\": 1, \"model\": 5}, \"Metrics\": {\"validation_binary_classification_cross_entropy_objective\": {\"sum\": 0.5116954263747738, \"count\": 1, \"min\": 0.5116954263747738, \"max\": 0.5116954263747738}}}\u001b[0m\n",
      "\u001b[34m#metrics {\"StartTime\": 1674588562.8925095, \"EndTime\": 1674588562.8925278, \"Dimensions\": {\"Algorithm\": \"Linear Learner\", \"Host\": \"algo-1\", \"Operation\": \"training\", \"epoch\": 1, \"model\": 6}, \"Metrics\": {\"validation_binary_classification_cross_entropy_objective\": {\"sum\": 0.49402845486233177, \"count\": 1, \"min\": 0.49402845486233177, \"max\": 0.49402845486233177}}}\u001b[0m\n",
      "\u001b[34m#metrics {\"StartTime\": 1674588562.8925796, \"EndTime\": 1674588562.8925984, \"Dimensions\": {\"Algorithm\": \"Linear Learner\", \"Host\": \"algo-1\", \"Operation\": \"training\", \"epoch\": 1, \"model\": 7}, \"Metrics\": {\"validation_binary_classification_cross_entropy_objective\": {\"sum\": 0.5116968265050403, \"count\": 1, \"min\": 0.5116968265050403, \"max\": 0.5116968265050403}}}\u001b[0m\n",
      "\u001b[34m#metrics {\"StartTime\": 1674588562.892663, \"EndTime\": 1674588562.8926802, \"Dimensions\": {\"Algorithm\": \"Linear Learner\", \"Host\": \"algo-1\", \"Operation\": \"training\", \"epoch\": 1, \"model\": 8}, \"Metrics\": {\"validation_binary_classification_cross_entropy_objective\": {\"sum\": 0.4920895671944189, \"count\": 1, \"min\": 0.4920895671944189, \"max\": 0.4920895671944189}}}\u001b[0m\n",
      "\u001b[34m#metrics {\"StartTime\": 1674588562.892734, \"EndTime\": 1674588562.892752, \"Dimensions\": {\"Algorithm\": \"Linear Learner\", \"Host\": \"algo-1\", \"Operation\": \"training\", \"epoch\": 1, \"model\": 9}, \"Metrics\": {\"validation_binary_classification_cross_entropy_objective\": {\"sum\": 0.492848435746404, \"count\": 1, \"min\": 0.492848435746404, \"max\": 0.492848435746404}}}\u001b[0m\n",
      "\u001b[34m#metrics {\"StartTime\": 1674588562.8928084, \"EndTime\": 1674588562.892826, \"Dimensions\": {\"Algorithm\": \"Linear Learner\", \"Host\": \"algo-1\", \"Operation\": \"training\", \"epoch\": 1, \"model\": 10}, \"Metrics\": {\"validation_binary_classification_cross_entropy_objective\": {\"sum\": 0.49208916155966415, \"count\": 1, \"min\": 0.49208916155966415, \"max\": 0.49208916155966415}}}\u001b[0m\n",
      "\u001b[34m#metrics {\"StartTime\": 1674588562.892887, \"EndTime\": 1674588562.892905, \"Dimensions\": {\"Algorithm\": \"Linear Learner\", \"Host\": \"algo-1\", \"Operation\": \"training\", \"epoch\": 1, \"model\": 11}, \"Metrics\": {\"validation_binary_classification_cross_entropy_objective\": {\"sum\": 0.49284827332457604, \"count\": 1, \"min\": 0.49284827332457604, \"max\": 0.49284827332457604}}}\u001b[0m\n",
      "\u001b[34m#metrics {\"StartTime\": 1674588562.8929598, \"EndTime\": 1674588562.8929777, \"Dimensions\": {\"Algorithm\": \"Linear Learner\", \"Host\": \"algo-1\", \"Operation\": \"training\", \"epoch\": 1, \"model\": 12}, \"Metrics\": {\"validation_binary_classification_cross_entropy_objective\": {\"sum\": 0.4940995040099731, \"count\": 1, \"min\": 0.4940995040099731, \"max\": 0.4940995040099731}}}\u001b[0m\n",
      "\u001b[34m#metrics {\"StartTime\": 1674588562.8930352, \"EndTime\": 1674588562.8930552, \"Dimensions\": {\"Algorithm\": \"Linear Learner\", \"Host\": \"algo-1\", \"Operation\": \"training\", \"epoch\": 1, \"model\": 13}, \"Metrics\": {\"validation_binary_classification_cross_entropy_objective\": {\"sum\": 0.5094967740535932, \"count\": 1, \"min\": 0.5094967740535932, \"max\": 0.5094967740535932}}}\u001b[0m\n",
      "\u001b[34m#metrics {\"StartTime\": 1674588562.8931124, \"EndTime\": 1674588562.893131, \"Dimensions\": {\"Algorithm\": \"Linear Learner\", \"Host\": \"algo-1\", \"Operation\": \"training\", \"epoch\": 1, \"model\": 14}, \"Metrics\": {\"validation_binary_classification_cross_entropy_objective\": {\"sum\": 0.4940999527457528, \"count\": 1, \"min\": 0.4940999527457528, \"max\": 0.4940999527457528}}}\u001b[0m\n",
      "\u001b[34m#metrics {\"StartTime\": 1674588562.8931897, \"EndTime\": 1674588562.8932083, \"Dimensions\": {\"Algorithm\": \"Linear Learner\", \"Host\": \"algo-1\", \"Operation\": \"training\", \"epoch\": 1, \"model\": 15}, \"Metrics\": {\"validation_binary_classification_cross_entropy_objective\": {\"sum\": 0.5095013491061162, \"count\": 1, \"min\": 0.5095013491061162, \"max\": 0.5095013491061162}}}\u001b[0m\n",
      "\u001b[34m#metrics {\"StartTime\": 1674588562.8932626, \"EndTime\": 1674588562.89328, \"Dimensions\": {\"Algorithm\": \"Linear Learner\", \"Host\": \"algo-1\", \"Operation\": \"training\", \"epoch\": 1, \"model\": 16}, \"Metrics\": {\"validation_binary_classification_cross_entropy_objective\": {\"sum\": 0.5078266891932799, \"count\": 1, \"min\": 0.5078266891932799, \"max\": 0.5078266891932799}}}\u001b[0m\n",
      "\u001b[34m#metrics {\"StartTime\": 1674588562.8933492, \"EndTime\": 1674588562.893368, \"Dimensions\": {\"Algorithm\": \"Linear Learner\", \"Host\": \"algo-1\", \"Operation\": \"training\", \"epoch\": 1, \"model\": 17}, \"Metrics\": {\"validation_binary_classification_cross_entropy_objective\": {\"sum\": 0.5075199302423457, \"count\": 1, \"min\": 0.5075199302423457, \"max\": 0.5075199302423457}}}\u001b[0m\n",
      "\u001b[34m#metrics {\"StartTime\": 1674588562.89344, \"EndTime\": 1674588562.8934584, \"Dimensions\": {\"Algorithm\": \"Linear Learner\", \"Host\": \"algo-1\", \"Operation\": \"training\", \"epoch\": 1, \"model\": 18}, \"Metrics\": {\"validation_binary_classification_cross_entropy_objective\": {\"sum\": 0.5078263460643407, \"count\": 1, \"min\": 0.5078263460643407, \"max\": 0.5078263460643407}}}\u001b[0m\n",
      "\u001b[34m#metrics {\"StartTime\": 1674588562.893525, \"EndTime\": 1674588562.8935442, \"Dimensions\": {\"Algorithm\": \"Linear Learner\", \"Host\": \"algo-1\", \"Operation\": \"training\", \"epoch\": 1, \"model\": 19}, \"Metrics\": {\"validation_binary_classification_cross_entropy_objective\": {\"sum\": 0.5075169685861997, \"count\": 1, \"min\": 0.5075169685861997, \"max\": 0.5075169685861997}}}\u001b[0m\n",
      "\u001b[34m#metrics {\"StartTime\": 1674588562.8936129, \"EndTime\": 1674588562.893632, \"Dimensions\": {\"Algorithm\": \"Linear Learner\", \"Host\": \"algo-1\", \"Operation\": \"training\", \"epoch\": 1, \"model\": 20}, \"Metrics\": {\"validation_binary_classification_cross_entropy_objective\": {\"sum\": 0.5078785466299742, \"count\": 1, \"min\": 0.5078785466299742, \"max\": 0.5078785466299742}}}\u001b[0m\n",
      "\u001b[34m#metrics {\"StartTime\": 1674588562.8936992, \"EndTime\": 1674588562.8937182, \"Dimensions\": {\"Algorithm\": \"Linear Learner\", \"Host\": \"algo-1\", \"Operation\": \"training\", \"epoch\": 1, \"model\": 21}, \"Metrics\": {\"validation_binary_classification_cross_entropy_objective\": {\"sum\": 0.5107516296098259, \"count\": 1, \"min\": 0.5107516296098259, \"max\": 0.5107516296098259}}}\u001b[0m\n",
      "\u001b[34m#metrics {\"StartTime\": 1674588562.893786, \"EndTime\": 1674588562.8938053, \"Dimensions\": {\"Algorithm\": \"Linear Learner\", \"Host\": \"algo-1\", \"Operation\": \"training\", \"epoch\": 1, \"model\": 22}, \"Metrics\": {\"validation_binary_classification_cross_entropy_objective\": {\"sum\": 0.5078783229151302, \"count\": 1, \"min\": 0.5078783229151302, \"max\": 0.5078783229151302}}}\u001b[0m\n",
      "\u001b[34m#metrics {\"StartTime\": 1674588562.893875, \"EndTime\": 1674588562.893894, \"Dimensions\": {\"Algorithm\": \"Linear Learner\", \"Host\": \"algo-1\", \"Operation\": \"training\", \"epoch\": 1, \"model\": 23}, \"Metrics\": {\"validation_binary_classification_cross_entropy_objective\": {\"sum\": 0.5107549470826587, \"count\": 1, \"min\": 0.5107549470826587, \"max\": 0.5107549470826587}}}\u001b[0m\n",
      "\u001b[34m#metrics {\"StartTime\": 1674588562.8939629, \"EndTime\": 1674588562.8939824, \"Dimensions\": {\"Algorithm\": \"Linear Learner\", \"Host\": \"algo-1\", \"Operation\": \"training\", \"epoch\": 1, \"model\": 24}, \"Metrics\": {\"validation_binary_classification_cross_entropy_objective\": {\"sum\": 0.5137679891662279, \"count\": 1, \"min\": 0.5137679891662279, \"max\": 0.5137679891662279}}}\u001b[0m\n",
      "\u001b[34m#metrics {\"StartTime\": 1674588562.8940492, \"EndTime\": 1674588562.8940682, \"Dimensions\": {\"Algorithm\": \"Linear Learner\", \"Host\": \"algo-1\", \"Operation\": \"training\", \"epoch\": 1, \"model\": 25}, \"Metrics\": {\"validation_binary_classification_cross_entropy_objective\": {\"sum\": 0.5138829862460159, \"count\": 1, \"min\": 0.5138829862460159, \"max\": 0.5138829862460159}}}\u001b[0m\n",
      "\u001b[34m#metrics {\"StartTime\": 1674588562.8941364, \"EndTime\": 1674588562.8941553, \"Dimensions\": {\"Algorithm\": \"Linear Learner\", \"Host\": \"algo-1\", \"Operation\": \"training\", \"epoch\": 1, \"model\": 26}, \"Metrics\": {\"validation_binary_classification_cross_entropy_objective\": {\"sum\": 0.5137657316800747, \"count\": 1, \"min\": 0.5137657316800747, \"max\": 0.5137657316800747}}}\u001b[0m\n",
      "\u001b[34m#metrics {\"StartTime\": 1674588562.894228, \"EndTime\": 1674588562.8942468, \"Dimensions\": {\"Algorithm\": \"Linear Learner\", \"Host\": \"algo-1\", \"Operation\": \"training\", \"epoch\": 1, \"model\": 27}, \"Metrics\": {\"validation_binary_classification_cross_entropy_objective\": {\"sum\": 0.5138862695738808, \"count\": 1, \"min\": 0.5138862695738808, \"max\": 0.5138862695738808}}}\u001b[0m\n",
      "\u001b[34m#metrics {\"StartTime\": 1674588562.894314, \"EndTime\": 1674588562.8943334, \"Dimensions\": {\"Algorithm\": \"Linear Learner\", \"Host\": \"algo-1\", \"Operation\": \"training\", \"epoch\": 1, \"model\": 28}, \"Metrics\": {\"validation_binary_classification_cross_entropy_objective\": {\"sum\": 0.5141953046694208, \"count\": 1, \"min\": 0.5141953046694208, \"max\": 0.5141953046694208}}}\u001b[0m\n",
      "\u001b[34m#metrics {\"StartTime\": 1674588562.8944023, \"EndTime\": 1674588562.8944225, \"Dimensions\": {\"Algorithm\": \"Linear Learner\", \"Host\": \"algo-1\", \"Operation\": \"training\", \"epoch\": 1, \"model\": 29}, \"Metrics\": {\"validation_binary_classification_cross_entropy_objective\": {\"sum\": 0.5138876844443246, \"count\": 1, \"min\": 0.5138876844443246, \"max\": 0.5138876844443246}}}\u001b[0m\n",
      "\u001b[34m#metrics {\"StartTime\": 1674588562.8944952, \"EndTime\": 1674588562.8945131, \"Dimensions\": {\"Algorithm\": \"Linear Learner\", \"Host\": \"algo-1\", \"Operation\": \"training\", \"epoch\": 1, \"model\": 30}, \"Metrics\": {\"validation_binary_classification_cross_entropy_objective\": {\"sum\": 0.5141991417801522, \"count\": 1, \"min\": 0.5141991417801522, \"max\": 0.5141991417801522}}}\u001b[0m\n",
      "\u001b[34m#metrics {\"StartTime\": 1674588562.8945777, \"EndTime\": 1674588562.8945966, \"Dimensions\": {\"Algorithm\": \"Linear Learner\", \"Host\": \"algo-1\", \"Operation\": \"training\", \"epoch\": 1, \"model\": 31}, \"Metrics\": {\"validation_binary_classification_cross_entropy_objective\": {\"sum\": 0.5138904287295004, \"count\": 1, \"min\": 0.5138904287295004, \"max\": 0.5138904287295004}}}\u001b[0m\n",
      "\u001b[34m[01/24/2023 19:29:22 INFO 140302672115520] #quality_metric: host=algo-1, epoch=1, validation binary_classification_cross_entropy_objective <loss>=0.4918540647798241\u001b[0m\n",
      "\u001b[34m[01/24/2023 19:29:22 INFO 140302672115520] #early_stopping_criteria_metric: host=algo-1, epoch=1, criteria=binary_classification_cross_entropy_objective, value=0.4918540647798241\u001b[0m\n",
      "\u001b[34m[01/24/2023 19:29:22 INFO 140302672115520] Saving model for epoch: 1\u001b[0m\n",
      "\u001b[34m[01/24/2023 19:29:22 INFO 140302672115520] Saved checkpoint to \"/tmp/tmpaka_35md/mx-mod-0000.params\"\u001b[0m\n",
      "\u001b[34m[01/24/2023 19:29:22 INFO 140302672115520] #progress_metric: host=algo-1, completed 13.333333333333334 % of epochs\u001b[0m\n",
      "\u001b[34m#metrics {\"StartTime\": 1674588513.5057304, \"EndTime\": 1674588562.9010139, \"Dimensions\": {\"Algorithm\": \"Linear Learner\", \"Host\": \"algo-1\", \"Operation\": \"training\", \"epoch\": 1, \"Meta\": \"training_data_iter\"}, \"Metrics\": {\"Total Records Seen\": {\"sum\": 2628944.0, \"count\": 1, \"min\": 2628944, \"max\": 2628944}, \"Total Batches Seen\": {\"sum\": 2630.0, \"count\": 1, \"min\": 2630, \"max\": 2630}, \"Max Records Seen Between Resets\": {\"sum\": 1308472.0, \"count\": 1, \"min\": 1308472, \"max\": 1308472}, \"Max Batches Seen Between Resets\": {\"sum\": 1309.0, \"count\": 1, \"min\": 1309, \"max\": 1309}, \"Reset Count\": {\"sum\": 4.0, \"count\": 1, \"min\": 4, \"max\": 4}, \"Number of Records Since Last Reset\": {\"sum\": 1308472.0, \"count\": 1, \"min\": 1308472, \"max\": 1308472}, \"Number of Batches Since Last Reset\": {\"sum\": 1309.0, \"count\": 1, \"min\": 1309, \"max\": 1309}}}\u001b[0m\n",
      "\u001b[34m[01/24/2023 19:29:22 INFO 140302672115520] #throughput_metric: host=algo-1, train throughput=26489.748455492925 records/second\u001b[0m\n",
      "\u001b[34m[2023-01-24 19:30:11.658] [tensorio] [info] epoch_stats={\"data_pipeline\": \"/opt/ml/input/data/train\", \"epoch\": 7, \"duration\": 48754, \"num_examples\": 1309, \"num_bytes\": 549558240}\u001b[0m\n",
      "\u001b[34m#metrics {\"StartTime\": 1674588611.6582024, \"EndTime\": 1674588611.6582868, \"Dimensions\": {\"Algorithm\": \"Linear Learner\", \"Host\": \"algo-1\", \"Operation\": \"training\", \"epoch\": 2, \"model\": 0}, \"Metrics\": {\"train_binary_classification_cross_entropy_objective\": {\"sum\": 0.49201701219657873, \"count\": 1, \"min\": 0.49201701219657873, \"max\": 0.49201701219657873}}}\u001b[0m\n",
      "\u001b[34m#metrics {\"StartTime\": 1674588611.6583614, \"EndTime\": 1674588611.6583765, \"Dimensions\": {\"Algorithm\": \"Linear Learner\", \"Host\": \"algo-1\", \"Operation\": \"training\", \"epoch\": 2, \"model\": 1}, \"Metrics\": {\"train_binary_classification_cross_entropy_objective\": {\"sum\": 0.49305757075785134, \"count\": 1, \"min\": 0.49305757075785134, \"max\": 0.49305757075785134}}}\u001b[0m\n",
      "\u001b[34m#metrics {\"StartTime\": 1674588611.6584275, \"EndTime\": 1674588611.6584444, \"Dimensions\": {\"Algorithm\": \"Linear Learner\", \"Host\": \"algo-1\", \"Operation\": \"training\", \"epoch\": 2, \"model\": 2}, \"Metrics\": {\"train_binary_classification_cross_entropy_objective\": {\"sum\": 0.4920233888071976, \"count\": 1, \"min\": 0.4920233888071976, \"max\": 0.4920233888071976}}}\u001b[0m\n",
      "\u001b[34m#metrics {\"StartTime\": 1674588611.6584914, \"EndTime\": 1674588611.6585028, \"Dimensions\": {\"Algorithm\": \"Linear Learner\", \"Host\": \"algo-1\", \"Operation\": \"training\", \"epoch\": 2, \"model\": 3}, \"Metrics\": {\"train_binary_classification_cross_entropy_objective\": {\"sum\": 0.493056510295343, \"count\": 1, \"min\": 0.493056510295343, \"max\": 0.493056510295343}}}\u001b[0m\n",
      "\u001b[34m#metrics {\"StartTime\": 1674588611.658558, \"EndTime\": 1674588611.6585746, \"Dimensions\": {\"Algorithm\": \"Linear Learner\", \"Host\": \"algo-1\", \"Operation\": \"training\", \"epoch\": 2, \"model\": 4}, \"Metrics\": {\"train_binary_classification_cross_entropy_objective\": {\"sum\": 0.49315325465771037, \"count\": 1, \"min\": 0.49315325465771037, \"max\": 0.49315325465771037}}}\u001b[0m\n",
      "\u001b[34m#metrics {\"StartTime\": 1674588611.6586375, \"EndTime\": 1674588611.6586795, \"Dimensions\": {\"Algorithm\": \"Linear Learner\", \"Host\": \"algo-1\", \"Operation\": \"training\", \"epoch\": 2, \"model\": 5}, \"Metrics\": {\"train_binary_classification_cross_entropy_objective\": {\"sum\": 0.512002655472595, \"count\": 1, \"min\": 0.512002655472595, \"max\": 0.512002655472595}}}\u001b[0m\n",
      "\u001b[34m#metrics {\"StartTime\": 1674588611.6587505, \"EndTime\": 1674588611.6587687, \"Dimensions\": {\"Algorithm\": \"Linear Learner\", \"Host\": \"algo-1\", \"Operation\": \"training\", \"epoch\": 2, \"model\": 6}, \"Metrics\": {\"train_binary_classification_cross_entropy_objective\": {\"sum\": 0.4931532553576548, \"count\": 1, \"min\": 0.4931532553576548, \"max\": 0.4931532553576548}}}\u001b[0m\n",
      "\u001b[34m#metrics {\"StartTime\": 1674588611.658836, \"EndTime\": 1674588611.6588562, \"Dimensions\": {\"Algorithm\": \"Linear Learner\", \"Host\": \"algo-1\", \"Operation\": \"training\", \"epoch\": 2, \"model\": 7}, \"Metrics\": {\"train_binary_classification_cross_entropy_objective\": {\"sum\": 0.5120100940156056, \"count\": 1, \"min\": 0.5120100940156056, \"max\": 0.5120100940156056}}}\u001b[0m\n",
      "\u001b[34m#metrics {\"StartTime\": 1674588611.6589236, \"EndTime\": 1674588611.658942, \"Dimensions\": {\"Algorithm\": \"Linear Learner\", \"Host\": \"algo-1\", \"Operation\": \"training\", \"epoch\": 2, \"model\": 8}, \"Metrics\": {\"train_binary_classification_cross_entropy_objective\": {\"sum\": 0.49221481631217745, \"count\": 1, \"min\": 0.49221481631217745, \"max\": 0.49221481631217745}}}\u001b[0m\n",
      "\u001b[34m#metrics {\"StartTime\": 1674588611.6590018, \"EndTime\": 1674588611.6590183, \"Dimensions\": {\"Algorithm\": \"Linear Learner\", \"Host\": \"algo-1\", \"Operation\": \"training\", \"epoch\": 2, \"model\": 9}, \"Metrics\": {\"train_binary_classification_cross_entropy_objective\": {\"sum\": 0.49321044938207037, \"count\": 1, \"min\": 0.49321044938207037, \"max\": 0.49321044938207037}}}\u001b[0m\n",
      "\u001b[34m#metrics {\"StartTime\": 1674588611.659078, \"EndTime\": 1674588611.6590943, \"Dimensions\": {\"Algorithm\": \"Linear Learner\", \"Host\": \"algo-1\", \"Operation\": \"training\", \"epoch\": 2, \"model\": 10}, \"Metrics\": {\"train_binary_classification_cross_entropy_objective\": {\"sum\": 0.4922144701429828, \"count\": 1, \"min\": 0.4922144701429828, \"max\": 0.4922144701429828}}}\u001b[0m\n",
      "\u001b[34m#metrics {\"StartTime\": 1674588611.6591554, \"EndTime\": 1674588611.6591728, \"Dimensions\": {\"Algorithm\": \"Linear Learner\", \"Host\": \"algo-1\", \"Operation\": \"training\", \"epoch\": 2, \"model\": 11}, \"Metrics\": {\"train_binary_classification_cross_entropy_objective\": {\"sum\": 0.4932104227608497, \"count\": 1, \"min\": 0.4932104227608497, \"max\": 0.4932104227608497}}}\u001b[0m\n",
      "\u001b[34m#metrics {\"StartTime\": 1674588611.6592314, \"EndTime\": 1674588611.6592493, \"Dimensions\": {\"Algorithm\": \"Linear Learner\", \"Host\": \"algo-1\", \"Operation\": \"training\", \"epoch\": 2, \"model\": 12}, \"Metrics\": {\"train_binary_classification_cross_entropy_objective\": {\"sum\": 0.49330397983282714, \"count\": 1, \"min\": 0.49330397983282714, \"max\": 0.49330397983282714}}}\u001b[0m\n",
      "\u001b[34m#metrics {\"StartTime\": 1674588611.6593068, \"EndTime\": 1674588611.659324, \"Dimensions\": {\"Algorithm\": \"Linear Learner\", \"Host\": \"algo-1\", \"Operation\": \"training\", \"epoch\": 2, \"model\": 13}, \"Metrics\": {\"train_binary_classification_cross_entropy_objective\": {\"sum\": 0.5107745805559537, \"count\": 1, \"min\": 0.5107745805559537, \"max\": 0.5107745805559537}}}\u001b[0m\n",
      "\u001b[34m#metrics {\"StartTime\": 1674588611.6593876, \"EndTime\": 1674588611.6594071, \"Dimensions\": {\"Algorithm\": \"Linear Learner\", \"Host\": \"algo-1\", \"Operation\": \"training\", \"epoch\": 2, \"model\": 14}, \"Metrics\": {\"train_binary_classification_cross_entropy_objective\": {\"sum\": 0.4933039784329382, \"count\": 1, \"min\": 0.4933039784329382, \"max\": 0.4933039784329382}}}\u001b[0m\n",
      "\u001b[34m#metrics {\"StartTime\": 1674588611.6594741, \"EndTime\": 1674588611.6594932, \"Dimensions\": {\"Algorithm\": \"Linear Learner\", \"Host\": \"algo-1\", \"Operation\": \"training\", \"epoch\": 2, \"model\": 15}, \"Metrics\": {\"train_binary_classification_cross_entropy_objective\": {\"sum\": 0.5107733186261005, \"count\": 1, \"min\": 0.5107733186261005, \"max\": 0.5107733186261005}}}\u001b[0m\n",
      "\u001b[34m#metrics {\"StartTime\": 1674588611.6595588, \"EndTime\": 1674588611.6595771, \"Dimensions\": {\"Algorithm\": \"Linear Learner\", \"Host\": \"algo-1\", \"Operation\": \"training\", \"epoch\": 2, \"model\": 16}, \"Metrics\": {\"train_binary_classification_cross_entropy_objective\": {\"sum\": 0.5077716621608909, \"count\": 1, \"min\": 0.5077716621608909, \"max\": 0.5077716621608909}}}\u001b[0m\n",
      "\u001b[34m#metrics {\"StartTime\": 1674588611.6596441, \"EndTime\": 1674588611.6596632, \"Dimensions\": {\"Algorithm\": \"Linear Learner\", \"Host\": \"algo-1\", \"Operation\": \"training\", \"epoch\": 2, \"model\": 17}, \"Metrics\": {\"train_binary_classification_cross_entropy_objective\": {\"sum\": 0.5080183415777457, \"count\": 1, \"min\": 0.5080183415777457, \"max\": 0.5080183415777457}}}\u001b[0m\n",
      "\u001b[34m#metrics {\"StartTime\": 1674588611.6597269, \"EndTime\": 1674588611.659745, \"Dimensions\": {\"Algorithm\": \"Linear Learner\", \"Host\": \"algo-1\", \"Operation\": \"training\", \"epoch\": 2, \"model\": 18}, \"Metrics\": {\"train_binary_classification_cross_entropy_objective\": {\"sum\": 0.5077716581245446, \"count\": 1, \"min\": 0.5077716581245446, \"max\": 0.5077716581245446}}}\u001b[0m\n",
      "\u001b[34m#metrics {\"StartTime\": 1674588611.6598043, \"EndTime\": 1674588611.659821, \"Dimensions\": {\"Algorithm\": \"Linear Learner\", \"Host\": \"algo-1\", \"Operation\": \"training\", \"epoch\": 2, \"model\": 19}, \"Metrics\": {\"train_binary_classification_cross_entropy_objective\": {\"sum\": 0.5080183616661516, \"count\": 1, \"min\": 0.5080183616661516, \"max\": 0.5080183616661516}}}\u001b[0m\n",
      "\u001b[34m#metrics {\"StartTime\": 1674588611.6598809, \"EndTime\": 1674588611.6598992, \"Dimensions\": {\"Algorithm\": \"Linear Learner\", \"Host\": \"algo-1\", \"Operation\": \"training\", \"epoch\": 2, \"model\": 20}, \"Metrics\": {\"train_binary_classification_cross_entropy_objective\": {\"sum\": 0.5080225994331756, \"count\": 1, \"min\": 0.5080225994331756, \"max\": 0.5080225994331756}}}\u001b[0m\n",
      "\u001b[34m#metrics {\"StartTime\": 1674588611.6599607, \"EndTime\": 1674588611.65998, \"Dimensions\": {\"Algorithm\": \"Linear Learner\", \"Host\": \"algo-1\", \"Operation\": \"training\", \"epoch\": 2, \"model\": 21}, \"Metrics\": {\"train_binary_classification_cross_entropy_objective\": {\"sum\": 0.5112268647360145, \"count\": 1, \"min\": 0.5112268647360145, \"max\": 0.5112268647360145}}}\u001b[0m\n",
      "\u001b[34m#metrics {\"StartTime\": 1674588611.6600525, \"EndTime\": 1674588611.6600707, \"Dimensions\": {\"Algorithm\": \"Linear Learner\", \"Host\": \"algo-1\", \"Operation\": \"training\", \"epoch\": 2, \"model\": 22}, \"Metrics\": {\"train_binary_classification_cross_entropy_objective\": {\"sum\": 0.5080225924103996, \"count\": 1, \"min\": 0.5080225924103996, \"max\": 0.5080225924103996}}}\u001b[0m\n",
      "\u001b[34m#metrics {\"StartTime\": 1674588611.6601367, \"EndTime\": 1674588611.6601565, \"Dimensions\": {\"Algorithm\": \"Linear Learner\", \"Host\": \"algo-1\", \"Operation\": \"training\", \"epoch\": 2, \"model\": 23}, \"Metrics\": {\"train_binary_classification_cross_entropy_objective\": {\"sum\": 0.5112268917072075, \"count\": 1, \"min\": 0.5112268917072075, \"max\": 0.5112268917072075}}}\u001b[0m\n",
      "\u001b[34m#metrics {\"StartTime\": 1674588611.6602201, \"EndTime\": 1674588611.6602387, \"Dimensions\": {\"Algorithm\": \"Linear Learner\", \"Host\": \"algo-1\", \"Operation\": \"training\", \"epoch\": 2, \"model\": 24}, \"Metrics\": {\"train_binary_classification_cross_entropy_objective\": {\"sum\": 0.5137553489988368, \"count\": 1, \"min\": 0.5137553489988368, \"max\": 0.5137553489988368}}}\u001b[0m\n",
      "\u001b[34m#metrics {\"StartTime\": 1674588611.6603038, \"EndTime\": 1674588611.660321, \"Dimensions\": {\"Algorithm\": \"Linear Learner\", \"Host\": \"algo-1\", \"Operation\": \"training\", \"epoch\": 2, \"model\": 25}, \"Metrics\": {\"train_binary_classification_cross_entropy_objective\": {\"sum\": 0.5138364527757744, \"count\": 1, \"min\": 0.5138364527757744, \"max\": 0.5138364527757744}}}\u001b[0m\n",
      "\u001b[34m#metrics {\"StartTime\": 1674588611.6603816, \"EndTime\": 1674588611.6603994, \"Dimensions\": {\"Algorithm\": \"Linear Learner\", \"Host\": \"algo-1\", \"Operation\": \"training\", \"epoch\": 2, \"model\": 26}, \"Metrics\": {\"train_binary_classification_cross_entropy_objective\": {\"sum\": 0.5137555199486036, \"count\": 1, \"min\": 0.5137555199486036, \"max\": 0.5137555199486036}}}\u001b[0m\n",
      "\u001b[34m#metrics {\"StartTime\": 1674588611.660462, \"EndTime\": 1674588611.6604805, \"Dimensions\": {\"Algorithm\": \"Linear Learner\", \"Host\": \"algo-1\", \"Operation\": \"training\", \"epoch\": 2, \"model\": 27}, \"Metrics\": {\"train_binary_classification_cross_entropy_objective\": {\"sum\": 0.5138362883588226, \"count\": 1, \"min\": 0.5138362883588226, \"max\": 0.5138362883588226}}}\u001b[0m\n",
      "\u001b[34m#metrics {\"StartTime\": 1674588611.660542, \"EndTime\": 1674588611.6605606, \"Dimensions\": {\"Algorithm\": \"Linear Learner\", \"Host\": \"algo-1\", \"Operation\": \"training\", \"epoch\": 2, \"model\": 28}, \"Metrics\": {\"train_binary_classification_cross_entropy_objective\": {\"sum\": 0.5138422417363625, \"count\": 1, \"min\": 0.5138422417363625, \"max\": 0.5138422417363625}}}\u001b[0m\n",
      "\u001b[34m#metrics {\"StartTime\": 1674588611.6606236, \"EndTime\": 1674588611.6606405, \"Dimensions\": {\"Algorithm\": \"Linear Learner\", \"Host\": \"algo-1\", \"Operation\": \"training\", \"epoch\": 2, \"model\": 29}, \"Metrics\": {\"train_binary_classification_cross_entropy_objective\": {\"sum\": 0.5150481096553511, \"count\": 1, \"min\": 0.5150481096553511, \"max\": 0.5150481096553511}}}\u001b[0m\n",
      "\u001b[34m#metrics {\"StartTime\": 1674588611.660696, \"EndTime\": 1674588611.6607125, \"Dimensions\": {\"Algorithm\": \"Linear Learner\", \"Host\": \"algo-1\", \"Operation\": \"training\", \"epoch\": 2, \"model\": 30}, \"Metrics\": {\"train_binary_classification_cross_entropy_objective\": {\"sum\": 0.5138422649978498, \"count\": 1, \"min\": 0.5138422649978498, \"max\": 0.5138422649978498}}}\u001b[0m\n",
      "\u001b[34m#metrics {\"StartTime\": 1674588611.6607733, \"EndTime\": 1674588611.6607926, \"Dimensions\": {\"Algorithm\": \"Linear Learner\", \"Host\": \"algo-1\", \"Operation\": \"training\", \"epoch\": 2, \"model\": 31}, \"Metrics\": {\"train_binary_classification_cross_entropy_objective\": {\"sum\": 0.5150483489196964, \"count\": 1, \"min\": 0.5150483489196964, \"max\": 0.5150483489196964}}}\u001b[0m\n",
      "\u001b[34m[01/24/2023 19:30:11 INFO 140302672115520] #quality_metric: host=algo-1, epoch=2, train binary_classification_cross_entropy_objective <loss>=0.49201701219657873\u001b[0m\n",
      "\u001b[34m[2023-01-24 19:30:16.074] [tensorio] [info] epoch_stats={\"data_pipeline\": \"/opt/ml/input/data/validation\", \"epoch\": 8, \"duration\": 4394, \"num_examples\": 164, \"num_bytes\": 68694780}\u001b[0m\n",
      "\u001b[34m#metrics {\"StartTime\": 1674588616.0829751, \"EndTime\": 1674588616.0830312, \"Dimensions\": {\"Algorithm\": \"Linear Learner\", \"Host\": \"algo-1\", \"Operation\": \"training\", \"epoch\": 2, \"model\": 0}, \"Metrics\": {\"validation_binary_classification_cross_entropy_objective\": {\"sum\": 0.49174563930025583, \"count\": 1, \"min\": 0.49174563930025583, \"max\": 0.49174563930025583}}}\u001b[0m\n",
      "\u001b[34m#metrics {\"StartTime\": 1674588616.0831175, \"EndTime\": 1674588616.0831418, \"Dimensions\": {\"Algorithm\": \"Linear Learner\", \"Host\": \"algo-1\", \"Operation\": \"training\", \"epoch\": 2, \"model\": 1}, \"Metrics\": {\"validation_binary_classification_cross_entropy_objective\": {\"sum\": 0.49255924643385923, \"count\": 1, \"min\": 0.49255924643385923, \"max\": 0.49255924643385923}}}\u001b[0m\n",
      "\u001b[34m#metrics {\"StartTime\": 1674588616.0832114, \"EndTime\": 1674588616.0832314, \"Dimensions\": {\"Algorithm\": \"Linear Learner\", \"Host\": \"algo-1\", \"Operation\": \"training\", \"epoch\": 2, \"model\": 2}, \"Metrics\": {\"validation_binary_classification_cross_entropy_objective\": {\"sum\": 0.49174972232938974, \"count\": 1, \"min\": 0.49174972232938974, \"max\": 0.49174972232938974}}}\u001b[0m\n",
      "\u001b[34m#metrics {\"StartTime\": 1674588616.0832973, \"EndTime\": 1674588616.0833104, \"Dimensions\": {\"Algorithm\": \"Linear Learner\", \"Host\": \"algo-1\", \"Operation\": \"training\", \"epoch\": 2, \"model\": 3}, \"Metrics\": {\"validation_binary_classification_cross_entropy_objective\": {\"sum\": 0.49255918551401223, \"count\": 1, \"min\": 0.49255918551401223, \"max\": 0.49255918551401223}}}\u001b[0m\n",
      "\u001b[34m#metrics {\"StartTime\": 1674588616.0833461, \"EndTime\": 1674588616.0833554, \"Dimensions\": {\"Algorithm\": \"Linear Learner\", \"Host\": \"algo-1\", \"Operation\": \"training\", \"epoch\": 2, \"model\": 4}, \"Metrics\": {\"validation_binary_classification_cross_entropy_objective\": {\"sum\": 0.4922690626258027, \"count\": 1, \"min\": 0.4922690626258027, \"max\": 0.4922690626258027}}}\u001b[0m\n",
      "\u001b[34m#metrics {\"StartTime\": 1674588616.0833852, \"EndTime\": 1674588616.0833936, \"Dimensions\": {\"Algorithm\": \"Linear Learner\", \"Host\": \"algo-1\", \"Operation\": \"training\", \"epoch\": 2, \"model\": 5}, \"Metrics\": {\"validation_binary_classification_cross_entropy_objective\": {\"sum\": 0.5105842000398413, \"count\": 1, \"min\": 0.5105842000398413, \"max\": 0.5105842000398413}}}\u001b[0m\n",
      "\u001b[34m#metrics {\"StartTime\": 1674588616.0834222, \"EndTime\": 1674588616.0834372, \"Dimensions\": {\"Algorithm\": \"Linear Learner\", \"Host\": \"algo-1\", \"Operation\": \"training\", \"epoch\": 2, \"model\": 6}, \"Metrics\": {\"validation_binary_classification_cross_entropy_objective\": {\"sum\": 0.49226912643770987, \"count\": 1, \"min\": 0.49226912643770987, \"max\": 0.49226912643770987}}}\u001b[0m\n",
      "\u001b[34m#metrics {\"StartTime\": 1674588616.0835009, \"EndTime\": 1674588616.083518, \"Dimensions\": {\"Algorithm\": \"Linear Learner\", \"Host\": \"algo-1\", \"Operation\": \"training\", \"epoch\": 2, \"model\": 7}, \"Metrics\": {\"validation_binary_classification_cross_entropy_objective\": {\"sum\": 0.5105844004316199, \"count\": 1, \"min\": 0.5105844004316199, \"max\": 0.5105844004316199}}}\u001b[0m\n",
      "\u001b[34m#metrics {\"StartTime\": 1674588616.0835755, \"EndTime\": 1674588616.0835946, \"Dimensions\": {\"Algorithm\": \"Linear Learner\", \"Host\": \"algo-1\", \"Operation\": \"training\", \"epoch\": 2, \"model\": 8}, \"Metrics\": {\"validation_binary_classification_cross_entropy_objective\": {\"sum\": 0.491985820881538, \"count\": 1, \"min\": 0.491985820881538, \"max\": 0.491985820881538}}}\u001b[0m\n",
      "\u001b[34m#metrics {\"StartTime\": 1674588616.0836556, \"EndTime\": 1674588616.0836751, \"Dimensions\": {\"Algorithm\": \"Linear Learner\", \"Host\": \"algo-1\", \"Operation\": \"training\", \"epoch\": 2, \"model\": 9}, \"Metrics\": {\"validation_binary_classification_cross_entropy_objective\": {\"sum\": 0.49272640573616117, \"count\": 1, \"min\": 0.49272640573616117, \"max\": 0.49272640573616117}}}\u001b[0m\n",
      "\u001b[34m#metrics {\"StartTime\": 1674588616.0837386, \"EndTime\": 1674588616.0837572, \"Dimensions\": {\"Algorithm\": \"Linear Learner\", \"Host\": \"algo-1\", \"Operation\": \"training\", \"epoch\": 2, \"model\": 10}, \"Metrics\": {\"validation_binary_classification_cross_entropy_objective\": {\"sum\": 0.49198561311967076, \"count\": 1, \"min\": 0.49198561311967076, \"max\": 0.49198561311967076}}}\u001b[0m\n",
      "\u001b[34m#metrics {\"StartTime\": 1674588616.0837953, \"EndTime\": 1674588616.0838113, \"Dimensions\": {\"Algorithm\": \"Linear Learner\", \"Host\": \"algo-1\", \"Operation\": \"training\", \"epoch\": 2, \"model\": 11}, \"Metrics\": {\"validation_binary_classification_cross_entropy_objective\": {\"sum\": 0.4927263498540963, \"count\": 1, \"min\": 0.4927263498540963, \"max\": 0.4927263498540963}}}\u001b[0m\n",
      "\u001b[34m#metrics {\"StartTime\": 1674588616.083866, \"EndTime\": 1674588616.0838838, \"Dimensions\": {\"Algorithm\": \"Linear Learner\", \"Host\": \"algo-1\", \"Operation\": \"training\", \"epoch\": 2, \"model\": 12}, \"Metrics\": {\"validation_binary_classification_cross_entropy_objective\": {\"sum\": 0.49247757502927914, \"count\": 1, \"min\": 0.49247757502927914, \"max\": 0.49247757502927914}}}\u001b[0m\n",
      "\u001b[34m#metrics {\"StartTime\": 1674588616.0839345, \"EndTime\": 1674588616.083946, \"Dimensions\": {\"Algorithm\": \"Linear Learner\", \"Host\": \"algo-1\", \"Operation\": \"training\", \"epoch\": 2, \"model\": 13}, \"Metrics\": {\"validation_binary_classification_cross_entropy_objective\": {\"sum\": 0.5086345037170503, \"count\": 1, \"min\": 0.5086345037170503, \"max\": 0.5086345037170503}}}\u001b[0m\n",
      "\u001b[34m#metrics {\"StartTime\": 1674588616.083983, \"EndTime\": 1674588616.0839982, \"Dimensions\": {\"Algorithm\": \"Linear Learner\", \"Host\": \"algo-1\", \"Operation\": \"training\", \"epoch\": 2, \"model\": 14}, \"Metrics\": {\"validation_binary_classification_cross_entropy_objective\": {\"sum\": 0.4924775491873226, \"count\": 1, \"min\": 0.4924775491873226, \"max\": 0.4924775491873226}}}\u001b[0m\n",
      "\u001b[34m#metrics {\"StartTime\": 1674588616.0840557, \"EndTime\": 1674588616.084074, \"Dimensions\": {\"Algorithm\": \"Linear Learner\", \"Host\": \"algo-1\", \"Operation\": \"training\", \"epoch\": 2, \"model\": 15}, \"Metrics\": {\"validation_binary_classification_cross_entropy_objective\": {\"sum\": 0.508635517430768, \"count\": 1, \"min\": 0.508635517430768, \"max\": 0.508635517430768}}}\u001b[0m\n",
      "\u001b[34m#metrics {\"StartTime\": 1674588616.0841234, \"EndTime\": 1674588616.0841408, \"Dimensions\": {\"Algorithm\": \"Linear Learner\", \"Host\": \"algo-1\", \"Operation\": \"training\", \"epoch\": 2, \"model\": 16}, \"Metrics\": {\"validation_binary_classification_cross_entropy_objective\": {\"sum\": 0.5077993215350853, \"count\": 1, \"min\": 0.5077993215350853, \"max\": 0.5077993215350853}}}\u001b[0m\n",
      "\u001b[34m#metrics {\"StartTime\": 1674588616.084191, \"EndTime\": 1674588616.0842085, \"Dimensions\": {\"Algorithm\": \"Linear Learner\", \"Host\": \"algo-1\", \"Operation\": \"training\", \"epoch\": 2, \"model\": 17}, \"Metrics\": {\"validation_binary_classification_cross_entropy_objective\": {\"sum\": 0.507534382146635, \"count\": 1, \"min\": 0.507534382146635, \"max\": 0.507534382146635}}}\u001b[0m\n",
      "\u001b[34m#metrics {\"StartTime\": 1674588616.0842652, \"EndTime\": 1674588616.0842829, \"Dimensions\": {\"Algorithm\": \"Linear Learner\", \"Host\": \"algo-1\", \"Operation\": \"training\", \"epoch\": 2, \"model\": 18}, \"Metrics\": {\"validation_binary_classification_cross_entropy_objective\": {\"sum\": 0.5077992030539128, \"count\": 1, \"min\": 0.5077992030539128, \"max\": 0.5077992030539128}}}\u001b[0m\n",
      "\u001b[34m#metrics {\"StartTime\": 1674588616.08435, \"EndTime\": 1674588616.0843701, \"Dimensions\": {\"Algorithm\": \"Linear Learner\", \"Host\": \"algo-1\", \"Operation\": \"training\", \"epoch\": 2, \"model\": 19}, \"Metrics\": {\"validation_binary_classification_cross_entropy_objective\": {\"sum\": 0.507534123167316, \"count\": 1, \"min\": 0.507534123167316, \"max\": 0.507534123167316}}}\u001b[0m\n",
      "\u001b[34m#metrics {\"StartTime\": 1674588616.084438, \"EndTime\": 1674588616.0844572, \"Dimensions\": {\"Algorithm\": \"Linear Learner\", \"Host\": \"algo-1\", \"Operation\": \"training\", \"epoch\": 2, \"model\": 20}, \"Metrics\": {\"validation_binary_classification_cross_entropy_objective\": {\"sum\": 0.5077926737150876, \"count\": 1, \"min\": 0.5077926737150876, \"max\": 0.5077926737150876}}}\u001b[0m\n",
      "\u001b[34m#metrics {\"StartTime\": 1674588616.0845196, \"EndTime\": 1674588616.0845394, \"Dimensions\": {\"Algorithm\": \"Linear Learner\", \"Host\": \"algo-1\", \"Operation\": \"training\", \"epoch\": 2, \"model\": 21}, \"Metrics\": {\"validation_binary_classification_cross_entropy_objective\": {\"sum\": 0.5097026133538896, \"count\": 1, \"min\": 0.5097026133538896, \"max\": 0.5097026133538896}}}\u001b[0m\n",
      "\u001b[34m#metrics {\"StartTime\": 1674588616.0845997, \"EndTime\": 1674588616.0846188, \"Dimensions\": {\"Algorithm\": \"Linear Learner\", \"Host\": \"algo-1\", \"Operation\": \"training\", \"epoch\": 2, \"model\": 22}, \"Metrics\": {\"validation_binary_classification_cross_entropy_objective\": {\"sum\": 0.5077925785569805, \"count\": 1, \"min\": 0.5077925785569805, \"max\": 0.5077925785569805}}}\u001b[0m\n",
      "\u001b[34m#metrics {\"StartTime\": 1674588616.0846858, \"EndTime\": 1674588616.0847042, \"Dimensions\": {\"Algorithm\": \"Linear Learner\", \"Host\": \"algo-1\", \"Operation\": \"training\", \"epoch\": 2, \"model\": 23}, \"Metrics\": {\"validation_binary_classification_cross_entropy_objective\": {\"sum\": 0.5097017203603588, \"count\": 1, \"min\": 0.5097017203603588, \"max\": 0.5097017203603588}}}\u001b[0m\n",
      "\u001b[34m#metrics {\"StartTime\": 1674588616.084777, \"EndTime\": 1674588616.0847976, \"Dimensions\": {\"Algorithm\": \"Linear Learner\", \"Host\": \"algo-1\", \"Operation\": \"training\", \"epoch\": 2, \"model\": 24}, \"Metrics\": {\"validation_binary_classification_cross_entropy_objective\": {\"sum\": 0.5137552683931501, \"count\": 1, \"min\": 0.5137552683931501, \"max\": 0.5137552683931501}}}\u001b[0m\n",
      "\u001b[34m#metrics {\"StartTime\": 1674588616.0848582, \"EndTime\": 1674588616.0848768, \"Dimensions\": {\"Algorithm\": \"Linear Learner\", \"Host\": \"algo-1\", \"Operation\": \"training\", \"epoch\": 2, \"model\": 25}, \"Metrics\": {\"validation_binary_classification_cross_entropy_objective\": {\"sum\": 0.5138820277613172, \"count\": 1, \"min\": 0.5138820277613172, \"max\": 0.5138820277613172}}}\u001b[0m\n",
      "\u001b[34m#metrics {\"StartTime\": 1674588616.0849245, \"EndTime\": 1674588616.0849414, \"Dimensions\": {\"Algorithm\": \"Linear Learner\", \"Host\": \"algo-1\", \"Operation\": \"training\", \"epoch\": 2, \"model\": 26}, \"Metrics\": {\"validation_binary_classification_cross_entropy_objective\": {\"sum\": 0.5137568233885713, \"count\": 1, \"min\": 0.5137568233885713, \"max\": 0.5137568233885713}}}\u001b[0m\n",
      "\u001b[34m#metrics {\"StartTime\": 1674588616.0849864, \"EndTime\": 1674588616.084997, \"Dimensions\": {\"Algorithm\": \"Linear Learner\", \"Host\": \"algo-1\", \"Operation\": \"training\", \"epoch\": 2, \"model\": 27}, \"Metrics\": {\"validation_binary_classification_cross_entropy_objective\": {\"sum\": 0.5138628731806905, \"count\": 1, \"min\": 0.5138628731806905, \"max\": 0.5138628731806905}}}\u001b[0m\n",
      "\u001b[34m#metrics {\"StartTime\": 1674588616.0850546, \"EndTime\": 1674588616.0850732, \"Dimensions\": {\"Algorithm\": \"Linear Learner\", \"Host\": \"algo-1\", \"Operation\": \"training\", \"epoch\": 2, \"model\": 28}, \"Metrics\": {\"validation_binary_classification_cross_entropy_objective\": {\"sum\": 0.5139263275918757, \"count\": 1, \"min\": 0.5139263275918757, \"max\": 0.5139263275918757}}}\u001b[0m\n",
      "\u001b[34m#metrics {\"StartTime\": 1674588616.0851398, \"EndTime\": 1674588616.0851586, \"Dimensions\": {\"Algorithm\": \"Linear Learner\", \"Host\": \"algo-1\", \"Operation\": \"training\", \"epoch\": 2, \"model\": 29}, \"Metrics\": {\"validation_binary_classification_cross_entropy_objective\": {\"sum\": 0.5137942684768951, \"count\": 1, \"min\": 0.5137942684768951, \"max\": 0.5137942684768951}}}\u001b[0m\n",
      "\u001b[34m#metrics {\"StartTime\": 1674588616.085224, \"EndTime\": 1674588616.0852435, \"Dimensions\": {\"Algorithm\": \"Linear Learner\", \"Host\": \"algo-1\", \"Operation\": \"training\", \"epoch\": 2, \"model\": 30}, \"Metrics\": {\"validation_binary_classification_cross_entropy_objective\": {\"sum\": 0.5139186145608318, \"count\": 1, \"min\": 0.5139186145608318, \"max\": 0.5139186145608318}}}\u001b[0m\n",
      "\u001b[34m#metrics {\"StartTime\": 1674588616.0852823, \"EndTime\": 1674588616.085298, \"Dimensions\": {\"Algorithm\": \"Linear Learner\", \"Host\": \"algo-1\", \"Operation\": \"training\", \"epoch\": 2, \"model\": 31}, \"Metrics\": {\"validation_binary_classification_cross_entropy_objective\": {\"sum\": 0.5137942328392512, \"count\": 1, \"min\": 0.5137942328392512, \"max\": 0.5137942328392512}}}\u001b[0m\n",
      "\u001b[34m[01/24/2023 19:30:16 INFO 140302672115520] #quality_metric: host=algo-1, epoch=2, validation binary_classification_cross_entropy_objective <loss>=0.49174563930025583\u001b[0m\n",
      "\u001b[34m[01/24/2023 19:30:16 INFO 140302672115520] #early_stopping_criteria_metric: host=algo-1, epoch=2, criteria=binary_classification_cross_entropy_objective, value=0.49174563930025583\u001b[0m\n",
      "\u001b[34m[01/24/2023 19:30:16 INFO 140302672115520] Saving model for epoch: 2\u001b[0m\n",
      "\u001b[34m[01/24/2023 19:30:16 INFO 140302672115520] Saved checkpoint to \"/tmp/tmp8jae6hb9/mx-mod-0000.params\"\u001b[0m\n",
      "\u001b[34m[01/24/2023 19:30:16 INFO 140302672115520] #progress_metric: host=algo-1, completed 20.0 % of epochs\u001b[0m\n",
      "\u001b[34m#metrics {\"StartTime\": 1674588562.9038029, \"EndTime\": 1674588616.0921848, \"Dimensions\": {\"Algorithm\": \"Linear Learner\", \"Host\": \"algo-1\", \"Operation\": \"training\", \"epoch\": 2, \"Meta\": \"training_data_iter\"}, \"Metrics\": {\"Total Records Seen\": {\"sum\": 3937416.0, \"count\": 1, \"min\": 3937416, \"max\": 3937416}, \"Total Batches Seen\": {\"sum\": 3939.0, \"count\": 1, \"min\": 3939, \"max\": 3939}, \"Max Records Seen Between Resets\": {\"sum\": 1308472.0, \"count\": 1, \"min\": 1308472, \"max\": 1308472}, \"Max Batches Seen Between Resets\": {\"sum\": 1309.0, \"count\": 1, \"min\": 1309, \"max\": 1309}, \"Reset Count\": {\"sum\": 5.0, \"count\": 1, \"min\": 5, \"max\": 5}, \"Number of Records Since Last Reset\": {\"sum\": 1308472.0, \"count\": 1, \"min\": 1308472, \"max\": 1308472}, \"Number of Batches Since Last Reset\": {\"sum\": 1309.0, \"count\": 1, \"min\": 1309, \"max\": 1309}}}\u001b[0m\n",
      "\u001b[34m[01/24/2023 19:30:16 INFO 140302672115520] #throughput_metric: host=algo-1, train throughput=24600.646486382066 records/second\u001b[0m\n",
      "\u001b[34m[2023-01-24 19:31:00.589] [tensorio] [info] epoch_stats={\"data_pipeline\": \"/opt/ml/input/data/train\", \"epoch\": 9, \"duration\": 44496, \"num_examples\": 1309, \"num_bytes\": 549558240}\u001b[0m\n",
      "\u001b[34m#metrics {\"StartTime\": 1674588660.5895529, \"EndTime\": 1674588660.5896347, \"Dimensions\": {\"Algorithm\": \"Linear Learner\", \"Host\": \"algo-1\", \"Operation\": \"training\", \"epoch\": 3, \"model\": 0}, \"Metrics\": {\"train_binary_classification_cross_entropy_objective\": {\"sum\": 0.49194930813290655, \"count\": 1, \"min\": 0.49194930813290655, \"max\": 0.49194930813290655}}}\u001b[0m\n",
      "\u001b[34m#metrics {\"StartTime\": 1674588660.5897393, \"EndTime\": 1674588660.589761, \"Dimensions\": {\"Algorithm\": \"Linear Learner\", \"Host\": \"algo-1\", \"Operation\": \"training\", \"epoch\": 3, \"model\": 1}, \"Metrics\": {\"train_binary_classification_cross_entropy_objective\": {\"sum\": 0.4929224276994711, \"count\": 1, \"min\": 0.4929224276994711, \"max\": 0.4929224276994711}}}\u001b[0m\n",
      "\u001b[34m#metrics {\"StartTime\": 1674588660.5898528, \"EndTime\": 1674588660.589872, \"Dimensions\": {\"Algorithm\": \"Linear Learner\", \"Host\": \"algo-1\", \"Operation\": \"training\", \"epoch\": 3, \"model\": 2}, \"Metrics\": {\"train_binary_classification_cross_entropy_objective\": {\"sum\": 0.4919702965272676, \"count\": 1, \"min\": 0.4919702965272676, \"max\": 0.4919702965272676}}}\u001b[0m\n",
      "\u001b[34m#metrics {\"StartTime\": 1674588660.5899875, \"EndTime\": 1674588660.59001, \"Dimensions\": {\"Algorithm\": \"Linear Learner\", \"Host\": \"algo-1\", \"Operation\": \"training\", \"epoch\": 3, \"model\": 3}, \"Metrics\": {\"train_binary_classification_cross_entropy_objective\": {\"sum\": 0.4929219886476476, \"count\": 1, \"min\": 0.4929219886476476, \"max\": 0.4929219886476476}}}\u001b[0m\n",
      "\u001b[34m#metrics {\"StartTime\": 1674588660.5900655, \"EndTime\": 1674588660.5900836, \"Dimensions\": {\"Algorithm\": \"Linear Learner\", \"Host\": \"algo-1\", \"Operation\": \"training\", \"epoch\": 3, \"model\": 4}, \"Metrics\": {\"train_binary_classification_cross_entropy_objective\": {\"sum\": 0.4922729938285431, \"count\": 1, \"min\": 0.4922729938285431, \"max\": 0.4922729938285431}}}\u001b[0m\n",
      "\u001b[34m#metrics {\"StartTime\": 1674588660.5901387, \"EndTime\": 1674588660.5901566, \"Dimensions\": {\"Algorithm\": \"Linear Learner\", \"Host\": \"algo-1\", \"Operation\": \"training\", \"epoch\": 3, \"model\": 5}, \"Metrics\": {\"train_binary_classification_cross_entropy_objective\": {\"sum\": 0.5096991733469365, \"count\": 1, \"min\": 0.5096991733469365, \"max\": 0.5096991733469365}}}\u001b[0m\n",
      "\u001b[34m#metrics {\"StartTime\": 1674588660.5902185, \"EndTime\": 1674588660.5902374, \"Dimensions\": {\"Algorithm\": \"Linear Learner\", \"Host\": \"algo-1\", \"Operation\": \"training\", \"epoch\": 3, \"model\": 6}, \"Metrics\": {\"train_binary_classification_cross_entropy_objective\": {\"sum\": 0.4922729985415024, \"count\": 1, \"min\": 0.4922729985415024, \"max\": 0.4922729985415024}}}\u001b[0m\n",
      "\u001b[34m#metrics {\"StartTime\": 1674588660.5902908, \"EndTime\": 1674588660.5903075, \"Dimensions\": {\"Algorithm\": \"Linear Learner\", \"Host\": \"algo-1\", \"Operation\": \"training\", \"epoch\": 3, \"model\": 7}, \"Metrics\": {\"train_binary_classification_cross_entropy_objective\": {\"sum\": 0.509698472189247, \"count\": 1, \"min\": 0.509698472189247, \"max\": 0.509698472189247}}}\u001b[0m\n",
      "\u001b[34m#metrics {\"StartTime\": 1674588660.5903714, \"EndTime\": 1674588660.59039, \"Dimensions\": {\"Algorithm\": \"Linear Learner\", \"Host\": \"algo-1\", \"Operation\": \"training\", \"epoch\": 3, \"model\": 8}, \"Metrics\": {\"train_binary_classification_cross_entropy_objective\": {\"sum\": 0.49215146951937894, \"count\": 1, \"min\": 0.49215146951937894, \"max\": 0.49215146951937894}}}\u001b[0m\n",
      "\u001b[34m#metrics {\"StartTime\": 1674588660.5904455, \"EndTime\": 1674588660.5904632, \"Dimensions\": {\"Algorithm\": \"Linear Learner\", \"Host\": \"algo-1\", \"Operation\": \"training\", \"epoch\": 3, \"model\": 9}, \"Metrics\": {\"train_binary_classification_cross_entropy_objective\": {\"sum\": 0.4930859596415762, \"count\": 1, \"min\": 0.4930859596415762, \"max\": 0.4930859596415762}}}\u001b[0m\n",
      "\u001b[34m#metrics {\"StartTime\": 1674588660.5905187, \"EndTime\": 1674588660.5905356, \"Dimensions\": {\"Algorithm\": \"Linear Learner\", \"Host\": \"algo-1\", \"Operation\": \"training\", \"epoch\": 3, \"model\": 10}, \"Metrics\": {\"train_binary_classification_cross_entropy_objective\": {\"sum\": 0.4921646803642996, \"count\": 1, \"min\": 0.4921646803642996, \"max\": 0.4921646803642996}}}\u001b[0m\n",
      "\u001b[34m#metrics {\"StartTime\": 1674588660.5905933, \"EndTime\": 1674588660.5906103, \"Dimensions\": {\"Algorithm\": \"Linear Learner\", \"Host\": \"algo-1\", \"Operation\": \"training\", \"epoch\": 3, \"model\": 11}, \"Metrics\": {\"train_binary_classification_cross_entropy_objective\": {\"sum\": 0.4930859535753909, \"count\": 1, \"min\": 0.4930859535753909, \"max\": 0.4930859535753909}}}\u001b[0m\n",
      "\u001b[34m#metrics {\"StartTime\": 1674588660.590688, \"EndTime\": 1674588660.5907066, \"Dimensions\": {\"Algorithm\": \"Linear Learner\", \"Host\": \"algo-1\", \"Operation\": \"training\", \"epoch\": 3, \"model\": 12}, \"Metrics\": {\"train_binary_classification_cross_entropy_objective\": {\"sum\": 0.4924741003987257, \"count\": 1, \"min\": 0.4924741003987257, \"max\": 0.4924741003987257}}}\u001b[0m\n",
      "\u001b[34m#metrics {\"StartTime\": 1674588660.5907736, \"EndTime\": 1674588660.590792, \"Dimensions\": {\"Algorithm\": \"Linear Learner\", \"Host\": \"algo-1\", \"Operation\": \"training\", \"epoch\": 3, \"model\": 13}, \"Metrics\": {\"train_binary_classification_cross_entropy_objective\": {\"sum\": 0.5086707449163501, \"count\": 1, \"min\": 0.5086707449163501, \"max\": 0.5086707449163501}}}\u001b[0m\n",
      "\u001b[34m#metrics {\"StartTime\": 1674588660.5908573, \"EndTime\": 1674588660.5908751, \"Dimensions\": {\"Algorithm\": \"Linear Learner\", \"Host\": \"algo-1\", \"Operation\": \"training\", \"epoch\": 3, \"model\": 14}, \"Metrics\": {\"train_binary_classification_cross_entropy_objective\": {\"sum\": 0.4924741029185257, \"count\": 1, \"min\": 0.4924741029185257, \"max\": 0.4924741029185257}}}\u001b[0m\n",
      "\u001b[34m#metrics {\"StartTime\": 1674588660.5909567, \"EndTime\": 1674588660.590974, \"Dimensions\": {\"Algorithm\": \"Linear Learner\", \"Host\": \"algo-1\", \"Operation\": \"training\", \"epoch\": 3, \"model\": 15}, \"Metrics\": {\"train_binary_classification_cross_entropy_objective\": {\"sum\": 0.5086703797319978, \"count\": 1, \"min\": 0.5086703797319978, \"max\": 0.5086703797319978}}}\u001b[0m\n",
      "\u001b[34m#metrics {\"StartTime\": 1674588660.591034, \"EndTime\": 1674588660.5910518, \"Dimensions\": {\"Algorithm\": \"Linear Learner\", \"Host\": \"algo-1\", \"Operation\": \"training\", \"epoch\": 3, \"model\": 16}, \"Metrics\": {\"train_binary_classification_cross_entropy_objective\": {\"sum\": 0.5077613390767975, \"count\": 1, \"min\": 0.5077613390767975, \"max\": 0.5077613390767975}}}\u001b[0m\n",
      "\u001b[34m#metrics {\"StartTime\": 1674588660.5911174, \"EndTime\": 1674588660.5911362, \"Dimensions\": {\"Algorithm\": \"Linear Learner\", \"Host\": \"algo-1\", \"Operation\": \"training\", \"epoch\": 3, \"model\": 17}, \"Metrics\": {\"train_binary_classification_cross_entropy_objective\": {\"sum\": 0.5079912816785527, \"count\": 1, \"min\": 0.5079912816785527, \"max\": 0.5079912816785527}}}\u001b[0m\n",
      "\u001b[34m#metrics {\"StartTime\": 1674588660.5912006, \"EndTime\": 1674588660.5912204, \"Dimensions\": {\"Algorithm\": \"Linear Learner\", \"Host\": \"algo-1\", \"Operation\": \"training\", \"epoch\": 3, \"model\": 18}, \"Metrics\": {\"train_binary_classification_cross_entropy_objective\": {\"sum\": 0.5077668441399157, \"count\": 1, \"min\": 0.5077668441399157, \"max\": 0.5077668441399157}}}\u001b[0m\n",
      "\u001b[34m#metrics {\"StartTime\": 1674588660.5912948, \"EndTime\": 1674588660.5913126, \"Dimensions\": {\"Algorithm\": \"Linear Learner\", \"Host\": \"algo-1\", \"Operation\": \"training\", \"epoch\": 3, \"model\": 19}, \"Metrics\": {\"train_binary_classification_cross_entropy_objective\": {\"sum\": 0.5079912823318341, \"count\": 1, \"min\": 0.5079912823318341, \"max\": 0.5079912823318341}}}\u001b[0m\n",
      "\u001b[34m#metrics {\"StartTime\": 1674588660.5913765, \"EndTime\": 1674588660.5913947, \"Dimensions\": {\"Algorithm\": \"Linear Learner\", \"Host\": \"algo-1\", \"Operation\": \"training\", \"epoch\": 3, \"model\": 20}, \"Metrics\": {\"train_binary_classification_cross_entropy_objective\": {\"sum\": 0.5078369090228999, \"count\": 1, \"min\": 0.5078369090228999, \"max\": 0.5078369090228999}}}\u001b[0m\n",
      "\u001b[34m#metrics {\"StartTime\": 1674588660.5914595, \"EndTime\": 1674588660.5914772, \"Dimensions\": {\"Algorithm\": \"Linear Learner\", \"Host\": \"algo-1\", \"Operation\": \"training\", \"epoch\": 3, \"model\": 21}, \"Metrics\": {\"train_binary_classification_cross_entropy_objective\": {\"sum\": 0.5109334945445396, \"count\": 1, \"min\": 0.5109334945445396, \"max\": 0.5109334945445396}}}\u001b[0m\n",
      "\u001b[34m#metrics {\"StartTime\": 1674588660.5915344, \"EndTime\": 1674588660.591551, \"Dimensions\": {\"Algorithm\": \"Linear Learner\", \"Host\": \"algo-1\", \"Operation\": \"training\", \"epoch\": 3, \"model\": 22}, \"Metrics\": {\"train_binary_classification_cross_entropy_objective\": {\"sum\": 0.5078369067597462, \"count\": 1, \"min\": 0.5078369067597462, \"max\": 0.5078369067597462}}}\u001b[0m\n",
      "\u001b[34m#metrics {\"StartTime\": 1674588660.5916052, \"EndTime\": 1674588660.5916228, \"Dimensions\": {\"Algorithm\": \"Linear Learner\", \"Host\": \"algo-1\", \"Operation\": \"training\", \"epoch\": 3, \"model\": 23}, \"Metrics\": {\"train_binary_classification_cross_entropy_objective\": {\"sum\": 0.5109335035971545, \"count\": 1, \"min\": 0.5109335035971545, \"max\": 0.5109335035971545}}}\u001b[0m\n",
      "\u001b[34m#metrics {\"StartTime\": 1674588660.5916796, \"EndTime\": 1674588660.5916975, \"Dimensions\": {\"Algorithm\": \"Linear Learner\", \"Host\": \"algo-1\", \"Operation\": \"training\", \"epoch\": 3, \"model\": 24}, \"Metrics\": {\"train_binary_classification_cross_entropy_objective\": {\"sum\": 0.5137510810408753, \"count\": 1, \"min\": 0.5137510810408753, \"max\": 0.5137510810408753}}}\u001b[0m\n",
      "\u001b[34m#metrics {\"StartTime\": 1674588660.5917547, \"EndTime\": 1674588660.5917718, \"Dimensions\": {\"Algorithm\": \"Linear Learner\", \"Host\": \"algo-1\", \"Operation\": \"training\", \"epoch\": 3, \"model\": 25}, \"Metrics\": {\"train_binary_classification_cross_entropy_objective\": {\"sum\": 0.5138299016690036, \"count\": 1, \"min\": 0.5138299016690036, \"max\": 0.5138299016690036}}}\u001b[0m\n",
      "\u001b[34m#metrics {\"StartTime\": 1674588660.5918376, \"EndTime\": 1674588660.5918531, \"Dimensions\": {\"Algorithm\": \"Linear Learner\", \"Host\": \"algo-1\", \"Operation\": \"training\", \"epoch\": 3, \"model\": 26}, \"Metrics\": {\"train_binary_classification_cross_entropy_objective\": {\"sum\": 0.5137529859397025, \"count\": 1, \"min\": 0.5137529859397025, \"max\": 0.5137529859397025}}}\u001b[0m\n",
      "\u001b[34m#metrics {\"StartTime\": 1674588660.5919006, \"EndTime\": 1674588660.5919168, \"Dimensions\": {\"Algorithm\": \"Linear Learner\", \"Host\": \"algo-1\", \"Operation\": \"training\", \"epoch\": 3, \"model\": 27}, \"Metrics\": {\"train_binary_classification_cross_entropy_objective\": {\"sum\": 0.513831141037314, \"count\": 1, \"min\": 0.513831141037314, \"max\": 0.513831141037314}}}\u001b[0m\n",
      "\u001b[34m#metrics {\"StartTime\": 1674588660.5919816, \"EndTime\": 1674588660.5920558, \"Dimensions\": {\"Algorithm\": \"Linear Learner\", \"Host\": \"algo-1\", \"Operation\": \"training\", \"epoch\": 3, \"model\": 28}, \"Metrics\": {\"train_binary_classification_cross_entropy_objective\": {\"sum\": 0.5137805435227327, \"count\": 1, \"min\": 0.5137805435227327, \"max\": 0.5137805435227327}}}\u001b[0m\n",
      "\u001b[34m#metrics {\"StartTime\": 1674588660.5921206, \"EndTime\": 1674588660.5921354, \"Dimensions\": {\"Algorithm\": \"Linear Learner\", \"Host\": \"algo-1\", \"Operation\": \"training\", \"epoch\": 3, \"model\": 29}, \"Metrics\": {\"train_binary_classification_cross_entropy_objective\": {\"sum\": 0.5149379977538316, \"count\": 1, \"min\": 0.5149379977538316, \"max\": 0.5149379977538316}}}\u001b[0m\n",
      "\u001b[34m#metrics {\"StartTime\": 1674588660.592195, \"EndTime\": 1674588660.5922134, \"Dimensions\": {\"Algorithm\": \"Linear Learner\", \"Host\": \"algo-1\", \"Operation\": \"training\", \"epoch\": 3, \"model\": 30}, \"Metrics\": {\"train_binary_classification_cross_entropy_objective\": {\"sum\": 0.5137805788699276, \"count\": 1, \"min\": 0.5137805788699276, \"max\": 0.5137805788699276}}}\u001b[0m\n",
      "\u001b[34m#metrics {\"StartTime\": 1674588660.5922766, \"EndTime\": 1674588660.5922954, \"Dimensions\": {\"Algorithm\": \"Linear Learner\", \"Host\": \"algo-1\", \"Operation\": \"training\", \"epoch\": 3, \"model\": 31}, \"Metrics\": {\"train_binary_classification_cross_entropy_objective\": {\"sum\": 0.5149379134571881, \"count\": 1, \"min\": 0.5149379134571881, \"max\": 0.5149379134571881}}}\u001b[0m\n",
      "\u001b[34m[01/24/2023 19:31:00 INFO 140302672115520] #quality_metric: host=algo-1, epoch=3, train binary_classification_cross_entropy_objective <loss>=0.49194930813290655\u001b[0m\n",
      "\u001b[34m[2023-01-24 19:31:05.141] [tensorio] [info] epoch_stats={\"data_pipeline\": \"/opt/ml/input/data/validation\", \"epoch\": 11, \"duration\": 4525, \"num_examples\": 164, \"num_bytes\": 68694780}\u001b[0m\n",
      "\u001b[34m#metrics {\"StartTime\": 1674588665.1491852, \"EndTime\": 1674588665.1492398, \"Dimensions\": {\"Algorithm\": \"Linear Learner\", \"Host\": \"algo-1\", \"Operation\": \"training\", \"epoch\": 3, \"model\": 0}, \"Metrics\": {\"validation_binary_classification_cross_entropy_objective\": {\"sum\": 0.4917242363761175, \"count\": 1, \"min\": 0.4917242363761175, \"max\": 0.4917242363761175}}}\u001b[0m\n",
      "\u001b[34m#metrics {\"StartTime\": 1674588665.1493218, \"EndTime\": 1674588665.1493442, \"Dimensions\": {\"Algorithm\": \"Linear Learner\", \"Host\": \"algo-1\", \"Operation\": \"training\", \"epoch\": 3, \"model\": 1}, \"Metrics\": {\"validation_binary_classification_cross_entropy_objective\": {\"sum\": 0.4924355534890482, \"count\": 1, \"min\": 0.4924355534890482, \"max\": 0.4924355534890482}}}\u001b[0m\n",
      "\u001b[34m#metrics {\"StartTime\": 1674588665.1494064, \"EndTime\": 1674588665.1494257, \"Dimensions\": {\"Algorithm\": \"Linear Learner\", \"Host\": \"algo-1\", \"Operation\": \"training\", \"epoch\": 3, \"model\": 2}, \"Metrics\": {\"validation_binary_classification_cross_entropy_objective\": {\"sum\": 0.4917461809551284, \"count\": 1, \"min\": 0.4917461809551284, \"max\": 0.4917461809551284}}}\u001b[0m\n",
      "\u001b[34m#metrics {\"StartTime\": 1674588665.1494904, \"EndTime\": 1674588665.149509, \"Dimensions\": {\"Algorithm\": \"Linear Learner\", \"Host\": \"algo-1\", \"Operation\": \"training\", \"epoch\": 3, \"model\": 3}, \"Metrics\": {\"validation_binary_classification_cross_entropy_objective\": {\"sum\": 0.49243561636803274, \"count\": 1, \"min\": 0.49243561636803274, \"max\": 0.49243561636803274}}}\u001b[0m\n",
      "\u001b[34m#metrics {\"StartTime\": 1674588665.1495643, \"EndTime\": 1674588665.1495812, \"Dimensions\": {\"Algorithm\": \"Linear Learner\", \"Host\": \"algo-1\", \"Operation\": \"training\", \"epoch\": 3, \"model\": 4}, \"Metrics\": {\"validation_binary_classification_cross_entropy_objective\": {\"sum\": 0.4919117854485936, \"count\": 1, \"min\": 0.4919117854485936, \"max\": 0.4919117854485936}}}\u001b[0m\n",
      "\u001b[34m#metrics {\"StartTime\": 1674588665.1496434, \"EndTime\": 1674588665.1496618, \"Dimensions\": {\"Algorithm\": \"Linear Learner\", \"Host\": \"algo-1\", \"Operation\": \"training\", \"epoch\": 3, \"model\": 5}, \"Metrics\": {\"validation_binary_classification_cross_entropy_objective\": {\"sum\": 0.5091605474356492, \"count\": 1, \"min\": 0.5091605474356492, \"max\": 0.5091605474356492}}}\u001b[0m\n",
      "\u001b[34m#metrics {\"StartTime\": 1674588665.1497076, \"EndTime\": 1674588665.1497223, \"Dimensions\": {\"Algorithm\": \"Linear Learner\", \"Host\": \"algo-1\", \"Operation\": \"training\", \"epoch\": 3, \"model\": 6}, \"Metrics\": {\"validation_binary_classification_cross_entropy_objective\": {\"sum\": 0.49191179571074245, \"count\": 1, \"min\": 0.49191179571074245, \"max\": 0.49191179571074245}}}\u001b[0m\n",
      "\u001b[34m#metrics {\"StartTime\": 1674588665.1497765, \"EndTime\": 1674588665.149789, \"Dimensions\": {\"Algorithm\": \"Linear Learner\", \"Host\": \"algo-1\", \"Operation\": \"training\", \"epoch\": 3, \"model\": 7}, \"Metrics\": {\"validation_binary_classification_cross_entropy_objective\": {\"sum\": 0.5091604289544766, \"count\": 1, \"min\": 0.5091604289544766, \"max\": 0.5091604289544766}}}\u001b[0m\n",
      "\u001b[34m#metrics {\"StartTime\": 1674588665.1498396, \"EndTime\": 1674588665.1498566, \"Dimensions\": {\"Algorithm\": \"Linear Learner\", \"Host\": \"algo-1\", \"Operation\": \"training\", \"epoch\": 3, \"model\": 8}, \"Metrics\": {\"validation_binary_classification_cross_entropy_objective\": {\"sum\": 0.4919669869464154, \"count\": 1, \"min\": 0.4919669869464154, \"max\": 0.4919669869464154}}}\u001b[0m\n",
      "\u001b[34m#metrics {\"StartTime\": 1674588665.1499126, \"EndTime\": 1674588665.1499283, \"Dimensions\": {\"Algorithm\": \"Linear Learner\", \"Host\": \"algo-1\", \"Operation\": \"training\", \"epoch\": 3, \"model\": 9}, \"Metrics\": {\"validation_binary_classification_cross_entropy_objective\": {\"sum\": 0.4926131739325526, \"count\": 1, \"min\": 0.4926131739325526, \"max\": 0.4926131739325526}}}\u001b[0m\n",
      "\u001b[34m#metrics {\"StartTime\": 1674588665.149979, \"EndTime\": 1674588665.1499965, \"Dimensions\": {\"Algorithm\": \"Linear Learner\", \"Host\": \"algo-1\", \"Operation\": \"training\", \"epoch\": 3, \"model\": 10}, \"Metrics\": {\"validation_binary_classification_cross_entropy_objective\": {\"sum\": 0.49198352458580386, \"count\": 1, \"min\": 0.49198352458580386, \"max\": 0.49198352458580386}}}\u001b[0m\n",
      "\u001b[34m#metrics {\"StartTime\": 1674588665.1500556, \"EndTime\": 1674588665.1500735, \"Dimensions\": {\"Algorithm\": \"Linear Learner\", \"Host\": \"algo-1\", \"Operation\": \"training\", \"epoch\": 3, \"model\": 11}, \"Metrics\": {\"validation_binary_classification_cross_entropy_objective\": {\"sum\": 0.49261316898806273, \"count\": 1, \"min\": 0.49261316898806273, \"max\": 0.49261316898806273}}}\u001b[0m\n",
      "\u001b[34m#metrics {\"StartTime\": 1674588665.1501284, \"EndTime\": 1674588665.1501455, \"Dimensions\": {\"Algorithm\": \"Linear Learner\", \"Host\": \"algo-1\", \"Operation\": \"training\", \"epoch\": 3, \"model\": 12}, \"Metrics\": {\"validation_binary_classification_cross_entropy_objective\": {\"sum\": 0.4921592169581318, \"count\": 1, \"min\": 0.4921592169581318, \"max\": 0.4921592169581318}}}\u001b[0m\n",
      "\u001b[34m#metrics {\"StartTime\": 1674588665.1502426, \"EndTime\": 1674588665.1502626, \"Dimensions\": {\"Algorithm\": \"Linear Learner\", \"Host\": \"algo-1\", \"Operation\": \"training\", \"epoch\": 3, \"model\": 13}, \"Metrics\": {\"validation_binary_classification_cross_entropy_objective\": {\"sum\": 0.507311190112458, \"count\": 1, \"min\": 0.507311190112458, \"max\": 0.507311190112458}}}\u001b[0m\n",
      "\u001b[34m#metrics {\"StartTime\": 1674588665.150331, \"EndTime\": 1674588665.1503499, \"Dimensions\": {\"Algorithm\": \"Linear Learner\", \"Host\": \"algo-1\", \"Operation\": \"training\", \"epoch\": 3, \"model\": 14}, \"Metrics\": {\"validation_binary_classification_cross_entropy_objective\": {\"sum\": 0.4921592154654556, \"count\": 1, \"min\": 0.4921592154654556, \"max\": 0.4921592154654556}}}\u001b[0m\n",
      "\u001b[34m#metrics {\"StartTime\": 1674588665.1504338, \"EndTime\": 1674588665.150479, \"Dimensions\": {\"Algorithm\": \"Linear Learner\", \"Host\": \"algo-1\", \"Operation\": \"training\", \"epoch\": 3, \"model\": 15}, \"Metrics\": {\"validation_binary_classification_cross_entropy_objective\": {\"sum\": 0.5073112067184806, \"count\": 1, \"min\": 0.5073112067184806, \"max\": 0.5073112067184806}}}\u001b[0m\n",
      "\u001b[34m#metrics {\"StartTime\": 1674588665.1505485, \"EndTime\": 1674588665.150567, \"Dimensions\": {\"Algorithm\": \"Linear Learner\", \"Host\": \"algo-1\", \"Operation\": \"training\", \"epoch\": 3, \"model\": 16}, \"Metrics\": {\"validation_binary_classification_cross_entropy_objective\": {\"sum\": 0.507774984009557, \"count\": 1, \"min\": 0.507774984009557, \"max\": 0.507774984009557}}}\u001b[0m\n",
      "\u001b[34m#metrics {\"StartTime\": 1674588665.1506312, \"EndTime\": 1674588665.1506681, \"Dimensions\": {\"Algorithm\": \"Linear Learner\", \"Host\": \"algo-1\", \"Operation\": \"training\", \"epoch\": 3, \"model\": 17}, \"Metrics\": {\"validation_binary_classification_cross_entropy_objective\": {\"sum\": 0.5075491449007411, \"count\": 1, \"min\": 0.5075491449007411, \"max\": 0.5075491449007411}}}\u001b[0m\n",
      "\u001b[34m#metrics {\"StartTime\": 1674588665.1507387, \"EndTime\": 1674588665.150758, \"Dimensions\": {\"Algorithm\": \"Linear Learner\", \"Host\": \"algo-1\", \"Operation\": \"training\", \"epoch\": 3, \"model\": 18}, \"Metrics\": {\"validation_binary_classification_cross_entropy_objective\": {\"sum\": 0.5077983901051427, \"count\": 1, \"min\": 0.5077983901051427, \"max\": 0.5077983901051427}}}\u001b[0m\n",
      "\u001b[34m#metrics {\"StartTime\": 1674588665.15082, \"EndTime\": 1674588665.1508386, \"Dimensions\": {\"Algorithm\": \"Linear Learner\", \"Host\": \"algo-1\", \"Operation\": \"training\", \"epoch\": 3, \"model\": 19}, \"Metrics\": {\"validation_binary_classification_cross_entropy_objective\": {\"sum\": 0.5075491844566601, \"count\": 1, \"min\": 0.5075491844566601, \"max\": 0.5075491844566601}}}\u001b[0m\n",
      "\u001b[34m#metrics {\"StartTime\": 1674588665.1508985, \"EndTime\": 1674588665.1509168, \"Dimensions\": {\"Algorithm\": \"Linear Learner\", \"Host\": \"algo-1\", \"Operation\": \"training\", \"epoch\": 3, \"model\": 20}, \"Metrics\": {\"validation_binary_classification_cross_entropy_objective\": {\"sum\": 0.5078657818229488, \"count\": 1, \"min\": 0.5078657818229488, \"max\": 0.5078657818229488}}}\u001b[0m\n",
      "\u001b[34m#metrics {\"StartTime\": 1674588665.1509724, \"EndTime\": 1674588665.1509902, \"Dimensions\": {\"Algorithm\": \"Linear Learner\", \"Host\": \"algo-1\", \"Operation\": \"training\", \"epoch\": 3, \"model\": 21}, \"Metrics\": {\"validation_binary_classification_cross_entropy_objective\": {\"sum\": 0.5092178044418771, \"count\": 1, \"min\": 0.5092178044418771, \"max\": 0.5092178044418771}}}\u001b[0m\n",
      "\u001b[34m#metrics {\"StartTime\": 1674588665.151059, \"EndTime\": 1674588665.1510768, \"Dimensions\": {\"Algorithm\": \"Linear Learner\", \"Host\": \"algo-1\", \"Operation\": \"training\", \"epoch\": 3, \"model\": 22}, \"Metrics\": {\"validation_binary_classification_cross_entropy_objective\": {\"sum\": 0.5078657982423869, \"count\": 1, \"min\": 0.5078657982423869, \"max\": 0.5078657982423869}}}\u001b[0m\n",
      "\u001b[34m#metrics {\"StartTime\": 1674588665.1511414, \"EndTime\": 1674588665.1511586, \"Dimensions\": {\"Algorithm\": \"Linear Learner\", \"Host\": \"algo-1\", \"Operation\": \"training\", \"epoch\": 3, \"model\": 23}, \"Metrics\": {\"validation_binary_classification_cross_entropy_objective\": {\"sum\": 0.5092176807363379, \"count\": 1, \"min\": 0.5092176807363379, \"max\": 0.5092176807363379}}}\u001b[0m\n",
      "\u001b[34m#metrics {\"StartTime\": 1674588665.1512241, \"EndTime\": 1674588665.1512423, \"Dimensions\": {\"Algorithm\": \"Linear Learner\", \"Host\": \"algo-1\", \"Operation\": \"training\", \"epoch\": 3, \"model\": 24}, \"Metrics\": {\"validation_binary_classification_cross_entropy_objective\": {\"sum\": 0.5137598178835934, \"count\": 1, \"min\": 0.5137598178835934, \"max\": 0.5137598178835934}}}\u001b[0m\n",
      "\u001b[34m#metrics {\"StartTime\": 1674588665.1512992, \"EndTime\": 1674588665.1513164, \"Dimensions\": {\"Algorithm\": \"Linear Learner\", \"Host\": \"algo-1\", \"Operation\": \"training\", \"epoch\": 3, \"model\": 25}, \"Metrics\": {\"validation_binary_classification_cross_entropy_objective\": {\"sum\": 0.5138670801019481, \"count\": 1, \"min\": 0.5138670801019481, \"max\": 0.5138670801019481}}}\u001b[0m\n",
      "\u001b[34m#metrics {\"StartTime\": 1674588665.1513739, \"EndTime\": 1674588665.1513908, \"Dimensions\": {\"Algorithm\": \"Linear Learner\", \"Host\": \"algo-1\", \"Operation\": \"training\", \"epoch\": 3, \"model\": 26}, \"Metrics\": {\"validation_binary_classification_cross_entropy_objective\": {\"sum\": 0.5137552726845941, \"count\": 1, \"min\": 0.5137552726845941, \"max\": 0.5137552726845941}}}\u001b[0m\n",
      "\u001b[34m#metrics {\"StartTime\": 1674588665.151437, \"EndTime\": 1674588665.1514473, \"Dimensions\": {\"Algorithm\": \"Linear Learner\", \"Host\": \"algo-1\", \"Operation\": \"training\", \"epoch\": 3, \"model\": 27}, \"Metrics\": {\"validation_binary_classification_cross_entropy_objective\": {\"sum\": 0.5138586304352042, \"count\": 1, \"min\": 0.5138586304352042, \"max\": 0.5138586304352042}}}\u001b[0m\n",
      "\u001b[34m#metrics {\"StartTime\": 1674588665.1514866, \"EndTime\": 1674588665.151502, \"Dimensions\": {\"Algorithm\": \"Linear Learner\", \"Host\": \"algo-1\", \"Operation\": \"training\", \"epoch\": 3, \"model\": 28}, \"Metrics\": {\"validation_binary_classification_cross_entropy_objective\": {\"sum\": 0.5138029293573201, \"count\": 1, \"min\": 0.5138029293573201, \"max\": 0.5138029293573201}}}\u001b[0m\n",
      "\u001b[34m#metrics {\"StartTime\": 1674588665.151554, \"EndTime\": 1674588665.151571, \"Dimensions\": {\"Algorithm\": \"Linear Learner\", \"Host\": \"algo-1\", \"Operation\": \"training\", \"epoch\": 3, \"model\": 29}, \"Metrics\": {\"validation_binary_classification_cross_entropy_objective\": {\"sum\": 0.5138559796288749, \"count\": 1, \"min\": 0.5138559796288749, \"max\": 0.5138559796288749}}}\u001b[0m\n",
      "\u001b[34m#metrics {\"StartTime\": 1674588665.1516166, \"EndTime\": 1674588665.1516323, \"Dimensions\": {\"Algorithm\": \"Linear Learner\", \"Host\": \"algo-1\", \"Operation\": \"training\", \"epoch\": 3, \"model\": 30}, \"Metrics\": {\"validation_binary_classification_cross_entropy_objective\": {\"sum\": 0.5138064093452731, \"count\": 1, \"min\": 0.5138064093452731, \"max\": 0.5138064093452731}}}\u001b[0m\n",
      "\u001b[34m#metrics {\"StartTime\": 1674588665.151683, \"EndTime\": 1674588665.1517003, \"Dimensions\": {\"Algorithm\": \"Linear Learner\", \"Host\": \"algo-1\", \"Operation\": \"training\", \"epoch\": 3, \"model\": 31}, \"Metrics\": {\"validation_binary_classification_cross_entropy_objective\": {\"sum\": 0.5138558240173821, \"count\": 1, \"min\": 0.5138558240173821, \"max\": 0.5138558240173821}}}\u001b[0m\n",
      "\u001b[34m[01/24/2023 19:31:05 INFO 140302672115520] #quality_metric: host=algo-1, epoch=3, validation binary_classification_cross_entropy_objective <loss>=0.4917242363761175\u001b[0m\n",
      "\u001b[34m[01/24/2023 19:31:05 INFO 140302672115520] #early_stopping_criteria_metric: host=algo-1, epoch=3, criteria=binary_classification_cross_entropy_objective, value=0.4917242363761175\u001b[0m\n",
      "\u001b[34m[01/24/2023 19:31:05 INFO 140302672115520] Saving model for epoch: 3\u001b[0m\n",
      "\u001b[34m[01/24/2023 19:31:05 INFO 140302672115520] Saved checkpoint to \"/tmp/tmpawilop70/mx-mod-0000.params\"\u001b[0m\n",
      "\u001b[34m[01/24/2023 19:31:05 INFO 140302672115520] #progress_metric: host=algo-1, completed 26.666666666666668 % of epochs\u001b[0m\n",
      "\u001b[34m#metrics {\"StartTime\": 1674588616.092796, \"EndTime\": 1674588665.1581302, \"Dimensions\": {\"Algorithm\": \"Linear Learner\", \"Host\": \"algo-1\", \"Operation\": \"training\", \"epoch\": 3, \"Meta\": \"training_data_iter\"}, \"Metrics\": {\"Total Records Seen\": {\"sum\": 5245888.0, \"count\": 1, \"min\": 5245888, \"max\": 5245888}, \"Total Batches Seen\": {\"sum\": 5248.0, \"count\": 1, \"min\": 5248, \"max\": 5248}, \"Max Records Seen Between Resets\": {\"sum\": 1308472.0, \"count\": 1, \"min\": 1308472, \"max\": 1308472}, \"Max Batches Seen Between Resets\": {\"sum\": 1309.0, \"count\": 1, \"min\": 1309, \"max\": 1309}, \"Reset Count\": {\"sum\": 6.0, \"count\": 1, \"min\": 6, \"max\": 6}, \"Number of Records Since Last Reset\": {\"sum\": 1308472.0, \"count\": 1, \"min\": 1308472, \"max\": 1308472}, \"Number of Batches Since Last Reset\": {\"sum\": 1309.0, \"count\": 1, \"min\": 1309, \"max\": 1309}}}\u001b[0m\n",
      "\u001b[34m[01/24/2023 19:31:05 INFO 140302672115520] #throughput_metric: host=algo-1, train throughput=26667.867000899296 records/second\u001b[0m\n",
      "\u001b[34m[2023-01-24 19:31:51.048] [tensorio] [info] epoch_stats={\"data_pipeline\": \"/opt/ml/input/data/train\", \"epoch\": 11, \"duration\": 45886, \"num_examples\": 1309, \"num_bytes\": 549558240}\u001b[0m\n",
      "\u001b[34m#metrics {\"StartTime\": 1674588711.0482712, \"EndTime\": 1674588711.0483534, \"Dimensions\": {\"Algorithm\": \"Linear Learner\", \"Host\": \"algo-1\", \"Operation\": \"training\", \"epoch\": 4, \"model\": 0}, \"Metrics\": {\"train_binary_classification_cross_entropy_objective\": {\"sum\": 0.49192301380962405, \"count\": 1, \"min\": 0.49192301380962405, \"max\": 0.49192301380962405}}}\u001b[0m\n",
      "\u001b[34m#metrics {\"StartTime\": 1674588711.0484457, \"EndTime\": 1674588711.0484626, \"Dimensions\": {\"Algorithm\": \"Linear Learner\", \"Host\": \"algo-1\", \"Operation\": \"training\", \"epoch\": 4, \"model\": 1}, \"Metrics\": {\"train_binary_classification_cross_entropy_objective\": {\"sum\": 0.49280216774663427, \"count\": 1, \"min\": 0.49280216774663427, \"max\": 0.49280216774663427}}}\u001b[0m\n",
      "\u001b[34m#metrics {\"StartTime\": 1674588711.0485182, \"EndTime\": 1674588711.048532, \"Dimensions\": {\"Algorithm\": \"Linear Learner\", \"Host\": \"algo-1\", \"Operation\": \"training\", \"epoch\": 4, \"model\": 2}, \"Metrics\": {\"train_binary_classification_cross_entropy_objective\": {\"sum\": 0.49196879416649497, \"count\": 1, \"min\": 0.49196879416649497, \"max\": 0.49196879416649497}}}\u001b[0m\n",
      "\u001b[34m#metrics {\"StartTime\": 1674588711.0485823, \"EndTime\": 1674588711.0485947, \"Dimensions\": {\"Algorithm\": \"Linear Learner\", \"Host\": \"algo-1\", \"Operation\": \"training\", \"epoch\": 4, \"model\": 3}, \"Metrics\": {\"train_binary_classification_cross_entropy_objective\": {\"sum\": 0.49280195676004485, \"count\": 1, \"min\": 0.49280195676004485, \"max\": 0.49280195676004485}}}\u001b[0m\n",
      "\u001b[34m#metrics {\"StartTime\": 1674588711.0486424, \"EndTime\": 1674588711.0486543, \"Dimensions\": {\"Algorithm\": \"Linear Learner\", \"Host\": \"algo-1\", \"Operation\": \"training\", \"epoch\": 4, \"model\": 4}, \"Metrics\": {\"train_binary_classification_cross_entropy_objective\": {\"sum\": 0.492025899391291, \"count\": 1, \"min\": 0.492025899391291, \"max\": 0.492025899391291}}}\u001b[0m\n",
      "\u001b[34m#metrics {\"StartTime\": 1674588711.0486946, \"EndTime\": 1674588711.0487053, \"Dimensions\": {\"Algorithm\": \"Linear Learner\", \"Host\": \"algo-1\", \"Operation\": \"training\", \"epoch\": 4, \"model\": 5}, \"Metrics\": {\"train_binary_classification_cross_entropy_objective\": {\"sum\": 0.5076984812185305, \"count\": 1, \"min\": 0.5076984812185305, \"max\": 0.5076984812185305}}}\u001b[0m\n",
      "\u001b[34m#metrics {\"StartTime\": 1674588711.0487506, \"EndTime\": 1674588711.0487628, \"Dimensions\": {\"Algorithm\": \"Linear Learner\", \"Host\": \"algo-1\", \"Operation\": \"training\", \"epoch\": 4, \"model\": 6}, \"Metrics\": {\"train_binary_classification_cross_entropy_objective\": {\"sum\": 0.4920259016544447, \"count\": 1, \"min\": 0.4920259016544447, \"max\": 0.4920259016544447}}}\u001b[0m\n",
      "\u001b[34m#metrics {\"StartTime\": 1674588711.0488105, \"EndTime\": 1674588711.0488226, \"Dimensions\": {\"Algorithm\": \"Linear Learner\", \"Host\": \"algo-1\", \"Operation\": \"training\", \"epoch\": 4, \"model\": 7}, \"Metrics\": {\"train_binary_classification_cross_entropy_objective\": {\"sum\": 0.5076985703681223, \"count\": 1, \"min\": 0.5076985703681223, \"max\": 0.5076985703681223}}}\u001b[0m\n",
      "\u001b[34m#metrics {\"StartTime\": 1674588711.0488653, \"EndTime\": 1674588711.0488768, \"Dimensions\": {\"Algorithm\": \"Linear Learner\", \"Host\": \"algo-1\", \"Operation\": \"training\", \"epoch\": 4, \"model\": 8}, \"Metrics\": {\"train_binary_classification_cross_entropy_objective\": {\"sum\": 0.4921252088867561, \"count\": 1, \"min\": 0.4921252088867561, \"max\": 0.4921252088867561}}}\u001b[0m\n",
      "\u001b[34m#metrics {\"StartTime\": 1674588711.0489228, \"EndTime\": 1674588711.0489352, \"Dimensions\": {\"Algorithm\": \"Linear Learner\", \"Host\": \"algo-1\", \"Operation\": \"training\", \"epoch\": 4, \"model\": 9}, \"Metrics\": {\"train_binary_classification_cross_entropy_objective\": {\"sum\": 0.49297369800066, \"count\": 1, \"min\": 0.49297369800066, \"max\": 0.49297369800066}}}\u001b[0m\n",
      "\u001b[34m#metrics {\"StartTime\": 1674588711.0489824, \"EndTime\": 1674588711.0489943, \"Dimensions\": {\"Algorithm\": \"Linear Learner\", \"Host\": \"algo-1\", \"Operation\": \"training\", \"epoch\": 4, \"model\": 10}, \"Metrics\": {\"train_binary_classification_cross_entropy_objective\": {\"sum\": 0.49216439467030565, \"count\": 1, \"min\": 0.49216439467030565, \"max\": 0.49216439467030565}}}\u001b[0m\n",
      "\u001b[34m#metrics {\"StartTime\": 1674588711.0490372, \"EndTime\": 1674588711.0490487, \"Dimensions\": {\"Algorithm\": \"Linear Learner\", \"Host\": \"algo-1\", \"Operation\": \"training\", \"epoch\": 4, \"model\": 11}, \"Metrics\": {\"train_binary_classification_cross_entropy_objective\": {\"sum\": 0.49297369573750627, \"count\": 1, \"min\": 0.49297369573750627, \"max\": 0.49297369573750627}}}\u001b[0m\n",
      "\u001b[34m#metrics {\"StartTime\": 1674588711.04909, \"EndTime\": 1674588711.0491004, \"Dimensions\": {\"Algorithm\": \"Linear Learner\", \"Host\": \"algo-1\", \"Operation\": \"training\", \"epoch\": 4, \"model\": 12}, \"Metrics\": {\"train_binary_classification_cross_entropy_objective\": {\"sum\": 0.4922423227292682, \"count\": 1, \"min\": 0.4922423227292682, \"max\": 0.4922423227292682}}}\u001b[0m\n",
      "\u001b[34m#metrics {\"StartTime\": 1674588711.0491457, \"EndTime\": 1674588711.0491576, \"Dimensions\": {\"Algorithm\": \"Linear Learner\", \"Host\": \"algo-1\", \"Operation\": \"training\", \"epoch\": 4, \"model\": 13}, \"Metrics\": {\"train_binary_classification_cross_entropy_objective\": {\"sum\": 0.5067799616122465, \"count\": 1, \"min\": 0.5067799616122465, \"max\": 0.5067799616122465}}}\u001b[0m\n",
      "\u001b[34m#metrics {\"StartTime\": 1674588711.0492046, \"EndTime\": 1674588711.0492165, \"Dimensions\": {\"Algorithm\": \"Linear Learner\", \"Host\": \"algo-1\", \"Operation\": \"training\", \"epoch\": 4, \"model\": 14}, \"Metrics\": {\"train_binary_classification_cross_entropy_objective\": {\"sum\": 0.4922423232658923, \"count\": 1, \"min\": 0.4922423232658923, \"max\": 0.4922423232658923}}}\u001b[0m\n",
      "\u001b[34m#metrics {\"StartTime\": 1674588711.0492551, \"EndTime\": 1674588711.0492659, \"Dimensions\": {\"Algorithm\": \"Linear Learner\", \"Host\": \"algo-1\", \"Operation\": \"training\", \"epoch\": 4, \"model\": 15}, \"Metrics\": {\"train_binary_classification_cross_entropy_objective\": {\"sum\": 0.5067800086951766, \"count\": 1, \"min\": 0.5067800086951766, \"max\": 0.5067800086951766}}}\u001b[0m\n",
      "\u001b[34m#metrics {\"StartTime\": 1674588711.049311, \"EndTime\": 1674588711.049323, \"Dimensions\": {\"Algorithm\": \"Linear Learner\", \"Host\": \"algo-1\", \"Operation\": \"training\", \"epoch\": 4, \"model\": 16}, \"Metrics\": {\"train_binary_classification_cross_entropy_objective\": {\"sum\": 0.5077631849236445, \"count\": 1, \"min\": 0.5077631849236445, \"max\": 0.5077631849236445}}}\u001b[0m\n",
      "\u001b[34m#metrics {\"StartTime\": 1674588711.0493698, \"EndTime\": 1674588711.049382, \"Dimensions\": {\"Algorithm\": \"Linear Learner\", \"Host\": \"algo-1\", \"Operation\": \"training\", \"epoch\": 4, \"model\": 17}, \"Metrics\": {\"train_binary_classification_cross_entropy_objective\": {\"sum\": 0.5079647354919247, \"count\": 1, \"min\": 0.5079647354919247, \"max\": 0.5079647354919247}}}\u001b[0m\n",
      "\u001b[34m#metrics {\"StartTime\": 1674588711.0494206, \"EndTime\": 1674588711.049431, \"Dimensions\": {\"Algorithm\": \"Linear Learner\", \"Host\": \"algo-1\", \"Operation\": \"training\", \"epoch\": 4, \"model\": 18}, \"Metrics\": {\"train_binary_classification_cross_entropy_objective\": {\"sum\": 0.5077668778305754, \"count\": 1, \"min\": 0.5077668778305754, \"max\": 0.5077668778305754}}}\u001b[0m\n",
      "\u001b[34m#metrics {\"StartTime\": 1674588711.0494676, \"EndTime\": 1674588711.0494776, \"Dimensions\": {\"Algorithm\": \"Linear Learner\", \"Host\": \"algo-1\", \"Operation\": \"training\", \"epoch\": 4, \"model\": 19}, \"Metrics\": {\"train_binary_classification_cross_entropy_objective\": {\"sum\": 0.5079647342786876, \"count\": 1, \"min\": 0.5079647342786876, \"max\": 0.5079647342786876}}}\u001b[0m\n",
      "\u001b[34m#metrics {\"StartTime\": 1674588711.049525, \"EndTime\": 1674588711.049537, \"Dimensions\": {\"Algorithm\": \"Linear Learner\", \"Host\": \"algo-1\", \"Operation\": \"training\", \"epoch\": 4, \"model\": 20}, \"Metrics\": {\"train_binary_classification_cross_entropy_objective\": {\"sum\": 0.507779586978644, \"count\": 1, \"min\": 0.507779586978644, \"max\": 0.507779586978644}}}\u001b[0m\n",
      "\u001b[34m#metrics {\"StartTime\": 1674588711.0495868, \"EndTime\": 1674588711.0495985, \"Dimensions\": {\"Algorithm\": \"Linear Learner\", \"Host\": \"algo-1\", \"Operation\": \"training\", \"epoch\": 4, \"model\": 21}, \"Metrics\": {\"train_binary_classification_cross_entropy_objective\": {\"sum\": 0.510590343650328, \"count\": 1, \"min\": 0.510590343650328, \"max\": 0.510590343650328}}}\u001b[0m\n",
      "\u001b[34m#metrics {\"StartTime\": 1674588711.0496442, \"EndTime\": 1674588711.0496564, \"Dimensions\": {\"Algorithm\": \"Linear Learner\", \"Host\": \"algo-1\", \"Operation\": \"training\", \"epoch\": 4, \"model\": 22}, \"Metrics\": {\"train_binary_classification_cross_entropy_objective\": {\"sum\": 0.5077795854854292, \"count\": 1, \"min\": 0.5077795854854292, \"max\": 0.5077795854854292}}}\u001b[0m\n",
      "\u001b[34m#metrics {\"StartTime\": 1674588711.0496955, \"EndTime\": 1674588711.0497062, \"Dimensions\": {\"Algorithm\": \"Linear Learner\", \"Host\": \"algo-1\", \"Operation\": \"training\", \"epoch\": 4, \"model\": 23}, \"Metrics\": {\"train_binary_classification_cross_entropy_objective\": {\"sum\": 0.5105903452368686, \"count\": 1, \"min\": 0.5105903452368686, \"max\": 0.5105903452368686}}}\u001b[0m\n",
      "\u001b[34m#metrics {\"StartTime\": 1674588711.0497508, \"EndTime\": 1674588711.0497627, \"Dimensions\": {\"Algorithm\": \"Linear Learner\", \"Host\": \"algo-1\", \"Operation\": \"training\", \"epoch\": 4, \"model\": 24}, \"Metrics\": {\"train_binary_classification_cross_entropy_objective\": {\"sum\": 0.5137502424140954, \"count\": 1, \"min\": 0.5137502424140954, \"max\": 0.5137502424140954}}}\u001b[0m\n",
      "\u001b[34m#metrics {\"StartTime\": 1674588711.0498102, \"EndTime\": 1674588711.0498233, \"Dimensions\": {\"Algorithm\": \"Linear Learner\", \"Host\": \"algo-1\", \"Operation\": \"training\", \"epoch\": 4, \"model\": 25}, \"Metrics\": {\"train_binary_classification_cross_entropy_objective\": {\"sum\": 0.5138230927493594, \"count\": 1, \"min\": 0.5138230927493594, \"max\": 0.5138230927493594}}}\u001b[0m\n",
      "\u001b[34m#metrics {\"StartTime\": 1674588711.0498781, \"EndTime\": 1674588711.049889, \"Dimensions\": {\"Algorithm\": \"Linear Learner\", \"Host\": \"algo-1\", \"Operation\": \"training\", \"epoch\": 4, \"model\": 26}, \"Metrics\": {\"train_binary_classification_cross_entropy_objective\": {\"sum\": 0.513753238969622, \"count\": 1, \"min\": 0.513753238969622, \"max\": 0.513753238969622}}}\u001b[0m\n",
      "\u001b[34m#metrics {\"StartTime\": 1674588711.0499349, \"EndTime\": 1674588711.04995, \"Dimensions\": {\"Algorithm\": \"Linear Learner\", \"Host\": \"algo-1\", \"Operation\": \"training\", \"epoch\": 4, \"model\": 27}, \"Metrics\": {\"train_binary_classification_cross_entropy_objective\": {\"sum\": 0.51382330296601, \"count\": 1, \"min\": 0.51382330296601, \"max\": 0.51382330296601}}}\u001b[0m\n",
      "\u001b[34m#metrics {\"StartTime\": 1674588711.0499995, \"EndTime\": 1674588711.0500157, \"Dimensions\": {\"Algorithm\": \"Linear Learner\", \"Host\": \"algo-1\", \"Operation\": \"training\", \"epoch\": 4, \"model\": 28}, \"Metrics\": {\"train_binary_classification_cross_entropy_objective\": {\"sum\": 0.513759694090677, \"count\": 1, \"min\": 0.513759694090677, \"max\": 0.513759694090677}}}\u001b[0m\n",
      "\u001b[34m#metrics {\"StartTime\": 1674588711.0500782, \"EndTime\": 1674588711.050096, \"Dimensions\": {\"Algorithm\": \"Linear Learner\", \"Host\": \"algo-1\", \"Operation\": \"training\", \"epoch\": 4, \"model\": 29}, \"Metrics\": {\"train_binary_classification_cross_entropy_objective\": {\"sum\": 0.5148036290206676, \"count\": 1, \"min\": 0.5148036290206676, \"max\": 0.5148036290206676}}}\u001b[0m\n",
      "\u001b[34m#metrics {\"StartTime\": 1674588711.0501578, \"EndTime\": 1674588711.0501697, \"Dimensions\": {\"Algorithm\": \"Linear Learner\", \"Host\": \"algo-1\", \"Operation\": \"training\", \"epoch\": 4, \"model\": 30}, \"Metrics\": {\"train_binary_classification_cross_entropy_objective\": {\"sum\": 0.5137597124525531, \"count\": 1, \"min\": 0.5137597124525531, \"max\": 0.5137597124525531}}}\u001b[0m\n",
      "\u001b[34m#metrics {\"StartTime\": 1674588711.0502164, \"EndTime\": 1674588711.0502312, \"Dimensions\": {\"Algorithm\": \"Linear Learner\", \"Host\": \"algo-1\", \"Operation\": \"training\", \"epoch\": 4, \"model\": 31}, \"Metrics\": {\"train_binary_classification_cross_entropy_objective\": {\"sum\": 0.5148036092355711, \"count\": 1, \"min\": 0.5148036092355711, \"max\": 0.5148036092355711}}}\u001b[0m\n",
      "\u001b[34m[01/24/2023 19:31:51 INFO 140302672115520] #quality_metric: host=algo-1, epoch=4, train binary_classification_cross_entropy_objective <loss>=0.49192301380962405\u001b[0m\n",
      "\u001b[34m[2023-01-24 19:31:55.049] [tensorio] [info] epoch_stats={\"data_pipeline\": \"/opt/ml/input/data/validation\", \"epoch\": 14, \"duration\": 3974, \"num_examples\": 164, \"num_bytes\": 68694780}\u001b[0m\n",
      "\u001b[34m#metrics {\"StartTime\": 1674588715.0583296, \"EndTime\": 1674588715.058384, \"Dimensions\": {\"Algorithm\": \"Linear Learner\", \"Host\": \"algo-1\", \"Operation\": \"training\", \"epoch\": 4, \"model\": 0}, \"Metrics\": {\"validation_binary_classification_cross_entropy_objective\": {\"sum\": 0.4917206440642812, \"count\": 1, \"min\": 0.4917206440642812, \"max\": 0.4917206440642812}}}\u001b[0m\n",
      "\u001b[34m#metrics {\"StartTime\": 1674588715.0584648, \"EndTime\": 1674588715.0584834, \"Dimensions\": {\"Algorithm\": \"Linear Learner\", \"Host\": \"algo-1\", \"Operation\": \"training\", \"epoch\": 4, \"model\": 1}, \"Metrics\": {\"validation_binary_classification_cross_entropy_objective\": {\"sum\": 0.49234515020863195, \"count\": 1, \"min\": 0.49234515020863195, \"max\": 0.49234515020863195}}}\u001b[0m\n",
      "\u001b[34m#metrics {\"StartTime\": 1674588715.0585492, \"EndTime\": 1674588715.0585675, \"Dimensions\": {\"Algorithm\": \"Linear Learner\", \"Host\": \"algo-1\", \"Operation\": \"training\", \"epoch\": 4, \"model\": 2}, \"Metrics\": {\"validation_binary_classification_cross_entropy_objective\": {\"sum\": 0.4917450726430571, \"count\": 1, \"min\": 0.4917450726430571, \"max\": 0.4917450726430571}}}\u001b[0m\n",
      "\u001b[34m#metrics {\"StartTime\": 1674588715.0586214, \"EndTime\": 1674588715.0586386, \"Dimensions\": {\"Algorithm\": \"Linear Learner\", \"Host\": \"algo-1\", \"Operation\": \"training\", \"epoch\": 4, \"model\": 3}, \"Metrics\": {\"validation_binary_classification_cross_entropy_objective\": {\"sum\": 0.4923451877121212, \"count\": 1, \"min\": 0.4923451877121212, \"max\": 0.4923451877121212}}}\u001b[0m\n",
      "\u001b[34m#metrics {\"StartTime\": 1674588715.0587323, \"EndTime\": 1674588715.0587504, \"Dimensions\": {\"Algorithm\": \"Linear Learner\", \"Host\": \"algo-1\", \"Operation\": \"training\", \"epoch\": 4, \"model\": 4}, \"Metrics\": {\"validation_binary_classification_cross_entropy_objective\": {\"sum\": 0.49175073678944553, \"count\": 1, \"min\": 0.49175073678944553, \"max\": 0.49175073678944553}}}\u001b[0m\n",
      "\u001b[34m#metrics {\"StartTime\": 1674588715.0588114, \"EndTime\": 1674588715.058827, \"Dimensions\": {\"Algorithm\": \"Linear Learner\", \"Host\": \"algo-1\", \"Operation\": \"training\", \"epoch\": 4, \"model\": 5}, \"Metrics\": {\"validation_binary_classification_cross_entropy_objective\": {\"sum\": 0.5078313293638018, \"count\": 1, \"min\": 0.5078313293638018, \"max\": 0.5078313293638018}}}\u001b[0m\n",
      "\u001b[34m#metrics {\"StartTime\": 1674588715.0588784, \"EndTime\": 1674588715.0588968, \"Dimensions\": {\"Algorithm\": \"Linear Learner\", \"Host\": \"algo-1\", \"Operation\": \"training\", \"epoch\": 4, \"model\": 6}, \"Metrics\": {\"validation_binary_classification_cross_entropy_objective\": {\"sum\": 0.4917507407077205, \"count\": 1, \"min\": 0.4917507407077205, \"max\": 0.4917507407077205}}}\u001b[0m\n",
      "\u001b[34m#metrics {\"StartTime\": 1674588715.058957, \"EndTime\": 1674588715.0589755, \"Dimensions\": {\"Algorithm\": \"Linear Learner\", \"Host\": \"algo-1\", \"Operation\": \"training\", \"epoch\": 4, \"model\": 7}, \"Metrics\": {\"validation_binary_classification_cross_entropy_objective\": {\"sum\": 0.5078313189150685, \"count\": 1, \"min\": 0.5078313189150685, \"max\": 0.5078313189150685}}}\u001b[0m\n",
      "\u001b[34m#metrics {\"StartTime\": 1674588715.0590303, \"EndTime\": 1674588715.0590415, \"Dimensions\": {\"Algorithm\": \"Linear Learner\", \"Host\": \"algo-1\", \"Operation\": \"training\", \"epoch\": 4, \"model\": 8}, \"Metrics\": {\"validation_binary_classification_cross_entropy_objective\": {\"sum\": 0.49196412315385213, \"count\": 1, \"min\": 0.49196412315385213, \"max\": 0.49196412315385213}}}\u001b[0m\n",
      "\u001b[34m#metrics {\"StartTime\": 1674588715.0590987, \"EndTime\": 1674588715.0591164, \"Dimensions\": {\"Algorithm\": \"Linear Learner\", \"Host\": \"algo-1\", \"Operation\": \"training\", \"epoch\": 4, \"model\": 9}, \"Metrics\": {\"validation_binary_classification_cross_entropy_objective\": {\"sum\": 0.492532769436889, \"count\": 1, \"min\": 0.492532769436889, \"max\": 0.492532769436889}}}\u001b[0m\n",
      "\u001b[34m#metrics {\"StartTime\": 1674588715.059171, \"EndTime\": 1674588715.0591867, \"Dimensions\": {\"Algorithm\": \"Linear Learner\", \"Host\": \"algo-1\", \"Operation\": \"training\", \"epoch\": 4, \"model\": 10}, \"Metrics\": {\"validation_binary_classification_cross_entropy_objective\": {\"sum\": 0.4919833456512456, \"count\": 1, \"min\": 0.4919833456512456, \"max\": 0.4919833456512456}}}\u001b[0m\n",
      "\u001b[34m#metrics {\"StartTime\": 1674588715.059233, \"EndTime\": 1674588715.059249, \"Dimensions\": {\"Algorithm\": \"Linear Learner\", \"Host\": \"algo-1\", \"Operation\": \"training\", \"epoch\": 4, \"model\": 11}, \"Metrics\": {\"validation_binary_classification_cross_entropy_objective\": {\"sum\": 0.4925327702765193, \"count\": 1, \"min\": 0.4925327702765193, \"max\": 0.4925327702765193}}}\u001b[0m\n",
      "\u001b[34m#metrics {\"StartTime\": 1674588715.0592992, \"EndTime\": 1674588715.0593154, \"Dimensions\": {\"Algorithm\": \"Linear Learner\", \"Host\": \"algo-1\", \"Operation\": \"training\", \"epoch\": 4, \"model\": 12}, \"Metrics\": {\"validation_binary_classification_cross_entropy_objective\": {\"sum\": 0.49200329013745375, \"count\": 1, \"min\": 0.49200329013745375, \"max\": 0.49200329013745375}}}\u001b[0m\n",
      "\u001b[34m#metrics {\"StartTime\": 1674588715.0593696, \"EndTime\": 1674588715.059386, \"Dimensions\": {\"Algorithm\": \"Linear Learner\", \"Host\": \"algo-1\", \"Operation\": \"training\", \"epoch\": 4, \"model\": 13}, \"Metrics\": {\"validation_binary_classification_cross_entropy_objective\": {\"sum\": 0.5061373902318769, \"count\": 1, \"min\": 0.5061373902318769, \"max\": 0.5061373902318769}}}\u001b[0m\n",
      "\u001b[34m#metrics {\"StartTime\": 1674588715.059434, \"EndTime\": 1674588715.0594504, \"Dimensions\": {\"Algorithm\": \"Linear Learner\", \"Host\": \"algo-1\", \"Operation\": \"training\", \"epoch\": 4, \"model\": 14}, \"Metrics\": {\"validation_binary_classification_cross_entropy_objective\": {\"sum\": 0.4920032903240383, \"count\": 1, \"min\": 0.4920032903240383, \"max\": 0.4920032903240383}}}\u001b[0m\n",
      "\u001b[34m#metrics {\"StartTime\": 1674588715.0594995, \"EndTime\": 1674588715.059516, \"Dimensions\": {\"Algorithm\": \"Linear Learner\", \"Host\": \"algo-1\", \"Operation\": \"training\", \"epoch\": 4, \"model\": 15}, \"Metrics\": {\"validation_binary_classification_cross_entropy_objective\": {\"sum\": 0.5061373915379686, \"count\": 1, \"min\": 0.5061373915379686, \"max\": 0.5061373915379686}}}\u001b[0m\n",
      "\u001b[34m#metrics {\"StartTime\": 1674588715.059563, \"EndTime\": 1674588715.0595787, \"Dimensions\": {\"Algorithm\": \"Linear Learner\", \"Host\": \"algo-1\", \"Operation\": \"training\", \"epoch\": 4, \"model\": 16}, \"Metrics\": {\"validation_binary_classification_cross_entropy_objective\": {\"sum\": 0.5077646530110599, \"count\": 1, \"min\": 0.5077646530110599, \"max\": 0.5077646530110599}}}\u001b[0m\n",
      "\u001b[34m#metrics {\"StartTime\": 1674588715.059638, \"EndTime\": 1674588715.0596547, \"Dimensions\": {\"Algorithm\": \"Linear Learner\", \"Host\": \"algo-1\", \"Operation\": \"training\", \"epoch\": 4, \"model\": 17}, \"Metrics\": {\"validation_binary_classification_cross_entropy_objective\": {\"sum\": 0.5075847762009094, \"count\": 1, \"min\": 0.5075847762009094, \"max\": 0.5075847762009094}}}\u001b[0m\n",
      "\u001b[34m#metrics {\"StartTime\": 1674588715.0597186, \"EndTime\": 1674588715.0597355, \"Dimensions\": {\"Algorithm\": \"Linear Learner\", \"Host\": \"algo-1\", \"Operation\": \"training\", \"epoch\": 4, \"model\": 18}, \"Metrics\": {\"validation_binary_classification_cross_entropy_objective\": {\"sum\": 0.5077984095099332, \"count\": 1, \"min\": 0.5077984095099332, \"max\": 0.5077984095099332}}}\u001b[0m\n",
      "\u001b[34m#metrics {\"StartTime\": 1674588715.0597825, \"EndTime\": 1674588715.0597982, \"Dimensions\": {\"Algorithm\": \"Linear Learner\", \"Host\": \"algo-1\", \"Operation\": \"training\", \"epoch\": 4, \"model\": 19}, \"Metrics\": {\"validation_binary_classification_cross_entropy_objective\": {\"sum\": 0.5075848095995391, \"count\": 1, \"min\": 0.5075848095995391, \"max\": 0.5075848095995391}}}\u001b[0m\n",
      "\u001b[34m#metrics {\"StartTime\": 1674588715.0598445, \"EndTime\": 1674588715.0598547, \"Dimensions\": {\"Algorithm\": \"Linear Learner\", \"Host\": \"algo-1\", \"Operation\": \"training\", \"epoch\": 4, \"model\": 20}, \"Metrics\": {\"validation_binary_classification_cross_entropy_objective\": {\"sum\": 0.5078001253412139, \"count\": 1, \"min\": 0.5078001253412139, \"max\": 0.5078001253412139}}}\u001b[0m\n",
      "\u001b[34m#metrics {\"StartTime\": 1674588715.0598958, \"EndTime\": 1674588715.0599115, \"Dimensions\": {\"Algorithm\": \"Linear Learner\", \"Host\": \"algo-1\", \"Operation\": \"training\", \"epoch\": 4, \"model\": 21}, \"Metrics\": {\"validation_binary_classification_cross_entropy_objective\": {\"sum\": 0.5094025302106316, \"count\": 1, \"min\": 0.5094025302106316, \"max\": 0.5094025302106316}}}\u001b[0m\n",
      "\u001b[34m#metrics {\"StartTime\": 1674588715.059972, \"EndTime\": 1674588715.059991, \"Dimensions\": {\"Algorithm\": \"Linear Learner\", \"Host\": \"algo-1\", \"Operation\": \"training\", \"epoch\": 4, \"model\": 22}, \"Metrics\": {\"validation_binary_classification_cross_entropy_objective\": {\"sum\": 0.5078001279533971, \"count\": 1, \"min\": 0.5078001279533971, \"max\": 0.5078001279533971}}}\u001b[0m\n",
      "\u001b[34m#metrics {\"StartTime\": 1674588715.0600402, \"EndTime\": 1674588715.060057, \"Dimensions\": {\"Algorithm\": \"Linear Learner\", \"Host\": \"algo-1\", \"Operation\": \"training\", \"epoch\": 4, \"model\": 23}, \"Metrics\": {\"validation_binary_classification_cross_entropy_objective\": {\"sum\": 0.5094025115521793, \"count\": 1, \"min\": 0.5094025115521793, \"max\": 0.5094025115521793}}}\u001b[0m\n",
      "\u001b[34m#metrics {\"StartTime\": 1674588715.0601003, \"EndTime\": 1674588715.0601163, \"Dimensions\": {\"Algorithm\": \"Linear Learner\", \"Host\": \"algo-1\", \"Operation\": \"training\", \"epoch\": 4, \"model\": 24}, \"Metrics\": {\"validation_binary_classification_cross_entropy_objective\": {\"sum\": 0.5137612112968171, \"count\": 1, \"min\": 0.5137612112968171, \"max\": 0.5137612112968171}}}\u001b[0m\n",
      "\u001b[34m#metrics {\"StartTime\": 1674588715.0601776, \"EndTime\": 1674588715.0601954, \"Dimensions\": {\"Algorithm\": \"Linear Learner\", \"Host\": \"algo-1\", \"Operation\": \"training\", \"epoch\": 4, \"model\": 25}, \"Metrics\": {\"validation_binary_classification_cross_entropy_objective\": {\"sum\": 0.513861701056712, \"count\": 1, \"min\": 0.513861701056712, \"max\": 0.513861701056712}}}\u001b[0m\n",
      "\u001b[34m#metrics {\"StartTime\": 1674588715.0602524, \"EndTime\": 1674588715.0602698, \"Dimensions\": {\"Algorithm\": \"Linear Learner\", \"Host\": \"algo-1\", \"Operation\": \"training\", \"epoch\": 4, \"model\": 26}, \"Metrics\": {\"validation_binary_classification_cross_entropy_objective\": {\"sum\": 0.5137531377844731, \"count\": 1, \"min\": 0.5137531377844731, \"max\": 0.5137531377844731}}}\u001b[0m\n",
      "\u001b[34m#metrics {\"StartTime\": 1674588715.0603223, \"EndTime\": 1674588715.0603392, \"Dimensions\": {\"Algorithm\": \"Linear Learner\", \"Host\": \"algo-1\", \"Operation\": \"training\", \"epoch\": 4, \"model\": 27}, \"Metrics\": {\"validation_binary_classification_cross_entropy_objective\": {\"sum\": 0.5138633847954547, \"count\": 1, \"min\": 0.5138633847954547, \"max\": 0.5138633847954547}}}\u001b[0m\n",
      "\u001b[34m#metrics {\"StartTime\": 1674588715.0603826, \"EndTime\": 1674588715.060398, \"Dimensions\": {\"Algorithm\": \"Linear Learner\", \"Host\": \"algo-1\", \"Operation\": \"training\", \"epoch\": 4, \"model\": 28}, \"Metrics\": {\"validation_binary_classification_cross_entropy_objective\": {\"sum\": 0.5137544677589585, \"count\": 1, \"min\": 0.5137544677589585, \"max\": 0.5137544677589585}}}\u001b[0m\n",
      "\u001b[34m#metrics {\"StartTime\": 1674588715.0604525, \"EndTime\": 1674588715.0604692, \"Dimensions\": {\"Algorithm\": \"Linear Learner\", \"Host\": \"algo-1\", \"Operation\": \"training\", \"epoch\": 4, \"model\": 29}, \"Metrics\": {\"validation_binary_classification_cross_entropy_objective\": {\"sum\": 0.5139753120000728, \"count\": 1, \"min\": 0.5139753120000728, \"max\": 0.5139753120000728}}}\u001b[0m\n",
      "\u001b[34m#metrics {\"StartTime\": 1674588715.0605328, \"EndTime\": 1674588715.060551, \"Dimensions\": {\"Algorithm\": \"Linear Learner\", \"Host\": \"algo-1\", \"Operation\": \"training\", \"epoch\": 4, \"model\": 30}, \"Metrics\": {\"validation_binary_classification_cross_entropy_objective\": {\"sum\": 0.5137541798590384, \"count\": 1, \"min\": 0.5137541798590384, \"max\": 0.5137541798590384}}}\u001b[0m\n",
      "\u001b[34m#metrics {\"StartTime\": 1674588715.0606055, \"EndTime\": 1674588715.0606232, \"Dimensions\": {\"Algorithm\": \"Linear Learner\", \"Host\": \"algo-1\", \"Operation\": \"training\", \"epoch\": 4, \"model\": 31}, \"Metrics\": {\"validation_binary_classification_cross_entropy_objective\": {\"sum\": 0.5139753112537347, \"count\": 1, \"min\": 0.5139753112537347, \"max\": 0.5139753112537347}}}\u001b[0m\n",
      "\u001b[34m[01/24/2023 19:31:55 INFO 140302672115520] #quality_metric: host=algo-1, epoch=4, validation binary_classification_cross_entropy_objective <loss>=0.4917206440642812\u001b[0m\n",
      "\u001b[34m[01/24/2023 19:31:55 INFO 140302672115520] #early_stopping_criteria_metric: host=algo-1, epoch=4, criteria=binary_classification_cross_entropy_objective, value=0.4917206440642812\u001b[0m\n",
      "\u001b[34m[01/24/2023 19:31:55 INFO 140302672115520] Saving model for epoch: 4\u001b[0m\n",
      "\u001b[34m[01/24/2023 19:31:55 INFO 140302672115520] Saved checkpoint to \"/tmp/tmp7krqy8fz/mx-mod-0000.params\"\u001b[0m\n",
      "\u001b[34m[01/24/2023 19:31:55 INFO 140302672115520] Early stop condition met. Stopping training.\u001b[0m\n",
      "\u001b[34m[01/24/2023 19:31:55 INFO 140302672115520] #progress_metric: host=algo-1, completed 100 % epochs\u001b[0m\n",
      "\u001b[34m#metrics {\"StartTime\": 1674588665.1616666, \"EndTime\": 1674588715.0670578, \"Dimensions\": {\"Algorithm\": \"Linear Learner\", \"Host\": \"algo-1\", \"Operation\": \"training\", \"epoch\": 4, \"Meta\": \"training_data_iter\"}, \"Metrics\": {\"Total Records Seen\": {\"sum\": 6554360.0, \"count\": 1, \"min\": 6554360, \"max\": 6554360}, \"Total Batches Seen\": {\"sum\": 6557.0, \"count\": 1, \"min\": 6557, \"max\": 6557}, \"Max Records Seen Between Resets\": {\"sum\": 1308472.0, \"count\": 1, \"min\": 1308472, \"max\": 1308472}, \"Max Batches Seen Between Resets\": {\"sum\": 1309.0, \"count\": 1, \"min\": 1309, \"max\": 1309}, \"Reset Count\": {\"sum\": 7.0, \"count\": 1, \"min\": 7, \"max\": 7}, \"Number of Records Since Last Reset\": {\"sum\": 1308472.0, \"count\": 1, \"min\": 1308472, \"max\": 1308472}, \"Number of Batches Since Last Reset\": {\"sum\": 1309.0, \"count\": 1, \"min\": 1309, \"max\": 1309}}}\u001b[0m\n",
      "\u001b[34m[01/24/2023 19:31:55 INFO 140302672115520] #throughput_metric: host=algo-1, train throughput=26218.971761777113 records/second\u001b[0m\n",
      "\u001b[34m[01/24/2023 19:31:55 WARNING 140302672115520] wait_for_all_workers will not sync workers since the kv store is not running distributed\u001b[0m\n",
      "\u001b[34m[01/24/2023 19:31:55 WARNING 140302672115520] wait_for_all_workers will not sync workers since the kv store is not running distributed\u001b[0m\n",
      "\u001b[34m[2023-01-24 19:31:59.044] [tensorio] [info] epoch_stats={\"data_pipeline\": \"/opt/ml/input/data/validation\", \"epoch\": 17, \"duration\": 3959, \"num_examples\": 164, \"num_bytes\": 68694780}\u001b[0m\n",
      "\u001b[34m[01/24/2023 19:31:59 INFO 140302672115520] #early_stopping_criteria_metric: host=algo-1, epoch=4, criteria=binary_classification_cross_entropy_objective, value=0.4917206440642812\u001b[0m\n",
      "\u001b[34m[2023-01-24 19:31:59.726] [tensorio] [info] epoch_stats={\"data_pipeline\": \"/opt/ml/input/data/validation\", \"epoch\": 19, \"duration\": 671, \"num_examples\": 164, \"num_bytes\": 68694780}\u001b[0m\n",
      "\u001b[34m[01/24/2023 19:31:59 INFO 140302672115520] #validation_score (algo-1) : ('binary_classification_cross_entropy_objective', 0.4921706439541217)\u001b[0m\n",
      "\u001b[34m[01/24/2023 19:31:59 INFO 140302672115520] #validation_score (algo-1) : ('binary_classification_accuracy', 0.7902224885209619)\u001b[0m\n",
      "\u001b[34m[01/24/2023 19:31:59 INFO 140302672115520] #validation_score (algo-1) : ('binary_f_1.000', 0.004757070340826686)\u001b[0m\n",
      "\u001b[34m[01/24/2023 19:31:59 INFO 140302672115520] #validation_score (algo-1) : ('precision', 0.5774647887323944)\u001b[0m\n",
      "\u001b[34m[01/24/2023 19:31:59 INFO 140302672115520] #validation_score (algo-1) : ('recall', 0.0023883727026475987)\u001b[0m\n",
      "\u001b[34m[01/24/2023 19:31:59 INFO 140302672115520] #validation_score (algo-1) : ('roc_auc_score', 0.6441570096682978)\u001b[0m\n",
      "\u001b[34m[01/24/2023 19:31:59 INFO 140302672115520] #validation_score (algo-1) : ('binary_balanced_accuracy', 0.5)\u001b[0m\n",
      "\u001b[34m[01/24/2023 19:31:59 INFO 140302672115520] #validation_score (algo-1) : ('binary_log_loss', 0.7514129537241511)\u001b[0m\n",
      "\u001b[34m[01/24/2023 19:31:59 INFO 140302672115520] #quality_metric: host=algo-1, validation binary_classification_cross_entropy_objective <loss>=0.4921706439541217\u001b[0m\n",
      "\u001b[34m[01/24/2023 19:31:59 INFO 140302672115520] #quality_metric: host=algo-1, validation binary_classification_accuracy <score>=0.7902224885209619\u001b[0m\n",
      "\u001b[34m[01/24/2023 19:31:59 INFO 140302672115520] #quality_metric: host=algo-1, validation binary_f_1.000 <score>=0.004757070340826686\u001b[0m\n",
      "\u001b[34m[01/24/2023 19:31:59 INFO 140302672115520] #quality_metric: host=algo-1, validation precision <score>=0.5774647887323944\u001b[0m\n",
      "\u001b[34m[01/24/2023 19:31:59 INFO 140302672115520] #quality_metric: host=algo-1, validation recall <score>=0.0023883727026475987\u001b[0m\n",
      "\u001b[34m[01/24/2023 19:31:59 INFO 140302672115520] #quality_metric: host=algo-1, validation roc_auc_score <score>=0.6441570096682978\u001b[0m\n",
      "\u001b[34m[01/24/2023 19:31:59 INFO 140302672115520] #quality_metric: host=algo-1, validation binary_balanced_accuracy <score>=0.5\u001b[0m\n",
      "\u001b[34m[01/24/2023 19:31:59 INFO 140302672115520] #quality_metric: host=algo-1, validation binary_log_loss <score>=0.7514129537241511\u001b[0m\n",
      "\u001b[34m[01/24/2023 19:31:59 INFO 140302672115520] Best model found for hyperparameters: {\"optimizer\": \"adam\", \"learning_rate\": 0.005, \"l1\": 0.0, \"wd\": 0.0001, \"lr_scheduler_step\": 10, \"lr_scheduler_factor\": 0.99, \"lr_scheduler_minimum_lr\": 1e-05}\u001b[0m\n",
      "\u001b[34m[01/24/2023 19:31:59 INFO 140302672115520] Saved checkpoint to \"/tmp/tmp_rjqk4c4/mx-mod-0000.params\"\u001b[0m\n",
      "\u001b[34m[01/24/2023 19:31:59 INFO 140302672115520] Test data is not provided.\u001b[0m\n",
      "\u001b[34m#metrics {\"StartTime\": 1674588463.2963927, \"EndTime\": 1674588719.9786124, \"Dimensions\": {\"Algorithm\": \"Linear Learner\", \"Host\": \"algo-1\", \"Operation\": \"training\"}, \"Metrics\": {\"initialize.time\": {\"sum\": 303.09581756591797, \"count\": 1, \"min\": 303.09581756591797, \"max\": 303.09581756591797}, \"epochs\": {\"sum\": 15.0, \"count\": 1, \"min\": 15, \"max\": 15}, \"check_early_stopping.time\": {\"sum\": 2.203702926635742, \"count\": 6, \"min\": 0.20885467529296875, \"max\": 0.8981227874755859}, \"update.time\": {\"sum\": 251435.30583381653, \"count\": 5, \"min\": 49062.206506729126, \"max\": 53185.10317802429}, \"finalize.time\": {\"sum\": 4904.915332794189, \"count\": 1, \"min\": 4904.915332794189, \"max\": 4904.915332794189}, \"setuptime\": {\"sum\": 2.8409957885742188, \"count\": 1, \"min\": 2.8409957885742188, \"max\": 2.8409957885742188}, \"totaltime\": {\"sum\": 256813.3246898651, \"count\": 1, \"min\": 256813.3246898651, \"max\": 256813.3246898651}}}\u001b[0m\n",
      "\n",
      "2023-01-24 19:32:18 Uploading - Uploading generated training model\n",
      "2023-01-24 19:32:18 Completed - Training job completed\n",
      "Training seconds: 399\n",
      "Billable seconds: 399\n"
     ]
    }
   ],
   "source": [
    "### Create train, val, test record\n",
    "train_records = classifier_estimator.record_set(train_features, train_labels, channel='train')\n",
    "val_records = classifier_estimator.record_set(val_features, val_labels, channel='validation')\n",
    "test_records = classifier_estimator.record_set(test_features, test_labels, channel='test')\n",
    "\n",
    "### Fit the classifier\n",
    "classifier_estimator.fit([train_records, val_records])"
   ]
  },
  {
   "cell_type": "markdown",
   "metadata": {},
   "source": [
    "## Model evaluation\n",
    "In this section, you'll evaluate your trained model. First, use the `estimator.deploy` function with `initial_instance_count= 1` and `instance_type= 'ml.m4.xlarge'` to deploy your model on Amazon SageMaker."
   ]
  },
  {
   "cell_type": "code",
   "execution_count": 41,
   "metadata": {},
   "outputs": [
    {
     "name": "stderr",
     "output_type": "stream",
     "text": [
      "INFO:sagemaker.image_uris:Same images used for training and inference. Defaulting to image scope: inference.\n",
      "INFO:sagemaker.image_uris:Ignoring unnecessary instance type: None.\n",
      "INFO:sagemaker:Creating model with name: linear-learner-2023-01-24-19-32-47-021\n",
      "INFO:sagemaker:Creating endpoint-config with name linear-learner-2023-01-24-19-32-47-021\n",
      "INFO:sagemaker:Creating endpoint with name linear-learner-2023-01-24-19-32-47-021\n"
     ]
    },
    {
     "name": "stdout",
     "output_type": "stream",
     "text": [
      "---------!"
     ]
    }
   ],
   "source": [
    "### Deloy an endpoint for batch prediction\n",
    "classifier_predictor = classifier_estimator.deploy(initial_instance_count=1, instance_type='ml.m4.xlarge')"
   ]
  },
  {
   "cell_type": "markdown",
   "metadata": {},
   "source": [
    "Once your endpoint is 'InService', evaluate how your model performs on the test set. Use the `predict_batches` function to predict the metrics on your test set."
   ]
  },
  {
   "cell_type": "code",
   "execution_count": 42,
   "metadata": {},
   "outputs": [],
   "source": [
    "from sklearn.metrics import roc_auc_score\n",
    "from sklearn.metrics import precision_recall_fscore_support\n",
    "\n",
    "def predict_batches(predictor, features, labels):\n",
    "    \"\"\"\n",
    "    Return evaluation results\n",
    "    predictor : Predictor object of model\n",
    "    features: Input features to model\n",
    "    label: Ground truth target values\n",
    "    \"\"\"\n",
    "    prediction_batches = [predictor.predict(batch) for batch in np.array_split(features, 100)]\n",
    "\n",
    "    # Parse protobuf responses to extract predicted labels\n",
    "    extract_label = lambda x: x.label['predicted_label'].float32_tensor.values\n",
    "    preds = np.concatenate([np.array([extract_label(x) for x in batch]) for batch in prediction_batches])\n",
    "    preds = preds.reshape((-1,))\n",
    "    \n",
    "    # Parse protobuf responses to extract predicted score\n",
    "    extract_score = lambda x: x.label['score'].float32_tensor.values\n",
    "    score = np.concatenate([np.array([extract_score(x) for x in batch]) for batch in prediction_batches])\n",
    "    score = score.reshape((-1,))\n",
    "\n",
    "    # Calculate accuracy\n",
    "    accuracy = (preds == labels).sum() / labels.shape[0]\n",
    "    print(f'Accuracy: {accuracy}')\n",
    "    \n",
    "    auc = roc_auc_score(labels, score)\n",
    "    print(f'AUC     : {auc}')\n",
    "    \n",
    "    precision, recall, f1_score, _ = precision_recall_fscore_support(labels, preds, average = 'binary')\n",
    "    print(f'Precision: {precision}')\n",
    "    print(f'Recall: {recall}')\n",
    "    print(f'F1_score: {f1_score}')\n",
    "    \n",
    "    confusion_matrix = pd.crosstab(index=labels, columns=np.round(preds), rownames=['True'], colnames=['predictions']).astype(int)\n",
    "    plt.figure(figsize = (5,5))\n",
    "    sns.heatmap(confusion_matrix, annot=True, fmt='.2f', cmap=\"YlGnBu\").set_title('Confusion Matrix') "
   ]
  },
  {
   "cell_type": "code",
   "execution_count": 43,
   "metadata": {},
   "outputs": [
    {
     "name": "stdout",
     "output_type": "stream",
     "text": [
      "Accuracy: 0.790228602522637\n",
      "AUC     : 0.6421692054033535\n",
      "Precision: 0.5793103448275863\n",
      "Recall: 0.002446625695395101\n",
      "F1_score: 0.004872672428795174\n"
     ]
    },
    {
     "data": {
      "image/png": "[encoded data removed]",
      "text/plain": [
       "<Figure size 500x500 with 2 Axes>"
      ]
     },
     "metadata": {},
     "output_type": "display_data"
    }
   ],
   "source": [
    "predict_batches(classifier_predictor, test_features, test_labels)"
   ]
  },
  {
   "cell_type": "markdown",
   "metadata": {},
   "source": [
    "### Key questions to consider:\n",
    "1. How does your model's performance on the test set compare to the training set? What can you deduce from this comparison? \n",
    "\n",
    "2. Are there obvious differences between the outcomes of metrics like accuracy, precision, and recall? If so, why might you be seeing those differences? \n",
    "\n",
    "3. Given your business situation and goals, which metric(s) is most important for you to consider here? Why?\n",
    "\n",
    "4. Is the outcome for the metric(s) you consider most important sufficient for what you need from a business standpoint? If not, what are some things you might change in your next iteration (in the feature engineering section, which is coming up next)? \n",
    "\n",
    "Use the cells below to answer these and other questions. Insert and delete cells where needed.\n",
    "\n",
    "#### <span style=\"color: blue;\">Project presentation: Record answers to these and other similar questions you might answer in this section in your project presentations. Record key details and decisions you've made in your project presentations.</span>"
   ]
  },
  {
   "cell_type": "markdown",
   "metadata": {},
   "source": [
    "**Question**: What can you summarize from the confusion matrix?"
   ]
  },
  {
   "cell_type": "markdown",
   "metadata": {},
   "source": [
    "#### Case of class imbalance\n",
    "- When dealing with imbalanced classes, it is important to weigh in between which metric you can optimize to solve a given problem at hand.  \n",
    "- You can choose precision or recall, depending on whether only correct positive predictions matter or all positive predictions are of most importance.  \n",
    "- You can also balance between precision and recall with custom weights with F1-beta score.  \n",
    "\n",
    "- AUC measures the area under the TPR vs. FPR curve. It is the power of the model to discriminate between a positive and negative prediction.  \n",
    "- An AUC of 0.5 means the model predictions are as good as random prediction.  \n",
    "- Note that AUC is independent of threshold online precision or recall, making it easier to compare models.  \n",
    "\n",
    "For the classifier above, we see that:\n",
    "- Accuracy ~ 80% and AUC ~0.5, meaning the model does not have enough predictive power and is as good as a random choice.  \n",
    "- High false negatives resulted in a low recall value.  \n",
    "    \n",
    "To improve classifier performance, you can:\n",
    "- Add more features  \n",
    "- Optimize for a different metric/loss  \n",
    "- Try non-linear models  \n",
    "- Do ensemble modeling  \n",
    "\n",
    "For more information about customizing linear learner, see [Train Faster, More Flexible Models with Amazon SageMaker Linear Learner](https://aws.amazon.com/blogs/machine-learning/train-faster-more-flexible-models-with-amazon-sagemaker-linear-learner/)."
   ]
  },
  {
   "cell_type": "markdown",
   "metadata": {},
   "source": [
    "# Project Solution Lab 4: "
   ]
  },
  {
   "cell_type": "markdown",
   "metadata": {},
   "source": [
    "# Iteration II"
   ]
  },
  {
   "cell_type": "markdown",
   "metadata": {},
   "source": [
    "# Step 4: Feature engineering\n",
    "\n",
    "You've now gone through one iteration of training and evaluating your model. Given that the outcome you reached for your model the first time probably wasn't sufficient for solving your business problem, what are some things you could change about your data to possibly improve model performance?\n",
    "\n",
    "### Key questions to consider:\n",
    "1. How might the balance of your two main classes (delay and no delay) impact model performance?\n",
    "2. Do you have any features that are correlated?\n",
    "3. Are there feature reduction techniques you could perform at this stage that might have a positive impact on model performance? \n",
    "4. Can you think of adding some more data/datasets?\n",
    "4. After performing some feature engineering, how does your model performance compare to the first iteration?\n",
    "\n",
    "Use the cells below to perform specific feature engineering techniques (per the questions above) that you think could improve your model performance. Insert and delete cells where needed.\n",
    "\n",
    "#### <span style=\"color: blue;\">Project presentation: Record key decisions and methods you use in this section in your project presentations, as well as any new performance metrics you obtain after evaluating your model again.</span>\n",
    "\n",
    "Before you start, think about why the precision and recall are around 80% while the accuracy is 99%."
   ]
  },
  {
   "cell_type": "markdown",
   "metadata": {},
   "source": [
    "#### Add more features\n",
    "\n",
    "1. Holidays\n",
    "2. Weather"
   ]
  },
  {
   "cell_type": "markdown",
   "metadata": {},
   "source": [
    "Because the list of holidays from 2014 to 2018 is known, you can create an indicator variable **is_holiday** to mark these.\n",
    "The hypothesis is that airplane delays could be higher during holidays compared to the rest of the days. Add a boolean variable `is_holiday` that includes the holidays for the years 2014-2018."
   ]
  },
  {
   "cell_type": "code",
   "execution_count": 44,
   "metadata": {},
   "outputs": [],
   "source": [
    "# Source: http://www.calendarpedia.com/holidays/federal-holidays-2014.html\n",
    "\n",
    "holidays_14 = ['2014-01-01',  '2014-01-20', '2014-02-17', '2014-05-26', '2014-07-04', '2014-09-01', '2014-10-13', '2014-11-11', '2014-11-27', '2014-12-25' ] \n",
    "holidays_15 = ['2015-01-01',  '2015-01-19', '2015-02-16', '2015-05-25', '2015-06-03', '2015-07-04', '2015-09-07', '2015-10-12', '2015-11-11', '2015-11-26', '2015-12-25'] \n",
    "holidays_16 = ['2016-01-01',  '2016-01-18', '2016-02-15', '2016-05-30', '2016-07-04', '2016-09-05', '2016-10-10', '2016-11-11', '2016-11-24', '2016-12-25', '2016-12-26']\n",
    "holidays_17 = ['2017-01-02', '2017-01-16', '2017-02-20', '2017-05-29' , '2017-07-04', '2017-09-04' ,'2017-10-09', '2017-11-10', '2017-11-23', '2017-12-25']\n",
    "holidays_18 = ['2018-01-01', '2018-01-15', '2018-02-19', '2018-05-28' , '2018-07-04', '2018-09-03' ,'2018-10-08', '2018-11-12','2018-11-22', '2018-12-25']\n",
    "# holidays_19 = ['2019-01-01', '2019-01-21', '2019-02-18', '2019-05-27' , '2019-07-04', '2019-09-02' ,'2019-10-14', '2019-11-11','2019-11-28', '2019-12-25']\n",
    "holidays = holidays_14+ holidays_15+ holidays_16 + holidays_17+ holidays_18\n",
    "\n",
    "### Add indicator variable for holidays\n",
    "data_orig['is_holiday'] = data_orig.FlightDate.isin(holidays).astype(int)"
   ]
  },
  {
   "cell_type": "markdown",
   "metadata": {},
   "source": [
    "Weather data was fetched from https://www.ncei.noaa.gov/access/services/data/v1?dataset=daily-summaries&stations=USW00023174,USW00012960,USW00003017,USW00094846,USW00013874,USW00023234,USW00003927,USW00023183,USW00013881&dataTypes=AWND,PRCP,SNOW,SNWD,TAVG,TMIN,TMAX&startDate=2014-01-01&endDate=2018-12-31.\n",
    "<br>\n",
    "\n",
    "This dataset has information on wind speed, precipitation, snow, and temperature for cities by their airport codes.\n",
    "\n",
    "**Question**: Could bad weather due to rains, heavy winds, or snow lead to airplane delay? Let's check!"
   ]
  },
  {
   "cell_type": "code",
   "execution_count": 45,
   "metadata": {
    "scrolled": true
   },
   "outputs": [
    {
     "name": "stdout",
     "output_type": "stream",
     "text": [
      "download: s3://aws-tc-largeobjects/ILT-TF-200-MLDWTS/flight_delay_project/daily-summaries.csv to ../project/data/daily-summaries.csv\n"
     ]
    }
   ],
   "source": [
    "%%bash\n",
    "aws s3 cp s3://aws-tc-largeobjects/ILT-TF-200-MLDWTS/flight_delay_project/daily-summaries.csv /home/ec2-user/SageMaker/project/data/\n",
    "#wget 'https://www.ncei.noaa.gov/access/services/data/v1?dataset=daily-summaries&stations=USW00023174,USW00012960,USW00003017,USW00094846,USW00013874,USW00023234,USW00003927,USW00023183,USW00013881&dataTypes=AWND,PRCP,SNOW,SNWD,TAVG,TMIN,TMAX&startDate=2014-01-01&endDate=2018-12-31' -O /home/ec2-user/SageMaker/project/data/daily-summaries.csv"
   ]
  },
  {
   "cell_type": "markdown",
   "metadata": {},
   "source": [
    "Import weather data prepared for the airport codes in our dataset. Use the stations and airports below for the analysis, and create a new column called `airport` that maps the weather station to the airport name."
   ]
  },
  {
   "cell_type": "code",
   "execution_count": 46,
   "metadata": {},
   "outputs": [],
   "source": [
    "weather = pd.read_csv('/home/ec2-user/SageMaker/project/data/daily-summaries.csv')\n",
    "station = ['USW00023174','USW00012960','USW00003017','USW00094846','USW00013874','USW00023234','USW00003927','USW00023183','USW00013881'] \n",
    "airports = ['LAX', 'IAH', 'DEN', 'ORD', 'ATL', 'SFO', 'DFW', 'PHX', 'CLT']\n",
    "\n",
    "### Map weather stations to airport code\n",
    "station_map = {s:a for s,a in zip(station, airports)}\n",
    "weather['airport'] = weather['STATION'].map(station_map)"
   ]
  },
  {
   "cell_type": "markdown",
   "metadata": {},
   "source": [
    "Create another column called `MONTH` from the `DATE` column."
   ]
  },
  {
   "cell_type": "code",
   "execution_count": 47,
   "metadata": {
    "scrolled": true
   },
   "outputs": [
    {
     "data": {
      "text/html": [
       "<div>\n",
       "<style scoped>\n",
       "    .dataframe tbody tr th:only-of-type {\n",
       "        vertical-align: middle;\n",
       "    }\n",
       "\n",
       "    .dataframe tbody tr th {\n",
       "        vertical-align: top;\n",
       "    }\n",
       "\n",
       "    .dataframe thead th {\n",
       "        text-align: right;\n",
       "    }\n",
       "</style>\n",
       "<table border=\"1\" class=\"dataframe\">\n",
       "  <thead>\n",
       "    <tr style=\"text-align: right;\">\n",
       "      <th></th>\n",
       "      <th>STATION</th>\n",
       "      <th>DATE</th>\n",
       "      <th>AWND</th>\n",
       "      <th>PRCP</th>\n",
       "      <th>SNOW</th>\n",
       "      <th>SNWD</th>\n",
       "      <th>TAVG</th>\n",
       "      <th>TMAX</th>\n",
       "      <th>TMIN</th>\n",
       "      <th>airport</th>\n",
       "      <th>MONTH</th>\n",
       "    </tr>\n",
       "  </thead>\n",
       "  <tbody>\n",
       "    <tr>\n",
       "      <th>0</th>\n",
       "      <td>USW00023174</td>\n",
       "      <td>2014-01-01</td>\n",
       "      <td>16</td>\n",
       "      <td>0</td>\n",
       "      <td>NaN</td>\n",
       "      <td>NaN</td>\n",
       "      <td>131.0</td>\n",
       "      <td>178.0</td>\n",
       "      <td>78.0</td>\n",
       "      <td>LAX</td>\n",
       "      <td>01</td>\n",
       "    </tr>\n",
       "    <tr>\n",
       "      <th>1</th>\n",
       "      <td>USW00023174</td>\n",
       "      <td>2014-01-02</td>\n",
       "      <td>22</td>\n",
       "      <td>0</td>\n",
       "      <td>NaN</td>\n",
       "      <td>NaN</td>\n",
       "      <td>159.0</td>\n",
       "      <td>256.0</td>\n",
       "      <td>100.0</td>\n",
       "      <td>LAX</td>\n",
       "      <td>01</td>\n",
       "    </tr>\n",
       "    <tr>\n",
       "      <th>2</th>\n",
       "      <td>USW00023174</td>\n",
       "      <td>2014-01-03</td>\n",
       "      <td>17</td>\n",
       "      <td>0</td>\n",
       "      <td>NaN</td>\n",
       "      <td>NaN</td>\n",
       "      <td>140.0</td>\n",
       "      <td>178.0</td>\n",
       "      <td>83.0</td>\n",
       "      <td>LAX</td>\n",
       "      <td>01</td>\n",
       "    </tr>\n",
       "    <tr>\n",
       "      <th>3</th>\n",
       "      <td>USW00023174</td>\n",
       "      <td>2014-01-04</td>\n",
       "      <td>18</td>\n",
       "      <td>0</td>\n",
       "      <td>NaN</td>\n",
       "      <td>NaN</td>\n",
       "      <td>136.0</td>\n",
       "      <td>183.0</td>\n",
       "      <td>100.0</td>\n",
       "      <td>LAX</td>\n",
       "      <td>01</td>\n",
       "    </tr>\n",
       "    <tr>\n",
       "      <th>4</th>\n",
       "      <td>USW00023174</td>\n",
       "      <td>2014-01-05</td>\n",
       "      <td>18</td>\n",
       "      <td>0</td>\n",
       "      <td>NaN</td>\n",
       "      <td>NaN</td>\n",
       "      <td>151.0</td>\n",
       "      <td>244.0</td>\n",
       "      <td>83.0</td>\n",
       "      <td>LAX</td>\n",
       "      <td>01</td>\n",
       "    </tr>\n",
       "  </tbody>\n",
       "</table>\n",
       "</div>"
      ],
      "text/plain": [
       "       STATION        DATE  AWND  PRCP  SNOW  SNWD   TAVG   TMAX   TMIN  \\\n",
       "0  USW00023174  2014-01-01    16     0   NaN   NaN  131.0  178.0   78.0   \n",
       "1  USW00023174  2014-01-02    22     0   NaN   NaN  159.0  256.0  100.0   \n",
       "2  USW00023174  2014-01-03    17     0   NaN   NaN  140.0  178.0   83.0   \n",
       "3  USW00023174  2014-01-04    18     0   NaN   NaN  136.0  183.0  100.0   \n",
       "4  USW00023174  2014-01-05    18     0   NaN   NaN  151.0  244.0   83.0   \n",
       "\n",
       "  airport MONTH  \n",
       "0     LAX    01  \n",
       "1     LAX    01  \n",
       "2     LAX    01  \n",
       "3     LAX    01  \n",
       "4     LAX    01  "
      ]
     },
     "execution_count": 47,
     "metadata": {},
     "output_type": "execute_result"
    }
   ],
   "source": [
    "weather['MONTH'] = weather['DATE'].apply(lambda x: x.split('-')[1])\n",
    "weather.head()"
   ]
  },
  {
   "cell_type": "markdown",
   "metadata": {},
   "source": [
    "Analyze and handle the `SNOW` and `SNWD` columns for missing values using `fillna()`. Use the `isna()` function to check the missing values for all the columns."
   ]
  },
  {
   "cell_type": "code",
   "execution_count": 48,
   "metadata": {},
   "outputs": [
    {
     "data": {
      "text/plain": [
       "STATION     0\n",
       "DATE        0\n",
       "AWND        0\n",
       "PRCP        0\n",
       "SNOW        0\n",
       "SNWD        0\n",
       "TAVG       62\n",
       "TMAX       20\n",
       "TMIN       20\n",
       "airport     0\n",
       "MONTH       0\n",
       "dtype: int64"
      ]
     },
     "execution_count": 48,
     "metadata": {},
     "output_type": "execute_result"
    }
   ],
   "source": [
    "weather.SNOW.fillna(0, inplace=True)\n",
    "weather.SNWD.fillna(0, inplace=True)\n",
    "weather.isna().sum()"
   ]
  },
  {
   "cell_type": "markdown",
   "metadata": {},
   "source": [
    "**Question**: Print the index of the rows that have missing values for TAVG, TMAX, TMIN.\n",
    "\n",
    "**Hint**: Use the `isna()` function to find the rows that are missing, and then use the list on the idx variable to get the index."
   ]
  },
  {
   "cell_type": "code",
   "execution_count": 49,
   "metadata": {},
   "outputs": [
    {
     "data": {
      "text/plain": [
       "array([ 3956,  3957,  3958,  3959,  3960,  3961,  3962,  3963,  3964,\n",
       "        3965,  3966,  3967,  3968,  3969,  3970,  3971,  3972,  3973,\n",
       "        3974,  3975,  3976,  3977,  3978,  3979,  3980,  3981,  3982,\n",
       "        3983,  3984,  3985,  4017,  4018,  4019,  4020,  4021,  4022,\n",
       "        4023,  4024,  4025,  4026,  4027,  4028,  4029,  4030,  4031,\n",
       "        4032,  4033,  4034,  4035,  4036,  4037,  4038,  4039,  4040,\n",
       "        4041,  4042,  4043,  4044,  4045,  4046,  4047, 13420])"
      ]
     },
     "execution_count": 49,
     "metadata": {},
     "output_type": "execute_result"
    }
   ],
   "source": [
    "idx = np.array([i for i in range(len(weather))])\n",
    "TAVG_idx = idx[weather.TAVG.isna()]\n",
    "TMAX_idx = idx[weather.TMAX.isna()]\n",
    "TMIN_idx = idx[weather.TMIN.isna()]\n",
    "TAVG_idx"
   ]
  },
  {
   "cell_type": "markdown",
   "metadata": {},
   "source": [
    "You can replace the missing TAVG, TMAX, and TMIN with the average value for a particular station/airport. Because the consecutive rows of TAVG_idx are missing, replacing with a previous value would not be possible. Instead, replace it with the mean. Use the `groupby` function to aggregate the variables with a mean value."
   ]
  },
  {
   "cell_type": "code",
   "execution_count": 50,
   "metadata": {},
   "outputs": [
    {
     "data": {
      "text/html": [
       "<div>\n",
       "<style scoped>\n",
       "    .dataframe tbody tr th:only-of-type {\n",
       "        vertical-align: middle;\n",
       "    }\n",
       "\n",
       "    .dataframe tbody tr th {\n",
       "        vertical-align: top;\n",
       "    }\n",
       "\n",
       "    .dataframe thead th {\n",
       "        text-align: right;\n",
       "    }\n",
       "</style>\n",
       "<table border=\"1\" class=\"dataframe\">\n",
       "  <thead>\n",
       "    <tr style=\"text-align: right;\">\n",
       "      <th></th>\n",
       "      <th>MONTH</th>\n",
       "      <th>STATION</th>\n",
       "      <th>TAVG</th>\n",
       "      <th>TMAX</th>\n",
       "      <th>TMIN</th>\n",
       "    </tr>\n",
       "  </thead>\n",
       "  <tbody>\n",
       "    <tr>\n",
       "      <th>0</th>\n",
       "      <td>01</td>\n",
       "      <td>USW00003017</td>\n",
       "      <td>-2.741935</td>\n",
       "      <td>74.000000</td>\n",
       "      <td>-69.858065</td>\n",
       "    </tr>\n",
       "    <tr>\n",
       "      <th>1</th>\n",
       "      <td>01</td>\n",
       "      <td>USW00003927</td>\n",
       "      <td>79.529032</td>\n",
       "      <td>143.767742</td>\n",
       "      <td>20.696774</td>\n",
       "    </tr>\n",
       "  </tbody>\n",
       "</table>\n",
       "</div>"
      ],
      "text/plain": [
       "  MONTH      STATION       TAVG        TMAX       TMIN\n",
       "0    01  USW00003017  -2.741935   74.000000 -69.858065\n",
       "1    01  USW00003927  79.529032  143.767742  20.696774"
      ]
     },
     "execution_count": 50,
     "metadata": {},
     "output_type": "execute_result"
    }
   ],
   "source": [
    "weather_impute = weather.groupby(['MONTH','STATION']).agg({'TAVG':'mean','TMAX':'mean', 'TMIN':'mean' }).reset_index()\n",
    "weather_impute.head(2)"
   ]
  },
  {
   "cell_type": "code",
   "execution_count": 51,
   "metadata": {},
   "outputs": [
    {
     "data": {
      "text/html": [
       "<div>\n",
       "<style scoped>\n",
       "    .dataframe tbody tr th:only-of-type {\n",
       "        vertical-align: middle;\n",
       "    }\n",
       "\n",
       "    .dataframe tbody tr th {\n",
       "        vertical-align: top;\n",
       "    }\n",
       "\n",
       "    .dataframe thead th {\n",
       "        text-align: right;\n",
       "    }\n",
       "</style>\n",
       "<table border=\"1\" class=\"dataframe\">\n",
       "  <thead>\n",
       "    <tr style=\"text-align: right;\">\n",
       "      <th></th>\n",
       "      <th>STATION</th>\n",
       "      <th>DATE</th>\n",
       "      <th>AWND</th>\n",
       "      <th>PRCP</th>\n",
       "      <th>SNOW</th>\n",
       "      <th>SNWD</th>\n",
       "      <th>TAVG</th>\n",
       "      <th>TMAX</th>\n",
       "      <th>TMIN</th>\n",
       "      <th>airport</th>\n",
       "      <th>MONTH</th>\n",
       "    </tr>\n",
       "  </thead>\n",
       "  <tbody>\n",
       "    <tr>\n",
       "      <th>0</th>\n",
       "      <td>USW00023174</td>\n",
       "      <td>2014-01-01</td>\n",
       "      <td>16</td>\n",
       "      <td>0</td>\n",
       "      <td>0.0</td>\n",
       "      <td>0.0</td>\n",
       "      <td>131.0</td>\n",
       "      <td>178.0</td>\n",
       "      <td>78.0</td>\n",
       "      <td>LAX</td>\n",
       "      <td>01</td>\n",
       "    </tr>\n",
       "    <tr>\n",
       "      <th>1</th>\n",
       "      <td>USW00023174</td>\n",
       "      <td>2014-01-02</td>\n",
       "      <td>22</td>\n",
       "      <td>0</td>\n",
       "      <td>0.0</td>\n",
       "      <td>0.0</td>\n",
       "      <td>159.0</td>\n",
       "      <td>256.0</td>\n",
       "      <td>100.0</td>\n",
       "      <td>LAX</td>\n",
       "      <td>01</td>\n",
       "    </tr>\n",
       "    <tr>\n",
       "      <th>2</th>\n",
       "      <td>USW00023174</td>\n",
       "      <td>2014-01-03</td>\n",
       "      <td>17</td>\n",
       "      <td>0</td>\n",
       "      <td>0.0</td>\n",
       "      <td>0.0</td>\n",
       "      <td>140.0</td>\n",
       "      <td>178.0</td>\n",
       "      <td>83.0</td>\n",
       "      <td>LAX</td>\n",
       "      <td>01</td>\n",
       "    </tr>\n",
       "    <tr>\n",
       "      <th>3</th>\n",
       "      <td>USW00023174</td>\n",
       "      <td>2014-01-04</td>\n",
       "      <td>18</td>\n",
       "      <td>0</td>\n",
       "      <td>0.0</td>\n",
       "      <td>0.0</td>\n",
       "      <td>136.0</td>\n",
       "      <td>183.0</td>\n",
       "      <td>100.0</td>\n",
       "      <td>LAX</td>\n",
       "      <td>01</td>\n",
       "    </tr>\n",
       "    <tr>\n",
       "      <th>4</th>\n",
       "      <td>USW00023174</td>\n",
       "      <td>2014-01-05</td>\n",
       "      <td>18</td>\n",
       "      <td>0</td>\n",
       "      <td>0.0</td>\n",
       "      <td>0.0</td>\n",
       "      <td>151.0</td>\n",
       "      <td>244.0</td>\n",
       "      <td>83.0</td>\n",
       "      <td>LAX</td>\n",
       "      <td>01</td>\n",
       "    </tr>\n",
       "  </tbody>\n",
       "</table>\n",
       "</div>"
      ],
      "text/plain": [
       "       STATION        DATE  AWND  PRCP  SNOW  SNWD   TAVG   TMAX   TMIN  \\\n",
       "0  USW00023174  2014-01-01    16     0   0.0   0.0  131.0  178.0   78.0   \n",
       "1  USW00023174  2014-01-02    22     0   0.0   0.0  159.0  256.0  100.0   \n",
       "2  USW00023174  2014-01-03    17     0   0.0   0.0  140.0  178.0   83.0   \n",
       "3  USW00023174  2014-01-04    18     0   0.0   0.0  136.0  183.0  100.0   \n",
       "4  USW00023174  2014-01-05    18     0   0.0   0.0  151.0  244.0   83.0   \n",
       "\n",
       "  airport MONTH  \n",
       "0     LAX    01  \n",
       "1     LAX    01  \n",
       "2     LAX    01  \n",
       "3     LAX    01  \n",
       "4     LAX    01  "
      ]
     },
     "execution_count": 51,
     "metadata": {},
     "output_type": "execute_result"
    }
   ],
   "source": [
    "weather.head()"
   ]
  },
  {
   "cell_type": "code",
   "execution_count": 52,
   "metadata": {},
   "outputs": [
    {
     "data": {
      "text/html": [
       "<div>\n",
       "<style scoped>\n",
       "    .dataframe tbody tr th:only-of-type {\n",
       "        vertical-align: middle;\n",
       "    }\n",
       "\n",
       "    .dataframe tbody tr th {\n",
       "        vertical-align: top;\n",
       "    }\n",
       "\n",
       "    .dataframe thead th {\n",
       "        text-align: right;\n",
       "    }\n",
       "</style>\n",
       "<table border=\"1\" class=\"dataframe\">\n",
       "  <thead>\n",
       "    <tr style=\"text-align: right;\">\n",
       "      <th></th>\n",
       "      <th>MONTH</th>\n",
       "      <th>STATION</th>\n",
       "      <th>TAVG</th>\n",
       "      <th>TMAX</th>\n",
       "      <th>TMIN</th>\n",
       "    </tr>\n",
       "  </thead>\n",
       "  <tbody>\n",
       "    <tr>\n",
       "      <th>0</th>\n",
       "      <td>01</td>\n",
       "      <td>USW00003017</td>\n",
       "      <td>-2.741935</td>\n",
       "      <td>74.000000</td>\n",
       "      <td>-69.858065</td>\n",
       "    </tr>\n",
       "    <tr>\n",
       "      <th>1</th>\n",
       "      <td>01</td>\n",
       "      <td>USW00003927</td>\n",
       "      <td>79.529032</td>\n",
       "      <td>143.767742</td>\n",
       "      <td>20.696774</td>\n",
       "    </tr>\n",
       "    <tr>\n",
       "      <th>2</th>\n",
       "      <td>01</td>\n",
       "      <td>USW00012960</td>\n",
       "      <td>110.535484</td>\n",
       "      <td>170.438710</td>\n",
       "      <td>52.425806</td>\n",
       "    </tr>\n",
       "    <tr>\n",
       "      <th>3</th>\n",
       "      <td>01</td>\n",
       "      <td>USW00013874</td>\n",
       "      <td>59.070968</td>\n",
       "      <td>114.600000</td>\n",
       "      <td>8.161290</td>\n",
       "    </tr>\n",
       "    <tr>\n",
       "      <th>4</th>\n",
       "      <td>01</td>\n",
       "      <td>USW00013881</td>\n",
       "      <td>48.929032</td>\n",
       "      <td>106.529032</td>\n",
       "      <td>-15.645161</td>\n",
       "    </tr>\n",
       "    <tr>\n",
       "      <th>...</th>\n",
       "      <td>...</td>\n",
       "      <td>...</td>\n",
       "      <td>...</td>\n",
       "      <td>...</td>\n",
       "      <td>...</td>\n",
       "    </tr>\n",
       "    <tr>\n",
       "      <th>103</th>\n",
       "      <td>12</td>\n",
       "      <td>USW00013881</td>\n",
       "      <td>87.670968</td>\n",
       "      <td>138.870968</td>\n",
       "      <td>31.625806</td>\n",
       "    </tr>\n",
       "    <tr>\n",
       "      <th>104</th>\n",
       "      <td>12</td>\n",
       "      <td>USW00023174</td>\n",
       "      <td>147.922581</td>\n",
       "      <td>195.032258</td>\n",
       "      <td>102.038710</td>\n",
       "    </tr>\n",
       "    <tr>\n",
       "      <th>105</th>\n",
       "      <td>12</td>\n",
       "      <td>USW00023183</td>\n",
       "      <td>135.806452</td>\n",
       "      <td>198.206452</td>\n",
       "      <td>78.787097</td>\n",
       "    </tr>\n",
       "    <tr>\n",
       "      <th>106</th>\n",
       "      <td>12</td>\n",
       "      <td>USW00023234</td>\n",
       "      <td>115.025806</td>\n",
       "      <td>147.032258</td>\n",
       "      <td>80.361290</td>\n",
       "    </tr>\n",
       "    <tr>\n",
       "      <th>107</th>\n",
       "      <td>12</td>\n",
       "      <td>USW00094846</td>\n",
       "      <td>-2.735484</td>\n",
       "      <td>29.522581</td>\n",
       "      <td>-36.703226</td>\n",
       "    </tr>\n",
       "  </tbody>\n",
       "</table>\n",
       "<p>108 rows × 5 columns</p>\n",
       "</div>"
      ],
      "text/plain": [
       "    MONTH      STATION        TAVG        TMAX        TMIN\n",
       "0      01  USW00003017   -2.741935   74.000000  -69.858065\n",
       "1      01  USW00003927   79.529032  143.767742   20.696774\n",
       "2      01  USW00012960  110.535484  170.438710   52.425806\n",
       "3      01  USW00013874   59.070968  114.600000    8.161290\n",
       "4      01  USW00013881   48.929032  106.529032  -15.645161\n",
       "..    ...          ...         ...         ...         ...\n",
       "103    12  USW00013881   87.670968  138.870968   31.625806\n",
       "104    12  USW00023174  147.922581  195.032258  102.038710\n",
       "105    12  USW00023183  135.806452  198.206452   78.787097\n",
       "106    12  USW00023234  115.025806  147.032258   80.361290\n",
       "107    12  USW00094846   -2.735484   29.522581  -36.703226\n",
       "\n",
       "[108 rows x 5 columns]"
      ]
     },
     "execution_count": 52,
     "metadata": {},
     "output_type": "execute_result"
    }
   ],
   "source": [
    "weather_impute"
   ]
  },
  {
   "cell_type": "markdown",
   "metadata": {},
   "source": [
    "Merge the mean data with the weather data."
   ]
  },
  {
   "cell_type": "code",
   "execution_count": 53,
   "metadata": {},
   "outputs": [],
   "source": [
    "weather = pd.merge(weather, weather_impute,  how='left', left_on=['MONTH','STATION'], right_on = ['MONTH','STATION'])\\\n",
    ".rename(columns = {'TAVG_y':'TAVG_AVG',\n",
    "                   'TMAX_y':'TMAX_AVG', \n",
    "                   'TMIN_y':'TMIN_AVG',\n",
    "                   'TAVG_x':'TAVG',\n",
    "                   'TMAX_x':'TMAX', \n",
    "                   'TMIN_x':'TMIN'})"
   ]
  },
  {
   "cell_type": "markdown",
   "metadata": {},
   "source": [
    "Check for missing values again."
   ]
  },
  {
   "cell_type": "code",
   "execution_count": 54,
   "metadata": {},
   "outputs": [
    {
     "data": {
      "text/plain": [
       "STATION     0\n",
       "DATE        0\n",
       "AWND        0\n",
       "PRCP        0\n",
       "SNOW        0\n",
       "SNWD        0\n",
       "TAVG        0\n",
       "TMAX        0\n",
       "TMIN        0\n",
       "airport     0\n",
       "MONTH       0\n",
       "TAVG_AVG    0\n",
       "TMAX_AVG    0\n",
       "TMIN_AVG    0\n",
       "dtype: int64"
      ]
     },
     "execution_count": 54,
     "metadata": {},
     "output_type": "execute_result"
    }
   ],
   "source": [
    "weather.TAVG[TAVG_idx] = weather.TAVG_AVG[TAVG_idx]\n",
    "weather.TMAX[TMAX_idx] = weather.TMAX_AVG[TMAX_idx]\n",
    "weather.TMIN[TMIN_idx] = weather.TMIN_AVG[TMIN_idx]\n",
    "weather.isna().sum()"
   ]
  },
  {
   "cell_type": "markdown",
   "metadata": {},
   "source": [
    "Drop `STATION,MONTH,TAVG_AVG,TMAX_AVG,TMIN_AVG,TMAX,TMIN,SNWD` from the dataset."
   ]
  },
  {
   "cell_type": "code",
   "execution_count": 55,
   "metadata": {},
   "outputs": [],
   "source": [
    "weather.drop(columns=['STATION','MONTH','TAVG_AVG', 'TMAX_AVG', 'TMIN_AVG', 'TMAX' ,'TMIN', 'SNWD'],inplace=True)"
   ]
  },
  {
   "cell_type": "markdown",
   "metadata": {},
   "source": [
    "Add the origin and destination weather conditions to the dataset."
   ]
  },
  {
   "cell_type": "code",
   "execution_count": 56,
   "metadata": {},
   "outputs": [],
   "source": [
    "### Add origin weather conditions\n",
    "data_orig = pd.merge(data_orig, weather,  how='left', left_on=['FlightDate','Origin'], right_on = ['DATE','airport'])\\\n",
    ".rename(columns = {'AWND':'AWND_O','PRCP':'PRCP_O', 'TAVG':'TAVG_O', 'SNOW': 'SNOW_O'})\\\n",
    ".drop(columns=['DATE','airport'])\n",
    "\n",
    "### Add destination weather conditions\n",
    "data_orig = pd.merge(data_orig, weather,  how='left', left_on=['FlightDate','Dest'], right_on = ['DATE','airport'])\\\n",
    ".rename(columns = {'AWND':'AWND_D','PRCP':'PRCP_D', 'TAVG':'TAVG_D', 'SNOW': 'SNOW_D'})\\\n",
    ".drop(columns=['DATE','airport'])"
   ]
  },
  {
   "cell_type": "markdown",
   "metadata": {},
   "source": [
    "**Note**: It is always a good practice to check nulls/NAs after joins."
   ]
  },
  {
   "cell_type": "code",
   "execution_count": 57,
   "metadata": {},
   "outputs": [
    {
     "data": {
      "text/plain": [
       "0"
      ]
     },
     "execution_count": 57,
     "metadata": {},
     "output_type": "execute_result"
    }
   ],
   "source": [
    "sum(data.isna().any())"
   ]
  },
  {
   "cell_type": "code",
   "execution_count": 58,
   "metadata": {},
   "outputs": [
    {
     "data": {
      "text/plain": [
       "Index(['Year', 'Quarter', 'Month', 'DayofMonth', 'DayOfWeek', 'FlightDate',\n",
       "       'Reporting_Airline', 'Origin', 'OriginState', 'Dest', 'DestState',\n",
       "       'CRSDepTime', 'Cancelled', 'Diverted', 'Distance', 'DistanceGroup',\n",
       "       'ArrDelay', 'ArrDelayMinutes', 'is_delay', 'AirTime', 'DepHourofDay',\n",
       "       'is_holiday', 'AWND_O', 'PRCP_O', 'SNOW_O', 'TAVG_O', 'AWND_D',\n",
       "       'PRCP_D', 'SNOW_D', 'TAVG_D'],\n",
       "      dtype='object')"
      ]
     },
     "execution_count": 58,
     "metadata": {},
     "output_type": "execute_result"
    }
   ],
   "source": [
    "data_orig.columns"
   ]
  },
  {
   "cell_type": "markdown",
   "metadata": {},
   "source": [
    "Convert the categorical data into numerical data using one-hot encoding."
   ]
  },
  {
   "cell_type": "code",
   "execution_count": 59,
   "metadata": {},
   "outputs": [],
   "source": [
    "data = data_orig.copy()\n",
    "data = data[['Year', 'Quarter', 'Month', 'DayofMonth', 'DayOfWeek', \n",
    "       'Reporting_Airline', 'Origin', 'Dest','Distance','DepHourofDay', 'is_delay', 'is_holiday', 'AWND_O', 'PRCP_O',\n",
    "       'TAVG_O', 'AWND_D', 'PRCP_D', 'TAVG_D', 'SNOW_O', 'SNOW_D']]\n",
    "\n",
    "\n",
    "categorical_columns  = ['Year', 'Quarter', 'Month', 'DayofMonth', 'DayOfWeek', \n",
    "       'Reporting_Airline', 'Origin', 'Dest', 'is_holiday','is_delay']\n",
    "for c in categorical_columns:\n",
    "    data[c] = data[c].astype('category')"
   ]
  },
  {
   "cell_type": "code",
   "execution_count": 60,
   "metadata": {},
   "outputs": [],
   "source": [
    "data_dummies = pd.get_dummies(data[['Year', 'Quarter', 'Month', 'DayofMonth', 'DayOfWeek', 'Reporting_Airline', 'Origin', 'Dest', 'is_holiday']], drop_first=True, dtype='int64')\n",
    "data = pd.concat([data, data_dummies], axis = 1)\n",
    "categorical_columns.remove('is_delay')\n",
    "data.drop(categorical_columns,axis=1, inplace=True)"
   ]
  },
  {
   "cell_type": "markdown",
   "metadata": {},
   "source": [
    "Check the new columns."
   ]
  },
  {
   "cell_type": "code",
   "execution_count": 61,
   "metadata": {},
   "outputs": [
    {
     "data": {
      "text/plain": [
       "Index(['Distance', 'DepHourofDay', 'is_delay', 'AWND_O', 'PRCP_O', 'TAVG_O',\n",
       "       'AWND_D', 'PRCP_D', 'TAVG_D', 'SNOW_O', 'SNOW_D', 'Year_2015',\n",
       "       'Year_2016', 'Year_2017', 'Year_2018', 'Quarter_2', 'Quarter_3',\n",
       "       'Quarter_4', 'Month_2', 'Month_3', 'Month_4', 'Month_5', 'Month_6',\n",
       "       'Month_7', 'Month_8', 'Month_9', 'Month_10', 'Month_11', 'Month_12',\n",
       "       'DayofMonth_2', 'DayofMonth_3', 'DayofMonth_4', 'DayofMonth_5',\n",
       "       'DayofMonth_6', 'DayofMonth_7', 'DayofMonth_8', 'DayofMonth_9',\n",
       "       'DayofMonth_10', 'DayofMonth_11', 'DayofMonth_12', 'DayofMonth_13',\n",
       "       'DayofMonth_14', 'DayofMonth_15', 'DayofMonth_16', 'DayofMonth_17',\n",
       "       'DayofMonth_18', 'DayofMonth_19', 'DayofMonth_20', 'DayofMonth_21',\n",
       "       'DayofMonth_22', 'DayofMonth_23', 'DayofMonth_24', 'DayofMonth_25',\n",
       "       'DayofMonth_26', 'DayofMonth_27', 'DayofMonth_28', 'DayofMonth_29',\n",
       "       'DayofMonth_30', 'DayofMonth_31', 'DayOfWeek_2', 'DayOfWeek_3',\n",
       "       'DayOfWeek_4', 'DayOfWeek_5', 'DayOfWeek_6', 'DayOfWeek_7',\n",
       "       'Reporting_Airline_DL', 'Reporting_Airline_OO', 'Reporting_Airline_UA',\n",
       "       'Reporting_Airline_WN', 'Origin_CLT', 'Origin_DEN', 'Origin_DFW',\n",
       "       'Origin_IAH', 'Origin_LAX', 'Origin_ORD', 'Origin_PHX', 'Origin_SFO',\n",
       "       'Dest_CLT', 'Dest_DEN', 'Dest_DFW', 'Dest_IAH', 'Dest_LAX', 'Dest_ORD',\n",
       "       'Dest_PHX', 'Dest_SFO', 'is_holiday_1'],\n",
       "      dtype='object')"
      ]
     },
     "execution_count": 61,
     "metadata": {},
     "output_type": "execute_result"
    }
   ],
   "source": [
    "data.columns"
   ]
  },
  {
   "cell_type": "markdown",
   "metadata": {},
   "source": [
    "Rename the `is_delay` column to `target` again. Use the same code as before."
   ]
  },
  {
   "cell_type": "code",
   "execution_count": 62,
   "metadata": {},
   "outputs": [],
   "source": [
    "data.rename(columns = {'is_delay':'target'}, inplace=True )"
   ]
  },
  {
   "cell_type": "markdown",
   "metadata": {},
   "source": [
    "Create the training sets again."
   ]
  },
  {
   "cell_type": "code",
   "execution_count": 63,
   "metadata": {},
   "outputs": [
    {
     "name": "stdout",
     "output_type": "stream",
     "text": [
      "Length of train_features is: (1308472, 85)\n",
      "Length of train_labels is: (1308472,)\n",
      "Length of val_features is: (163559, 85)\n",
      "Length of val_labels is: (163559,)\n",
      "Length of test_features is: (163559, 85)\n",
      "Length of test_labels is: (163559,)\n"
     ]
    }
   ],
   "source": [
    "train_features, test_features, train_labels, test_labels, val_features, val_labels = create_training_sets(data)\n",
    "\n",
    "print(f\"Length of train_features is: {train_features.shape}\")\n",
    "print(f\"Length of train_labels is: {train_labels.shape}\")\n",
    "print(f\"Length of val_features is: {val_features.shape}\")\n",
    "print(f\"Length of val_labels is: {val_labels.shape}\")\n",
    "print(f\"Length of test_features is: {test_features.shape}\")\n",
    "print(f\"Length of test_labels is: {test_labels.shape}\")"
   ]
  },
  {
   "cell_type": "markdown",
   "metadata": {},
   "source": [
    "### New baseline classifier\n",
    "\n",
    "Now, see if these new features add any predictive power to the model."
   ]
  },
  {
   "cell_type": "code",
   "execution_count": 64,
   "metadata": {},
   "outputs": [
    {
     "name": "stderr",
     "output_type": "stream",
     "text": [
      "INFO:botocore.credentials:Found credentials from IAM Role: BaseNotebookInstanceEc2InstanceRole\n",
      "INFO:botocore.credentials:Found credentials from IAM Role: BaseNotebookInstanceEc2InstanceRole\n"
     ]
    }
   ],
   "source": [
    "# Instantiate the LinearLearner estimator object\n",
    "num_classes = len(pd.unique(train_labels)) \n",
    "classifier_estimator = sagemaker.LinearLearner(role=sagemaker.get_execution_role(),\n",
    "                                               instance_count=1,\n",
    "                                               instance_type='ml.m4.xlarge',\n",
    "                                               predictor_type='binary_classifier',\n",
    "                                              binary_classifier_model_selection_criteria = 'cross_entropy_loss')"
   ]
  },
  {
   "cell_type": "code",
   "execution_count": 65,
   "metadata": {},
   "outputs": [
    {
     "name": "stderr",
     "output_type": "stream",
     "text": [
      "INFO:sagemaker.image_uris:Same images used for training and inference. Defaulting to image scope: inference.\n",
      "INFO:sagemaker.image_uris:Ignoring unnecessary instance type: None.\n",
      "INFO:sagemaker.image_uris:Same images used for training and inference. Defaulting to image scope: inference.\n",
      "INFO:sagemaker.image_uris:Ignoring unnecessary instance type: None.\n",
      "INFO:sagemaker:Creating training-job with name: linear-learner-2023-01-24-19-38-48-511\n"
     ]
    },
    {
     "name": "stdout",
     "output_type": "stream",
     "text": [
      "2023-01-24 19:38:48 Starting - Starting the training job...\n",
      "2023-01-24 19:39:15 Starting - Preparing the instances for training.........\n",
      "2023-01-24 19:40:42 Downloading - Downloading input data......\n",
      "2023-01-24 19:41:22 Training - Downloading the training image......\n",
      "2023-01-24 19:42:22 Training - Training image download completed. Training in progress.\u001b[34mDocker entrypoint called with argument(s): train\u001b[0m\n",
      "\u001b[34mRunning default environment configuration script\u001b[0m\n",
      "\u001b[34m[01/24/2023 19:42:42 INFO 140592160999232] Reading default configuration from /opt/amazon/lib/python3.7/site-packages/algorithm/resources/default-input.json: {'mini_batch_size': '1000', 'epochs': '15', 'feature_dim': 'auto', 'use_bias': 'true', 'binary_classifier_model_selection_criteria': 'accuracy', 'f_beta': '1.0', 'target_recall': '0.8', 'target_precision': '0.8', 'num_models': 'auto', 'num_calibration_samples': '10000000', 'init_method': 'uniform', 'init_scale': '0.07', 'init_sigma': '0.01', 'init_bias': '0.0', 'optimizer': 'auto', 'loss': 'auto', 'margin': '1.0', 'quantile': '0.5', 'loss_insensitivity': '0.01', 'huber_delta': '1.0', 'num_classes': '1', 'accuracy_top_k': '3', 'wd': 'auto', 'l1': 'auto', 'momentum': 'auto', 'learning_rate': 'auto', 'beta_1': 'auto', 'beta_2': 'auto', 'bias_lr_mult': 'auto', 'bias_wd_mult': 'auto', 'use_lr_scheduler': 'true', 'lr_scheduler_step': 'auto', 'lr_scheduler_factor': 'auto', 'lr_scheduler_minimum_lr': 'auto', 'positive_example_weight_mult': '1.0', 'balance_multiclass_weights': 'false', 'normalize_data': 'true', 'normalize_label': 'auto', 'unbias_data': 'auto', 'unbias_label': 'auto', 'num_point_for_scaler': '10000', '_kvstore': 'auto', '_num_gpus': 'auto', '_num_kv_servers': 'auto', '_log_level': 'info', '_tuning_objective_metric': '', 'early_stopping_patience': '3', 'early_stopping_tolerance': '0.001', '_enable_profiler': 'false'}\u001b[0m\n",
      "\u001b[34m[01/24/2023 19:42:42 INFO 140592160999232] Merging with provided configuration from /opt/ml/input/config/hyperparameters.json: {'binary_classifier_model_selection_criteria': 'cross_entropy_loss', 'feature_dim': '85', 'mini_batch_size': '1000', 'predictor_type': 'binary_classifier'}\u001b[0m\n",
      "\u001b[34m[01/24/2023 19:42:42 INFO 140592160999232] Final configuration: {'mini_batch_size': '1000', 'epochs': '15', 'feature_dim': '85', 'use_bias': 'true', 'binary_classifier_model_selection_criteria': 'cross_entropy_loss', 'f_beta': '1.0', 'target_recall': '0.8', 'target_precision': '0.8', 'num_models': 'auto', 'num_calibration_samples': '10000000', 'init_method': 'uniform', 'init_scale': '0.07', 'init_sigma': '0.01', 'init_bias': '0.0', 'optimizer': 'auto', 'loss': 'auto', 'margin': '1.0', 'quantile': '0.5', 'loss_insensitivity': '0.01', 'huber_delta': '1.0', 'num_classes': '1', 'accuracy_top_k': '3', 'wd': 'auto', 'l1': 'auto', 'momentum': 'auto', 'learning_rate': 'auto', 'beta_1': 'auto', 'beta_2': 'auto', 'bias_lr_mult': 'auto', 'bias_wd_mult': 'auto', 'use_lr_scheduler': 'true', 'lr_scheduler_step': 'auto', 'lr_scheduler_factor': 'auto', 'lr_scheduler_minimum_lr': 'auto', 'positive_example_weight_mult': '1.0', 'balance_multiclass_weights': 'false', 'normalize_data': 'true', 'normalize_label': 'auto', 'unbias_data': 'auto', 'unbias_label': 'auto', 'num_point_for_scaler': '10000', '_kvstore': 'auto', '_num_gpus': 'auto', '_num_kv_servers': 'auto', '_log_level': 'info', '_tuning_objective_metric': '', 'early_stopping_patience': '3', 'early_stopping_tolerance': '0.001', '_enable_profiler': 'false', 'predictor_type': 'binary_classifier'}\u001b[0m\n",
      "\u001b[34m[01/24/2023 19:42:45 WARNING 140592160999232] Loggers have already been setup.\u001b[0m\n",
      "\u001b[34m[01/24/2023 19:42:45 INFO 140592160999232] Final configuration: {'mini_batch_size': '1000', 'epochs': '15', 'feature_dim': '85', 'use_bias': 'true', 'binary_classifier_model_selection_criteria': 'cross_entropy_loss', 'f_beta': '1.0', 'target_recall': '0.8', 'target_precision': '0.8', 'num_models': 'auto', 'num_calibration_samples': '10000000', 'init_method': 'uniform', 'init_scale': '0.07', 'init_sigma': '0.01', 'init_bias': '0.0', 'optimizer': 'auto', 'loss': 'auto', 'margin': '1.0', 'quantile': '0.5', 'loss_insensitivity': '0.01', 'huber_delta': '1.0', 'num_classes': '1', 'accuracy_top_k': '3', 'wd': 'auto', 'l1': 'auto', 'momentum': 'auto', 'learning_rate': 'auto', 'beta_1': 'auto', 'beta_2': 'auto', 'bias_lr_mult': 'auto', 'bias_wd_mult': 'auto', 'use_lr_scheduler': 'true', 'lr_scheduler_step': 'auto', 'lr_scheduler_factor': 'auto', 'lr_scheduler_minimum_lr': 'auto', 'positive_example_weight_mult': '1.0', 'balance_multiclass_weights': 'false', 'normalize_data': 'true', 'normalize_label': 'auto', 'unbias_data': 'auto', 'unbias_label': 'auto', 'num_point_for_scaler': '10000', '_kvstore': 'auto', '_num_gpus': 'auto', '_num_kv_servers': 'auto', '_log_level': 'info', '_tuning_objective_metric': '', 'early_stopping_patience': '3', 'early_stopping_tolerance': '0.001', '_enable_profiler': 'false', 'predictor_type': 'binary_classifier'}\u001b[0m\n",
      "\u001b[34m[01/24/2023 19:42:45 WARNING 140592160999232] Loggers have already been setup.\u001b[0m\n",
      "\u001b[34mProcess 7 is a worker.\u001b[0m\n",
      "\u001b[34m[01/24/2023 19:42:45 INFO 140592160999232] Using default worker.\u001b[0m\n",
      "\u001b[34m[01/24/2023 19:42:45 INFO 140592160999232] Checkpoint loading and saving are disabled.\u001b[0m\n",
      "\u001b[34m[2023-01-24 19:42:45.938] [tensorio] [warning] TensorIO is already initialized; ignoring the initialization routine.\u001b[0m\n",
      "\u001b[34m[2023-01-24 19:42:45.984] [tensorio] [info] epoch_stats={\"data_pipeline\": \"/opt/ml/input/data/train\", \"epoch\": 0, \"duration\": 50, \"num_examples\": 1, \"num_bytes\": 388000}\u001b[0m\n",
      "\u001b[34m[01/24/2023 19:42:45 INFO 140592160999232] Create Store: local\u001b[0m\n",
      "\u001b[34m[2023-01-24 19:42:46.123] [tensorio] [info] epoch_stats={\"data_pipeline\": \"/opt/ml/input/data/train\", \"epoch\": 1, \"duration\": 136, \"num_examples\": 11, \"num_bytes\": 4268000}\u001b[0m\n",
      "\u001b[34m[01/24/2023 19:42:46 INFO 140592160999232] Scaler algorithm parameters\n",
      " <algorithm.scaler.ScalerAlgorithmStable object at 0x7fdda2d7fe10>\u001b[0m\n",
      "\u001b[34m[01/24/2023 19:42:46 INFO 140592160999232] Scaling model computed with parameters:\n",
      " {'stdev_label': None, 'stdev_weight': \u001b[0m\n",
      "\u001b[34m[5.3701947e+02 4.9986820e+00 1.6362814e+01 8.2965874e+01 8.9203178e+01\n",
      " 1.6062935e+01 7.6510941e+01 8.8851631e+01 6.9887285e+00 5.7474966e+00\n",
      " 3.9542887e-01 4.1877410e-01 4.0607288e-01 4.0717870e-01 4.3616742e-01\n",
      " 4.3823552e-01 4.3073216e-01 2.5908905e-01 2.8236720e-01 2.7601960e-01\n",
      " 2.7697837e-01 2.8434971e-01 2.8196827e-01 2.8605148e-01 2.7477977e-01\n",
      " 2.7820411e-01 2.7171496e-01 2.7325347e-01 1.8052630e-01 1.7405386e-01\n",
      " 1.7600000e-01 1.7331764e-01 1.7744364e-01 1.7934786e-01 1.6907686e-01\n",
      " 1.8099520e-01 1.7958423e-01 1.7934787e-01 1.7863651e-01 1.7183442e-01\n",
      " 1.7672352e-01 1.9075631e-01 1.8285701e-01 1.8400958e-01 1.8538184e-01\n",
      " 1.7478655e-01 1.7958425e-01 1.7672351e-01 1.7696394e-01 1.7575809e-01\n",
      " 1.6907685e-01 1.8741828e-01 1.8285701e-01 1.8216139e-01 1.7083749e-01\n",
      " 1.6983394e-01 1.6806139e-01 1.3426247e-01 3.4632558e-01 3.6016271e-01\n",
      " 3.5200915e-01 3.5946098e-01 3.2196113e-01 3.4830266e-01 3.7354302e-01\n",
      " 2.4197932e-01 4.5705760e-01 3.2044286e-01 2.3982988e-01 3.2163680e-01\n",
      " 3.2464233e-01 2.6959682e-01 3.5546011e-01 3.3408982e-01 3.0526051e-01\n",
      " 3.3082199e-01 2.4700649e-01 3.1759027e-01 3.2517400e-01 2.6774198e-01\n",
      " 3.5401529e-01 3.3266717e-01 2.9878402e-01 3.3720139e-01 1.6678226e-01]\u001b[0m\n",
      "\u001b[34m<NDArray 85 @cpu(0)>, 'mean_label': None, 'mean_weight': \u001b[0m\n",
      "\u001b[34m[1.00876294e+03 1.29397287e+01 3.84466438e+01 2.12731819e+01\n",
      " 1.72528839e+02 3.87094536e+01 2.03806343e+01 1.71960541e+02\n",
      " 6.27363622e-01 5.21636367e-01 1.94000021e-01 2.26818204e-01\n",
      " 2.08272755e-01 2.09818199e-01 2.55545497e-01 2.59272754e-01\n",
      " 2.46090919e-01 7.23636299e-02 8.73636380e-02 8.30909163e-02\n",
      " 8.37272778e-02 8.87272730e-02 8.70909095e-02 8.99090990e-02\n",
      " 8.22727233e-02 8.45454559e-02 8.02727342e-02 8.12727362e-02\n",
      " 3.37272771e-02 3.12727280e-02 3.20000015e-02 3.10000014e-02\n",
      " 3.25454585e-02 3.32727283e-02 2.94545498e-02 3.39090973e-02\n",
      " 3.33636329e-02 3.32727320e-02 3.29999998e-02 3.04545481e-02\n",
      " 3.22727300e-02 3.78181897e-02 3.46363634e-02 3.50909121e-02\n",
      " 3.56363654e-02 3.15454565e-02 3.33636366e-02 3.22727300e-02\n",
      " 3.23636346e-02 3.19090933e-02 2.94545479e-02 3.64545472e-02\n",
      " 3.46363634e-02 3.43636423e-02 3.00909095e-02 2.97272746e-02\n",
      " 2.90909130e-02 1.83636378e-02 1.39363647e-01 1.53181851e-01\n",
      " 1.44909099e-01 1.52454555e-01 1.17454559e-01 1.41272753e-01\n",
      " 1.67636365e-01 6.24545440e-02 2.97272742e-01 1.16181821e-01\n",
      " 6.12727329e-02 1.17181830e-01 1.19727276e-01 7.89090917e-02\n",
      " 1.48363650e-01 1.28000006e-01 1.04000010e-01 1.25090912e-01\n",
      " 6.52727336e-02 1.13818191e-01 1.20181836e-01 7.77272731e-02\n",
      " 1.46909133e-01 1.26727283e-01 9.90909189e-02 1.30818203e-01\n",
      " 2.86363680e-02]\u001b[0m\n",
      "\u001b[34m<NDArray 85 @cpu(0)>}\u001b[0m\n",
      "\u001b[34m[01/24/2023 19:42:46 INFO 140592160999232] nvidia-smi: took 0.039 seconds to run.\u001b[0m\n",
      "\u001b[34m[01/24/2023 19:42:46 INFO 140592160999232] nvidia-smi identified 0 GPUs.\u001b[0m\n",
      "\u001b[34m[01/24/2023 19:42:46 INFO 140592160999232] Number of GPUs being used: 0\u001b[0m\n",
      "\u001b[34m#metrics {\"StartTime\": 1674589366.2477548, \"EndTime\": 1674589366.247794, \"Dimensions\": {\"Algorithm\": \"Linear Learner\", \"Host\": \"algo-1\", \"Operation\": \"training\", \"Meta\": \"init_train_data_iter\"}, \"Metrics\": {\"Total Records Seen\": {\"sum\": 12000.0, \"count\": 1, \"min\": 12000, \"max\": 12000}, \"Total Batches Seen\": {\"sum\": 12.0, \"count\": 1, \"min\": 12, \"max\": 12}, \"Max Records Seen Between Resets\": {\"sum\": 11000.0, \"count\": 1, \"min\": 11000, \"max\": 11000}, \"Max Batches Seen Between Resets\": {\"sum\": 11.0, \"count\": 1, \"min\": 11, \"max\": 11}, \"Reset Count\": {\"sum\": 2.0, \"count\": 1, \"min\": 2, \"max\": 2}, \"Number of Records Since Last Reset\": {\"sum\": 0.0, \"count\": 1, \"min\": 0, \"max\": 0}, \"Number of Batches Since Last Reset\": {\"sum\": 0.0, \"count\": 1, \"min\": 0, \"max\": 0}}}\u001b[0m\n",
      "\u001b[34m[2023-01-24 19:43:32.414] [tensorio] [info] epoch_stats={\"data_pipeline\": \"/opt/ml/input/data/train\", \"epoch\": 3, \"duration\": 46166, \"num_examples\": 1309, \"num_bytes\": 507687136}\u001b[0m\n",
      "\u001b[34m#metrics {\"StartTime\": 1674589412.4145675, \"EndTime\": 1674589412.4146967, \"Dimensions\": {\"Algorithm\": \"Linear Learner\", \"Host\": \"algo-1\", \"Operation\": \"training\", \"epoch\": 0, \"model\": 0}, \"Metrics\": {\"train_binary_classification_cross_entropy_objective\": {\"sum\": 0.48305837714052346, \"count\": 1, \"min\": 0.48305837714052346, \"max\": 0.48305837714052346}}}\u001b[0m\n",
      "\u001b[34m#metrics {\"StartTime\": 1674589412.415095, \"EndTime\": 1674589412.415122, \"Dimensions\": {\"Algorithm\": \"Linear Learner\", \"Host\": \"algo-1\", \"Operation\": \"training\", \"epoch\": 0, \"model\": 1}, \"Metrics\": {\"train_binary_classification_cross_entropy_objective\": {\"sum\": 0.48360315709012, \"count\": 1, \"min\": 0.48360315709012, \"max\": 0.48360315709012}}}\u001b[0m\n",
      "\u001b[34m#metrics {\"StartTime\": 1674589412.4151995, \"EndTime\": 1674589412.4152203, \"Dimensions\": {\"Algorithm\": \"Linear Learner\", \"Host\": \"algo-1\", \"Operation\": \"training\", \"epoch\": 0, \"model\": 2}, \"Metrics\": {\"train_binary_classification_cross_entropy_objective\": {\"sum\": 0.4831235902418784, \"count\": 1, \"min\": 0.4831235902418784, \"max\": 0.4831235902418784}}}\u001b[0m\n",
      "\u001b[34m#metrics {\"StartTime\": 1674589412.4152853, \"EndTime\": 1674589412.4153044, \"Dimensions\": {\"Algorithm\": \"Linear Learner\", \"Host\": \"algo-1\", \"Operation\": \"training\", \"epoch\": 0, \"model\": 3}, \"Metrics\": {\"train_binary_classification_cross_entropy_objective\": {\"sum\": 0.4836330161371727, \"count\": 1, \"min\": 0.4836330161371727, \"max\": 0.4836330161371727}}}\u001b[0m\n",
      "\u001b[34m#metrics {\"StartTime\": 1674589412.4153745, \"EndTime\": 1674589412.415394, \"Dimensions\": {\"Algorithm\": \"Linear Learner\", \"Host\": \"algo-1\", \"Operation\": \"training\", \"epoch\": 0, \"model\": 4}, \"Metrics\": {\"train_binary_classification_cross_entropy_objective\": {\"sum\": 0.4953946884808555, \"count\": 1, \"min\": 0.4953946884808555, \"max\": 0.4953946884808555}}}\u001b[0m\n",
      "\u001b[34m#metrics {\"StartTime\": 1674589412.41545, \"EndTime\": 1674589412.4154675, \"Dimensions\": {\"Algorithm\": \"Linear Learner\", \"Host\": \"algo-1\", \"Operation\": \"training\", \"epoch\": 0, \"model\": 5}, \"Metrics\": {\"train_binary_classification_cross_entropy_objective\": {\"sum\": 0.5047800779896774, \"count\": 1, \"min\": 0.5047800779896774, \"max\": 0.5047800779896774}}}\u001b[0m\n",
      "\u001b[34m#metrics {\"StartTime\": 1674589412.4155264, \"EndTime\": 1674589412.415544, \"Dimensions\": {\"Algorithm\": \"Linear Learner\", \"Host\": \"algo-1\", \"Operation\": \"training\", \"epoch\": 0, \"model\": 6}, \"Metrics\": {\"train_binary_classification_cross_entropy_objective\": {\"sum\": 0.49548958935285564, \"count\": 1, \"min\": 0.49548958935285564, \"max\": 0.49548958935285564}}}\u001b[0m\n",
      "\u001b[34m#metrics {\"StartTime\": 1674589412.4156015, \"EndTime\": 1674589412.4156191, \"Dimensions\": {\"Algorithm\": \"Linear Learner\", \"Host\": \"algo-1\", \"Operation\": \"training\", \"epoch\": 0, \"model\": 7}, \"Metrics\": {\"train_binary_classification_cross_entropy_objective\": {\"sum\": 0.5047174766610522, \"count\": 1, \"min\": 0.5047174766610522, \"max\": 0.5047174766610522}}}\u001b[0m\n",
      "\u001b[34m#metrics {\"StartTime\": 1674589412.4156754, \"EndTime\": 1674589412.4156919, \"Dimensions\": {\"Algorithm\": \"Linear Learner\", \"Host\": \"algo-1\", \"Operation\": \"training\", \"epoch\": 0, \"model\": 8}, \"Metrics\": {\"train_binary_classification_cross_entropy_objective\": {\"sum\": 0.4833216999065621, \"count\": 1, \"min\": 0.4833216999065621, \"max\": 0.4833216999065621}}}\u001b[0m\n",
      "\u001b[34m#metrics {\"StartTime\": 1674589412.4157476, \"EndTime\": 1674589412.4157658, \"Dimensions\": {\"Algorithm\": \"Linear Learner\", \"Host\": \"algo-1\", \"Operation\": \"training\", \"epoch\": 0, \"model\": 9}, \"Metrics\": {\"train_binary_classification_cross_entropy_objective\": {\"sum\": 0.48378772401955517, \"count\": 1, \"min\": 0.48378772401955517, \"max\": 0.48378772401955517}}}\u001b[0m\n",
      "\u001b[34m#metrics {\"StartTime\": 1674589412.4158232, \"EndTime\": 1674589412.41584, \"Dimensions\": {\"Algorithm\": \"Linear Learner\", \"Host\": \"algo-1\", \"Operation\": \"training\", \"epoch\": 0, \"model\": 10}, \"Metrics\": {\"train_binary_classification_cross_entropy_objective\": {\"sum\": 0.48329076859127124, \"count\": 1, \"min\": 0.48329076859127124, \"max\": 0.48329076859127124}}}\u001b[0m\n",
      "\u001b[34m#metrics {\"StartTime\": 1674589412.4158957, \"EndTime\": 1674589412.4159122, \"Dimensions\": {\"Algorithm\": \"Linear Learner\", \"Host\": \"algo-1\", \"Operation\": \"training\", \"epoch\": 0, \"model\": 11}, \"Metrics\": {\"train_binary_classification_cross_entropy_objective\": {\"sum\": 0.48373330065526, \"count\": 1, \"min\": 0.48373330065526, \"max\": 0.48373330065526}}}\u001b[0m\n",
      "\u001b[34m#metrics {\"StartTime\": 1674589412.4159698, \"EndTime\": 1674589412.4159868, \"Dimensions\": {\"Algorithm\": \"Linear Learner\", \"Host\": \"algo-1\", \"Operation\": \"training\", \"epoch\": 0, \"model\": 12}, \"Metrics\": {\"train_binary_classification_cross_entropy_objective\": {\"sum\": 0.49468778459741436, \"count\": 1, \"min\": 0.49468778459741436, \"max\": 0.49468778459741436}}}\u001b[0m\n",
      "\u001b[34m#metrics {\"StartTime\": 1674589412.4160411, \"EndTime\": 1674589412.4160576, \"Dimensions\": {\"Algorithm\": \"Linear Learner\", \"Host\": \"algo-1\", \"Operation\": \"training\", \"epoch\": 0, \"model\": 13}, \"Metrics\": {\"train_binary_classification_cross_entropy_objective\": {\"sum\": 0.50327650323337, \"count\": 1, \"min\": 0.50327650323337, \"max\": 0.50327650323337}}}\u001b[0m\n",
      "\u001b[34m#metrics {\"StartTime\": 1674589412.4161139, \"EndTime\": 1674589412.4161313, \"Dimensions\": {\"Algorithm\": \"Linear Learner\", \"Host\": \"algo-1\", \"Operation\": \"training\", \"epoch\": 0, \"model\": 14}, \"Metrics\": {\"train_binary_classification_cross_entropy_objective\": {\"sum\": 0.4946212950540245, \"count\": 1, \"min\": 0.4946212950540245, \"max\": 0.4946212950540245}}}\u001b[0m\n",
      "\u001b[34m#metrics {\"StartTime\": 1674589412.4161973, \"EndTime\": 1674589412.4162145, \"Dimensions\": {\"Algorithm\": \"Linear Learner\", \"Host\": \"algo-1\", \"Operation\": \"training\", \"epoch\": 0, \"model\": 15}, \"Metrics\": {\"train_binary_classification_cross_entropy_objective\": {\"sum\": 0.5032348618113667, \"count\": 1, \"min\": 0.5032348618113667, \"max\": 0.5032348618113667}}}\u001b[0m\n",
      "\u001b[34m#metrics {\"StartTime\": 1674589412.416283, \"EndTime\": 1674589412.416301, \"Dimensions\": {\"Algorithm\": \"Linear Learner\", \"Host\": \"algo-1\", \"Operation\": \"training\", \"epoch\": 0, \"model\": 16}, \"Metrics\": {\"train_binary_classification_cross_entropy_objective\": {\"sum\": 0.5058866310936231, \"count\": 1, \"min\": 0.5058866310936231, \"max\": 0.5058866310936231}}}\u001b[0m\n",
      "\u001b[34m#metrics {\"StartTime\": 1674589412.416369, \"EndTime\": 1674589412.4163864, \"Dimensions\": {\"Algorithm\": \"Linear Learner\", \"Host\": \"algo-1\", \"Operation\": \"training\", \"epoch\": 0, \"model\": 17}, \"Metrics\": {\"train_binary_classification_cross_entropy_objective\": {\"sum\": 0.5060388003241396, \"count\": 1, \"min\": 0.5060388003241396, \"max\": 0.5060388003241396}}}\u001b[0m\n",
      "\u001b[34m#metrics {\"StartTime\": 1674589412.4164534, \"EndTime\": 1674589412.4164705, \"Dimensions\": {\"Algorithm\": \"Linear Learner\", \"Host\": \"algo-1\", \"Operation\": \"training\", \"epoch\": 0, \"model\": 18}, \"Metrics\": {\"train_binary_classification_cross_entropy_objective\": {\"sum\": 0.5058790228840773, \"count\": 1, \"min\": 0.5058790228840773, \"max\": 0.5058790228840773}}}\u001b[0m\n",
      "\u001b[34m#metrics {\"StartTime\": 1674589412.4165354, \"EndTime\": 1674589412.4165528, \"Dimensions\": {\"Algorithm\": \"Linear Learner\", \"Host\": \"algo-1\", \"Operation\": \"training\", \"epoch\": 0, \"model\": 19}, \"Metrics\": {\"train_binary_classification_cross_entropy_objective\": {\"sum\": 0.5060051637468718, \"count\": 1, \"min\": 0.5060051637468718, \"max\": 0.5060051637468718}}}\u001b[0m\n",
      "\u001b[34m#metrics {\"StartTime\": 1674589412.4166167, \"EndTime\": 1674589412.4166343, \"Dimensions\": {\"Algorithm\": \"Linear Learner\", \"Host\": \"algo-1\", \"Operation\": \"training\", \"epoch\": 0, \"model\": 20}, \"Metrics\": {\"train_binary_classification_cross_entropy_objective\": {\"sum\": 0.5074537006576492, \"count\": 1, \"min\": 0.5074537006576492, \"max\": 0.5074537006576492}}}\u001b[0m\n",
      "\u001b[34m#metrics {\"StartTime\": 1674589412.4166963, \"EndTime\": 1674589412.4167078, \"Dimensions\": {\"Algorithm\": \"Linear Learner\", \"Host\": \"algo-1\", \"Operation\": \"training\", \"epoch\": 0, \"model\": 21}, \"Metrics\": {\"train_binary_classification_cross_entropy_objective\": {\"sum\": 0.5087885047609289, \"count\": 1, \"min\": 0.5087885047609289, \"max\": 0.5087885047609289}}}\u001b[0m\n",
      "\u001b[34m#metrics {\"StartTime\": 1674589412.41674, \"EndTime\": 1674589412.4167495, \"Dimensions\": {\"Algorithm\": \"Linear Learner\", \"Host\": \"algo-1\", \"Operation\": \"training\", \"epoch\": 0, \"model\": 22}, \"Metrics\": {\"train_binary_classification_cross_entropy_objective\": {\"sum\": 0.5074454211080476, \"count\": 1, \"min\": 0.5074454211080476, \"max\": 0.5074454211080476}}}\u001b[0m\n",
      "\u001b[34m#metrics {\"StartTime\": 1674589412.4168036, \"EndTime\": 1674589412.4168208, \"Dimensions\": {\"Algorithm\": \"Linear Learner\", \"Host\": \"algo-1\", \"Operation\": \"training\", \"epoch\": 0, \"model\": 23}, \"Metrics\": {\"train_binary_classification_cross_entropy_objective\": {\"sum\": 0.5087861400685908, \"count\": 1, \"min\": 0.5087861400685908, \"max\": 0.5087861400685908}}}\u001b[0m\n",
      "\u001b[34m#metrics {\"StartTime\": 1674589412.4168677, \"EndTime\": 1674589412.4168837, \"Dimensions\": {\"Algorithm\": \"Linear Learner\", \"Host\": \"algo-1\", \"Operation\": \"training\", \"epoch\": 0, \"model\": 24}, \"Metrics\": {\"train_binary_classification_cross_entropy_objective\": {\"sum\": 0.5150959437892342, \"count\": 1, \"min\": 0.5150959437892342, \"max\": 0.5150959437892342}}}\u001b[0m\n",
      "\u001b[34m#metrics {\"StartTime\": 1674589412.4169512, \"EndTime\": 1674589412.4169698, \"Dimensions\": {\"Algorithm\": \"Linear Learner\", \"Host\": \"algo-1\", \"Operation\": \"training\", \"epoch\": 0, \"model\": 25}, \"Metrics\": {\"train_binary_classification_cross_entropy_objective\": {\"sum\": 0.5151236637827089, \"count\": 1, \"min\": 0.5151236637827089, \"max\": 0.5151236637827089}}}\u001b[0m\n",
      "\u001b[34m#metrics {\"StartTime\": 1674589412.4170282, \"EndTime\": 1674589412.417046, \"Dimensions\": {\"Algorithm\": \"Linear Learner\", \"Host\": \"algo-1\", \"Operation\": \"training\", \"epoch\": 0, \"model\": 26}, \"Metrics\": {\"train_binary_classification_cross_entropy_objective\": {\"sum\": 0.5151316308537754, \"count\": 1, \"min\": 0.5151316308537754, \"max\": 0.5151316308537754}}}\u001b[0m\n",
      "\u001b[34m#metrics {\"StartTime\": 1674589412.417108, \"EndTime\": 1674589412.4171257, \"Dimensions\": {\"Algorithm\": \"Linear Learner\", \"Host\": \"algo-1\", \"Operation\": \"training\", \"epoch\": 0, \"model\": 27}, \"Metrics\": {\"train_binary_classification_cross_entropy_objective\": {\"sum\": 0.5151519609270475, \"count\": 1, \"min\": 0.5151519609270475, \"max\": 0.5151519609270475}}}\u001b[0m\n",
      "\u001b[34m#metrics {\"StartTime\": 1674589412.4171824, \"EndTime\": 1674589412.417199, \"Dimensions\": {\"Algorithm\": \"Linear Learner\", \"Host\": \"algo-1\", \"Operation\": \"training\", \"epoch\": 0, \"model\": 28}, \"Metrics\": {\"train_binary_classification_cross_entropy_objective\": {\"sum\": 0.5152156880929929, \"count\": 1, \"min\": 0.5152156880929929, \"max\": 0.5152156880929929}}}\u001b[0m\n",
      "\u001b[34m#metrics {\"StartTime\": 1674589412.4172628, \"EndTime\": 1674589412.4172795, \"Dimensions\": {\"Algorithm\": \"Linear Learner\", \"Host\": \"algo-1\", \"Operation\": \"training\", \"epoch\": 0, \"model\": 29}, \"Metrics\": {\"train_binary_classification_cross_entropy_objective\": {\"sum\": 0.5156292934592711, \"count\": 1, \"min\": 0.5156292934592711, \"max\": 0.5156292934592711}}}\u001b[0m\n",
      "\u001b[34m#metrics {\"StartTime\": 1674589412.4173386, \"EndTime\": 1674589412.4173553, \"Dimensions\": {\"Algorithm\": \"Linear Learner\", \"Host\": \"algo-1\", \"Operation\": \"training\", \"epoch\": 0, \"model\": 30}, \"Metrics\": {\"train_binary_classification_cross_entropy_objective\": {\"sum\": 0.515225669674188, \"count\": 1, \"min\": 0.515225669674188, \"max\": 0.515225669674188}}}\u001b[0m\n",
      "\u001b[34m#metrics {\"StartTime\": 1674589412.4173963, \"EndTime\": 1674589412.4174063, \"Dimensions\": {\"Algorithm\": \"Linear Learner\", \"Host\": \"algo-1\", \"Operation\": \"training\", \"epoch\": 0, \"model\": 31}, \"Metrics\": {\"train_binary_classification_cross_entropy_objective\": {\"sum\": 0.5156475989198831, \"count\": 1, \"min\": 0.5156475989198831, \"max\": 0.5156475989198831}}}\u001b[0m\n",
      "\u001b[34m[01/24/2023 19:43:32 INFO 140592160999232] #quality_metric: host=algo-1, epoch=0, train binary_classification_cross_entropy_objective <loss>=0.48305837714052346\u001b[0m\n",
      "\u001b[34m[2023-01-24 19:43:32.443] [tensorio] [info] epoch_stats={\"data_pipeline\": \"/opt/ml/input/data/validation\", \"epoch\": 0, \"duration\": 46505, \"num_examples\": 1, \"num_bytes\": 388000}\u001b[0m\n",
      "\u001b[34m[2023-01-24 19:43:37.276] [tensorio] [info] epoch_stats={\"data_pipeline\": \"/opt/ml/input/data/validation\", \"epoch\": 2, \"duration\": 4833, \"num_examples\": 164, \"num_bytes\": 63460892}\u001b[0m\n",
      "\u001b[34m#metrics {\"StartTime\": 1674589417.2837338, \"EndTime\": 1674589417.2837906, \"Dimensions\": {\"Algorithm\": \"Linear Learner\", \"Host\": \"algo-1\", \"Operation\": \"training\", \"epoch\": 0, \"model\": 0}, \"Metrics\": {\"validation_binary_classification_cross_entropy_objective\": {\"sum\": 0.48135194084639493, \"count\": 1, \"min\": 0.48135194084639493, \"max\": 0.48135194084639493}}}\u001b[0m\n",
      "\u001b[34m#metrics {\"StartTime\": 1674589417.283877, \"EndTime\": 1674589417.2839, \"Dimensions\": {\"Algorithm\": \"Linear Learner\", \"Host\": \"algo-1\", \"Operation\": \"training\", \"epoch\": 0, \"model\": 1}, \"Metrics\": {\"validation_binary_classification_cross_entropy_objective\": {\"sum\": 0.4819711158977322, \"count\": 1, \"min\": 0.4819711158977322, \"max\": 0.4819711158977322}}}\u001b[0m\n",
      "\u001b[34m#metrics {\"StartTime\": 1674589417.2839656, \"EndTime\": 1674589417.2839844, \"Dimensions\": {\"Algorithm\": \"Linear Learner\", \"Host\": \"algo-1\", \"Operation\": \"training\", \"epoch\": 0, \"model\": 2}, \"Metrics\": {\"validation_binary_classification_cross_entropy_objective\": {\"sum\": 0.4813531441299888, \"count\": 1, \"min\": 0.4813531441299888, \"max\": 0.4813531441299888}}}\u001b[0m\n",
      "\u001b[34m#metrics {\"StartTime\": 1674589417.2840455, \"EndTime\": 1674589417.2840629, \"Dimensions\": {\"Algorithm\": \"Linear Learner\", \"Host\": \"algo-1\", \"Operation\": \"training\", \"epoch\": 0, \"model\": 3}, \"Metrics\": {\"validation_binary_classification_cross_entropy_objective\": {\"sum\": 0.48197198164992255, \"count\": 1, \"min\": 0.48197198164992255, \"max\": 0.48197198164992255}}}\u001b[0m\n",
      "\u001b[34m#metrics {\"StartTime\": 1674589417.2841237, \"EndTime\": 1674589417.2841403, \"Dimensions\": {\"Algorithm\": \"Linear Learner\", \"Host\": \"algo-1\", \"Operation\": \"training\", \"epoch\": 0, \"model\": 4}, \"Metrics\": {\"validation_binary_classification_cross_entropy_objective\": {\"sum\": 0.4867179829137058, \"count\": 1, \"min\": 0.4867179829137058, \"max\": 0.4867179829137058}}}\u001b[0m\n",
      "\u001b[34m#metrics {\"StartTime\": 1674589417.2841947, \"EndTime\": 1674589417.2842126, \"Dimensions\": {\"Algorithm\": \"Linear Learner\", \"Host\": \"algo-1\", \"Operation\": \"training\", \"epoch\": 0, \"model\": 5}, \"Metrics\": {\"validation_binary_classification_cross_entropy_objective\": {\"sum\": 0.5031099969063689, \"count\": 1, \"min\": 0.5031099969063689, \"max\": 0.5031099969063689}}}\u001b[0m\n",
      "\u001b[34m#metrics {\"StartTime\": 1674589417.2842731, \"EndTime\": 1674589417.2842915, \"Dimensions\": {\"Algorithm\": \"Linear Learner\", \"Host\": \"algo-1\", \"Operation\": \"training\", \"epoch\": 0, \"model\": 6}, \"Metrics\": {\"validation_binary_classification_cross_entropy_objective\": {\"sum\": 0.4867190628649295, \"count\": 1, \"min\": 0.4867190628649295, \"max\": 0.4867190628649295}}}\u001b[0m\n",
      "\u001b[34m#metrics {\"StartTime\": 1674589417.284344, \"EndTime\": 1674589417.28436, \"Dimensions\": {\"Algorithm\": \"Linear Learner\", \"Host\": \"algo-1\", \"Operation\": \"training\", \"epoch\": 0, \"model\": 7}, \"Metrics\": {\"validation_binary_classification_cross_entropy_objective\": {\"sum\": 0.5031101379642688, \"count\": 1, \"min\": 0.5031101379642688, \"max\": 0.5031101379642688}}}\u001b[0m\n",
      "\u001b[34m#metrics {\"StartTime\": 1674589417.2844126, \"EndTime\": 1674589417.2844305, \"Dimensions\": {\"Algorithm\": \"Linear Learner\", \"Host\": \"algo-1\", \"Operation\": \"training\", \"epoch\": 0, \"model\": 8}, \"Metrics\": {\"validation_binary_classification_cross_entropy_objective\": {\"sum\": 0.48161348878124877, \"count\": 1, \"min\": 0.48161348878124877, \"max\": 0.48161348878124877}}}\u001b[0m\n",
      "\u001b[34m#metrics {\"StartTime\": 1674589417.2844884, \"EndTime\": 1674589417.2845051, \"Dimensions\": {\"Algorithm\": \"Linear Learner\", \"Host\": \"algo-1\", \"Operation\": \"training\", \"epoch\": 0, \"model\": 9}, \"Metrics\": {\"validation_binary_classification_cross_entropy_objective\": {\"sum\": 0.4821119058623341, \"count\": 1, \"min\": 0.4821119058623341, \"max\": 0.4821119058623341}}}\u001b[0m\n",
      "\u001b[34m#metrics {\"StartTime\": 1674589417.2845585, \"EndTime\": 1674589417.2845752, \"Dimensions\": {\"Algorithm\": \"Linear Learner\", \"Host\": \"algo-1\", \"Operation\": \"training\", \"epoch\": 0, \"model\": 10}, \"Metrics\": {\"validation_binary_classification_cross_entropy_objective\": {\"sum\": 0.48161443625746053, \"count\": 1, \"min\": 0.48161443625746053, \"max\": 0.48161443625746053}}}\u001b[0m\n",
      "\u001b[34m#metrics {\"StartTime\": 1674589417.2846267, \"EndTime\": 1674589417.284644, \"Dimensions\": {\"Algorithm\": \"Linear Learner\", \"Host\": \"algo-1\", \"Operation\": \"training\", \"epoch\": 0, \"model\": 11}, \"Metrics\": {\"validation_binary_classification_cross_entropy_objective\": {\"sum\": 0.4821138157415195, \"count\": 1, \"min\": 0.4821138157415195, \"max\": 0.4821138157415195}}}\u001b[0m\n",
      "\u001b[34m#metrics {\"StartTime\": 1674589417.284698, \"EndTime\": 1674589417.2847142, \"Dimensions\": {\"Algorithm\": \"Linear Learner\", \"Host\": \"algo-1\", \"Operation\": \"training\", \"epoch\": 0, \"model\": 12}, \"Metrics\": {\"validation_binary_classification_cross_entropy_objective\": {\"sum\": 0.48641344795700275, \"count\": 1, \"min\": 0.48641344795700275, \"max\": 0.48641344795700275}}}\u001b[0m\n",
      "\u001b[34m#metrics {\"StartTime\": 1674589417.2847688, \"EndTime\": 1674589417.2847846, \"Dimensions\": {\"Algorithm\": \"Linear Learner\", \"Host\": \"algo-1\", \"Operation\": \"training\", \"epoch\": 0, \"model\": 13}, \"Metrics\": {\"validation_binary_classification_cross_entropy_objective\": {\"sum\": 0.500125740523375, \"count\": 1, \"min\": 0.500125740523375, \"max\": 0.500125740523375}}}\u001b[0m\n",
      "\u001b[34m#metrics {\"StartTime\": 1674589417.284839, \"EndTime\": 1674589417.284855, \"Dimensions\": {\"Algorithm\": \"Linear Learner\", \"Host\": \"algo-1\", \"Operation\": \"training\", \"epoch\": 0, \"model\": 14}, \"Metrics\": {\"validation_binary_classification_cross_entropy_objective\": {\"sum\": 0.48641960366031906, \"count\": 1, \"min\": 0.48641960366031906, \"max\": 0.48641960366031906}}}\u001b[0m\n",
      "\u001b[34m#metrics {\"StartTime\": 1674589417.2849088, \"EndTime\": 1674589417.2849247, \"Dimensions\": {\"Algorithm\": \"Linear Learner\", \"Host\": \"algo-1\", \"Operation\": \"training\", \"epoch\": 0, \"model\": 15}, \"Metrics\": {\"validation_binary_classification_cross_entropy_objective\": {\"sum\": 0.5001301817015023, \"count\": 1, \"min\": 0.5001301817015023, \"max\": 0.5001301817015023}}}\u001b[0m\n",
      "\u001b[34m#metrics {\"StartTime\": 1674589417.2849877, \"EndTime\": 1674589417.2850053, \"Dimensions\": {\"Algorithm\": \"Linear Learner\", \"Host\": \"algo-1\", \"Operation\": \"training\", \"epoch\": 0, \"model\": 16}, \"Metrics\": {\"validation_binary_classification_cross_entropy_objective\": {\"sum\": 0.504590582699348, \"count\": 1, \"min\": 0.504590582699348, \"max\": 0.504590582699348}}}\u001b[0m\n",
      "\u001b[34m#metrics {\"StartTime\": 1674589417.2850566, \"EndTime\": 1674589417.2850726, \"Dimensions\": {\"Algorithm\": \"Linear Learner\", \"Host\": \"algo-1\", \"Operation\": \"training\", \"epoch\": 0, \"model\": 17}, \"Metrics\": {\"validation_binary_classification_cross_entropy_objective\": {\"sum\": 0.5046290137002956, \"count\": 1, \"min\": 0.5046290137002956, \"max\": 0.5046290137002956}}}\u001b[0m\n",
      "\u001b[34m#metrics {\"StartTime\": 1674589417.2851315, \"EndTime\": 1674589417.2851486, \"Dimensions\": {\"Algorithm\": \"Linear Learner\", \"Host\": \"algo-1\", \"Operation\": \"training\", \"epoch\": 0, \"model\": 18}, \"Metrics\": {\"validation_binary_classification_cross_entropy_objective\": {\"sum\": 0.5045982531891205, \"count\": 1, \"min\": 0.5045982531891205, \"max\": 0.5045982531891205}}}\u001b[0m\n",
      "\u001b[34m#metrics {\"StartTime\": 1674589417.2852125, \"EndTime\": 1674589417.28523, \"Dimensions\": {\"Algorithm\": \"Linear Learner\", \"Host\": \"algo-1\", \"Operation\": \"training\", \"epoch\": 0, \"model\": 19}, \"Metrics\": {\"validation_binary_classification_cross_entropy_objective\": {\"sum\": 0.5046338035116055, \"count\": 1, \"min\": 0.5046338035116055, \"max\": 0.5046338035116055}}}\u001b[0m\n",
      "\u001b[34m#metrics {\"StartTime\": 1674589417.2852867, \"EndTime\": 1674589417.2853043, \"Dimensions\": {\"Algorithm\": \"Linear Learner\", \"Host\": \"algo-1\", \"Operation\": \"training\", \"epoch\": 0, \"model\": 20}, \"Metrics\": {\"validation_binary_classification_cross_entropy_objective\": {\"sum\": 0.5040569097261562, \"count\": 1, \"min\": 0.5040569097261562, \"max\": 0.5040569097261562}}}\u001b[0m\n",
      "\u001b[34m#metrics {\"StartTime\": 1674589417.2853627, \"EndTime\": 1674589417.2853801, \"Dimensions\": {\"Algorithm\": \"Linear Learner\", \"Host\": \"algo-1\", \"Operation\": \"training\", \"epoch\": 0, \"model\": 21}, \"Metrics\": {\"validation_binary_classification_cross_entropy_objective\": {\"sum\": 0.5070503464408892, \"count\": 1, \"min\": 0.5070503464408892, \"max\": 0.5070503464408892}}}\u001b[0m\n",
      "\u001b[34m#metrics {\"StartTime\": 1674589417.285442, \"EndTime\": 1674589417.2854598, \"Dimensions\": {\"Algorithm\": \"Linear Learner\", \"Host\": \"algo-1\", \"Operation\": \"training\", \"epoch\": 0, \"model\": 22}, \"Metrics\": {\"validation_binary_classification_cross_entropy_objective\": {\"sum\": 0.5040517532762571, \"count\": 1, \"min\": 0.5040517532762571, \"max\": 0.5040517532762571}}}\u001b[0m\n",
      "\u001b[34m#metrics {\"StartTime\": 1674589417.2855184, \"EndTime\": 1674589417.2855349, \"Dimensions\": {\"Algorithm\": \"Linear Learner\", \"Host\": \"algo-1\", \"Operation\": \"training\", \"epoch\": 0, \"model\": 23}, \"Metrics\": {\"validation_binary_classification_cross_entropy_objective\": {\"sum\": 0.5070280953035057, \"count\": 1, \"min\": 0.5070280953035057, \"max\": 0.5070280953035057}}}\u001b[0m\n",
      "\u001b[34m#metrics {\"StartTime\": 1674589417.28559, \"EndTime\": 1674589417.2856061, \"Dimensions\": {\"Algorithm\": \"Linear Learner\", \"Host\": \"algo-1\", \"Operation\": \"training\", \"epoch\": 0, \"model\": 24}, \"Metrics\": {\"validation_binary_classification_cross_entropy_objective\": {\"sum\": 0.5138614120372847, \"count\": 1, \"min\": 0.5138614120372847, \"max\": 0.5138614120372847}}}\u001b[0m\n",
      "\u001b[34m#metrics {\"StartTime\": 1674589417.2856615, \"EndTime\": 1674589417.2856781, \"Dimensions\": {\"Algorithm\": \"Linear Learner\", \"Host\": \"algo-1\", \"Operation\": \"training\", \"epoch\": 0, \"model\": 25}, \"Metrics\": {\"validation_binary_classification_cross_entropy_objective\": {\"sum\": 0.5137791207989166, \"count\": 1, \"min\": 0.5137791207989166, \"max\": 0.5137791207989166}}}\u001b[0m\n",
      "\u001b[34m#metrics {\"StartTime\": 1674589417.285731, \"EndTime\": 1674589417.2857478, \"Dimensions\": {\"Algorithm\": \"Linear Learner\", \"Host\": \"algo-1\", \"Operation\": \"training\", \"epoch\": 0, \"model\": 26}, \"Metrics\": {\"validation_binary_classification_cross_entropy_objective\": {\"sum\": 0.5138414497322545, \"count\": 1, \"min\": 0.5138414497322545, \"max\": 0.5138414497322545}}}\u001b[0m\n",
      "\u001b[34m#metrics {\"StartTime\": 1674589417.285806, \"EndTime\": 1674589417.2858224, \"Dimensions\": {\"Algorithm\": \"Linear Learner\", \"Host\": \"algo-1\", \"Operation\": \"training\", \"epoch\": 0, \"model\": 27}, \"Metrics\": {\"validation_binary_classification_cross_entropy_objective\": {\"sum\": 0.5137646724397331, \"count\": 1, \"min\": 0.5137646724397331, \"max\": 0.5137646724397331}}}\u001b[0m\n",
      "\u001b[34m#metrics {\"StartTime\": 1674589417.2858813, \"EndTime\": 1674589417.2858987, \"Dimensions\": {\"Algorithm\": \"Linear Learner\", \"Host\": \"algo-1\", \"Operation\": \"training\", \"epoch\": 0, \"model\": 28}, \"Metrics\": {\"validation_binary_classification_cross_entropy_objective\": {\"sum\": 0.5139044208895233, \"count\": 1, \"min\": 0.5139044208895233, \"max\": 0.5139044208895233}}}\u001b[0m\n",
      "\u001b[34m#metrics {\"StartTime\": 1674589417.2859554, \"EndTime\": 1674589417.285972, \"Dimensions\": {\"Algorithm\": \"Linear Learner\", \"Host\": \"algo-1\", \"Operation\": \"training\", \"epoch\": 0, \"model\": 29}, \"Metrics\": {\"validation_binary_classification_cross_entropy_objective\": {\"sum\": 0.5142082875937544, \"count\": 1, \"min\": 0.5142082875937544, \"max\": 0.5142082875937544}}}\u001b[0m\n",
      "\u001b[34m#metrics {\"StartTime\": 1674589417.2860389, \"EndTime\": 1674589417.286058, \"Dimensions\": {\"Algorithm\": \"Linear Learner\", \"Host\": \"algo-1\", \"Operation\": \"training\", \"epoch\": 0, \"model\": 30}, \"Metrics\": {\"validation_binary_classification_cross_entropy_objective\": {\"sum\": 0.513907831654618, \"count\": 1, \"min\": 0.513907831654618, \"max\": 0.513907831654618}}}\u001b[0m\n",
      "\u001b[34m#metrics {\"StartTime\": 1674589417.2861218, \"EndTime\": 1674589417.2861395, \"Dimensions\": {\"Algorithm\": \"Linear Learner\", \"Host\": \"algo-1\", \"Operation\": \"training\", \"epoch\": 0, \"model\": 31}, \"Metrics\": {\"validation_binary_classification_cross_entropy_objective\": {\"sum\": 0.5141710057668888, \"count\": 1, \"min\": 0.5141710057668888, \"max\": 0.5141710057668888}}}\u001b[0m\n",
      "\u001b[34m[01/24/2023 19:43:37 INFO 140592160999232] #quality_metric: host=algo-1, epoch=0, validation binary_classification_cross_entropy_objective <loss>=0.48135194084639493\u001b[0m\n",
      "\u001b[34m[01/24/2023 19:43:37 INFO 140592160999232] #early_stopping_criteria_metric: host=algo-1, epoch=0, criteria=binary_classification_cross_entropy_objective, value=0.48135194084639493\u001b[0m\n",
      "\u001b[34m[01/24/2023 19:43:37 INFO 140592160999232] Epoch 0: Loss improved. Updating best model\u001b[0m\n",
      "\u001b[34m[01/24/2023 19:43:37 INFO 140592160999232] Saving model for epoch: 0\u001b[0m\n",
      "\u001b[34m[01/24/2023 19:43:37 INFO 140592160999232] Saved checkpoint to \"/tmp/tmpfn80ffv1/mx-mod-0000.params\"\u001b[0m\n",
      "\u001b[34m[01/24/2023 19:43:37 INFO 140592160999232] #progress_metric: host=algo-1, completed 6.666666666666667 % of epochs\u001b[0m\n",
      "\u001b[34m#metrics {\"StartTime\": 1674589366.248098, \"EndTime\": 1674589417.2945592, \"Dimensions\": {\"Algorithm\": \"Linear Learner\", \"Host\": \"algo-1\", \"Operation\": \"training\", \"epoch\": 0, \"Meta\": \"training_data_iter\"}, \"Metrics\": {\"Total Records Seen\": {\"sum\": 1320472.0, \"count\": 1, \"min\": 1320472, \"max\": 1320472}, \"Total Batches Seen\": {\"sum\": 1321.0, \"count\": 1, \"min\": 1321, \"max\": 1321}, \"Max Records Seen Between Resets\": {\"sum\": 1308472.0, \"count\": 1, \"min\": 1308472, \"max\": 1308472}, \"Max Batches Seen Between Resets\": {\"sum\": 1309.0, \"count\": 1, \"min\": 1309, \"max\": 1309}, \"Reset Count\": {\"sum\": 3.0, \"count\": 1, \"min\": 3, \"max\": 3}, \"Number of Records Since Last Reset\": {\"sum\": 1308472.0, \"count\": 1, \"min\": 1308472, \"max\": 1308472}, \"Number of Batches Since Last Reset\": {\"sum\": 1309.0, \"count\": 1, \"min\": 1309, \"max\": 1309}}}\u001b[0m\n",
      "\u001b[34m[01/24/2023 19:43:37 INFO 140592160999232] #throughput_metric: host=algo-1, train throughput=25632.898232557574 records/second\u001b[0m\n",
      "\u001b[34m[2023-01-24 19:44:26.859] [tensorio] [info] epoch_stats={\"data_pipeline\": \"/opt/ml/input/data/train\", \"epoch\": 5, \"duration\": 49559, \"num_examples\": 1309, \"num_bytes\": 507687136}\u001b[0m\n",
      "\u001b[34m#metrics {\"StartTime\": 1674589466.859928, \"EndTime\": 1674589466.8600423, \"Dimensions\": {\"Algorithm\": \"Linear Learner\", \"Host\": \"algo-1\", \"Operation\": \"training\", \"epoch\": 1, \"model\": 0}, \"Metrics\": {\"train_binary_classification_cross_entropy_objective\": {\"sum\": 0.48068944348909803, \"count\": 1, \"min\": 0.48068944348909803, \"max\": 0.48068944348909803}}}\u001b[0m\n",
      "\u001b[34m#metrics {\"StartTime\": 1674589466.860158, \"EndTime\": 1674589466.8601804, \"Dimensions\": {\"Algorithm\": \"Linear Learner\", \"Host\": \"algo-1\", \"Operation\": \"training\", \"epoch\": 1, \"model\": 1}, \"Metrics\": {\"train_binary_classification_cross_entropy_objective\": {\"sum\": 0.4816177705303974, \"count\": 1, \"min\": 0.4816177705303974, \"max\": 0.4816177705303974}}}\u001b[0m\n",
      "\u001b[34m#metrics {\"StartTime\": 1674589466.8602414, \"EndTime\": 1674589466.8602586, \"Dimensions\": {\"Algorithm\": \"Linear Learner\", \"Host\": \"algo-1\", \"Operation\": \"training\", \"epoch\": 1, \"model\": 2}, \"Metrics\": {\"train_binary_classification_cross_entropy_objective\": {\"sum\": 0.48068989021697905, \"count\": 1, \"min\": 0.48068989021697905, \"max\": 0.48068989021697905}}}\u001b[0m\n",
      "\u001b[34m#metrics {\"StartTime\": 1674589466.8603277, \"EndTime\": 1674589466.8603663, \"Dimensions\": {\"Algorithm\": \"Linear Learner\", \"Host\": \"algo-1\", \"Operation\": \"training\", \"epoch\": 1, \"model\": 3}, \"Metrics\": {\"train_binary_classification_cross_entropy_objective\": {\"sum\": 0.48161744407630475, \"count\": 1, \"min\": 0.48161744407630475, \"max\": 0.48161744407630475}}}\u001b[0m\n",
      "\u001b[34m#metrics {\"StartTime\": 1674589466.8604252, \"EndTime\": 1674589466.8604429, \"Dimensions\": {\"Algorithm\": \"Linear Learner\", \"Host\": \"algo-1\", \"Operation\": \"training\", \"epoch\": 1, \"model\": 4}, \"Metrics\": {\"train_binary_classification_cross_entropy_objective\": {\"sum\": 0.4843903369728578, \"count\": 1, \"min\": 0.4843903369728578, \"max\": 0.4843903369728578}}}\u001b[0m\n",
      "\u001b[34m#metrics {\"StartTime\": 1674589466.8604934, \"EndTime\": 1674589466.8605094, \"Dimensions\": {\"Algorithm\": \"Linear Learner\", \"Host\": \"algo-1\", \"Operation\": \"training\", \"epoch\": 1, \"model\": 5}, \"Metrics\": {\"train_binary_classification_cross_entropy_objective\": {\"sum\": 0.5012656295496389, \"count\": 1, \"min\": 0.5012656295496389, \"max\": 0.5012656295496389}}}\u001b[0m\n",
      "\u001b[34m#metrics {\"StartTime\": 1674589466.860562, \"EndTime\": 1674589466.8605785, \"Dimensions\": {\"Algorithm\": \"Linear Learner\", \"Host\": \"algo-1\", \"Operation\": \"training\", \"epoch\": 1, \"model\": 6}, \"Metrics\": {\"train_binary_classification_cross_entropy_objective\": {\"sum\": 0.4843901721126078, \"count\": 1, \"min\": 0.4843901721126078, \"max\": 0.4843901721126078}}}\u001b[0m\n",
      "\u001b[34m#metrics {\"StartTime\": 1674589466.8606327, \"EndTime\": 1674589466.86065, \"Dimensions\": {\"Algorithm\": \"Linear Learner\", \"Host\": \"algo-1\", \"Operation\": \"training\", \"epoch\": 1, \"model\": 7}, \"Metrics\": {\"train_binary_classification_cross_entropy_objective\": {\"sum\": 0.5012663297974006, \"count\": 1, \"min\": 0.5012663297974006, \"max\": 0.5012663297974006}}}\u001b[0m\n",
      "\u001b[34m#metrics {\"StartTime\": 1674589466.8607042, \"EndTime\": 1674589466.8607202, \"Dimensions\": {\"Algorithm\": \"Linear Learner\", \"Host\": \"algo-1\", \"Operation\": \"training\", \"epoch\": 1, \"model\": 8}, \"Metrics\": {\"train_binary_classification_cross_entropy_objective\": {\"sum\": 0.48093958653441266, \"count\": 1, \"min\": 0.48093958653441266, \"max\": 0.48093958653441266}}}\u001b[0m\n",
      "\u001b[34m#metrics {\"StartTime\": 1674589466.860782, \"EndTime\": 1674589466.860801, \"Dimensions\": {\"Algorithm\": \"Linear Learner\", \"Host\": \"algo-1\", \"Operation\": \"training\", \"epoch\": 1, \"model\": 9}, \"Metrics\": {\"train_binary_classification_cross_entropy_objective\": {\"sum\": 0.48181574125610727, \"count\": 1, \"min\": 0.48181574125610727, \"max\": 0.48181574125610727}}}\u001b[0m\n",
      "\u001b[34m#metrics {\"StartTime\": 1674589466.8608537, \"EndTime\": 1674589466.8608687, \"Dimensions\": {\"Algorithm\": \"Linear Learner\", \"Host\": \"algo-1\", \"Operation\": \"training\", \"epoch\": 1, \"model\": 10}, \"Metrics\": {\"train_binary_classification_cross_entropy_objective\": {\"sum\": 0.480939409681781, \"count\": 1, \"min\": 0.480939409681781, \"max\": 0.480939409681781}}}\u001b[0m\n",
      "\u001b[34m#metrics {\"StartTime\": 1674589466.8609185, \"EndTime\": 1674589466.8609347, \"Dimensions\": {\"Algorithm\": \"Linear Learner\", \"Host\": \"algo-1\", \"Operation\": \"training\", \"epoch\": 1, \"model\": 11}, \"Metrics\": {\"train_binary_classification_cross_entropy_objective\": {\"sum\": 0.48181600098216204, \"count\": 1, \"min\": 0.48181600098216204, \"max\": 0.48181600098216204}}}\u001b[0m\n",
      "\u001b[34m#metrics {\"StartTime\": 1674589466.860987, \"EndTime\": 1674589466.8610032, \"Dimensions\": {\"Algorithm\": \"Linear Learner\", \"Host\": \"algo-1\", \"Operation\": \"training\", \"epoch\": 1, \"model\": 12}, \"Metrics\": {\"train_binary_classification_cross_entropy_objective\": {\"sum\": 0.48440124364730414, \"count\": 1, \"min\": 0.48440124364730414, \"max\": 0.48440124364730414}}}\u001b[0m\n",
      "\u001b[34m#metrics {\"StartTime\": 1674589466.861055, \"EndTime\": 1674589466.8610706, \"Dimensions\": {\"Algorithm\": \"Linear Learner\", \"Host\": \"algo-1\", \"Operation\": \"training\", \"epoch\": 1, \"model\": 13}, \"Metrics\": {\"train_binary_classification_cross_entropy_objective\": {\"sum\": 0.5000344047196414, \"count\": 1, \"min\": 0.5000344047196414, \"max\": 0.5000344047196414}}}\u001b[0m\n",
      "\u001b[34m#metrics {\"StartTime\": 1674589466.8611233, \"EndTime\": 1674589466.8611412, \"Dimensions\": {\"Algorithm\": \"Linear Learner\", \"Host\": \"algo-1\", \"Operation\": \"training\", \"epoch\": 1, \"model\": 14}, \"Metrics\": {\"train_binary_classification_cross_entropy_objective\": {\"sum\": 0.4844021000060102, \"count\": 1, \"min\": 0.4844021000060102, \"max\": 0.4844021000060102}}}\u001b[0m\n",
      "\u001b[34m#metrics {\"StartTime\": 1674589466.8611994, \"EndTime\": 1674589466.8612156, \"Dimensions\": {\"Algorithm\": \"Linear Learner\", \"Host\": \"algo-1\", \"Operation\": \"training\", \"epoch\": 1, \"model\": 15}, \"Metrics\": {\"train_binary_classification_cross_entropy_objective\": {\"sum\": 0.5000354398908236, \"count\": 1, \"min\": 0.5000354398908236, \"max\": 0.5000354398908236}}}\u001b[0m\n",
      "\u001b[34m#metrics {\"StartTime\": 1674589466.8612692, \"EndTime\": 1674589466.8612866, \"Dimensions\": {\"Algorithm\": \"Linear Learner\", \"Host\": \"algo-1\", \"Operation\": \"training\", \"epoch\": 1, \"model\": 16}, \"Metrics\": {\"train_binary_classification_cross_entropy_objective\": {\"sum\": 0.5043675052514499, \"count\": 1, \"min\": 0.5043675052514499, \"max\": 0.5043675052514499}}}\u001b[0m\n",
      "\u001b[34m#metrics {\"StartTime\": 1674589466.8614333, \"EndTime\": 1674589466.861455, \"Dimensions\": {\"Algorithm\": \"Linear Learner\", \"Host\": \"algo-1\", \"Operation\": \"training\", \"epoch\": 1, \"model\": 17}, \"Metrics\": {\"train_binary_classification_cross_entropy_objective\": {\"sum\": 0.5046045079129187, \"count\": 1, \"min\": 0.5046045079129187, \"max\": 0.5046045079129187}}}\u001b[0m\n",
      "\u001b[34m#metrics {\"StartTime\": 1674589466.861521, \"EndTime\": 1674589466.861539, \"Dimensions\": {\"Algorithm\": \"Linear Learner\", \"Host\": \"algo-1\", \"Operation\": \"training\", \"epoch\": 1, \"model\": 18}, \"Metrics\": {\"train_binary_classification_cross_entropy_objective\": {\"sum\": 0.5043674548787809, \"count\": 1, \"min\": 0.5043674548787809, \"max\": 0.5043674548787809}}}\u001b[0m\n",
      "\u001b[34m#metrics {\"StartTime\": 1674589466.8616085, \"EndTime\": 1674589466.861626, \"Dimensions\": {\"Algorithm\": \"Linear Learner\", \"Host\": \"algo-1\", \"Operation\": \"training\", \"epoch\": 1, \"model\": 19}, \"Metrics\": {\"train_binary_classification_cross_entropy_objective\": {\"sum\": 0.5046045270913967, \"count\": 1, \"min\": 0.5046045270913967, \"max\": 0.5046045270913967}}}\u001b[0m\n",
      "\u001b[34m#metrics {\"StartTime\": 1674589466.8616853, \"EndTime\": 1674589466.8617034, \"Dimensions\": {\"Algorithm\": \"Linear Learner\", \"Host\": \"algo-1\", \"Operation\": \"training\", \"epoch\": 1, \"model\": 20}, \"Metrics\": {\"train_binary_classification_cross_entropy_objective\": {\"sum\": 0.5051433113868083, \"count\": 1, \"min\": 0.5051433113868083, \"max\": 0.5051433113868083}}}\u001b[0m\n",
      "\u001b[34m#metrics {\"StartTime\": 1674589466.8617616, \"EndTime\": 1674589466.861779, \"Dimensions\": {\"Algorithm\": \"Linear Learner\", \"Host\": \"algo-1\", \"Operation\": \"training\", \"epoch\": 1, \"model\": 21}, \"Metrics\": {\"train_binary_classification_cross_entropy_objective\": {\"sum\": 0.5080935354903569, \"count\": 1, \"min\": 0.5080935354903569, \"max\": 0.5080935354903569}}}\u001b[0m\n",
      "\u001b[34m#metrics {\"StartTime\": 1674589466.861834, \"EndTime\": 1674589466.86185, \"Dimensions\": {\"Algorithm\": \"Linear Learner\", \"Host\": \"algo-1\", \"Operation\": \"training\", \"epoch\": 1, \"model\": 22}, \"Metrics\": {\"train_binary_classification_cross_entropy_objective\": {\"sum\": 0.5051436901734145, \"count\": 1, \"min\": 0.5051436901734145, \"max\": 0.5051436901734145}}}\u001b[0m\n",
      "\u001b[34m#metrics {\"StartTime\": 1674589466.861902, \"EndTime\": 1674589466.861919, \"Dimensions\": {\"Algorithm\": \"Linear Learner\", \"Host\": \"algo-1\", \"Operation\": \"training\", \"epoch\": 1, \"model\": 23}, \"Metrics\": {\"train_binary_classification_cross_entropy_objective\": {\"sum\": 0.5080936083545743, \"count\": 1, \"min\": 0.5080936083545743, \"max\": 0.5080936083545743}}}\u001b[0m\n",
      "\u001b[34m#metrics {\"StartTime\": 1674589466.8619697, \"EndTime\": 1674589466.8619866, \"Dimensions\": {\"Algorithm\": \"Linear Learner\", \"Host\": \"algo-1\", \"Operation\": \"training\", \"epoch\": 1, \"model\": 24}, \"Metrics\": {\"train_binary_classification_cross_entropy_objective\": {\"sum\": 0.5137240082627043, \"count\": 1, \"min\": 0.5137240082627043, \"max\": 0.5137240082627043}}}\u001b[0m\n",
      "\u001b[34m#metrics {\"StartTime\": 1674589466.862051, \"EndTime\": 1674589466.8620696, \"Dimensions\": {\"Algorithm\": \"Linear Learner\", \"Host\": \"algo-1\", \"Operation\": \"training\", \"epoch\": 1, \"model\": 25}, \"Metrics\": {\"train_binary_classification_cross_entropy_objective\": {\"sum\": 0.5137878721278013, \"count\": 1, \"min\": 0.5137878721278013, \"max\": 0.5137878721278013}}}\u001b[0m\n",
      "\u001b[34m#metrics {\"StartTime\": 1674589466.8621259, \"EndTime\": 1674589466.8621414, \"Dimensions\": {\"Algorithm\": \"Linear Learner\", \"Host\": \"algo-1\", \"Operation\": \"training\", \"epoch\": 1, \"model\": 26}, \"Metrics\": {\"train_binary_classification_cross_entropy_objective\": {\"sum\": 0.5137241647702838, \"count\": 1, \"min\": 0.5137241647702838, \"max\": 0.5137241647702838}}}\u001b[0m\n",
      "\u001b[34m#metrics {\"StartTime\": 1674589466.8621917, \"EndTime\": 1674589466.8622062, \"Dimensions\": {\"Algorithm\": \"Linear Learner\", \"Host\": \"algo-1\", \"Operation\": \"training\", \"epoch\": 1, \"model\": 27}, \"Metrics\": {\"train_binary_classification_cross_entropy_objective\": {\"sum\": 0.5137872279689217, \"count\": 1, \"min\": 0.5137872279689217, \"max\": 0.5137872279689217}}}\u001b[0m\n",
      "\u001b[34m#metrics {\"StartTime\": 1674589466.8622527, \"EndTime\": 1674589466.8622675, \"Dimensions\": {\"Algorithm\": \"Linear Learner\", \"Host\": \"algo-1\", \"Operation\": \"training\", \"epoch\": 1, \"model\": 28}, \"Metrics\": {\"train_binary_classification_cross_entropy_objective\": {\"sum\": 0.5139836231663322, \"count\": 1, \"min\": 0.5139836231663322, \"max\": 0.5139836231663322}}}\u001b[0m\n",
      "\u001b[34m#metrics {\"StartTime\": 1674589466.862315, \"EndTime\": 1674589466.862329, \"Dimensions\": {\"Algorithm\": \"Linear Learner\", \"Host\": \"algo-1\", \"Operation\": \"training\", \"epoch\": 1, \"model\": 29}, \"Metrics\": {\"train_binary_classification_cross_entropy_objective\": {\"sum\": 0.5150909045391491, \"count\": 1, \"min\": 0.5150909045391491, \"max\": 0.5150909045391491}}}\u001b[0m\n",
      "\u001b[34m#metrics {\"StartTime\": 1674589466.8623898, \"EndTime\": 1674589466.8624063, \"Dimensions\": {\"Algorithm\": \"Linear Learner\", \"Host\": \"algo-1\", \"Operation\": \"training\", \"epoch\": 1, \"model\": 30}, \"Metrics\": {\"train_binary_classification_cross_entropy_objective\": {\"sum\": 0.5139833798189776, \"count\": 1, \"min\": 0.5139833798189776, \"max\": 0.5139833798189776}}}\u001b[0m\n",
      "\u001b[34m#metrics {\"StartTime\": 1674589466.8625124, \"EndTime\": 1674589466.8625305, \"Dimensions\": {\"Algorithm\": \"Linear Learner\", \"Host\": \"algo-1\", \"Operation\": \"training\", \"epoch\": 1, \"model\": 31}, \"Metrics\": {\"train_binary_classification_cross_entropy_objective\": {\"sum\": 0.5150817571750839, \"count\": 1, \"min\": 0.5150817571750839, \"max\": 0.5150817571750839}}}\u001b[0m\n",
      "\u001b[34m[01/24/2023 19:44:26 INFO 140592160999232] #quality_metric: host=algo-1, epoch=1, train binary_classification_cross_entropy_objective <loss>=0.48068944348909803\u001b[0m\n",
      "\u001b[34m[2023-01-24 19:44:30.789] [tensorio] [info] epoch_stats={\"data_pipeline\": \"/opt/ml/input/data/validation\", \"epoch\": 5, \"duration\": 3905, \"num_examples\": 164, \"num_bytes\": 63460892}\u001b[0m\n",
      "\u001b[34m#metrics {\"StartTime\": 1674589470.796812, \"EndTime\": 1674589470.7968702, \"Dimensions\": {\"Algorithm\": \"Linear Learner\", \"Host\": \"algo-1\", \"Operation\": \"training\", \"epoch\": 1, \"model\": 0}, \"Metrics\": {\"validation_binary_classification_cross_entropy_objective\": {\"sum\": 0.48105002889492715, \"count\": 1, \"min\": 0.48105002889492715, \"max\": 0.48105002889492715}}}\u001b[0m\n",
      "\u001b[34m#metrics {\"StartTime\": 1674589470.796957, \"EndTime\": 1674589470.7969747, \"Dimensions\": {\"Algorithm\": \"Linear Learner\", \"Host\": \"algo-1\", \"Operation\": \"training\", \"epoch\": 1, \"model\": 1}, \"Metrics\": {\"validation_binary_classification_cross_entropy_objective\": {\"sum\": 0.481849918614219, \"count\": 1, \"min\": 0.481849918614219, \"max\": 0.481849918614219}}}\u001b[0m\n",
      "\u001b[34m#metrics {\"StartTime\": 1674589470.7970426, \"EndTime\": 1674589470.797061, \"Dimensions\": {\"Algorithm\": \"Linear Learner\", \"Host\": \"algo-1\", \"Operation\": \"training\", \"epoch\": 1, \"model\": 2}, \"Metrics\": {\"validation_binary_classification_cross_entropy_objective\": {\"sum\": 0.48105059275335804, \"count\": 1, \"min\": 0.48105059275335804, \"max\": 0.48105059275335804}}}\u001b[0m\n",
      "\u001b[34m#metrics {\"StartTime\": 1674589470.7971168, \"EndTime\": 1674589470.7971346, \"Dimensions\": {\"Algorithm\": \"Linear Learner\", \"Host\": \"algo-1\", \"Operation\": \"training\", \"epoch\": 1, \"model\": 3}, \"Metrics\": {\"validation_binary_classification_cross_entropy_objective\": {\"sum\": 0.4818500956829321, \"count\": 1, \"min\": 0.4818500956829321, \"max\": 0.4818500956829321}}}\u001b[0m\n",
      "\u001b[34m#metrics {\"StartTime\": 1674589470.7972033, \"EndTime\": 1674589470.797221, \"Dimensions\": {\"Algorithm\": \"Linear Learner\", \"Host\": \"algo-1\", \"Operation\": \"training\", \"epoch\": 1, \"model\": 4}, \"Metrics\": {\"validation_binary_classification_cross_entropy_objective\": {\"sum\": 0.4828027782559483, \"count\": 1, \"min\": 0.4828027782559483, \"max\": 0.4828027782559483}}}\u001b[0m\n",
      "\u001b[34m#metrics {\"StartTime\": 1674589470.7972856, \"EndTime\": 1674589470.797303, \"Dimensions\": {\"Algorithm\": \"Linear Learner\", \"Host\": \"algo-1\", \"Operation\": \"training\", \"epoch\": 1, \"model\": 5}, \"Metrics\": {\"validation_binary_classification_cross_entropy_objective\": {\"sum\": 0.5012452292874819, \"count\": 1, \"min\": 0.5012452292874819, \"max\": 0.5012452292874819}}}\u001b[0m\n",
      "\u001b[34m#metrics {\"StartTime\": 1674589470.7973747, \"EndTime\": 1674589470.797392, \"Dimensions\": {\"Algorithm\": \"Linear Learner\", \"Host\": \"algo-1\", \"Operation\": \"training\", \"epoch\": 1, \"model\": 6}, \"Metrics\": {\"validation_binary_classification_cross_entropy_objective\": {\"sum\": 0.48280285699461734, \"count\": 1, \"min\": 0.48280285699461734, \"max\": 0.48280285699461734}}}\u001b[0m\n",
      "\u001b[34m#metrics {\"StartTime\": 1674589470.7974503, \"EndTime\": 1674589470.7974672, \"Dimensions\": {\"Algorithm\": \"Linear Learner\", \"Host\": \"algo-1\", \"Operation\": \"training\", \"epoch\": 1, \"model\": 7}, \"Metrics\": {\"validation_binary_classification_cross_entropy_objective\": {\"sum\": 0.5012448441770248, \"count\": 1, \"min\": 0.5012448441770248, \"max\": 0.5012448441770248}}}\u001b[0m\n",
      "\u001b[34m#metrics {\"StartTime\": 1674589470.797525, \"EndTime\": 1674589470.7975419, \"Dimensions\": {\"Algorithm\": \"Linear Learner\", \"Host\": \"algo-1\", \"Operation\": \"training\", \"epoch\": 1, \"model\": 8}, \"Metrics\": {\"validation_binary_classification_cross_entropy_objective\": {\"sum\": 0.4813386025718357, \"count\": 1, \"min\": 0.4813386025718357, \"max\": 0.4813386025718357}}}\u001b[0m\n",
      "\u001b[34m#metrics {\"StartTime\": 1674589470.7976012, \"EndTime\": 1674589470.7976189, \"Dimensions\": {\"Algorithm\": \"Linear Learner\", \"Host\": \"algo-1\", \"Operation\": \"training\", \"epoch\": 1, \"model\": 9}, \"Metrics\": {\"validation_binary_classification_cross_entropy_objective\": {\"sum\": 0.4820086220924877, \"count\": 1, \"min\": 0.4820086220924877, \"max\": 0.4820086220924877}}}\u001b[0m\n",
      "\u001b[34m#metrics {\"StartTime\": 1674589470.7976837, \"EndTime\": 1674589470.7977004, \"Dimensions\": {\"Algorithm\": \"Linear Learner\", \"Host\": \"algo-1\", \"Operation\": \"training\", \"epoch\": 1, \"model\": 10}, \"Metrics\": {\"validation_binary_classification_cross_entropy_objective\": {\"sum\": 0.48133856301591665, \"count\": 1, \"min\": 0.48133856301591665, \"max\": 0.48133856301591665}}}\u001b[0m\n",
      "\u001b[34m#metrics {\"StartTime\": 1674589470.797767, \"EndTime\": 1674589470.7977812, \"Dimensions\": {\"Algorithm\": \"Linear Learner\", \"Host\": \"algo-1\", \"Operation\": \"training\", \"epoch\": 1, \"model\": 11}, \"Metrics\": {\"validation_binary_classification_cross_entropy_objective\": {\"sum\": 0.48200901662546325, \"count\": 1, \"min\": 0.48200901662546325, \"max\": 0.48200901662546325}}}\u001b[0m\n",
      "\u001b[34m#metrics {\"StartTime\": 1674589470.797846, \"EndTime\": 1674589470.7978637, \"Dimensions\": {\"Algorithm\": \"Linear Learner\", \"Host\": \"algo-1\", \"Operation\": \"training\", \"epoch\": 1, \"model\": 12}, \"Metrics\": {\"validation_binary_classification_cross_entropy_objective\": {\"sum\": 0.4828593182178514, \"count\": 1, \"min\": 0.4828593182178514, \"max\": 0.4828593182178514}}}\u001b[0m\n",
      "\u001b[34m#metrics {\"StartTime\": 1674589470.7979214, \"EndTime\": 1674589470.7979407, \"Dimensions\": {\"Algorithm\": \"Linear Learner\", \"Host\": \"algo-1\", \"Operation\": \"training\", \"epoch\": 1, \"model\": 13}, \"Metrics\": {\"validation_binary_classification_cross_entropy_objective\": {\"sum\": 0.4987839732429195, \"count\": 1, \"min\": 0.4987839732429195, \"max\": 0.4987839732429195}}}\u001b[0m\n",
      "\u001b[34m#metrics {\"StartTime\": 1674589470.7980068, \"EndTime\": 1674589470.7980251, \"Dimensions\": {\"Algorithm\": \"Linear Learner\", \"Host\": \"algo-1\", \"Operation\": \"training\", \"epoch\": 1, \"model\": 14}, \"Metrics\": {\"validation_binary_classification_cross_entropy_objective\": {\"sum\": 0.48285964166212336, \"count\": 1, \"min\": 0.48285964166212336, \"max\": 0.48285964166212336}}}\u001b[0m\n",
      "\u001b[34m#metrics {\"StartTime\": 1674589470.798086, \"EndTime\": 1674589470.798103, \"Dimensions\": {\"Algorithm\": \"Linear Learner\", \"Host\": \"algo-1\", \"Operation\": \"training\", \"epoch\": 1, \"model\": 15}, \"Metrics\": {\"validation_binary_classification_cross_entropy_objective\": {\"sum\": 0.498784804850142, \"count\": 1, \"min\": 0.498784804850142, \"max\": 0.498784804850142}}}\u001b[0m\n",
      "\u001b[34m#metrics {\"StartTime\": 1674589470.7981718, \"EndTime\": 1674589470.79819, \"Dimensions\": {\"Algorithm\": \"Linear Learner\", \"Host\": \"algo-1\", \"Operation\": \"training\", \"epoch\": 1, \"model\": 16}, \"Metrics\": {\"validation_binary_classification_cross_entropy_objective\": {\"sum\": 0.5045753156072742, \"count\": 1, \"min\": 0.5045753156072742, \"max\": 0.5045753156072742}}}\u001b[0m\n",
      "\u001b[34m#metrics {\"StartTime\": 1674589470.7982545, \"EndTime\": 1674589470.798273, \"Dimensions\": {\"Algorithm\": \"Linear Learner\", \"Host\": \"algo-1\", \"Operation\": \"training\", \"epoch\": 1, \"model\": 17}, \"Metrics\": {\"validation_binary_classification_cross_entropy_objective\": {\"sum\": 0.5046934521582593, \"count\": 1, \"min\": 0.5046934521582593, \"max\": 0.5046934521582593}}}\u001b[0m\n",
      "\u001b[34m#metrics {\"StartTime\": 1674589470.7983403, \"EndTime\": 1674589470.7983596, \"Dimensions\": {\"Algorithm\": \"Linear Learner\", \"Host\": \"algo-1\", \"Operation\": \"training\", \"epoch\": 1, \"model\": 18}, \"Metrics\": {\"validation_binary_classification_cross_entropy_objective\": {\"sum\": 0.504575377553336, \"count\": 1, \"min\": 0.504575377553336, \"max\": 0.504575377553336}}}\u001b[0m\n",
      "\u001b[34m#metrics {\"StartTime\": 1674589470.7984233, \"EndTime\": 1674589470.7984402, \"Dimensions\": {\"Algorithm\": \"Linear Learner\", \"Host\": \"algo-1\", \"Operation\": \"training\", \"epoch\": 1, \"model\": 19}, \"Metrics\": {\"validation_binary_classification_cross_entropy_objective\": {\"sum\": 0.5046962128628731, \"count\": 1, \"min\": 0.5046962128628731, \"max\": 0.5046962128628731}}}\u001b[0m\n",
      "\u001b[34m#metrics {\"StartTime\": 1674589470.7984724, \"EndTime\": 1674589470.7984867, \"Dimensions\": {\"Algorithm\": \"Linear Learner\", \"Host\": \"algo-1\", \"Operation\": \"training\", \"epoch\": 1, \"model\": 20}, \"Metrics\": {\"validation_binary_classification_cross_entropy_objective\": {\"sum\": 0.5046863561622354, \"count\": 1, \"min\": 0.5046863561622354, \"max\": 0.5046863561622354}}}\u001b[0m\n",
      "\u001b[34m#metrics {\"StartTime\": 1674589470.7985477, \"EndTime\": 1674589470.7985644, \"Dimensions\": {\"Algorithm\": \"Linear Learner\", \"Host\": \"algo-1\", \"Operation\": \"training\", \"epoch\": 1, \"model\": 21}, \"Metrics\": {\"validation_binary_classification_cross_entropy_objective\": {\"sum\": 0.5070047886574712, \"count\": 1, \"min\": 0.5070047886574712, \"max\": 0.5070047886574712}}}\u001b[0m\n",
      "\u001b[34m#metrics {\"StartTime\": 1674589470.7986233, \"EndTime\": 1674589470.798642, \"Dimensions\": {\"Algorithm\": \"Linear Learner\", \"Host\": \"algo-1\", \"Operation\": \"training\", \"epoch\": 1, \"model\": 22}, \"Metrics\": {\"validation_binary_classification_cross_entropy_objective\": {\"sum\": 0.5046860094881902, \"count\": 1, \"min\": 0.5046860094881902, \"max\": 0.5046860094881902}}}\u001b[0m\n",
      "\u001b[34m#metrics {\"StartTime\": 1674589470.7986956, \"EndTime\": 1674589470.7987068, \"Dimensions\": {\"Algorithm\": \"Linear Learner\", \"Host\": \"algo-1\", \"Operation\": \"training\", \"epoch\": 1, \"model\": 23}, \"Metrics\": {\"validation_binary_classification_cross_entropy_objective\": {\"sum\": 0.5070013984166741, \"count\": 1, \"min\": 0.5070013984166741, \"max\": 0.5070013984166741}}}\u001b[0m\n",
      "\u001b[34m#metrics {\"StartTime\": 1674589470.798768, \"EndTime\": 1674589470.7987852, \"Dimensions\": {\"Algorithm\": \"Linear Learner\", \"Host\": \"algo-1\", \"Operation\": \"training\", \"epoch\": 1, \"model\": 24}, \"Metrics\": {\"validation_binary_classification_cross_entropy_objective\": {\"sum\": 0.5137240375023907, \"count\": 1, \"min\": 0.5137240375023907, \"max\": 0.5137240375023907}}}\u001b[0m\n",
      "\u001b[34m#metrics {\"StartTime\": 1674589470.798839, \"EndTime\": 1674589470.7988567, \"Dimensions\": {\"Algorithm\": \"Linear Learner\", \"Host\": \"algo-1\", \"Operation\": \"training\", \"epoch\": 1, \"model\": 25}, \"Metrics\": {\"validation_binary_classification_cross_entropy_objective\": {\"sum\": 0.5138061083844362, \"count\": 1, \"min\": 0.5138061083844362, \"max\": 0.5138061083844362}}}\u001b[0m\n",
      "\u001b[34m#metrics {\"StartTime\": 1674589470.7989216, \"EndTime\": 1674589470.7989383, \"Dimensions\": {\"Algorithm\": \"Linear Learner\", \"Host\": \"algo-1\", \"Operation\": \"training\", \"epoch\": 1, \"model\": 26}, \"Metrics\": {\"validation_binary_classification_cross_entropy_objective\": {\"sum\": 0.5137245015381013, \"count\": 1, \"min\": 0.5137245015381013, \"max\": 0.5137245015381013}}}\u001b[0m\n",
      "\u001b[34m#metrics {\"StartTime\": 1674589470.7990146, \"EndTime\": 1674589470.799033, \"Dimensions\": {\"Algorithm\": \"Linear Learner\", \"Host\": \"algo-1\", \"Operation\": \"training\", \"epoch\": 1, \"model\": 27}, \"Metrics\": {\"validation_binary_classification_cross_entropy_objective\": {\"sum\": 0.5138218766425409, \"count\": 1, \"min\": 0.5138218766425409, \"max\": 0.5138218766425409}}}\u001b[0m\n",
      "\u001b[34m#metrics {\"StartTime\": 1674589470.7990956, \"EndTime\": 1674589470.799114, \"Dimensions\": {\"Algorithm\": \"Linear Learner\", \"Host\": \"algo-1\", \"Operation\": \"training\", \"epoch\": 1, \"model\": 28}, \"Metrics\": {\"validation_binary_classification_cross_entropy_objective\": {\"sum\": 0.5141412218391113, \"count\": 1, \"min\": 0.5141412218391113, \"max\": 0.5141412218391113}}}\u001b[0m\n",
      "\u001b[34m#metrics {\"StartTime\": 1674589470.7991776, \"EndTime\": 1674589470.7991946, \"Dimensions\": {\"Algorithm\": \"Linear Learner\", \"Host\": \"algo-1\", \"Operation\": \"training\", \"epoch\": 1, \"model\": 29}, \"Metrics\": {\"validation_binary_classification_cross_entropy_objective\": {\"sum\": 0.5139084794760845, \"count\": 1, \"min\": 0.5139084794760845, \"max\": 0.5139084794760845}}}\u001b[0m\n",
      "\u001b[34m#metrics {\"StartTime\": 1674589470.799259, \"EndTime\": 1674589470.7992778, \"Dimensions\": {\"Algorithm\": \"Linear Learner\", \"Host\": \"algo-1\", \"Operation\": \"training\", \"epoch\": 1, \"model\": 30}, \"Metrics\": {\"validation_binary_classification_cross_entropy_objective\": {\"sum\": 0.5141537549081582, \"count\": 1, \"min\": 0.5141537549081582, \"max\": 0.5141537549081582}}}\u001b[0m\n",
      "\u001b[34m#metrics {\"StartTime\": 1674589470.7993405, \"EndTime\": 1674589470.799359, \"Dimensions\": {\"Algorithm\": \"Linear Learner\", \"Host\": \"algo-1\", \"Operation\": \"training\", \"epoch\": 1, \"model\": 31}, \"Metrics\": {\"validation_binary_classification_cross_entropy_objective\": {\"sum\": 0.5139026181098545, \"count\": 1, \"min\": 0.5139026181098545, \"max\": 0.5139026181098545}}}\u001b[0m\n",
      "\u001b[34m[01/24/2023 19:44:30 INFO 140592160999232] #quality_metric: host=algo-1, epoch=1, validation binary_classification_cross_entropy_objective <loss>=0.48105002889492715\u001b[0m\n",
      "\u001b[34m[01/24/2023 19:44:30 INFO 140592160999232] #early_stopping_criteria_metric: host=algo-1, epoch=1, criteria=binary_classification_cross_entropy_objective, value=0.48105002889492715\u001b[0m\n",
      "\u001b[34m[01/24/2023 19:44:30 INFO 140592160999232] Saving model for epoch: 1\u001b[0m\n",
      "\u001b[34m[01/24/2023 19:44:30 INFO 140592160999232] Saved checkpoint to \"/tmp/tmp6_izqm3z/mx-mod-0000.params\"\u001b[0m\n",
      "\u001b[34m[01/24/2023 19:44:30 INFO 140592160999232] #progress_metric: host=algo-1, completed 13.333333333333334 % of epochs\u001b[0m\n",
      "\u001b[34m#metrics {\"StartTime\": 1674589417.3002172, \"EndTime\": 1674589470.8060303, \"Dimensions\": {\"Algorithm\": \"Linear Learner\", \"Host\": \"algo-1\", \"Operation\": \"training\", \"epoch\": 1, \"Meta\": \"training_data_iter\"}, \"Metrics\": {\"Total Records Seen\": {\"sum\": 2628944.0, \"count\": 1, \"min\": 2628944, \"max\": 2628944}, \"Total Batches Seen\": {\"sum\": 2630.0, \"count\": 1, \"min\": 2630, \"max\": 2630}, \"Max Records Seen Between Resets\": {\"sum\": 1308472.0, \"count\": 1, \"min\": 1308472, \"max\": 1308472}, \"Max Batches Seen Between Resets\": {\"sum\": 1309.0, \"count\": 1, \"min\": 1309, \"max\": 1309}, \"Reset Count\": {\"sum\": 4.0, \"count\": 1, \"min\": 4, \"max\": 4}, \"Number of Records Since Last Reset\": {\"sum\": 1308472.0, \"count\": 1, \"min\": 1308472, \"max\": 1308472}, \"Number of Batches Since Last Reset\": {\"sum\": 1309.0, \"count\": 1, \"min\": 1309, \"max\": 1309}}}\u001b[0m\n",
      "\u001b[34m[01/24/2023 19:44:30 INFO 140592160999232] #throughput_metric: host=algo-1, train throughput=24454.697030301475 records/second\u001b[0m\n",
      "\u001b[34m[2023-01-24 19:45:16.152] [tensorio] [info] epoch_stats={\"data_pipeline\": \"/opt/ml/input/data/train\", \"epoch\": 7, \"duration\": 45344, \"num_examples\": 1309, \"num_bytes\": 507687136}\u001b[0m\n",
      "\u001b[34m#metrics {\"StartTime\": 1674589516.152644, \"EndTime\": 1674589516.1527398, \"Dimensions\": {\"Algorithm\": \"Linear Learner\", \"Host\": \"algo-1\", \"Operation\": \"training\", \"epoch\": 2, \"model\": 0}, \"Metrics\": {\"train_binary_classification_cross_entropy_objective\": {\"sum\": 0.48052287936429366, \"count\": 1, \"min\": 0.48052287936429366, \"max\": 0.48052287936429366}}}\u001b[0m\n",
      "\u001b[34m#metrics {\"StartTime\": 1674589516.1528335, \"EndTime\": 1674589516.1528544, \"Dimensions\": {\"Algorithm\": \"Linear Learner\", \"Host\": \"algo-1\", \"Operation\": \"training\", \"epoch\": 2, \"model\": 1}, \"Metrics\": {\"train_binary_classification_cross_entropy_objective\": {\"sum\": 0.48149495916337415, \"count\": 1, \"min\": 0.48149495916337415, \"max\": 0.48149495916337415}}}\u001b[0m\n",
      "\u001b[34m#metrics {\"StartTime\": 1674589516.1529286, \"EndTime\": 1674589516.1529503, \"Dimensions\": {\"Algorithm\": \"Linear Learner\", \"Host\": \"algo-1\", \"Operation\": \"training\", \"epoch\": 2, \"model\": 2}, \"Metrics\": {\"train_binary_classification_cross_entropy_objective\": {\"sum\": 0.4805231151289167, \"count\": 1, \"min\": 0.4805231151289167, \"max\": 0.4805231151289167}}}\u001b[0m\n",
      "\u001b[34m#metrics {\"StartTime\": 1674589516.153008, \"EndTime\": 1674589516.1530263, \"Dimensions\": {\"Algorithm\": \"Linear Learner\", \"Host\": \"algo-1\", \"Operation\": \"training\", \"epoch\": 2, \"model\": 3}, \"Metrics\": {\"train_binary_classification_cross_entropy_objective\": {\"sum\": 0.48149489203870116, \"count\": 1, \"min\": 0.48149489203870116, \"max\": 0.48149489203870116}}}\u001b[0m\n",
      "\u001b[34m#metrics {\"StartTime\": 1674589516.1530867, \"EndTime\": 1674589516.1531057, \"Dimensions\": {\"Algorithm\": \"Linear Learner\", \"Host\": \"algo-1\", \"Operation\": \"training\", \"epoch\": 2, \"model\": 4}, \"Metrics\": {\"train_binary_classification_cross_entropy_objective\": {\"sum\": 0.48159029913386076, \"count\": 1, \"min\": 0.48159029913386076, \"max\": 0.48159029913386076}}}\u001b[0m\n",
      "\u001b[34m#metrics {\"StartTime\": 1674589516.1531663, \"EndTime\": 1674589516.1531832, \"Dimensions\": {\"Algorithm\": \"Linear Learner\", \"Host\": \"algo-1\", \"Operation\": \"training\", \"epoch\": 2, \"model\": 5}, \"Metrics\": {\"train_binary_classification_cross_entropy_objective\": {\"sum\": 0.4989178217849965, \"count\": 1, \"min\": 0.4989178217849965, \"max\": 0.4989178217849965}}}\u001b[0m\n",
      "\u001b[34m#metrics {\"StartTime\": 1674589516.1532416, \"EndTime\": 1674589516.15326, \"Dimensions\": {\"Algorithm\": \"Linear Learner\", \"Host\": \"algo-1\", \"Operation\": \"training\", \"epoch\": 2, \"model\": 6}, \"Metrics\": {\"train_binary_classification_cross_entropy_objective\": {\"sum\": 0.48159028301180684, \"count\": 1, \"min\": 0.48159028301180684, \"max\": 0.48159028301180684}}}\u001b[0m\n",
      "\u001b[34m#metrics {\"StartTime\": 1674589516.153314, \"EndTime\": 1674589516.153332, \"Dimensions\": {\"Algorithm\": \"Linear Learner\", \"Host\": \"algo-1\", \"Operation\": \"training\", \"epoch\": 2, \"model\": 7}, \"Metrics\": {\"train_binary_classification_cross_entropy_objective\": {\"sum\": 0.49891792663667545, \"count\": 1, \"min\": 0.49891792663667545, \"max\": 0.49891792663667545}}}\u001b[0m\n",
      "\u001b[34m#metrics {\"StartTime\": 1674589516.1533904, \"EndTime\": 1674589516.1534073, \"Dimensions\": {\"Algorithm\": \"Linear Learner\", \"Host\": \"algo-1\", \"Operation\": \"training\", \"epoch\": 2, \"model\": 8}, \"Metrics\": {\"train_binary_classification_cross_entropy_objective\": {\"sum\": 0.48078882834524916, \"count\": 1, \"min\": 0.48078882834524916, \"max\": 0.48078882834524916}}}\u001b[0m\n",
      "\u001b[34m#metrics {\"StartTime\": 1674589516.1534648, \"EndTime\": 1674589516.1534815, \"Dimensions\": {\"Algorithm\": \"Linear Learner\", \"Host\": \"algo-1\", \"Operation\": \"training\", \"epoch\": 2, \"model\": 9}, \"Metrics\": {\"train_binary_classification_cross_entropy_objective\": {\"sum\": 0.48170155474461546, \"count\": 1, \"min\": 0.48170155474461546, \"max\": 0.48170155474461546}}}\u001b[0m\n",
      "\u001b[34m#metrics {\"StartTime\": 1674589516.1535404, \"EndTime\": 1674589516.1535575, \"Dimensions\": {\"Algorithm\": \"Linear Learner\", \"Host\": \"algo-1\", \"Operation\": \"training\", \"epoch\": 2, \"model\": 10}, \"Metrics\": {\"train_binary_classification_cross_entropy_objective\": {\"sum\": 0.4807887170774127, \"count\": 1, \"min\": 0.4807887170774127, \"max\": 0.4807887170774127}}}\u001b[0m\n",
      "\u001b[34m#metrics {\"StartTime\": 1674589516.1536129, \"EndTime\": 1674589516.1536298, \"Dimensions\": {\"Algorithm\": \"Linear Learner\", \"Host\": \"algo-1\", \"Operation\": \"training\", \"epoch\": 2, \"model\": 11}, \"Metrics\": {\"train_binary_classification_cross_entropy_objective\": {\"sum\": 0.4817016255556626, \"count\": 1, \"min\": 0.4817016255556626, \"max\": 0.4817016255556626}}}\u001b[0m\n",
      "\u001b[34m#metrics {\"StartTime\": 1674589516.153687, \"EndTime\": 1674589516.1537054, \"Dimensions\": {\"Algorithm\": \"Linear Learner\", \"Host\": \"algo-1\", \"Operation\": \"training\", \"epoch\": 2, \"model\": 12}, \"Metrics\": {\"train_binary_classification_cross_entropy_objective\": {\"sum\": 0.48178904406812945, \"count\": 1, \"min\": 0.48178904406812945, \"max\": 0.48178904406812945}}}\u001b[0m\n",
      "\u001b[34m#metrics {\"StartTime\": 1674589516.1537633, \"EndTime\": 1674589516.1537802, \"Dimensions\": {\"Algorithm\": \"Linear Learner\", \"Host\": \"algo-1\", \"Operation\": \"training\", \"epoch\": 2, \"model\": 13}, \"Metrics\": {\"train_binary_classification_cross_entropy_objective\": {\"sum\": 0.4978695437230101, \"count\": 1, \"min\": 0.4978695437230101, \"max\": 0.4978695437230101}}}\u001b[0m\n",
      "\u001b[34m#metrics {\"StartTime\": 1674589516.1538353, \"EndTime\": 1674589516.1538522, \"Dimensions\": {\"Algorithm\": \"Linear Learner\", \"Host\": \"algo-1\", \"Operation\": \"training\", \"epoch\": 2, \"model\": 14}, \"Metrics\": {\"train_binary_classification_cross_entropy_objective\": {\"sum\": 0.4817890970772559, \"count\": 1, \"min\": 0.4817890970772559, \"max\": 0.4817890970772559}}}\u001b[0m\n",
      "\u001b[34m#metrics {\"StartTime\": 1674589516.1539075, \"EndTime\": 1674589516.1539247, \"Dimensions\": {\"Algorithm\": \"Linear Learner\", \"Host\": \"algo-1\", \"Operation\": \"training\", \"epoch\": 2, \"model\": 15}, \"Metrics\": {\"train_binary_classification_cross_entropy_objective\": {\"sum\": 0.4978697318447475, \"count\": 1, \"min\": 0.4978697318447475, \"max\": 0.4978697318447475}}}\u001b[0m\n",
      "\u001b[34m#metrics {\"StartTime\": 1674589516.1539915, \"EndTime\": 1674589516.1540086, \"Dimensions\": {\"Algorithm\": \"Linear Learner\", \"Host\": \"algo-1\", \"Operation\": \"training\", \"epoch\": 2, \"model\": 16}, \"Metrics\": {\"train_binary_classification_cross_entropy_objective\": {\"sum\": 0.5043285069830191, \"count\": 1, \"min\": 0.5043285069830191, \"max\": 0.5043285069830191}}}\u001b[0m\n",
      "\u001b[34m#metrics {\"StartTime\": 1674589516.1540697, \"EndTime\": 1674589516.154086, \"Dimensions\": {\"Algorithm\": \"Linear Learner\", \"Host\": \"algo-1\", \"Operation\": \"training\", \"epoch\": 2, \"model\": 17}, \"Metrics\": {\"train_binary_classification_cross_entropy_objective\": {\"sum\": 0.504583449360792, \"count\": 1, \"min\": 0.504583449360792, \"max\": 0.504583449360792}}}\u001b[0m\n",
      "\u001b[34m#metrics {\"StartTime\": 1674589516.1541452, \"EndTime\": 1674589516.1541624, \"Dimensions\": {\"Algorithm\": \"Linear Learner\", \"Host\": \"algo-1\", \"Operation\": \"training\", \"epoch\": 2, \"model\": 18}, \"Metrics\": {\"train_binary_classification_cross_entropy_objective\": {\"sum\": 0.504328501943419, \"count\": 1, \"min\": 0.504328501943419, \"max\": 0.504328501943419}}}\u001b[0m\n",
      "\u001b[34m#metrics {\"StartTime\": 1674589516.1542192, \"EndTime\": 1674589516.1542366, \"Dimensions\": {\"Algorithm\": \"Linear Learner\", \"Host\": \"algo-1\", \"Operation\": \"training\", \"epoch\": 2, \"model\": 19}, \"Metrics\": {\"train_binary_classification_cross_entropy_objective\": {\"sum\": 0.5045834553103199, \"count\": 1, \"min\": 0.5045834553103199, \"max\": 0.5045834553103199}}}\u001b[0m\n",
      "\u001b[34m#metrics {\"StartTime\": 1674589516.154298, \"EndTime\": 1674589516.1543152, \"Dimensions\": {\"Algorithm\": \"Linear Learner\", \"Host\": \"algo-1\", \"Operation\": \"training\", \"epoch\": 2, \"model\": 20}, \"Metrics\": {\"train_binary_classification_cross_entropy_objective\": {\"sum\": 0.5045812167479722, \"count\": 1, \"min\": 0.5045812167479722, \"max\": 0.5045812167479722}}}\u001b[0m\n",
      "\u001b[34m#metrics {\"StartTime\": 1674589516.1543627, \"EndTime\": 1674589516.1543794, \"Dimensions\": {\"Algorithm\": \"Linear Learner\", \"Host\": \"algo-1\", \"Operation\": \"training\", \"epoch\": 2, \"model\": 21}, \"Metrics\": {\"train_binary_classification_cross_entropy_objective\": {\"sum\": 0.5077949248847612, \"count\": 1, \"min\": 0.5077949248847612, \"max\": 0.5077949248847612}}}\u001b[0m\n",
      "\u001b[34m#metrics {\"StartTime\": 1674589516.154427, \"EndTime\": 1674589516.1544425, \"Dimensions\": {\"Algorithm\": \"Linear Learner\", \"Host\": \"algo-1\", \"Operation\": \"training\", \"epoch\": 2, \"model\": 22}, \"Metrics\": {\"train_binary_classification_cross_entropy_objective\": {\"sum\": 0.5045812424359336, \"count\": 1, \"min\": 0.5045812424359336, \"max\": 0.5045812424359336}}}\u001b[0m\n",
      "\u001b[34m#metrics {\"StartTime\": 1674589516.154495, \"EndTime\": 1674589516.1545122, \"Dimensions\": {\"Algorithm\": \"Linear Learner\", \"Host\": \"algo-1\", \"Operation\": \"training\", \"epoch\": 2, \"model\": 23}, \"Metrics\": {\"train_binary_classification_cross_entropy_objective\": {\"sum\": 0.5077949256547001, \"count\": 1, \"min\": 0.5077949256547001, \"max\": 0.5077949256547001}}}\u001b[0m\n",
      "\u001b[34m#metrics {\"StartTime\": 1674589516.1545687, \"EndTime\": 1674589516.1545846, \"Dimensions\": {\"Algorithm\": \"Linear Learner\", \"Host\": \"algo-1\", \"Operation\": \"training\", \"epoch\": 2, \"model\": 24}, \"Metrics\": {\"train_binary_classification_cross_entropy_objective\": {\"sum\": 0.5137107220337661, \"count\": 1, \"min\": 0.5137107220337661, \"max\": 0.5137107220337661}}}\u001b[0m\n",
      "\u001b[34m#metrics {\"StartTime\": 1674589516.154646, \"EndTime\": 1674589516.1546636, \"Dimensions\": {\"Algorithm\": \"Linear Learner\", \"Host\": \"algo-1\", \"Operation\": \"training\", \"epoch\": 2, \"model\": 25}, \"Metrics\": {\"train_binary_classification_cross_entropy_objective\": {\"sum\": 0.5137928083693944, \"count\": 1, \"min\": 0.5137928083693944, \"max\": 0.5137928083693944}}}\u001b[0m\n",
      "\u001b[34m#metrics {\"StartTime\": 1674589516.1547189, \"EndTime\": 1674589516.1547346, \"Dimensions\": {\"Algorithm\": \"Linear Learner\", \"Host\": \"algo-1\", \"Operation\": \"training\", \"epoch\": 2, \"model\": 26}, \"Metrics\": {\"train_binary_classification_cross_entropy_objective\": {\"sum\": 0.513710680480397, \"count\": 1, \"min\": 0.513710680480397, \"max\": 0.513710680480397}}}\u001b[0m\n",
      "\u001b[34m#metrics {\"StartTime\": 1674589516.1547918, \"EndTime\": 1674589516.15481, \"Dimensions\": {\"Algorithm\": \"Linear Learner\", \"Host\": \"algo-1\", \"Operation\": \"training\", \"epoch\": 2, \"model\": 27}, \"Metrics\": {\"train_binary_classification_cross_entropy_objective\": {\"sum\": 0.513792851742619, \"count\": 1, \"min\": 0.513792851742619, \"max\": 0.513792851742619}}}\u001b[0m\n",
      "\u001b[34m#metrics {\"StartTime\": 1674589516.154863, \"EndTime\": 1674589516.1548817, \"Dimensions\": {\"Algorithm\": \"Linear Learner\", \"Host\": \"algo-1\", \"Operation\": \"training\", \"epoch\": 2, \"model\": 28}, \"Metrics\": {\"train_binary_classification_cross_entropy_objective\": {\"sum\": 0.5137982140404004, \"count\": 1, \"min\": 0.5137982140404004, \"max\": 0.5137982140404004}}}\u001b[0m\n",
      "\u001b[34m#metrics {\"StartTime\": 1674589516.1549406, \"EndTime\": 1674589516.1549582, \"Dimensions\": {\"Algorithm\": \"Linear Learner\", \"Host\": \"algo-1\", \"Operation\": \"training\", \"epoch\": 2, \"model\": 29}, \"Metrics\": {\"train_binary_classification_cross_entropy_objective\": {\"sum\": 0.5149951788526063, \"count\": 1, \"min\": 0.5149951788526063, \"max\": 0.5149951788526063}}}\u001b[0m\n",
      "\u001b[34m#metrics {\"StartTime\": 1674589516.15504, \"EndTime\": 1674589516.1550572, \"Dimensions\": {\"Algorithm\": \"Linear Learner\", \"Host\": \"algo-1\", \"Operation\": \"training\", \"epoch\": 2, \"model\": 30}, \"Metrics\": {\"train_binary_classification_cross_entropy_objective\": {\"sum\": 0.5137983455366315, \"count\": 1, \"min\": 0.5137983455366315, \"max\": 0.5137983455366315}}}\u001b[0m\n",
      "\u001b[34m#metrics {\"StartTime\": 1674589516.1551154, \"EndTime\": 1674589516.1551316, \"Dimensions\": {\"Algorithm\": \"Linear Learner\", \"Host\": \"algo-1\", \"Operation\": \"training\", \"epoch\": 2, \"model\": 31}, \"Metrics\": {\"train_binary_classification_cross_entropy_objective\": {\"sum\": 0.5149950463531214, \"count\": 1, \"min\": 0.5149950463531214, \"max\": 0.5149950463531214}}}\u001b[0m\n",
      "\u001b[34m[01/24/2023 19:45:16 INFO 140592160999232] #quality_metric: host=algo-1, epoch=2, train binary_classification_cross_entropy_objective <loss>=0.48052287936429366\u001b[0m\n",
      "\u001b[34m[2023-01-24 19:45:19.860] [tensorio] [info] epoch_stats={\"data_pipeline\": \"/opt/ml/input/data/validation\", \"epoch\": 8, \"duration\": 3682, \"num_examples\": 164, \"num_bytes\": 63460892}\u001b[0m\n",
      "\u001b[34m#metrics {\"StartTime\": 1674589519.8684113, \"EndTime\": 1674589519.8684685, \"Dimensions\": {\"Algorithm\": \"Linear Learner\", \"Host\": \"algo-1\", \"Operation\": \"training\", \"epoch\": 2, \"model\": 0}, \"Metrics\": {\"validation_binary_classification_cross_entropy_objective\": {\"sum\": 0.4809711757562865, \"count\": 1, \"min\": 0.4809711757562865, \"max\": 0.4809711757562865}}}\u001b[0m\n",
      "\u001b[34m#metrics {\"StartTime\": 1674589519.868555, \"EndTime\": 1674589519.8685765, \"Dimensions\": {\"Algorithm\": \"Linear Learner\", \"Host\": \"algo-1\", \"Operation\": \"training\", \"epoch\": 2, \"model\": 1}, \"Metrics\": {\"validation_binary_classification_cross_entropy_objective\": {\"sum\": 0.4817287081764969, \"count\": 1, \"min\": 0.4817287081764969, \"max\": 0.4817287081764969}}}\u001b[0m\n",
      "\u001b[34m#metrics {\"StartTime\": 1674589519.868643, \"EndTime\": 1674589519.868661, \"Dimensions\": {\"Algorithm\": \"Linear Learner\", \"Host\": \"algo-1\", \"Operation\": \"training\", \"epoch\": 2, \"model\": 2}, \"Metrics\": {\"validation_binary_classification_cross_entropy_objective\": {\"sum\": 0.4809717343903507, \"count\": 1, \"min\": 0.4809717343903507, \"max\": 0.4809717343903507}}}\u001b[0m\n",
      "\u001b[34m#metrics {\"StartTime\": 1674589519.868722, \"EndTime\": 1674589519.8687396, \"Dimensions\": {\"Algorithm\": \"Linear Learner\", \"Host\": \"algo-1\", \"Operation\": \"training\", \"epoch\": 2, \"model\": 3}, \"Metrics\": {\"validation_binary_classification_cross_entropy_objective\": {\"sum\": 0.48172873849648196, \"count\": 1, \"min\": 0.48172873849648196, \"max\": 0.48172873849648196}}}\u001b[0m\n",
      "\u001b[34m#metrics {\"StartTime\": 1674589519.8687983, \"EndTime\": 1674589519.868816, \"Dimensions\": {\"Algorithm\": \"Linear Learner\", \"Host\": \"algo-1\", \"Operation\": \"training\", \"epoch\": 2, \"model\": 4}, \"Metrics\": {\"validation_binary_classification_cross_entropy_objective\": {\"sum\": 0.4814624846200616, \"count\": 1, \"min\": 0.4814624846200616, \"max\": 0.4814624846200616}}}\u001b[0m\n",
      "\u001b[34m#metrics {\"StartTime\": 1674589519.8688688, \"EndTime\": 1674589519.8688862, \"Dimensions\": {\"Algorithm\": \"Linear Learner\", \"Host\": \"algo-1\", \"Operation\": \"training\", \"epoch\": 2, \"model\": 5}, \"Metrics\": {\"validation_binary_classification_cross_entropy_objective\": {\"sum\": 0.4998794689165289, \"count\": 1, \"min\": 0.4998794689165289, \"max\": 0.4998794689165289}}}\u001b[0m\n",
      "\u001b[34m#metrics {\"StartTime\": 1674589519.8689427, \"EndTime\": 1674589519.86896, \"Dimensions\": {\"Algorithm\": \"Linear Learner\", \"Host\": \"algo-1\", \"Operation\": \"training\", \"epoch\": 2, \"model\": 6}, \"Metrics\": {\"validation_binary_classification_cross_entropy_objective\": {\"sum\": 0.4814624743579128, \"count\": 1, \"min\": 0.4814624743579128, \"max\": 0.4814624743579128}}}\u001b[0m\n",
      "\u001b[34m#metrics {\"StartTime\": 1674589519.8690188, \"EndTime\": 1674589519.8690364, \"Dimensions\": {\"Algorithm\": \"Linear Learner\", \"Host\": \"algo-1\", \"Operation\": \"training\", \"epoch\": 2, \"model\": 7}, \"Metrics\": {\"validation_binary_classification_cross_entropy_objective\": {\"sum\": 0.4998793747846367, \"count\": 1, \"min\": 0.4998793747846367, \"max\": 0.4998793747846367}}}\u001b[0m\n",
      "\u001b[34m#metrics {\"StartTime\": 1674589519.869102, \"EndTime\": 1674589519.8691194, \"Dimensions\": {\"Algorithm\": \"Linear Learner\", \"Host\": \"algo-1\", \"Operation\": \"training\", \"epoch\": 2, \"model\": 8}, \"Metrics\": {\"validation_binary_classification_cross_entropy_objective\": {\"sum\": 0.48124965828910315, \"count\": 1, \"min\": 0.48124965828910315, \"max\": 0.48124965828910315}}}\u001b[0m\n",
      "\u001b[34m#metrics {\"StartTime\": 1674589519.8691838, \"EndTime\": 1674589519.8692024, \"Dimensions\": {\"Algorithm\": \"Linear Learner\", \"Host\": \"algo-1\", \"Operation\": \"training\", \"epoch\": 2, \"model\": 9}, \"Metrics\": {\"validation_binary_classification_cross_entropy_objective\": {\"sum\": 0.4819048156993902, \"count\": 1, \"min\": 0.4819048156993902, \"max\": 0.4819048156993902}}}\u001b[0m\n",
      "\u001b[34m#metrics {\"StartTime\": 1674589519.8692687, \"EndTime\": 1674589519.8692887, \"Dimensions\": {\"Algorithm\": \"Linear Learner\", \"Host\": \"algo-1\", \"Operation\": \"training\", \"epoch\": 2, \"model\": 10}, \"Metrics\": {\"validation_binary_classification_cross_entropy_objective\": {\"sum\": 0.4812496579159341, \"count\": 1, \"min\": 0.4812496579159341, \"max\": 0.4812496579159341}}}\u001b[0m\n",
      "\u001b[34m#metrics {\"StartTime\": 1674589519.8693478, \"EndTime\": 1674589519.8693655, \"Dimensions\": {\"Algorithm\": \"Linear Learner\", \"Host\": \"algo-1\", \"Operation\": \"training\", \"epoch\": 2, \"model\": 11}, \"Metrics\": {\"validation_binary_classification_cross_entropy_objective\": {\"sum\": 0.4819048806308045, \"count\": 1, \"min\": 0.4819048806308045, \"max\": 0.4819048806308045}}}\u001b[0m\n",
      "\u001b[34m#metrics {\"StartTime\": 1674589519.8693998, \"EndTime\": 1674589519.8694086, \"Dimensions\": {\"Algorithm\": \"Linear Learner\", \"Host\": \"algo-1\", \"Operation\": \"training\", \"epoch\": 2, \"model\": 12}, \"Metrics\": {\"validation_binary_classification_cross_entropy_objective\": {\"sum\": 0.4816976341100297, \"count\": 1, \"min\": 0.4816976341100297, \"max\": 0.4816976341100297}}}\u001b[0m\n",
      "\u001b[34m#metrics {\"StartTime\": 1674589519.8694355, \"EndTime\": 1674589519.869444, \"Dimensions\": {\"Algorithm\": \"Linear Learner\", \"Host\": \"algo-1\", \"Operation\": \"training\", \"epoch\": 2, \"model\": 13}, \"Metrics\": {\"validation_binary_classification_cross_entropy_objective\": {\"sum\": 0.4978296240969369, \"count\": 1, \"min\": 0.4978296240969369, \"max\": 0.4978296240969369}}}\u001b[0m\n",
      "\u001b[34m#metrics {\"StartTime\": 1674589519.8695047, \"EndTime\": 1674589519.8695216, \"Dimensions\": {\"Algorithm\": \"Linear Learner\", \"Host\": \"algo-1\", \"Operation\": \"training\", \"epoch\": 2, \"model\": 14}, \"Metrics\": {\"validation_binary_classification_cross_entropy_objective\": {\"sum\": 0.4816975949272797, \"count\": 1, \"min\": 0.4816975949272797, \"max\": 0.4816975949272797}}}\u001b[0m\n",
      "\u001b[34m#metrics {\"StartTime\": 1674589519.8695862, \"EndTime\": 1674589519.8696039, \"Dimensions\": {\"Algorithm\": \"Linear Learner\", \"Host\": \"algo-1\", \"Operation\": \"training\", \"epoch\": 2, \"model\": 15}, \"Metrics\": {\"validation_binary_classification_cross_entropy_objective\": {\"sum\": 0.4978295672819494, \"count\": 1, \"min\": 0.4978295672819494, \"max\": 0.4978295672819494}}}\u001b[0m\n",
      "\u001b[34m#metrics {\"StartTime\": 1674589519.8696709, \"EndTime\": 1674589519.8696883, \"Dimensions\": {\"Algorithm\": \"Linear Learner\", \"Host\": \"algo-1\", \"Operation\": \"training\", \"epoch\": 2, \"model\": 16}, \"Metrics\": {\"validation_binary_classification_cross_entropy_objective\": {\"sum\": 0.5045426106987769, \"count\": 1, \"min\": 0.5045426106987769, \"max\": 0.5045426106987769}}}\u001b[0m\n",
      "\u001b[34m#metrics {\"StartTime\": 1674589519.8697557, \"EndTime\": 1674589519.8697743, \"Dimensions\": {\"Algorithm\": \"Linear Learner\", \"Host\": \"algo-1\", \"Operation\": \"training\", \"epoch\": 2, \"model\": 17}, \"Metrics\": {\"validation_binary_classification_cross_entropy_objective\": {\"sum\": 0.5046720846851805, \"count\": 1, \"min\": 0.5046720846851805, \"max\": 0.5046720846851805}}}\u001b[0m\n",
      "\u001b[34m#metrics {\"StartTime\": 1674589519.8698418, \"EndTime\": 1674589519.8698597, \"Dimensions\": {\"Algorithm\": \"Linear Learner\", \"Host\": \"algo-1\", \"Operation\": \"training\", \"epoch\": 2, \"model\": 18}, \"Metrics\": {\"validation_binary_classification_cross_entropy_objective\": {\"sum\": 0.5045426207743412, \"count\": 1, \"min\": 0.5045426207743412, \"max\": 0.5045426207743412}}}\u001b[0m\n",
      "\u001b[34m#metrics {\"StartTime\": 1674589519.869924, \"EndTime\": 1674589519.8699415, \"Dimensions\": {\"Algorithm\": \"Linear Learner\", \"Host\": \"algo-1\", \"Operation\": \"training\", \"epoch\": 2, \"model\": 19}, \"Metrics\": {\"validation_binary_classification_cross_entropy_objective\": {\"sum\": 0.5046729498776172, \"count\": 1, \"min\": 0.5046729498776172, \"max\": 0.5046729498776172}}}\u001b[0m\n",
      "\u001b[34m#metrics {\"StartTime\": 1674589519.8700063, \"EndTime\": 1674589519.870023, \"Dimensions\": {\"Algorithm\": \"Linear Learner\", \"Host\": \"algo-1\", \"Operation\": \"training\", \"epoch\": 2, \"model\": 20}, \"Metrics\": {\"validation_binary_classification_cross_entropy_objective\": {\"sum\": 0.5046036730963673, \"count\": 1, \"min\": 0.5046036730963673, \"max\": 0.5046036730963673}}}\u001b[0m\n",
      "\u001b[34m#metrics {\"StartTime\": 1674589519.870088, \"EndTime\": 1674589519.8701046, \"Dimensions\": {\"Algorithm\": \"Linear Learner\", \"Host\": \"algo-1\", \"Operation\": \"training\", \"epoch\": 2, \"model\": 21}, \"Metrics\": {\"validation_binary_classification_cross_entropy_objective\": {\"sum\": 0.5069087407287494, \"count\": 1, \"min\": 0.5069087407287494, \"max\": 0.5069087407287494}}}\u001b[0m\n",
      "\u001b[34m#metrics {\"StartTime\": 1674589519.8701613, \"EndTime\": 1674589519.870177, \"Dimensions\": {\"Algorithm\": \"Linear Learner\", \"Host\": \"algo-1\", \"Operation\": \"training\", \"epoch\": 2, \"model\": 22}, \"Metrics\": {\"validation_binary_classification_cross_entropy_objective\": {\"sum\": 0.5046037387741197, \"count\": 1, \"min\": 0.5046037387741197, \"max\": 0.5046037387741197}}}\u001b[0m\n",
      "\u001b[34m#metrics {\"StartTime\": 1674589519.8702283, \"EndTime\": 1674589519.8702457, \"Dimensions\": {\"Algorithm\": \"Linear Learner\", \"Host\": \"algo-1\", \"Operation\": \"training\", \"epoch\": 2, \"model\": 23}, \"Metrics\": {\"validation_binary_classification_cross_entropy_objective\": {\"sum\": 0.5069083531926935, \"count\": 1, \"min\": 0.5069083531926935, \"max\": 0.5069083531926935}}}\u001b[0m\n",
      "\u001b[34m#metrics {\"StartTime\": 1674589519.8703113, \"EndTime\": 1674589519.8703299, \"Dimensions\": {\"Algorithm\": \"Linear Learner\", \"Host\": \"algo-1\", \"Operation\": \"training\", \"epoch\": 2, \"model\": 24}, \"Metrics\": {\"validation_binary_classification_cross_entropy_objective\": {\"sum\": 0.5137201595296484, \"count\": 1, \"min\": 0.5137201595296484, \"max\": 0.5137201595296484}}}\u001b[0m\n",
      "\u001b[34m#metrics {\"StartTime\": 1674589519.8703854, \"EndTime\": 1674589519.8703966, \"Dimensions\": {\"Algorithm\": \"Linear Learner\", \"Host\": \"algo-1\", \"Operation\": \"training\", \"epoch\": 2, \"model\": 25}, \"Metrics\": {\"validation_binary_classification_cross_entropy_objective\": {\"sum\": 0.5138587446249328, \"count\": 1, \"min\": 0.5138587446249328, \"max\": 0.5138587446249328}}}\u001b[0m\n",
      "\u001b[34m#metrics {\"StartTime\": 1674589519.8704457, \"EndTime\": 1674589519.8704615, \"Dimensions\": {\"Algorithm\": \"Linear Learner\", \"Host\": \"algo-1\", \"Operation\": \"training\", \"epoch\": 2, \"model\": 26}, \"Metrics\": {\"validation_binary_classification_cross_entropy_objective\": {\"sum\": 0.5137170803252524, \"count\": 1, \"min\": 0.5137170803252524, \"max\": 0.5137170803252524}}}\u001b[0m\n",
      "\u001b[34m#metrics {\"StartTime\": 1674589519.8705208, \"EndTime\": 1674589519.870538, \"Dimensions\": {\"Algorithm\": \"Linear Learner\", \"Host\": \"algo-1\", \"Operation\": \"training\", \"epoch\": 2, \"model\": 27}, \"Metrics\": {\"validation_binary_classification_cross_entropy_objective\": {\"sum\": 0.5138620680684703, \"count\": 1, \"min\": 0.5138620680684703, \"max\": 0.5138620680684703}}}\u001b[0m\n",
      "\u001b[34m#metrics {\"StartTime\": 1674589519.870602, \"EndTime\": 1674589519.8706205, \"Dimensions\": {\"Algorithm\": \"Linear Learner\", \"Host\": \"algo-1\", \"Operation\": \"training\", \"epoch\": 2, \"model\": 28}, \"Metrics\": {\"validation_binary_classification_cross_entropy_objective\": {\"sum\": 0.5138807048770436, \"count\": 1, \"min\": 0.5138807048770436, \"max\": 0.5138807048770436}}}\u001b[0m\n",
      "\u001b[34m#metrics {\"StartTime\": 1674589519.8706796, \"EndTime\": 1674589519.8706965, \"Dimensions\": {\"Algorithm\": \"Linear Learner\", \"Host\": \"algo-1\", \"Operation\": \"training\", \"epoch\": 2, \"model\": 29}, \"Metrics\": {\"validation_binary_classification_cross_entropy_objective\": {\"sum\": 0.5139024845153355, \"count\": 1, \"min\": 0.5139024845153355, \"max\": 0.5139024845153355}}}\u001b[0m\n",
      "\u001b[34m#metrics {\"StartTime\": 1674589519.87076, \"EndTime\": 1674589519.8707771, \"Dimensions\": {\"Algorithm\": \"Linear Learner\", \"Host\": \"algo-1\", \"Operation\": \"training\", \"epoch\": 2, \"model\": 30}, \"Metrics\": {\"validation_binary_classification_cross_entropy_objective\": {\"sum\": 0.5138936922794058, \"count\": 1, \"min\": 0.5138936922794058, \"max\": 0.5138936922794058}}}\u001b[0m\n",
      "\u001b[34m#metrics {\"StartTime\": 1674589519.8708403, \"EndTime\": 1674589519.8708577, \"Dimensions\": {\"Algorithm\": \"Linear Learner\", \"Host\": \"algo-1\", \"Operation\": \"training\", \"epoch\": 2, \"model\": 31}, \"Metrics\": {\"validation_binary_classification_cross_entropy_objective\": {\"sum\": 0.5139023647280712, \"count\": 1, \"min\": 0.5139023647280712, \"max\": 0.5139023647280712}}}\u001b[0m\n",
      "\u001b[34m[01/24/2023 19:45:19 INFO 140592160999232] #quality_metric: host=algo-1, epoch=2, validation binary_classification_cross_entropy_objective <loss>=0.4809711757562865\u001b[0m\n",
      "\u001b[34m[01/24/2023 19:45:19 INFO 140592160999232] #early_stopping_criteria_metric: host=algo-1, epoch=2, criteria=binary_classification_cross_entropy_objective, value=0.4809711757562865\u001b[0m\n",
      "\u001b[34m[01/24/2023 19:45:19 INFO 140592160999232] Saving model for epoch: 2\u001b[0m\n",
      "\u001b[34m[01/24/2023 19:45:19 INFO 140592160999232] Saved checkpoint to \"/tmp/tmpg93xm93c/mx-mod-0000.params\"\u001b[0m\n",
      "\u001b[34m[01/24/2023 19:45:19 INFO 140592160999232] #progress_metric: host=algo-1, completed 20.0 % of epochs\u001b[0m\n",
      "\u001b[34m#metrics {\"StartTime\": 1674589470.807599, \"EndTime\": 1674589519.8775804, \"Dimensions\": {\"Algorithm\": \"Linear Learner\", \"Host\": \"algo-1\", \"Operation\": \"training\", \"epoch\": 2, \"Meta\": \"training_data_iter\"}, \"Metrics\": {\"Total Records Seen\": {\"sum\": 3937416.0, \"count\": 1, \"min\": 3937416, \"max\": 3937416}, \"Total Batches Seen\": {\"sum\": 3939.0, \"count\": 1, \"min\": 3939, \"max\": 3939}, \"Max Records Seen Between Resets\": {\"sum\": 1308472.0, \"count\": 1, \"min\": 1308472, \"max\": 1308472}, \"Max Batches Seen Between Resets\": {\"sum\": 1309.0, \"count\": 1, \"min\": 1309, \"max\": 1309}, \"Reset Count\": {\"sum\": 5.0, \"count\": 1, \"min\": 5, \"max\": 5}, \"Number of Records Since Last Reset\": {\"sum\": 1308472.0, \"count\": 1, \"min\": 1308472, \"max\": 1308472}, \"Number of Batches Since Last Reset\": {\"sum\": 1309.0, \"count\": 1, \"min\": 1309, \"max\": 1309}}}\u001b[0m\n",
      "\u001b[34m[01/24/2023 19:45:19 INFO 140592160999232] #throughput_metric: host=algo-1, train throughput=26665.354080750807 records/second\u001b[0m\n",
      "\u001b[34m[2023-01-24 19:46:06.191] [tensorio] [info] epoch_stats={\"data_pipeline\": \"/opt/ml/input/data/train\", \"epoch\": 9, \"duration\": 46302, \"num_examples\": 1309, \"num_bytes\": 507687136}\u001b[0m\n",
      "\u001b[34m#metrics {\"StartTime\": 1674589566.1914313, \"EndTime\": 1674589566.1915286, \"Dimensions\": {\"Algorithm\": \"Linear Learner\", \"Host\": \"algo-1\", \"Operation\": \"training\", \"epoch\": 3, \"model\": 0}, \"Metrics\": {\"train_binary_classification_cross_entropy_objective\": {\"sum\": 0.48046169043024745, \"count\": 1, \"min\": 0.48046169043024745, \"max\": 0.48046169043024745}}}\u001b[0m\n",
      "\u001b[34m#metrics {\"StartTime\": 1674589566.191619, \"EndTime\": 1674589566.1916418, \"Dimensions\": {\"Algorithm\": \"Linear Learner\", \"Host\": \"algo-1\", \"Operation\": \"training\", \"epoch\": 3, \"model\": 1}, \"Metrics\": {\"train_binary_classification_cross_entropy_objective\": {\"sum\": 0.4813756664637761, \"count\": 1, \"min\": 0.4813756664637761, \"max\": 0.4813756664637761}}}\u001b[0m\n",
      "\u001b[34m#metrics {\"StartTime\": 1674589566.1917126, \"EndTime\": 1674589566.1917322, \"Dimensions\": {\"Algorithm\": \"Linear Learner\", \"Host\": \"algo-1\", \"Operation\": \"training\", \"epoch\": 3, \"model\": 2}, \"Metrics\": {\"train_binary_classification_cross_entropy_objective\": {\"sum\": 0.48047640561911675, \"count\": 1, \"min\": 0.48047640561911675, \"max\": 0.48047640561911675}}}\u001b[0m\n",
      "\u001b[34m#metrics {\"StartTime\": 1674589566.1918035, \"EndTime\": 1674589566.1918216, \"Dimensions\": {\"Algorithm\": \"Linear Learner\", \"Host\": \"algo-1\", \"Operation\": \"training\", \"epoch\": 3, \"model\": 3}, \"Metrics\": {\"train_binary_classification_cross_entropy_objective\": {\"sum\": 0.4813756505983685, \"count\": 1, \"min\": 0.4813756505983685, \"max\": 0.4813756505983685}}}\u001b[0m\n",
      "\u001b[34m#metrics {\"StartTime\": 1674589566.19189, \"EndTime\": 1674589566.1919086, \"Dimensions\": {\"Algorithm\": \"Linear Learner\", \"Host\": \"algo-1\", \"Operation\": \"training\", \"epoch\": 3, \"model\": 4}, \"Metrics\": {\"train_binary_classification_cross_entropy_objective\": {\"sum\": 0.4807883315946713, \"count\": 1, \"min\": 0.4807883315946713, \"max\": 0.4807883315946713}}}\u001b[0m\n",
      "\u001b[34m#metrics {\"StartTime\": 1674589566.1919758, \"EndTime\": 1674589566.191994, \"Dimensions\": {\"Algorithm\": \"Linear Learner\", \"Host\": \"algo-1\", \"Operation\": \"training\", \"epoch\": 3, \"model\": 5}, \"Metrics\": {\"train_binary_classification_cross_entropy_objective\": {\"sum\": 0.49684006469913217, \"count\": 1, \"min\": 0.49684006469913217, \"max\": 0.49684006469913217}}}\u001b[0m\n",
      "\u001b[34m#metrics {\"StartTime\": 1674589566.192059, \"EndTime\": 1674589566.1920786, \"Dimensions\": {\"Algorithm\": \"Linear Learner\", \"Host\": \"algo-1\", \"Operation\": \"training\", \"epoch\": 3, \"model\": 6}, \"Metrics\": {\"train_binary_classification_cross_entropy_objective\": {\"sum\": 0.4807883316413343, \"count\": 1, \"min\": 0.4807883316413343, \"max\": 0.4807883316413343}}}\u001b[0m\n",
      "\u001b[34m#metrics {\"StartTime\": 1674589566.1921482, \"EndTime\": 1674589566.192166, \"Dimensions\": {\"Algorithm\": \"Linear Learner\", \"Host\": \"algo-1\", \"Operation\": \"training\", \"epoch\": 3, \"model\": 7}, \"Metrics\": {\"train_binary_classification_cross_entropy_objective\": {\"sum\": 0.49684008628075277, \"count\": 1, \"min\": 0.49684008628075277, \"max\": 0.49684008628075277}}}\u001b[0m\n",
      "\u001b[34m#metrics {\"StartTime\": 1674589566.192234, \"EndTime\": 1674589566.1922524, \"Dimensions\": {\"Algorithm\": \"Linear Learner\", \"Host\": \"algo-1\", \"Operation\": \"training\", \"epoch\": 3, \"model\": 8}, \"Metrics\": {\"train_binary_classification_cross_entropy_objective\": {\"sum\": 0.4807317244270161, \"count\": 1, \"min\": 0.4807317244270161, \"max\": 0.4807317244270161}}}\u001b[0m\n",
      "\u001b[34m#metrics {\"StartTime\": 1674589566.1923192, \"EndTime\": 1674589566.1923392, \"Dimensions\": {\"Algorithm\": \"Linear Learner\", \"Host\": \"algo-1\", \"Operation\": \"training\", \"epoch\": 3, \"model\": 9}, \"Metrics\": {\"train_binary_classification_cross_entropy_objective\": {\"sum\": 0.48158996472373283, \"count\": 1, \"min\": 0.48158996472373283, \"max\": 0.48158996472373283}}}\u001b[0m\n",
      "\u001b[34m#metrics {\"StartTime\": 1674589566.1924071, \"EndTime\": 1674589566.1924243, \"Dimensions\": {\"Algorithm\": \"Linear Learner\", \"Host\": \"algo-1\", \"Operation\": \"training\", \"epoch\": 3, \"model\": 10}, \"Metrics\": {\"train_binary_classification_cross_entropy_objective\": {\"sum\": 0.4807445979687052, \"count\": 1, \"min\": 0.4807445979687052, \"max\": 0.4807445979687052}}}\u001b[0m\n",
      "\u001b[34m#metrics {\"StartTime\": 1674589566.19249, \"EndTime\": 1674589566.1925082, \"Dimensions\": {\"Algorithm\": \"Linear Learner\", \"Host\": \"algo-1\", \"Operation\": \"training\", \"epoch\": 3, \"model\": 11}, \"Metrics\": {\"train_binary_classification_cross_entropy_objective\": {\"sum\": 0.48158998264231084, \"count\": 1, \"min\": 0.48158998264231084, \"max\": 0.48158998264231084}}}\u001b[0m\n",
      "\u001b[34m#metrics {\"StartTime\": 1674589566.1925845, \"EndTime\": 1674589566.1926043, \"Dimensions\": {\"Algorithm\": \"Linear Learner\", \"Host\": \"algo-1\", \"Operation\": \"training\", \"epoch\": 3, \"model\": 12}, \"Metrics\": {\"train_binary_classification_cross_entropy_objective\": {\"sum\": 0.48103434452441857, \"count\": 1, \"min\": 0.48103434452441857, \"max\": 0.48103434452441857}}}\u001b[0m\n",
      "\u001b[34m#metrics {\"StartTime\": 1674589566.1926723, \"EndTime\": 1674589566.1926904, \"Dimensions\": {\"Algorithm\": \"Linear Learner\", \"Host\": \"algo-1\", \"Operation\": \"training\", \"epoch\": 3, \"model\": 13}, \"Metrics\": {\"train_binary_classification_cross_entropy_objective\": {\"sum\": 0.4959554159415242, \"count\": 1, \"min\": 0.4959554159415242, \"max\": 0.4959554159415242}}}\u001b[0m\n",
      "\u001b[34m#metrics {\"StartTime\": 1674589566.1927567, \"EndTime\": 1674589566.1927772, \"Dimensions\": {\"Algorithm\": \"Linear Learner\", \"Host\": \"algo-1\", \"Operation\": \"training\", \"epoch\": 3, \"model\": 14}, \"Metrics\": {\"train_binary_classification_cross_entropy_objective\": {\"sum\": 0.4810343479074834, \"count\": 1, \"min\": 0.4810343479074834, \"max\": 0.4810343479074834}}}\u001b[0m\n",
      "\u001b[34m#metrics {\"StartTime\": 1674589566.1928449, \"EndTime\": 1674589566.192862, \"Dimensions\": {\"Algorithm\": \"Linear Learner\", \"Host\": \"algo-1\", \"Operation\": \"training\", \"epoch\": 3, \"model\": 15}, \"Metrics\": {\"train_binary_classification_cross_entropy_objective\": {\"sum\": 0.49595544785899126, \"count\": 1, \"min\": 0.49595544785899126, \"max\": 0.49595544785899126}}}\u001b[0m\n",
      "\u001b[34m#metrics {\"StartTime\": 1674589566.1929302, \"EndTime\": 1674589566.1929483, \"Dimensions\": {\"Algorithm\": \"Linear Learner\", \"Host\": \"algo-1\", \"Operation\": \"training\", \"epoch\": 3, \"model\": 16}, \"Metrics\": {\"train_binary_classification_cross_entropy_objective\": {\"sum\": 0.50431708757593, \"count\": 1, \"min\": 0.50431708757593, \"max\": 0.50431708757593}}}\u001b[0m\n",
      "\u001b[34m#metrics {\"StartTime\": 1674589566.1930158, \"EndTime\": 1674589566.1930332, \"Dimensions\": {\"Algorithm\": \"Linear Learner\", \"Host\": \"algo-1\", \"Operation\": \"training\", \"epoch\": 3, \"model\": 17}, \"Metrics\": {\"train_binary_classification_cross_entropy_objective\": {\"sum\": 0.5045546144024677, \"count\": 1, \"min\": 0.5045546144024677, \"max\": 0.5045546144024677}}}\u001b[0m\n",
      "\u001b[34m#metrics {\"StartTime\": 1674589566.1930945, \"EndTime\": 1674589566.1931057, \"Dimensions\": {\"Algorithm\": \"Linear Learner\", \"Host\": \"algo-1\", \"Operation\": \"training\", \"epoch\": 3, \"model\": 18}, \"Metrics\": {\"train_binary_classification_cross_entropy_objective\": {\"sum\": 0.5043274882138686, \"count\": 1, \"min\": 0.5043274882138686, \"max\": 0.5043274882138686}}}\u001b[0m\n",
      "\u001b[34m#metrics {\"StartTime\": 1674589566.1931584, \"EndTime\": 1674589566.1931744, \"Dimensions\": {\"Algorithm\": \"Linear Learner\", \"Host\": \"algo-1\", \"Operation\": \"training\", \"epoch\": 3, \"model\": 19}, \"Metrics\": {\"train_binary_classification_cross_entropy_objective\": {\"sum\": 0.5045546160823343, \"count\": 1, \"min\": 0.5045546160823343, \"max\": 0.5045546160823343}}}\u001b[0m\n",
      "\u001b[34m#metrics {\"StartTime\": 1674589566.1932232, \"EndTime\": 1674589566.193235, \"Dimensions\": {\"Algorithm\": \"Linear Learner\", \"Host\": \"algo-1\", \"Operation\": \"training\", \"epoch\": 3, \"model\": 20}, \"Metrics\": {\"train_binary_classification_cross_entropy_objective\": {\"sum\": 0.5043943864081614, \"count\": 1, \"min\": 0.5043943864081614, \"max\": 0.5043943864081614}}}\u001b[0m\n",
      "\u001b[34m#metrics {\"StartTime\": 1674589566.193297, \"EndTime\": 1674589566.1933148, \"Dimensions\": {\"Algorithm\": \"Linear Learner\", \"Host\": \"algo-1\", \"Operation\": \"training\", \"epoch\": 3, \"model\": 21}, \"Metrics\": {\"train_binary_classification_cross_entropy_objective\": {\"sum\": 0.5074895452563551, \"count\": 1, \"min\": 0.5074895452563551, \"max\": 0.5074895452563551}}}\u001b[0m\n",
      "\u001b[34m#metrics {\"StartTime\": 1674589566.1933813, \"EndTime\": 1674589566.1933982, \"Dimensions\": {\"Algorithm\": \"Linear Learner\", \"Host\": \"algo-1\", \"Operation\": \"training\", \"epoch\": 3, \"model\": 22}, \"Metrics\": {\"train_binary_classification_cross_entropy_objective\": {\"sum\": 0.5043943892779336, \"count\": 1, \"min\": 0.5043943892779336, \"max\": 0.5043943892779336}}}\u001b[0m\n",
      "\u001b[34m#metrics {\"StartTime\": 1674589566.1934621, \"EndTime\": 1674589566.1934795, \"Dimensions\": {\"Algorithm\": \"Linear Learner\", \"Host\": \"algo-1\", \"Operation\": \"training\", \"epoch\": 3, \"model\": 23}, \"Metrics\": {\"train_binary_classification_cross_entropy_objective\": {\"sum\": 0.5074895475895033, \"count\": 1, \"min\": 0.5074895475895033, \"max\": 0.5074895475895033}}}\u001b[0m\n",
      "\u001b[34m#metrics {\"StartTime\": 1674589566.1935422, \"EndTime\": 1674589566.19356, \"Dimensions\": {\"Algorithm\": \"Linear Learner\", \"Host\": \"algo-1\", \"Operation\": \"training\", \"epoch\": 3, \"model\": 24}, \"Metrics\": {\"train_binary_classification_cross_entropy_objective\": {\"sum\": 0.5137064459564489, \"count\": 1, \"min\": 0.5137064459564489, \"max\": 0.5137064459564489}}}\u001b[0m\n",
      "\u001b[34m#metrics {\"StartTime\": 1674589566.1936243, \"EndTime\": 1674589566.1936438, \"Dimensions\": {\"Algorithm\": \"Linear Learner\", \"Host\": \"algo-1\", \"Operation\": \"training\", \"epoch\": 3, \"model\": 25}, \"Metrics\": {\"train_binary_classification_cross_entropy_objective\": {\"sum\": 0.5137867685953776, \"count\": 1, \"min\": 0.5137867685953776, \"max\": 0.5137867685953776}}}\u001b[0m\n",
      "\u001b[34m#metrics {\"StartTime\": 1674589566.193711, \"EndTime\": 1674589566.1937284, \"Dimensions\": {\"Algorithm\": \"Linear Learner\", \"Host\": \"algo-1\", \"Operation\": \"training\", \"epoch\": 3, \"model\": 26}, \"Metrics\": {\"train_binary_classification_cross_entropy_objective\": {\"sum\": 0.5137082666052956, \"count\": 1, \"min\": 0.5137082666052956, \"max\": 0.5137082666052956}}}\u001b[0m\n",
      "\u001b[34m#metrics {\"StartTime\": 1674589566.193798, \"EndTime\": 1674589566.193817, \"Dimensions\": {\"Algorithm\": \"Linear Learner\", \"Host\": \"algo-1\", \"Operation\": \"training\", \"epoch\": 3, \"model\": 27}, \"Metrics\": {\"train_binary_classification_cross_entropy_objective\": {\"sum\": 0.5137857075029192, \"count\": 1, \"min\": 0.5137857075029192, \"max\": 0.5137857075029192}}}\u001b[0m\n",
      "\u001b[34m#metrics {\"StartTime\": 1674589566.1938822, \"EndTime\": 1674589566.1938999, \"Dimensions\": {\"Algorithm\": \"Linear Learner\", \"Host\": \"algo-1\", \"Operation\": \"training\", \"epoch\": 3, \"model\": 28}, \"Metrics\": {\"train_binary_classification_cross_entropy_objective\": {\"sum\": 0.5137366445698869, \"count\": 1, \"min\": 0.5137366445698869, \"max\": 0.5137366445698869}}}\u001b[0m\n",
      "\u001b[34m#metrics {\"StartTime\": 1674589566.1939576, \"EndTime\": 1674589566.1939743, \"Dimensions\": {\"Algorithm\": \"Linear Learner\", \"Host\": \"algo-1\", \"Operation\": \"training\", \"epoch\": 3, \"model\": 29}, \"Metrics\": {\"train_binary_classification_cross_entropy_objective\": {\"sum\": 0.5148895683871861, \"count\": 1, \"min\": 0.5148895683871861, \"max\": 0.5148895683871861}}}\u001b[0m\n",
      "\u001b[34m#metrics {\"StartTime\": 1674589566.194033, \"EndTime\": 1674589566.1940515, \"Dimensions\": {\"Algorithm\": \"Linear Learner\", \"Host\": \"algo-1\", \"Operation\": \"training\", \"epoch\": 3, \"model\": 30}, \"Metrics\": {\"train_binary_classification_cross_entropy_objective\": {\"sum\": 0.5137366129557291, \"count\": 1, \"min\": 0.5137366129557291, \"max\": 0.5137366129557291}}}\u001b[0m\n",
      "\u001b[34m#metrics {\"StartTime\": 1674589566.1941152, \"EndTime\": 1674589566.1941335, \"Dimensions\": {\"Algorithm\": \"Linear Learner\", \"Host\": \"algo-1\", \"Operation\": \"training\", \"epoch\": 3, \"model\": 31}, \"Metrics\": {\"train_binary_classification_cross_entropy_objective\": {\"sum\": 0.5148895913453642, \"count\": 1, \"min\": 0.5148895913453642, \"max\": 0.5148895913453642}}}\u001b[0m\n",
      "\u001b[34m[01/24/2023 19:46:06 INFO 140592160999232] #quality_metric: host=algo-1, epoch=3, train binary_classification_cross_entropy_objective <loss>=0.48046169043024745\u001b[0m\n",
      "\u001b[34m[2023-01-24 19:46:10.222] [tensorio] [info] epoch_stats={\"data_pipeline\": \"/opt/ml/input/data/validation\", \"epoch\": 11, \"duration\": 4008, \"num_examples\": 164, \"num_bytes\": 63460892}\u001b[0m\n",
      "\u001b[34m#metrics {\"StartTime\": 1674589570.2296236, \"EndTime\": 1674589570.2297025, \"Dimensions\": {\"Algorithm\": \"Linear Learner\", \"Host\": \"algo-1\", \"Operation\": \"training\", \"epoch\": 3, \"model\": 0}, \"Metrics\": {\"validation_binary_classification_cross_entropy_objective\": {\"sum\": 0.480953366729953, \"count\": 1, \"min\": 0.480953366729953, \"max\": 0.480953366729953}}}\u001b[0m\n",
      "\u001b[34m#metrics {\"StartTime\": 1674589570.2298179, \"EndTime\": 1674589570.2298396, \"Dimensions\": {\"Algorithm\": \"Linear Learner\", \"Host\": \"algo-1\", \"Operation\": \"training\", \"epoch\": 3, \"model\": 1}, \"Metrics\": {\"validation_binary_classification_cross_entropy_objective\": {\"sum\": 0.48161923959614844, \"count\": 1, \"min\": 0.48161923959614844, \"max\": 0.48161923959614844}}}\u001b[0m\n",
      "\u001b[34m#metrics {\"StartTime\": 1674589570.2298841, \"EndTime\": 1674589570.2298968, \"Dimensions\": {\"Algorithm\": \"Linear Learner\", \"Host\": \"algo-1\", \"Operation\": \"training\", \"epoch\": 3, \"model\": 2}, \"Metrics\": {\"validation_binary_classification_cross_entropy_objective\": {\"sum\": 0.48096813340233396, \"count\": 1, \"min\": 0.48096813340233396, \"max\": 0.48096813340233396}}}\u001b[0m\n",
      "\u001b[34m#metrics {\"StartTime\": 1674589570.2299562, \"EndTime\": 1674589570.2299685, \"Dimensions\": {\"Algorithm\": \"Linear Learner\", \"Host\": \"algo-1\", \"Operation\": \"training\", \"epoch\": 3, \"model\": 3}, \"Metrics\": {\"validation_binary_classification_cross_entropy_objective\": {\"sum\": 0.48161925256377286, \"count\": 1, \"min\": 0.48161925256377286, \"max\": 0.48161925256377286}}}\u001b[0m\n",
      "\u001b[34m#metrics {\"StartTime\": 1674589570.2300239, \"EndTime\": 1674589570.2300425, \"Dimensions\": {\"Algorithm\": \"Linear Learner\", \"Host\": \"algo-1\", \"Operation\": \"training\", \"epoch\": 3, \"model\": 4}, \"Metrics\": {\"validation_binary_classification_cross_entropy_objective\": {\"sum\": 0.4811144727638421, \"count\": 1, \"min\": 0.4811144727638421, \"max\": 0.4811144727638421}}}\u001b[0m\n",
      "\u001b[34m#metrics {\"StartTime\": 1674589570.2301004, \"EndTime\": 1674589570.2301185, \"Dimensions\": {\"Algorithm\": \"Linear Learner\", \"Host\": \"algo-1\", \"Operation\": \"training\", \"epoch\": 3, \"model\": 5}, \"Metrics\": {\"validation_binary_classification_cross_entropy_objective\": {\"sum\": 0.49759174207661805, \"count\": 1, \"min\": 0.49759174207661805, \"max\": 0.49759174207661805}}}\u001b[0m\n",
      "\u001b[34m#metrics {\"StartTime\": 1674589570.2301834, \"EndTime\": 1674589570.2302012, \"Dimensions\": {\"Algorithm\": \"Linear Learner\", \"Host\": \"algo-1\", \"Operation\": \"training\", \"epoch\": 3, \"model\": 6}, \"Metrics\": {\"validation_binary_classification_cross_entropy_objective\": {\"sum\": 0.481114474163226, \"count\": 1, \"min\": 0.481114474163226, \"max\": 0.481114474163226}}}\u001b[0m\n",
      "\u001b[34m#metrics {\"StartTime\": 1674589570.2302623, \"EndTime\": 1674589570.2302794, \"Dimensions\": {\"Algorithm\": \"Linear Learner\", \"Host\": \"algo-1\", \"Operation\": \"training\", \"epoch\": 3, \"model\": 7}, \"Metrics\": {\"validation_binary_classification_cross_entropy_objective\": {\"sum\": 0.4975917250974264, \"count\": 1, \"min\": 0.4975917250974264, \"max\": 0.4975917250974264}}}\u001b[0m\n",
      "\u001b[34m#metrics {\"StartTime\": 1674589570.2303472, \"EndTime\": 1674589570.230365, \"Dimensions\": {\"Algorithm\": \"Linear Learner\", \"Host\": \"algo-1\", \"Operation\": \"training\", \"epoch\": 3, \"model\": 8}, \"Metrics\": {\"validation_binary_classification_cross_entropy_objective\": {\"sum\": 0.48123071380265015, \"count\": 1, \"min\": 0.48123071380265015, \"max\": 0.48123071380265015}}}\u001b[0m\n",
      "\u001b[34m#metrics {\"StartTime\": 1674589570.2304347, \"EndTime\": 1674589570.2304528, \"Dimensions\": {\"Algorithm\": \"Linear Learner\", \"Host\": \"algo-1\", \"Operation\": \"training\", \"epoch\": 3, \"model\": 9}, \"Metrics\": {\"validation_binary_classification_cross_entropy_objective\": {\"sum\": 0.4818114827620738, \"count\": 1, \"min\": 0.4818114827620738, \"max\": 0.4818114827620738}}}\u001b[0m\n",
      "\u001b[34m#metrics {\"StartTime\": 1674589570.2305179, \"EndTime\": 1674589570.2305355, \"Dimensions\": {\"Algorithm\": \"Linear Learner\", \"Host\": \"algo-1\", \"Operation\": \"training\", \"epoch\": 3, \"model\": 10}, \"Metrics\": {\"validation_binary_classification_cross_entropy_objective\": {\"sum\": 0.48124720320993924, \"count\": 1, \"min\": 0.48124720320993924, \"max\": 0.48124720320993924}}}\u001b[0m\n",
      "\u001b[34m#metrics {\"StartTime\": 1674589570.2306027, \"EndTime\": 1674589570.2306209, \"Dimensions\": {\"Algorithm\": \"Linear Learner\", \"Host\": \"algo-1\", \"Operation\": \"training\", \"epoch\": 3, \"model\": 11}, \"Metrics\": {\"validation_binary_classification_cross_entropy_objective\": {\"sum\": 0.48181148537425716, \"count\": 1, \"min\": 0.48181148537425716, \"max\": 0.48181148537425716}}}\u001b[0m\n",
      "\u001b[34m#metrics {\"StartTime\": 1674589570.2306795, \"EndTime\": 1674589570.2306967, \"Dimensions\": {\"Algorithm\": \"Linear Learner\", \"Host\": \"algo-1\", \"Operation\": \"training\", \"epoch\": 3, \"model\": 12}, \"Metrics\": {\"validation_binary_classification_cross_entropy_objective\": {\"sum\": 0.48140704028248216, \"count\": 1, \"min\": 0.48140704028248216, \"max\": 0.48140704028248216}}}\u001b[0m\n",
      "\u001b[34m#metrics {\"StartTime\": 1674589570.230765, \"EndTime\": 1674589570.2307832, \"Dimensions\": {\"Algorithm\": \"Linear Learner\", \"Host\": \"algo-1\", \"Operation\": \"training\", \"epoch\": 3, \"model\": 13}, \"Metrics\": {\"validation_binary_classification_cross_entropy_objective\": {\"sum\": 0.49600059543748837, \"count\": 1, \"min\": 0.49600059543748837, \"max\": 0.49600059543748837}}}\u001b[0m\n",
      "\u001b[34m#metrics {\"StartTime\": 1674589570.2308462, \"EndTime\": 1674589570.2308638, \"Dimensions\": {\"Algorithm\": \"Linear Learner\", \"Host\": \"algo-1\", \"Operation\": \"training\", \"epoch\": 3, \"model\": 14}, \"Metrics\": {\"validation_binary_classification_cross_entropy_objective\": {\"sum\": 0.4814070414952816, \"count\": 1, \"min\": 0.4814070414952816, \"max\": 0.4814070414952816}}}\u001b[0m\n",
      "\u001b[34m#metrics {\"StartTime\": 1674589570.2309322, \"EndTime\": 1674589570.230951, \"Dimensions\": {\"Algorithm\": \"Linear Learner\", \"Host\": \"algo-1\", \"Operation\": \"training\", \"epoch\": 3, \"model\": 15}, \"Metrics\": {\"validation_binary_classification_cross_entropy_objective\": {\"sum\": 0.49600057733878955, \"count\": 1, \"min\": 0.49600057733878955, \"max\": 0.49600057733878955}}}\u001b[0m\n",
      "\u001b[34m#metrics {\"StartTime\": 1674589570.231036, \"EndTime\": 1674589570.2310543, \"Dimensions\": {\"Algorithm\": \"Linear Learner\", \"Host\": \"algo-1\", \"Operation\": \"training\", \"epoch\": 3, \"model\": 16}, \"Metrics\": {\"validation_binary_classification_cross_entropy_objective\": {\"sum\": 0.5044845679851193, \"count\": 1, \"min\": 0.5044845679851193, \"max\": 0.5044845679851193}}}\u001b[0m\n",
      "\u001b[34m#metrics {\"StartTime\": 1674589570.2311234, \"EndTime\": 1674589570.2311416, \"Dimensions\": {\"Algorithm\": \"Linear Learner\", \"Host\": \"algo-1\", \"Operation\": \"training\", \"epoch\": 3, \"model\": 17}, \"Metrics\": {\"validation_binary_classification_cross_entropy_objective\": {\"sum\": 0.504615211110149, \"count\": 1, \"min\": 0.504615211110149, \"max\": 0.504615211110149}}}\u001b[0m\n",
      "\u001b[34m#metrics {\"StartTime\": 1674589570.2312126, \"EndTime\": 1674589570.2312303, \"Dimensions\": {\"Algorithm\": \"Linear Learner\", \"Host\": \"algo-1\", \"Operation\": \"training\", \"epoch\": 3, \"model\": 18}, \"Metrics\": {\"validation_binary_classification_cross_entropy_objective\": {\"sum\": 0.5045402013328213, \"count\": 1, \"min\": 0.5045402013328213, \"max\": 0.5045402013328213}}}\u001b[0m\n",
      "\u001b[34m#metrics {\"StartTime\": 1674589570.2312949, \"EndTime\": 1674589570.2313132, \"Dimensions\": {\"Algorithm\": \"Linear Learner\", \"Host\": \"algo-1\", \"Operation\": \"training\", \"epoch\": 3, \"model\": 19}, \"Metrics\": {\"validation_binary_classification_cross_entropy_objective\": {\"sum\": 0.504615407770237, \"count\": 1, \"min\": 0.504615407770237, \"max\": 0.504615407770237}}}\u001b[0m\n",
      "\u001b[34m#metrics {\"StartTime\": 1674589570.2313774, \"EndTime\": 1674589570.2313952, \"Dimensions\": {\"Algorithm\": \"Linear Learner\", \"Host\": \"algo-1\", \"Operation\": \"training\", \"epoch\": 3, \"model\": 20}, \"Metrics\": {\"validation_binary_classification_cross_entropy_objective\": {\"sum\": 0.5046120628694791, \"count\": 1, \"min\": 0.5046120628694791, \"max\": 0.5046120628694791}}}\u001b[0m\n",
      "\u001b[34m#metrics {\"StartTime\": 1674589570.2314596, \"EndTime\": 1674589570.2314773, \"Dimensions\": {\"Algorithm\": \"Linear Learner\", \"Host\": \"algo-1\", \"Operation\": \"training\", \"epoch\": 3, \"model\": 21}, \"Metrics\": {\"validation_binary_classification_cross_entropy_objective\": {\"sum\": 0.5063318642956608, \"count\": 1, \"min\": 0.5063318642956608, \"max\": 0.5063318642956608}}}\u001b[0m\n",
      "\u001b[34m#metrics {\"StartTime\": 1674589570.23153, \"EndTime\": 1674589570.2315478, \"Dimensions\": {\"Algorithm\": \"Linear Learner\", \"Host\": \"algo-1\", \"Operation\": \"training\", \"epoch\": 3, \"model\": 22}, \"Metrics\": {\"validation_binary_classification_cross_entropy_objective\": {\"sum\": 0.504612080595009, \"count\": 1, \"min\": 0.504612080595009, \"max\": 0.504612080595009}}}\u001b[0m\n",
      "\u001b[34m#metrics {\"StartTime\": 1674589570.231605, \"EndTime\": 1674589570.2316222, \"Dimensions\": {\"Algorithm\": \"Linear Learner\", \"Host\": \"algo-1\", \"Operation\": \"training\", \"epoch\": 3, \"model\": 23}, \"Metrics\": {\"validation_binary_classification_cross_entropy_objective\": {\"sum\": 0.5063318568322799, \"count\": 1, \"min\": 0.5063318568322799, \"max\": 0.5063318568322799}}}\u001b[0m\n",
      "\u001b[34m#metrics {\"StartTime\": 1674589570.2316766, \"EndTime\": 1674589570.231695, \"Dimensions\": {\"Algorithm\": \"Linear Learner\", \"Host\": \"algo-1\", \"Operation\": \"training\", \"epoch\": 3, \"model\": 24}, \"Metrics\": {\"validation_binary_classification_cross_entropy_objective\": {\"sum\": 0.5137175831705441, \"count\": 1, \"min\": 0.5137175831705441, \"max\": 0.5137175831705441}}}\u001b[0m\n",
      "\u001b[34m#metrics {\"StartTime\": 1674589570.2317593, \"EndTime\": 1674589570.2317767, \"Dimensions\": {\"Algorithm\": \"Linear Learner\", \"Host\": \"algo-1\", \"Operation\": \"training\", \"epoch\": 3, \"model\": 25}, \"Metrics\": {\"validation_binary_classification_cross_entropy_objective\": {\"sum\": 0.5138501242333495, \"count\": 1, \"min\": 0.5138501242333495, \"max\": 0.5138501242333495}}}\u001b[0m\n",
      "\u001b[34m#metrics {\"StartTime\": 1674589570.2318428, \"EndTime\": 1674589570.23186, \"Dimensions\": {\"Algorithm\": \"Linear Learner\", \"Host\": \"algo-1\", \"Operation\": \"training\", \"epoch\": 3, \"model\": 26}, \"Metrics\": {\"validation_binary_classification_cross_entropy_objective\": {\"sum\": 0.5137146519276755, \"count\": 1, \"min\": 0.5137146519276755, \"max\": 0.5137146519276755}}}\u001b[0m\n",
      "\u001b[34m#metrics {\"StartTime\": 1674589570.2319274, \"EndTime\": 1674589570.2319455, \"Dimensions\": {\"Algorithm\": \"Linear Learner\", \"Host\": \"algo-1\", \"Operation\": \"training\", \"epoch\": 3, \"model\": 27}, \"Metrics\": {\"validation_binary_classification_cross_entropy_objective\": {\"sum\": 0.5138340247877152, \"count\": 1, \"min\": 0.5138340247877152, \"max\": 0.5138340247877152}}}\u001b[0m\n",
      "\u001b[34m#metrics {\"StartTime\": 1674589570.232014, \"EndTime\": 1674589570.2320316, \"Dimensions\": {\"Algorithm\": \"Linear Learner\", \"Host\": \"algo-1\", \"Operation\": \"training\", \"epoch\": 3, \"model\": 28}, \"Metrics\": {\"validation_binary_classification_cross_entropy_objective\": {\"sum\": 0.5137602207195803, \"count\": 1, \"min\": 0.5137602207195803, \"max\": 0.5137602207195803}}}\u001b[0m\n",
      "\u001b[34m#metrics {\"StartTime\": 1674589570.2320955, \"EndTime\": 1674589570.232113, \"Dimensions\": {\"Algorithm\": \"Linear Learner\", \"Host\": \"algo-1\", \"Operation\": \"training\", \"epoch\": 3, \"model\": 29}, \"Metrics\": {\"validation_binary_classification_cross_entropy_objective\": {\"sum\": 0.5141550296536246, \"count\": 1, \"min\": 0.5141550296536246, \"max\": 0.5141550296536246}}}\u001b[0m\n",
      "\u001b[34m#metrics {\"StartTime\": 1674589570.2321794, \"EndTime\": 1674589570.232198, \"Dimensions\": {\"Algorithm\": \"Linear Learner\", \"Host\": \"algo-1\", \"Operation\": \"training\", \"epoch\": 3, \"model\": 30}, \"Metrics\": {\"validation_binary_classification_cross_entropy_objective\": {\"sum\": 0.5137623278186073, \"count\": 1, \"min\": 0.5137623278186073, \"max\": 0.5137623278186073}}}\u001b[0m\n",
      "\u001b[34m#metrics {\"StartTime\": 1674589570.2322643, \"EndTime\": 1674589570.2322838, \"Dimensions\": {\"Algorithm\": \"Linear Learner\", \"Host\": \"algo-1\", \"Operation\": \"training\", \"epoch\": 3, \"model\": 31}, \"Metrics\": {\"validation_binary_classification_cross_entropy_objective\": {\"sum\": 0.5141550285341174, \"count\": 1, \"min\": 0.5141550285341174, \"max\": 0.5141550285341174}}}\u001b[0m\n",
      "\u001b[34m[01/24/2023 19:46:10 INFO 140592160999232] #quality_metric: host=algo-1, epoch=3, validation binary_classification_cross_entropy_objective <loss>=0.480953366729953\u001b[0m\n",
      "\u001b[34m[01/24/2023 19:46:10 INFO 140592160999232] #early_stopping_criteria_metric: host=algo-1, epoch=3, criteria=binary_classification_cross_entropy_objective, value=0.480953366729953\u001b[0m\n",
      "\u001b[34m[01/24/2023 19:46:10 INFO 140592160999232] Saving model for epoch: 3\u001b[0m\n",
      "\u001b[34m[01/24/2023 19:46:10 INFO 140592160999232] Saved checkpoint to \"/tmp/tmp87slc8my/mx-mod-0000.params\"\u001b[0m\n",
      "\u001b[34m[01/24/2023 19:46:10 INFO 140592160999232] #progress_metric: host=algo-1, completed 26.666666666666668 % of epochs\u001b[0m\n",
      "\u001b[34m#metrics {\"StartTime\": 1674589519.888413, \"EndTime\": 1674589570.2387564, \"Dimensions\": {\"Algorithm\": \"Linear Learner\", \"Host\": \"algo-1\", \"Operation\": \"training\", \"epoch\": 3, \"Meta\": \"training_data_iter\"}, \"Metrics\": {\"Total Records Seen\": {\"sum\": 5245888.0, \"count\": 1, \"min\": 5245888, \"max\": 5245888}, \"Total Batches Seen\": {\"sum\": 5248.0, \"count\": 1, \"min\": 5248, \"max\": 5248}, \"Max Records Seen Between Resets\": {\"sum\": 1308472.0, \"count\": 1, \"min\": 1308472, \"max\": 1308472}, \"Max Batches Seen Between Resets\": {\"sum\": 1309.0, \"count\": 1, \"min\": 1309, \"max\": 1309}, \"Reset Count\": {\"sum\": 6.0, \"count\": 1, \"min\": 6, \"max\": 6}, \"Number of Records Since Last Reset\": {\"sum\": 1308472.0, \"count\": 1, \"min\": 1308472, \"max\": 1308472}, \"Number of Batches Since Last Reset\": {\"sum\": 1309.0, \"count\": 1, \"min\": 1309, \"max\": 1309}}}\u001b[0m\n",
      "\u001b[34m[01/24/2023 19:46:10 INFO 140592160999232] #throughput_metric: host=algo-1, train throughput=25987.27214078557 records/second\u001b[0m\n",
      "\u001b[34m[2023-01-24 19:46:56.660] [tensorio] [info] epoch_stats={\"data_pipeline\": \"/opt/ml/input/data/train\", \"epoch\": 11, \"duration\": 46419, \"num_examples\": 1309, \"num_bytes\": 507687136}\u001b[0m\n",
      "\u001b[34m#metrics {\"StartTime\": 1674589616.660335, \"EndTime\": 1674589616.6604383, \"Dimensions\": {\"Algorithm\": \"Linear Learner\", \"Host\": \"algo-1\", \"Operation\": \"training\", \"epoch\": 4, \"model\": 0}, \"Metrics\": {\"train_binary_classification_cross_entropy_objective\": {\"sum\": 0.48043835773526344, \"count\": 1, \"min\": 0.48043835773526344, \"max\": 0.48043835773526344}}}\u001b[0m\n",
      "\u001b[34m#metrics {\"StartTime\": 1674589616.6605263, \"EndTime\": 1674589616.6605468, \"Dimensions\": {\"Algorithm\": \"Linear Learner\", \"Host\": \"algo-1\", \"Operation\": \"training\", \"epoch\": 4, \"model\": 1}, \"Metrics\": {\"train_binary_classification_cross_entropy_objective\": {\"sum\": 0.4812675043741862, \"count\": 1, \"min\": 0.4812675043741862, \"max\": 0.4812675043741862}}}\u001b[0m\n",
      "\u001b[34m#metrics {\"StartTime\": 1674589616.6606033, \"EndTime\": 1674589616.6606197, \"Dimensions\": {\"Algorithm\": \"Linear Learner\", \"Host\": \"algo-1\", \"Operation\": \"training\", \"epoch\": 4, \"model\": 2}, \"Metrics\": {\"train_binary_classification_cross_entropy_objective\": {\"sum\": 0.4804757553940519, \"count\": 1, \"min\": 0.4804757553940519, \"max\": 0.4804757553940519}}}\u001b[0m\n",
      "\u001b[34m#metrics {\"StartTime\": 1674589616.6606836, \"EndTime\": 1674589616.6607015, \"Dimensions\": {\"Algorithm\": \"Linear Learner\", \"Host\": \"algo-1\", \"Operation\": \"training\", \"epoch\": 4, \"model\": 3}, \"Metrics\": {\"train_binary_classification_cross_entropy_objective\": {\"sum\": 0.4812675000345306, \"count\": 1, \"min\": 0.4812675000345306, \"max\": 0.4812675000345306}}}\u001b[0m\n",
      "\u001b[34m#metrics {\"StartTime\": 1674589616.6607676, \"EndTime\": 1674589616.6607854, \"Dimensions\": {\"Algorithm\": \"Linear Learner\", \"Host\": \"algo-1\", \"Operation\": \"training\", \"epoch\": 4, \"model\": 4}, \"Metrics\": {\"train_binary_classification_cross_entropy_objective\": {\"sum\": 0.4805506489604985, \"count\": 1, \"min\": 0.4805506489604985, \"max\": 0.4805506489604985}}}\u001b[0m\n",
      "\u001b[34m#metrics {\"StartTime\": 1674589616.660846, \"EndTime\": 1674589616.6608634, \"Dimensions\": {\"Algorithm\": \"Linear Learner\", \"Host\": \"algo-1\", \"Operation\": \"training\", \"epoch\": 4, \"model\": 5}, \"Metrics\": {\"train_binary_classification_cross_entropy_objective\": {\"sum\": 0.4949276096915615, \"count\": 1, \"min\": 0.4949276096915615, \"max\": 0.4949276096915615}}}\u001b[0m\n",
      "\u001b[34m#metrics {\"StartTime\": 1674589616.6609309, \"EndTime\": 1674589616.6609516, \"Dimensions\": {\"Algorithm\": \"Linear Learner\", \"Host\": \"algo-1\", \"Operation\": \"training\", \"epoch\": 4, \"model\": 6}, \"Metrics\": {\"train_binary_classification_cross_entropy_objective\": {\"sum\": 0.4805506477939244, \"count\": 1, \"min\": 0.4805506477939244, \"max\": 0.4805506477939244}}}\u001b[0m\n",
      "\u001b[34m#metrics {\"StartTime\": 1674589616.6610105, \"EndTime\": 1674589616.6610277, \"Dimensions\": {\"Algorithm\": \"Linear Learner\", \"Host\": \"algo-1\", \"Operation\": \"training\", \"epoch\": 4, \"model\": 7}, \"Metrics\": {\"train_binary_classification_cross_entropy_objective\": {\"sum\": 0.49492761545443753, \"count\": 1, \"min\": 0.49492761545443753, \"max\": 0.49492761545443753}}}\u001b[0m\n",
      "\u001b[34m#metrics {\"StartTime\": 1674589616.6610947, \"EndTime\": 1674589616.661112, \"Dimensions\": {\"Algorithm\": \"Linear Learner\", \"Host\": \"algo-1\", \"Operation\": \"training\", \"epoch\": 4, \"model\": 8}, \"Metrics\": {\"train_binary_classification_cross_entropy_objective\": {\"sum\": 0.48070810951442894, \"count\": 1, \"min\": 0.48070810951442894, \"max\": 0.48070810951442894}}}\u001b[0m\n",
      "\u001b[34m#metrics {\"StartTime\": 1674589616.6611712, \"EndTime\": 1674589616.6611886, \"Dimensions\": {\"Algorithm\": \"Linear Learner\", \"Host\": \"algo-1\", \"Operation\": \"training\", \"epoch\": 4, \"model\": 9}, \"Metrics\": {\"train_binary_classification_cross_entropy_objective\": {\"sum\": 0.481488623172865, \"count\": 1, \"min\": 0.481488623172865, \"max\": 0.481488623172865}}}\u001b[0m\n",
      "\u001b[34m#metrics {\"StartTime\": 1674589616.6612537, \"EndTime\": 1674589616.6612728, \"Dimensions\": {\"Algorithm\": \"Linear Learner\", \"Host\": \"algo-1\", \"Operation\": \"training\", \"epoch\": 4, \"model\": 10}, \"Metrics\": {\"train_binary_classification_cross_entropy_objective\": {\"sum\": 0.4807445230513173, \"count\": 1, \"min\": 0.4807445230513173, \"max\": 0.4807445230513173}}}\u001b[0m\n",
      "\u001b[34m#metrics {\"StartTime\": 1674589616.6613321, \"EndTime\": 1674589616.6613503, \"Dimensions\": {\"Algorithm\": \"Linear Learner\", \"Host\": \"algo-1\", \"Operation\": \"training\", \"epoch\": 4, \"model\": 11}, \"Metrics\": {\"train_binary_classification_cross_entropy_objective\": {\"sum\": 0.4814886275125206, \"count\": 1, \"min\": 0.4814886275125206, \"max\": 0.4814886275125206}}}\u001b[0m\n",
      "\u001b[34m#metrics {\"StartTime\": 1674589616.6614163, \"EndTime\": 1674589616.6614344, \"Dimensions\": {\"Algorithm\": \"Linear Learner\", \"Host\": \"algo-1\", \"Operation\": \"training\", \"epoch\": 4, \"model\": 12}, \"Metrics\": {\"train_binary_classification_cross_entropy_objective\": {\"sum\": 0.4808145172632433, \"count\": 1, \"min\": 0.4808145172632433, \"max\": 0.4808145172632433}}}\u001b[0m\n",
      "\u001b[34m#metrics {\"StartTime\": 1674589616.6614997, \"EndTime\": 1674589616.6615186, \"Dimensions\": {\"Algorithm\": \"Linear Learner\", \"Host\": \"algo-1\", \"Operation\": \"training\", \"epoch\": 4, \"model\": 13}, \"Metrics\": {\"train_binary_classification_cross_entropy_objective\": {\"sum\": 0.4941964020335346, \"count\": 1, \"min\": 0.4941964020335346, \"max\": 0.4941964020335346}}}\u001b[0m\n",
      "\u001b[34m#metrics {\"StartTime\": 1674589616.6615775, \"EndTime\": 1674589616.6615942, \"Dimensions\": {\"Algorithm\": \"Linear Learner\", \"Host\": \"algo-1\", \"Operation\": \"training\", \"epoch\": 4, \"model\": 14}, \"Metrics\": {\"train_binary_classification_cross_entropy_objective\": {\"sum\": 0.4808145182898285, \"count\": 1, \"min\": 0.4808145182898285, \"max\": 0.4808145182898285}}}\u001b[0m\n",
      "\u001b[34m#metrics {\"StartTime\": 1674589616.6616611, \"EndTime\": 1674589616.6616786, \"Dimensions\": {\"Algorithm\": \"Linear Learner\", \"Host\": \"algo-1\", \"Operation\": \"training\", \"epoch\": 4, \"model\": 15}, \"Metrics\": {\"train_binary_classification_cross_entropy_objective\": {\"sum\": 0.4941964044133458, \"count\": 1, \"min\": 0.4941964044133458, \"max\": 0.4941964044133458}}}\u001b[0m\n",
      "\u001b[34m#metrics {\"StartTime\": 1674589616.6617436, \"EndTime\": 1674589616.6617613, \"Dimensions\": {\"Algorithm\": \"Linear Learner\", \"Host\": \"algo-1\", \"Operation\": \"training\", \"epoch\": 4, \"model\": 16}, \"Metrics\": {\"train_binary_classification_cross_entropy_objective\": {\"sum\": 0.5043274373979014, \"count\": 1, \"min\": 0.5043274373979014, \"max\": 0.5043274373979014}}}\u001b[0m\n",
      "\u001b[34m#metrics {\"StartTime\": 1674589616.661821, \"EndTime\": 1674589616.661838, \"Dimensions\": {\"Algorithm\": \"Linear Learner\", \"Host\": \"algo-1\", \"Operation\": \"training\", \"epoch\": 4, \"model\": 17}, \"Metrics\": {\"train_binary_classification_cross_entropy_objective\": {\"sum\": 0.5045264739990234, \"count\": 1, \"min\": 0.5045264739990234, \"max\": 0.5045264739990234}}}\u001b[0m\n",
      "\u001b[34m#metrics {\"StartTime\": 1674589616.6619039, \"EndTime\": 1674589616.6619217, \"Dimensions\": {\"Algorithm\": \"Linear Learner\", \"Host\": \"algo-1\", \"Operation\": \"training\", \"epoch\": 4, \"model\": 18}, \"Metrics\": {\"train_binary_classification_cross_entropy_objective\": {\"sum\": 0.5043273161908538, \"count\": 1, \"min\": 0.5043273161908538, \"max\": 0.5043273161908538}}}\u001b[0m\n",
      "\u001b[34m#metrics {\"StartTime\": 1674589616.6619885, \"EndTime\": 1674589616.662007, \"Dimensions\": {\"Algorithm\": \"Linear Learner\", \"Host\": \"algo-1\", \"Operation\": \"training\", \"epoch\": 4, \"model\": 19}, \"Metrics\": {\"train_binary_classification_cross_entropy_objective\": {\"sum\": 0.504526474512316, \"count\": 1, \"min\": 0.504526474512316, \"max\": 0.504526474512316}}}\u001b[0m\n",
      "\u001b[34m#metrics {\"StartTime\": 1674589616.6620667, \"EndTime\": 1674589616.662085, \"Dimensions\": {\"Algorithm\": \"Linear Learner\", \"Host\": \"algo-1\", \"Operation\": \"training\", \"epoch\": 4, \"model\": 20}, \"Metrics\": {\"train_binary_classification_cross_entropy_objective\": {\"sum\": 0.5043373556107921, \"count\": 1, \"min\": 0.5043373556107921, \"max\": 0.5043373556107921}}}\u001b[0m\n",
      "\u001b[34m#metrics {\"StartTime\": 1674589616.6621504, \"EndTime\": 1674589616.6621683, \"Dimensions\": {\"Algorithm\": \"Linear Learner\", \"Host\": \"algo-1\", \"Operation\": \"training\", \"epoch\": 4, \"model\": 21}, \"Metrics\": {\"train_binary_classification_cross_entropy_objective\": {\"sum\": 0.5071493971238442, \"count\": 1, \"min\": 0.5071493971238442, \"max\": 0.5071493971238442}}}\u001b[0m\n",
      "\u001b[34m#metrics {\"StartTime\": 1674589616.6622348, \"EndTime\": 1674589616.662252, \"Dimensions\": {\"Algorithm\": \"Linear Learner\", \"Host\": \"algo-1\", \"Operation\": \"training\", \"epoch\": 4, \"model\": 22}, \"Metrics\": {\"train_binary_classification_cross_entropy_objective\": {\"sum\": 0.5043373556341235, \"count\": 1, \"min\": 0.5043373556341235, \"max\": 0.5043373556341235}}}\u001b[0m\n",
      "\u001b[34m#metrics {\"StartTime\": 1674589616.6623194, \"EndTime\": 1674589616.6623373, \"Dimensions\": {\"Algorithm\": \"Linear Learner\", \"Host\": \"algo-1\", \"Operation\": \"training\", \"epoch\": 4, \"model\": 23}, \"Metrics\": {\"train_binary_classification_cross_entropy_objective\": {\"sum\": 0.5071494003435887, \"count\": 1, \"min\": 0.5071494003435887, \"max\": 0.5071494003435887}}}\u001b[0m\n",
      "\u001b[34m#metrics {\"StartTime\": 1674589616.662399, \"EndTime\": 1674589616.6624155, \"Dimensions\": {\"Algorithm\": \"Linear Learner\", \"Host\": \"algo-1\", \"Operation\": \"training\", \"epoch\": 4, \"model\": 24}, \"Metrics\": {\"train_binary_classification_cross_entropy_objective\": {\"sum\": 0.5137057238937518, \"count\": 1, \"min\": 0.5137057238937518, \"max\": 0.5137057238937518}}}\u001b[0m\n",
      "\u001b[34m#metrics {\"StartTime\": 1674589616.662475, \"EndTime\": 1674589616.6624928, \"Dimensions\": {\"Algorithm\": \"Linear Learner\", \"Host\": \"algo-1\", \"Operation\": \"training\", \"epoch\": 4, \"model\": 25}, \"Metrics\": {\"train_binary_classification_cross_entropy_objective\": {\"sum\": 0.5137781692178242, \"count\": 1, \"min\": 0.5137781692178242, \"max\": 0.5137781692178242}}}\u001b[0m\n",
      "\u001b[34m#metrics {\"StartTime\": 1674589616.662552, \"EndTime\": 1674589616.6625695, \"Dimensions\": {\"Algorithm\": \"Linear Learner\", \"Host\": \"algo-1\", \"Operation\": \"training\", \"epoch\": 4, \"model\": 26}, \"Metrics\": {\"train_binary_classification_cross_entropy_objective\": {\"sum\": 0.513708557408884, \"count\": 1, \"min\": 0.513708557408884, \"max\": 0.513708557408884}}}\u001b[0m\n",
      "\u001b[34m#metrics {\"StartTime\": 1674589616.662636, \"EndTime\": 1674589616.6626534, \"Dimensions\": {\"Algorithm\": \"Linear Learner\", \"Host\": \"algo-1\", \"Operation\": \"training\", \"epoch\": 4, \"model\": 27}, \"Metrics\": {\"train_binary_classification_cross_entropy_objective\": {\"sum\": 0.5137778942796433, \"count\": 1, \"min\": 0.5137778942796433, \"max\": 0.5137778942796433}}}\u001b[0m\n",
      "\u001b[34m#metrics {\"StartTime\": 1674589616.6627088, \"EndTime\": 1674589616.6627245, \"Dimensions\": {\"Algorithm\": \"Linear Learner\", \"Host\": \"algo-1\", \"Operation\": \"training\", \"epoch\": 4, \"model\": 28}, \"Metrics\": {\"train_binary_classification_cross_entropy_objective\": {\"sum\": 0.5137151090989419, \"count\": 1, \"min\": 0.5137151090989419, \"max\": 0.5137151090989419}}}\u001b[0m\n",
      "\u001b[34m#metrics {\"StartTime\": 1674589616.662785, \"EndTime\": 1674589616.6628022, \"Dimensions\": {\"Algorithm\": \"Linear Learner\", \"Host\": \"algo-1\", \"Operation\": \"training\", \"epoch\": 4, \"model\": 29}, \"Metrics\": {\"train_binary_classification_cross_entropy_objective\": {\"sum\": 0.5147536667290084, \"count\": 1, \"min\": 0.5147536667290084, \"max\": 0.5147536667290084}}}\u001b[0m\n",
      "\u001b[34m#metrics {\"StartTime\": 1674589616.6628535, \"EndTime\": 1674589616.6628692, \"Dimensions\": {\"Algorithm\": \"Linear Learner\", \"Host\": \"algo-1\", \"Operation\": \"training\", \"epoch\": 4, \"model\": 30}, \"Metrics\": {\"train_binary_classification_cross_entropy_objective\": {\"sum\": 0.5137150996030289, \"count\": 1, \"min\": 0.5137150996030289, \"max\": 0.5137150996030289}}}\u001b[0m\n",
      "\u001b[34m#metrics {\"StartTime\": 1674589616.6629038, \"EndTime\": 1674589616.6629143, \"Dimensions\": {\"Algorithm\": \"Linear Learner\", \"Host\": \"algo-1\", \"Operation\": \"training\", \"epoch\": 4, \"model\": 31}, \"Metrics\": {\"train_binary_classification_cross_entropy_objective\": {\"sum\": 0.5147536705787029, \"count\": 1, \"min\": 0.5147536705787029, \"max\": 0.5147536705787029}}}\u001b[0m\n",
      "\u001b[34m[01/24/2023 19:46:56 INFO 140592160999232] #quality_metric: host=algo-1, epoch=4, train binary_classification_cross_entropy_objective <loss>=0.48043835773526344\u001b[0m\n",
      "\u001b[34m[2023-01-24 19:47:00.905] [tensorio] [info] epoch_stats={\"data_pipeline\": \"/opt/ml/input/data/validation\", \"epoch\": 14, \"duration\": 4222, \"num_examples\": 164, \"num_bytes\": 63460892}\u001b[0m\n",
      "\u001b[34m#metrics {\"StartTime\": 1674589620.9129298, \"EndTime\": 1674589620.9130154, \"Dimensions\": {\"Algorithm\": \"Linear Learner\", \"Host\": \"algo-1\", \"Operation\": \"training\", \"epoch\": 4, \"model\": 0}, \"Metrics\": {\"validation_binary_classification_cross_entropy_objective\": {\"sum\": 0.48095009991481835, \"count\": 1, \"min\": 0.48095009991481835, \"max\": 0.48095009991481835}}}\u001b[0m\n",
      "\u001b[34m#metrics {\"StartTime\": 1674589620.91311, \"EndTime\": 1674589620.91313, \"Dimensions\": {\"Algorithm\": \"Linear Learner\", \"Host\": \"algo-1\", \"Operation\": \"training\", \"epoch\": 4, \"model\": 1}, \"Metrics\": {\"validation_binary_classification_cross_entropy_objective\": {\"sum\": 0.48153282735869585, \"count\": 1, \"min\": 0.48153282735869585, \"max\": 0.48153282735869585}}}\u001b[0m\n",
      "\u001b[34m#metrics {\"StartTime\": 1674589620.9131978, \"EndTime\": 1674589620.9132156, \"Dimensions\": {\"Algorithm\": \"Linear Learner\", \"Host\": \"algo-1\", \"Operation\": \"training\", \"epoch\": 4, \"model\": 2}, \"Metrics\": {\"validation_binary_classification_cross_entropy_objective\": {\"sum\": 0.4809674337103698, \"count\": 1, \"min\": 0.4809674337103698, \"max\": 0.4809674337103698}}}\u001b[0m\n",
      "\u001b[34m#metrics {\"StartTime\": 1674589620.9133103, \"EndTime\": 1674589620.91333, \"Dimensions\": {\"Algorithm\": \"Linear Learner\", \"Host\": \"algo-1\", \"Operation\": \"training\", \"epoch\": 4, \"model\": 3}, \"Metrics\": {\"validation_binary_classification_cross_entropy_objective\": {\"sum\": 0.48153283528853813, \"count\": 1, \"min\": 0.48153283528853813, \"max\": 0.48153283528853813}}}\u001b[0m\n",
      "\u001b[34m#metrics {\"StartTime\": 1674589620.9133918, \"EndTime\": 1674589620.9134097, \"Dimensions\": {\"Algorithm\": \"Linear Learner\", \"Host\": \"algo-1\", \"Operation\": \"training\", \"epoch\": 4, \"model\": 4}, \"Metrics\": {\"validation_binary_classification_cross_entropy_objective\": {\"sum\": 0.48098147867381286, \"count\": 1, \"min\": 0.48098147867381286, \"max\": 0.48098147867381286}}}\u001b[0m\n",
      "\u001b[34m#metrics {\"StartTime\": 1674589620.9136198, \"EndTime\": 1674589620.9136415, \"Dimensions\": {\"Algorithm\": \"Linear Learner\", \"Host\": \"algo-1\", \"Operation\": \"training\", \"epoch\": 4, \"model\": 5}, \"Metrics\": {\"validation_binary_classification_cross_entropy_objective\": {\"sum\": 0.49526069777366627, \"count\": 1, \"min\": 0.49526069777366627, \"max\": 0.49526069777366627}}}\u001b[0m\n",
      "\u001b[34m#metrics {\"StartTime\": 1674589620.9136946, \"EndTime\": 1674589620.9137127, \"Dimensions\": {\"Algorithm\": \"Linear Learner\", \"Host\": \"algo-1\", \"Operation\": \"training\", \"epoch\": 4, \"model\": 6}, \"Metrics\": {\"validation_binary_classification_cross_entropy_objective\": {\"sum\": 0.48098147848722833, \"count\": 1, \"min\": 0.48098147848722833, \"max\": 0.48098147848722833}}}\u001b[0m\n",
      "\u001b[34m#metrics {\"StartTime\": 1674589620.9137688, \"EndTime\": 1674589620.9137862, \"Dimensions\": {\"Algorithm\": \"Linear Learner\", \"Host\": \"algo-1\", \"Operation\": \"training\", \"epoch\": 4, \"model\": 7}, \"Metrics\": {\"validation_binary_classification_cross_entropy_objective\": {\"sum\": 0.49526069833341985, \"count\": 1, \"min\": 0.49526069833341985, \"max\": 0.49526069833341985}}}\u001b[0m\n",
      "\u001b[34m#metrics {\"StartTime\": 1674589620.9138505, \"EndTime\": 1674589620.9138677, \"Dimensions\": {\"Algorithm\": \"Linear Learner\", \"Host\": \"algo-1\", \"Operation\": \"training\", \"epoch\": 4, \"model\": 8}, \"Metrics\": {\"validation_binary_classification_cross_entropy_objective\": {\"sum\": 0.4812274292619858, \"count\": 1, \"min\": 0.4812274292619858, \"max\": 0.4812274292619858}}}\u001b[0m\n",
      "\u001b[34m#metrics {\"StartTime\": 1674589620.9139314, \"EndTime\": 1674589620.9139493, \"Dimensions\": {\"Algorithm\": \"Linear Learner\", \"Host\": \"algo-1\", \"Operation\": \"training\", \"epoch\": 4, \"model\": 9}, \"Metrics\": {\"validation_binary_classification_cross_entropy_objective\": {\"sum\": 0.4817402504817224, \"count\": 1, \"min\": 0.4817402504817224, \"max\": 0.4817402504817224}}}\u001b[0m\n",
      "\u001b[34m#metrics {\"StartTime\": 1674589620.9139967, \"EndTime\": 1674589620.9140117, \"Dimensions\": {\"Algorithm\": \"Linear Learner\", \"Host\": \"algo-1\", \"Operation\": \"training\", \"epoch\": 4, \"model\": 10}, \"Metrics\": {\"validation_binary_classification_cross_entropy_objective\": {\"sum\": 0.48124694404403573, \"count\": 1, \"min\": 0.48124694404403573, \"max\": 0.48124694404403573}}}\u001b[0m\n",
      "\u001b[34m#metrics {\"StartTime\": 1674589620.9140427, \"EndTime\": 1674589620.9140513, \"Dimensions\": {\"Algorithm\": \"Linear Learner\", \"Host\": \"algo-1\", \"Operation\": \"training\", \"epoch\": 4, \"model\": 11}, \"Metrics\": {\"validation_binary_classification_cross_entropy_objective\": {\"sum\": 0.4817402479628314, \"count\": 1, \"min\": 0.4817402479628314, \"max\": 0.4817402479628314}}}\u001b[0m\n",
      "\u001b[34m#metrics {\"StartTime\": 1674589620.9140975, \"EndTime\": 1674589620.9141133, \"Dimensions\": {\"Algorithm\": \"Linear Learner\", \"Host\": \"algo-1\", \"Operation\": \"training\", \"epoch\": 4, \"model\": 12}, \"Metrics\": {\"validation_binary_classification_cross_entropy_objective\": {\"sum\": 0.4812649189440109, \"count\": 1, \"min\": 0.4812649189440109, \"max\": 0.4812649189440109}}}\u001b[0m\n",
      "\u001b[34m#metrics {\"StartTime\": 1674589620.914169, \"EndTime\": 1674589620.9141843, \"Dimensions\": {\"Algorithm\": \"Linear Learner\", \"Host\": \"algo-1\", \"Operation\": \"training\", \"epoch\": 4, \"model\": 13}, \"Metrics\": {\"validation_binary_classification_cross_entropy_objective\": {\"sum\": 0.4938326476521254, \"count\": 1, \"min\": 0.4938326476521254, \"max\": 0.4938326476521254}}}\u001b[0m\n",
      "\u001b[34m#metrics {\"StartTime\": 1674589620.9142182, \"EndTime\": 1674589620.9142327, \"Dimensions\": {\"Algorithm\": \"Linear Learner\", \"Host\": \"algo-1\", \"Operation\": \"training\", \"epoch\": 4, \"model\": 14}, \"Metrics\": {\"validation_binary_classification_cross_entropy_objective\": {\"sum\": 0.4812649187574264, \"count\": 1, \"min\": 0.4812649187574264, \"max\": 0.4812649187574264}}}\u001b[0m\n",
      "\u001b[34m#metrics {\"StartTime\": 1674589620.9142902, \"EndTime\": 1674589620.9143062, \"Dimensions\": {\"Algorithm\": \"Linear Learner\", \"Host\": \"algo-1\", \"Operation\": \"training\", \"epoch\": 4, \"model\": 15}, \"Metrics\": {\"validation_binary_classification_cross_entropy_objective\": {\"sum\": 0.49383264420031175, \"count\": 1, \"min\": 0.49383264420031175, \"max\": 0.49383264420031175}}}\u001b[0m\n",
      "\u001b[34m#metrics {\"StartTime\": 1674589620.9143605, \"EndTime\": 1674589620.914371, \"Dimensions\": {\"Algorithm\": \"Linear Learner\", \"Host\": \"algo-1\", \"Operation\": \"training\", \"epoch\": 4, \"model\": 16}, \"Metrics\": {\"validation_binary_classification_cross_entropy_objective\": {\"sum\": 0.50445846966144, \"count\": 1, \"min\": 0.50445846966144, \"max\": 0.50445846966144}}}\u001b[0m\n",
      "\u001b[34m#metrics {\"StartTime\": 1674589620.914414, \"EndTime\": 1674589620.914431, \"Dimensions\": {\"Algorithm\": \"Linear Learner\", \"Host\": \"algo-1\", \"Operation\": \"training\", \"epoch\": 4, \"model\": 17}, \"Metrics\": {\"validation_binary_classification_cross_entropy_objective\": {\"sum\": 0.5045686748774884, \"count\": 1, \"min\": 0.5045686748774884, \"max\": 0.5045686748774884}}}\u001b[0m\n",
      "\u001b[34m#metrics {\"StartTime\": 1674589620.9144874, \"EndTime\": 1674589620.9145026, \"Dimensions\": {\"Algorithm\": \"Linear Learner\", \"Host\": \"algo-1\", \"Operation\": \"training\", \"epoch\": 4, \"model\": 18}, \"Metrics\": {\"validation_binary_classification_cross_entropy_objective\": {\"sum\": 0.5045402741007856, \"count\": 1, \"min\": 0.5045402741007856, \"max\": 0.5045402741007856}}}\u001b[0m\n",
      "\u001b[34m#metrics {\"StartTime\": 1674589620.9145553, \"EndTime\": 1674589620.9145696, \"Dimensions\": {\"Algorithm\": \"Linear Learner\", \"Host\": \"algo-1\", \"Operation\": \"training\", \"epoch\": 4, \"model\": 19}, \"Metrics\": {\"validation_binary_classification_cross_entropy_objective\": {\"sum\": 0.5045687058505193, \"count\": 1, \"min\": 0.5045687058505193, \"max\": 0.5045687058505193}}}\u001b[0m\n",
      "\u001b[34m#metrics {\"StartTime\": 1674589620.9146338, \"EndTime\": 1674589620.9146512, \"Dimensions\": {\"Algorithm\": \"Linear Learner\", \"Host\": \"algo-1\", \"Operation\": \"training\", \"epoch\": 4, \"model\": 20}, \"Metrics\": {\"validation_binary_classification_cross_entropy_objective\": {\"sum\": 0.5045459173497073, \"count\": 1, \"min\": 0.5045459173497073, \"max\": 0.5045459173497073}}}\u001b[0m\n",
      "\u001b[34m#metrics {\"StartTime\": 1674589620.9147089, \"EndTime\": 1674589620.9147253, \"Dimensions\": {\"Algorithm\": \"Linear Learner\", \"Host\": \"algo-1\", \"Operation\": \"training\", \"epoch\": 4, \"model\": 21}, \"Metrics\": {\"validation_binary_classification_cross_entropy_objective\": {\"sum\": 0.5063184501744926, \"count\": 1, \"min\": 0.5063184501744926, \"max\": 0.5063184501744926}}}\u001b[0m\n",
      "\u001b[34m#metrics {\"StartTime\": 1674589620.91479, \"EndTime\": 1674589620.9148068, \"Dimensions\": {\"Algorithm\": \"Linear Learner\", \"Host\": \"algo-1\", \"Operation\": \"training\", \"epoch\": 4, \"model\": 22}, \"Metrics\": {\"validation_binary_classification_cross_entropy_objective\": {\"sum\": 0.5045459223874895, \"count\": 1, \"min\": 0.5045459223874895, \"max\": 0.5045459223874895}}}\u001b[0m\n",
      "\u001b[34m#metrics {\"StartTime\": 1674589620.9148633, \"EndTime\": 1674589620.9148808, \"Dimensions\": {\"Algorithm\": \"Linear Learner\", \"Host\": \"algo-1\", \"Operation\": \"training\", \"epoch\": 4, \"model\": 23}, \"Metrics\": {\"validation_binary_classification_cross_entropy_objective\": {\"sum\": 0.5063184505476617, \"count\": 1, \"min\": 0.5063184505476617, \"max\": 0.5063184505476617}}}\u001b[0m\n",
      "\u001b[34m#metrics {\"StartTime\": 1674589620.9149346, \"EndTime\": 1674589620.9149492, \"Dimensions\": {\"Algorithm\": \"Linear Learner\", \"Host\": \"algo-1\", \"Operation\": \"training\", \"epoch\": 4, \"model\": 24}, \"Metrics\": {\"validation_binary_classification_cross_entropy_objective\": {\"sum\": 0.513718410672907, \"count\": 1, \"min\": 0.513718410672907, \"max\": 0.513718410672907}}}\u001b[0m\n",
      "\u001b[34m#metrics {\"StartTime\": 1674589620.9150298, \"EndTime\": 1674589620.9150474, \"Dimensions\": {\"Algorithm\": \"Linear Learner\", \"Host\": \"algo-1\", \"Operation\": \"training\", \"epoch\": 4, \"model\": 25}, \"Metrics\": {\"validation_binary_classification_cross_entropy_objective\": {\"sum\": 0.5138381639787907, \"count\": 1, \"min\": 0.5138381639787907, \"max\": 0.5138381639787907}}}\u001b[0m\n",
      "\u001b[34m#metrics {\"StartTime\": 1674589620.915111, \"EndTime\": 1674589620.91513, \"Dimensions\": {\"Algorithm\": \"Linear Learner\", \"Host\": \"algo-1\", \"Operation\": \"training\", \"epoch\": 4, \"model\": 26}, \"Metrics\": {\"validation_binary_classification_cross_entropy_objective\": {\"sum\": 0.5137156848595991, \"count\": 1, \"min\": 0.5137156848595991, \"max\": 0.5137156848595991}}}\u001b[0m\n",
      "\u001b[34m#metrics {\"StartTime\": 1674589620.915193, \"EndTime\": 1674589620.9152114, \"Dimensions\": {\"Algorithm\": \"Linear Learner\", \"Host\": \"algo-1\", \"Operation\": \"training\", \"epoch\": 4, \"model\": 27}, \"Metrics\": {\"validation_binary_classification_cross_entropy_objective\": {\"sum\": 0.5138356068378923, \"count\": 1, \"min\": 0.5138356068378923, \"max\": 0.5138356068378923}}}\u001b[0m\n",
      "\u001b[34m#metrics {\"StartTime\": 1674589620.9152765, \"EndTime\": 1674589620.915295, \"Dimensions\": {\"Algorithm\": \"Linear Learner\", \"Host\": \"algo-1\", \"Operation\": \"training\", \"epoch\": 4, \"model\": 28}, \"Metrics\": {\"validation_binary_classification_cross_entropy_objective\": {\"sum\": 0.5137166528601085, \"count\": 1, \"min\": 0.5137166528601085, \"max\": 0.5137166528601085}}}\u001b[0m\n",
      "\u001b[34m#metrics {\"StartTime\": 1674589620.915356, \"EndTime\": 1674589620.915374, \"Dimensions\": {\"Algorithm\": \"Linear Learner\", \"Host\": \"algo-1\", \"Operation\": \"training\", \"epoch\": 4, \"model\": 29}, \"Metrics\": {\"validation_binary_classification_cross_entropy_objective\": {\"sum\": 0.5141718780495375, \"count\": 1, \"min\": 0.5141718780495375, \"max\": 0.5141718780495375}}}\u001b[0m\n",
      "\u001b[34m#metrics {\"StartTime\": 1674589620.915434, \"EndTime\": 1674589620.9154527, \"Dimensions\": {\"Algorithm\": \"Linear Learner\", \"Host\": \"algo-1\", \"Operation\": \"training\", \"epoch\": 4, \"model\": 30}, \"Metrics\": {\"validation_binary_classification_cross_entropy_objective\": {\"sum\": 0.513715240601848, \"count\": 1, \"min\": 0.513715240601848, \"max\": 0.513715240601848}}}\u001b[0m\n",
      "\u001b[34m#metrics {\"StartTime\": 1674589620.9155142, \"EndTime\": 1674589620.9155326, \"Dimensions\": {\"Algorithm\": \"Linear Learner\", \"Host\": \"algo-1\", \"Operation\": \"training\", \"epoch\": 4, \"model\": 31}, \"Metrics\": {\"validation_binary_classification_cross_entropy_objective\": {\"sum\": 0.514171882154397, \"count\": 1, \"min\": 0.514171882154397, \"max\": 0.514171882154397}}}\u001b[0m\n",
      "\u001b[34m[01/24/2023 19:47:00 INFO 140592160999232] #quality_metric: host=algo-1, epoch=4, validation binary_classification_cross_entropy_objective <loss>=0.48095009991481835\u001b[0m\n",
      "\u001b[34m[01/24/2023 19:47:00 INFO 140592160999232] #early_stopping_criteria_metric: host=algo-1, epoch=4, criteria=binary_classification_cross_entropy_objective, value=0.48095009991481835\u001b[0m\n",
      "\u001b[34m[01/24/2023 19:47:00 INFO 140592160999232] Saving model for epoch: 4\u001b[0m\n",
      "\u001b[34m[01/24/2023 19:47:00 INFO 140592160999232] Saved checkpoint to \"/tmp/tmphqrrfcay/mx-mod-0000.params\"\u001b[0m\n",
      "\u001b[34m[01/24/2023 19:47:00 INFO 140592160999232] Early stop condition met. Stopping training.\u001b[0m\n",
      "\u001b[34m[01/24/2023 19:47:00 INFO 140592160999232] #progress_metric: host=algo-1, completed 100 % epochs\u001b[0m\n",
      "\u001b[34m#metrics {\"StartTime\": 1674589570.2403412, \"EndTime\": 1674589620.9220245, \"Dimensions\": {\"Algorithm\": \"Linear Learner\", \"Host\": \"algo-1\", \"Operation\": \"training\", \"epoch\": 4, \"Meta\": \"training_data_iter\"}, \"Metrics\": {\"Total Records Seen\": {\"sum\": 6554360.0, \"count\": 1, \"min\": 6554360, \"max\": 6554360}, \"Total Batches Seen\": {\"sum\": 6557.0, \"count\": 1, \"min\": 6557, \"max\": 6557}, \"Max Records Seen Between Resets\": {\"sum\": 1308472.0, \"count\": 1, \"min\": 1308472, \"max\": 1308472}, \"Max Batches Seen Between Resets\": {\"sum\": 1309.0, \"count\": 1, \"min\": 1309, \"max\": 1309}, \"Reset Count\": {\"sum\": 7.0, \"count\": 1, \"min\": 7, \"max\": 7}, \"Number of Records Since Last Reset\": {\"sum\": 1308472.0, \"count\": 1, \"min\": 1308472, \"max\": 1308472}, \"Number of Batches Since Last Reset\": {\"sum\": 1309.0, \"count\": 1, \"min\": 1309, \"max\": 1309}}}\u001b[0m\n",
      "\u001b[34m[01/24/2023 19:47:00 INFO 140592160999232] #throughput_metric: host=algo-1, train throughput=25817.376583043482 records/second\u001b[0m\n",
      "\u001b[34m[01/24/2023 19:47:00 WARNING 140592160999232] wait_for_all_workers will not sync workers since the kv store is not running distributed\u001b[0m\n",
      "\u001b[34m[01/24/2023 19:47:00 WARNING 140592160999232] wait_for_all_workers will not sync workers since the kv store is not running distributed\u001b[0m\n",
      "\n",
      "2023-01-24 19:47:09 Uploading - Uploading generated training model\u001b[34m[2023-01-24 19:47:05.504] [tensorio] [info] epoch_stats={\"data_pipeline\": \"/opt/ml/input/data/validation\", \"epoch\": 17, \"duration\": 4561, \"num_examples\": 164, \"num_bytes\": 63460892}\u001b[0m\n",
      "\u001b[34m[01/24/2023 19:47:05 INFO 140592160999232] #early_stopping_criteria_metric: host=algo-1, epoch=4, criteria=binary_classification_cross_entropy_objective, value=0.48095009991481835\u001b[0m\n",
      "\u001b[34m[2023-01-24 19:47:06.189] [tensorio] [info] epoch_stats={\"data_pipeline\": \"/opt/ml/input/data/validation\", \"epoch\": 19, \"duration\": 674, \"num_examples\": 164, \"num_bytes\": 63460892}\u001b[0m\n",
      "\u001b[34m[01/24/2023 19:47:06 INFO 140592160999232] #validation_score (algo-1) : ('binary_classification_cross_entropy_objective', 0.48135194084639493)\u001b[0m\n",
      "\u001b[34m[01/24/2023 19:47:06 INFO 140592160999232] #validation_score (algo-1) : ('binary_classification_accuracy', 0.7924724411374489)\u001b[0m\n",
      "\u001b[34m[01/24/2023 19:47:06 INFO 140592160999232] #validation_score (algo-1) : ('binary_f_1.000', 0.09274850987624622)\u001b[0m\n",
      "\u001b[34m[01/24/2023 19:47:06 INFO 140592160999232] #validation_score (algo-1) : ('precision', 0.5633116883116883)\u001b[0m\n",
      "\u001b[34m[01/24/2023 19:47:06 INFO 140592160999232] #validation_score (algo-1) : ('recall', 0.05053447120845833)\u001b[0m\n",
      "\u001b[34m[01/24/2023 19:47:06 INFO 140592160999232] #validation_score (algo-1) : ('roc_auc_score', 0.6764781829552824)\u001b[0m\n",
      "\u001b[34m[01/24/2023 19:47:06 INFO 140592160999232] #validation_score (algo-1) : ('binary_balanced_accuracy', 0.5)\u001b[0m\n",
      "\u001b[34m[01/24/2023 19:47:06 INFO 140592160999232] #validation_score (algo-1) : ('binary_log_loss', 0.7475170639651986)\u001b[0m\n",
      "\u001b[34m[01/24/2023 19:47:06 INFO 140592160999232] #quality_metric: host=algo-1, validation binary_classification_cross_entropy_objective <loss>=0.48135194084639493\u001b[0m\n",
      "\u001b[34m[01/24/2023 19:47:06 INFO 140592160999232] #quality_metric: host=algo-1, validation binary_classification_accuracy <score>=0.7924724411374489\u001b[0m\n",
      "\u001b[34m[01/24/2023 19:47:06 INFO 140592160999232] #quality_metric: host=algo-1, validation binary_f_1.000 <score>=0.09274850987624622\u001b[0m\n",
      "\u001b[34m[01/24/2023 19:47:06 INFO 140592160999232] #quality_metric: host=algo-1, validation precision <score>=0.5633116883116883\u001b[0m\n",
      "\u001b[34m[01/24/2023 19:47:06 INFO 140592160999232] #quality_metric: host=algo-1, validation recall <score>=0.05053447120845833\u001b[0m\n",
      "\u001b[34m[01/24/2023 19:47:06 INFO 140592160999232] #quality_metric: host=algo-1, validation roc_auc_score <score>=0.6764781829552824\u001b[0m\n",
      "\u001b[34m[01/24/2023 19:47:06 INFO 140592160999232] #quality_metric: host=algo-1, validation binary_balanced_accuracy <score>=0.5\u001b[0m\n",
      "\u001b[34m[01/24/2023 19:47:06 INFO 140592160999232] #quality_metric: host=algo-1, validation binary_log_loss <score>=0.7475170639651986\u001b[0m\n",
      "\u001b[34m[01/24/2023 19:47:06 INFO 140592160999232] Best model found for hyperparameters: {\"optimizer\": \"adam\", \"learning_rate\": 0.005, \"l1\": 0.0, \"wd\": 0.0001, \"lr_scheduler_step\": 10, \"lr_scheduler_factor\": 0.99, \"lr_scheduler_minimum_lr\": 1e-05}\u001b[0m\n",
      "\u001b[34m[01/24/2023 19:47:06 INFO 140592160999232] Saved checkpoint to \"/tmp/tmp8e7xsr0k/mx-mod-0000.params\"\u001b[0m\n",
      "\u001b[34m[01/24/2023 19:47:06 INFO 140592160999232] Test data is not provided.\u001b[0m\n",
      "\u001b[34m#metrics {\"StartTime\": 1674589365.934368, \"EndTime\": 1674589626.4486141, \"Dimensions\": {\"Algorithm\": \"Linear Learner\", \"Host\": \"algo-1\", \"Operation\": \"training\"}, \"Metrics\": {\"initialize.time\": {\"sum\": 304.7976493835449, \"count\": 1, \"min\": 304.7976493835449, \"max\": 304.7976493835449}, \"epochs\": {\"sum\": 15.0, \"count\": 1, \"min\": 15, \"max\": 15}, \"check_early_stopping.time\": {\"sum\": 2.2704601287841797, \"count\": 6, \"min\": 0.24771690368652344, \"max\": 0.8420944213867188}, \"update.time\": {\"sum\": 254638.47136497498, \"count\": 5, \"min\": 49066.903591156006, \"max\": 53502.69150733948}, \"finalize.time\": {\"sum\": 5519.899129867554, \"count\": 1, \"min\": 5519.899129867554, \"max\": 5519.899129867554}, \"setuptime\": {\"sum\": 2.7866363525390625, \"count\": 1, \"min\": 2.7866363525390625, \"max\": 2.7866363525390625}, \"totaltime\": {\"sum\": 260642.6718235016, \"count\": 1, \"min\": 260642.6718235016, \"max\": 260642.6718235016}}}\u001b[0m\n",
      "\n",
      "2023-01-24 19:47:20 Completed - Training job completed\n",
      "Training seconds: 398\n",
      "Billable seconds: 398\n"
     ]
    }
   ],
   "source": [
    "train_records = classifier_estimator.record_set(train_features, train_labels, channel='train')\n",
    "val_records = classifier_estimator.record_set(val_features, val_labels, channel='validation')\n",
    "test_records = classifier_estimator.record_set(test_features, test_labels, channel='test')\n",
    "\n",
    "classifier_estimator.fit([train_records, val_records])"
   ]
  },
  {
   "cell_type": "code",
   "execution_count": 66,
   "metadata": {},
   "outputs": [
    {
     "name": "stderr",
     "output_type": "stream",
     "text": [
      "INFO:sagemaker.image_uris:Same images used for training and inference. Defaulting to image scope: inference.\n",
      "INFO:sagemaker.image_uris:Ignoring unnecessary instance type: None.\n",
      "INFO:sagemaker:Creating model with name: linear-learner-2023-01-24-19-47-56-631\n",
      "INFO:sagemaker:Creating endpoint-config with name linear-learner-2023-01-24-19-47-56-631\n",
      "INFO:sagemaker:Creating endpoint with name linear-learner-2023-01-24-19-47-56-631\n"
     ]
    },
    {
     "name": "stdout",
     "output_type": "stream",
     "text": [
      "---------!"
     ]
    }
   ],
   "source": [
    "classifier_predictor = classifier_estimator.deploy(initial_instance_count=1, instance_type='ml.m4.xlarge')"
   ]
  },
  {
   "cell_type": "code",
   "execution_count": 67,
   "metadata": {},
   "outputs": [
    {
     "name": "stdout",
     "output_type": "stream",
     "text": [
      "Accuracy: 0.7930410432932459\n",
      "AUC     : 0.6763112837314106\n",
      "Precision: 0.5782820097244733\n",
      "Recall: 0.051961669530772144\n",
      "F1_score: 0.09535517665294778\n"
     ]
    },
    {
     "data": {
      "image/png": "[encoded data removed]",
      "text/plain": [
       "<Figure size 500x500 with 2 Axes>"
      ]
     },
     "metadata": {},
     "output_type": "display_data"
    }
   ],
   "source": [
    "predict_batches(classifier_predictor, test_features, test_labels)"
   ]
  },
  {
   "cell_type": "markdown",
   "metadata": {},
   "source": [
    "The linear model shows only a little improvement in performance. Try a tree-based ensemble model called XGBoost with Amazon SageMaker."
   ]
  },
  {
   "cell_type": "markdown",
   "metadata": {},
   "source": [
    "### Try the XGBoost model"
   ]
  },
  {
   "cell_type": "markdown",
   "metadata": {},
   "source": [
    "Here are the steps you need to take:  \n",
    "\n",
    "1. Use the training set variables and save them as CSV files: train.csv, validation.csv and test.csv  \n",
    "2. Use Boto3 to upload the model to the bucket.    "
   ]
  },
  {
   "cell_type": "code",
   "execution_count": 68,
   "metadata": {},
   "outputs": [],
   "source": [
    "train_data, validation_data, test_data = np.split(data.sample(frac=1, random_state=1729), [int(0.7 * len(data)), int(0.9*len(data))])  \n",
    "\n",
    "pd.concat([train_data['target'], train_data.drop(['target'], axis=1)], axis=1).to_csv('train.csv', index=False, header=False)\n",
    "pd.concat([validation_data['target'], validation_data.drop(['target'], axis=1)], axis=1).to_csv('validation.csv', index=False, header=False)\n",
    "pd.concat([test_data['target'], test_data.drop(['target'], axis=1)], axis=1).to_csv('test.csv', index=False, header=False)"
   ]
  },
  {
   "cell_type": "code",
   "execution_count": 69,
   "metadata": {},
   "outputs": [
    {
     "name": "stderr",
     "output_type": "stream",
     "text": [
      "INFO:botocore.credentials:Found credentials from IAM Role: BaseNotebookInstanceEc2InstanceRole\n",
      "INFO:botocore.credentials:Found credentials from IAM Role: BaseNotebookInstanceEc2InstanceRole\n"
     ]
    }
   ],
   "source": [
    "### Upload data to S3\n",
    "prefix = 'sagemaker/xgboost'\n",
    "boto3.Session().resource('s3').Bucket(bucket).Object(os.path.join(prefix, 'train/train.csv')).upload_file('train.csv')\n",
    "boto3.Session().resource('s3').Bucket(bucket).Object(os.path.join(prefix, 'validation/validation.csv')).upload_file('validation.csv')"
   ]
  },
  {
   "cell_type": "code",
   "execution_count": 70,
   "metadata": {},
   "outputs": [
    {
     "name": "stderr",
     "output_type": "stream",
     "text": [
      "INFO:sagemaker.image_uris:Defaulting to only available Python version: py3\n",
      "INFO:sagemaker.image_uris:Defaulting to only supported image scope: cpu.\n"
     ]
    }
   ],
   "source": [
    "from sagemaker.amazon.amazon_estimator import image_uris\n",
    "container = image_uris.retrieve('xgboost',boto3.Session().region_name, '0.90-1')"
   ]
  },
  {
   "cell_type": "markdown",
   "metadata": {},
   "source": [
    "Use the `sagemaker.inputs.TrainingInput` function to create a record_set for the training and validation datasets."
   ]
  },
  {
   "cell_type": "code",
   "execution_count": 71,
   "metadata": {},
   "outputs": [],
   "source": [
    "s3_input_train = sagemaker.inputs.TrainingInput(s3_data='s3://{}/{}/train'.format(bucket, prefix), content_type='csv')\n",
    "s3_input_validation = sagemaker.inputs.TrainingInput(s3_data='s3://{}/{}/validation/'.format(bucket, prefix), content_type='csv')"
   ]
  },
  {
   "cell_type": "code",
   "execution_count": 72,
   "metadata": {
    "scrolled": true
   },
   "outputs": [
    {
     "name": "stderr",
     "output_type": "stream",
     "text": [
      "INFO:botocore.credentials:Found credentials from IAM Role: BaseNotebookInstanceEc2InstanceRole\n",
      "INFO:botocore.credentials:Found credentials from IAM Role: BaseNotebookInstanceEc2InstanceRole\n",
      "INFO:sagemaker:Creating training-job with name: sagemaker-xgboost-2023-01-24-19-53-15-674\n"
     ]
    },
    {
     "name": "stdout",
     "output_type": "stream",
     "text": [
      "2023-01-24 19:53:15 Starting - Starting the training job...\n",
      "2023-01-24 19:53:40 Starting - Preparing the instances for training.........\n",
      "2023-01-24 19:55:14 Downloading - Downloading input data......\n",
      "2023-01-24 19:56:15 Training - Training image download completed. Training in progress....\u001b[34mINFO:sagemaker-containers:Imported framework sagemaker_xgboost_container.training\u001b[0m\n",
      "\u001b[34mINFO:sagemaker-containers:Failed to parse hyperparameter eval_metric value auc to Json.\u001b[0m\n",
      "\u001b[34mReturning the value itself\u001b[0m\n",
      "\u001b[34mINFO:sagemaker-containers:Failed to parse hyperparameter objective value binary:logistic to Json.\u001b[0m\n",
      "\u001b[34mReturning the value itself\u001b[0m\n",
      "\u001b[34mINFO:sagemaker-containers:No GPUs detected (normal if no gpus installed)\u001b[0m\n",
      "\u001b[34mINFO:sagemaker_xgboost_container.training:Running XGBoost Sagemaker in algorithm mode\u001b[0m\n",
      "\u001b[34mINFO:root:Determined delimiter of CSV input is ','\u001b[0m\n",
      "\u001b[34mINFO:root:Determined delimiter of CSV input is ','\u001b[0m\n",
      "\u001b[34mINFO:root:Determined delimiter of CSV input is ','\u001b[0m\n",
      "\u001b[34m[19:56:35] 1144913x85 matrix with 97317605 entries loaded from /opt/ml/input/data/train?format=csv&label_column=0&delimiter=,\u001b[0m\n",
      "\u001b[34mINFO:root:Determined delimiter of CSV input is ','\u001b[0m\n",
      "\u001b[34m[19:56:35] 327118x85 matrix with 27805030 entries loaded from /opt/ml/input/data/validation?format=csv&label_column=0&delimiter=,\u001b[0m\n",
      "\u001b[34mINFO:root:Single node training.\u001b[0m\n",
      "\u001b[34mINFO:root:Train matrix has 1144913 rows\u001b[0m\n",
      "\u001b[34mINFO:root:Validation matrix has 327118 rows\u001b[0m\n",
      "\u001b[34m[0]#011train-auc:0.655422#011validation-auc:0.654769\u001b[0m\n",
      "\u001b[34m[1]#011train-auc:0.664619#011validation-auc:0.664397\u001b[0m\n",
      "\u001b[34m[2]#011train-auc:0.670905#011validation-auc:0.670658\u001b[0m\n",
      "\u001b[34m[3]#011train-auc:0.672583#011validation-auc:0.672441\u001b[0m\n",
      "\u001b[34m[4]#011train-auc:0.67672#011validation-auc:0.676544\u001b[0m\n",
      "\u001b[34m[5]#011train-auc:0.678827#011validation-auc:0.678651\u001b[0m\n",
      "\u001b[34m[6]#011train-auc:0.680153#011validation-auc:0.679958\u001b[0m\n",
      "\u001b[34m[7]#011train-auc:0.684017#011validation-auc:0.68393\u001b[0m\n",
      "\u001b[34m[8]#011train-auc:0.685723#011validation-auc:0.68531\u001b[0m\n",
      "\u001b[34m[9]#011train-auc:0.686468#011validation-auc:0.68597\u001b[0m\n",
      "\u001b[34m[10]#011train-auc:0.689123#011validation-auc:0.688448\u001b[0m\n",
      "\u001b[34m[11]#011train-auc:0.691087#011validation-auc:0.690291\u001b[0m\n",
      "\u001b[34m[12]#011train-auc:0.693109#011validation-auc:0.692126\u001b[0m\n",
      "\u001b[34m[13]#011train-auc:0.694884#011validation-auc:0.693853\u001b[0m\n",
      "\u001b[34m[14]#011train-auc:0.696808#011validation-auc:0.695746\u001b[0m\n",
      "\u001b[34m[15]#011train-auc:0.698634#011validation-auc:0.697332\u001b[0m\n",
      "\u001b[34m[16]#011train-auc:0.700253#011validation-auc:0.698734\u001b[0m\n",
      "\u001b[34m[17]#011train-auc:0.701521#011validation-auc:0.699898\u001b[0m\n",
      "\u001b[34m[18]#011train-auc:0.702705#011validation-auc:0.70104\u001b[0m\n",
      "\u001b[34m[19]#011train-auc:0.703741#011validation-auc:0.701931\u001b[0m\n",
      "\u001b[34m[20]#011train-auc:0.705193#011validation-auc:0.703321\u001b[0m\n",
      "\u001b[34m[21]#011train-auc:0.705965#011validation-auc:0.703951\u001b[0m\n",
      "\u001b[34m[22]#011train-auc:0.707124#011validation-auc:0.705041\u001b[0m\n",
      "\u001b[34m[23]#011train-auc:0.707858#011validation-auc:0.705807\u001b[0m\n",
      "\u001b[34m[24]#011train-auc:0.708611#011validation-auc:0.706625\u001b[0m\n",
      "\u001b[34m[25]#011train-auc:0.709333#011validation-auc:0.707289\u001b[0m\n",
      "\u001b[34m[26]#011train-auc:0.710546#011validation-auc:0.708382\u001b[0m\n",
      "\u001b[34m[27]#011train-auc:0.711019#011validation-auc:0.708812\u001b[0m\n",
      "\u001b[34m[28]#011train-auc:0.711667#011validation-auc:0.709412\u001b[0m\n",
      "\u001b[34m[29]#011train-auc:0.712159#011validation-auc:0.709787\u001b[0m\n",
      "\u001b[34m[30]#011train-auc:0.712719#011validation-auc:0.710337\u001b[0m\n",
      "\u001b[34m[31]#011train-auc:0.713075#011validation-auc:0.710593\u001b[0m\n",
      "\u001b[34m[32]#011train-auc:0.714083#011validation-auc:0.711583\u001b[0m\n",
      "\u001b[34m[33]#011train-auc:0.714836#011validation-auc:0.71234\u001b[0m\n",
      "\u001b[34m[34]#011train-auc:0.715437#011validation-auc:0.712877\u001b[0m\n",
      "\u001b[34m[35]#011train-auc:0.716377#011validation-auc:0.713717\u001b[0m\n",
      "\u001b[34m[36]#011train-auc:0.717138#011validation-auc:0.714423\u001b[0m\n",
      "\u001b[34m[37]#011train-auc:0.717583#011validation-auc:0.714868\u001b[0m\n",
      "\u001b[34m[38]#011train-auc:0.718031#011validation-auc:0.715307\u001b[0m\n",
      "\u001b[34m[39]#011train-auc:0.718851#011validation-auc:0.716163\u001b[0m\n",
      "\u001b[34m[40]#011train-auc:0.719151#011validation-auc:0.716417\u001b[0m\n",
      "\u001b[34m[41]#011train-auc:0.719398#011validation-auc:0.716656\u001b[0m\n",
      "\u001b[34m[42]#011train-auc:0.719834#011validation-auc:0.716989\u001b[0m\n",
      "\u001b[34m[43]#011train-auc:0.720143#011validation-auc:0.717333\u001b[0m\n",
      "\u001b[34m[44]#011train-auc:0.720756#011validation-auc:0.717799\u001b[0m\n",
      "\u001b[34m[45]#011train-auc:0.721004#011validation-auc:0.717968\u001b[0m\n",
      "\u001b[34m[46]#011train-auc:0.721299#011validation-auc:0.71824\u001b[0m\n",
      "\u001b[34m[47]#011train-auc:0.722245#011validation-auc:0.719158\u001b[0m\n",
      "\u001b[34m[48]#011train-auc:0.722531#011validation-auc:0.719375\u001b[0m\n",
      "\u001b[34m[49]#011train-auc:0.722778#011validation-auc:0.719596\u001b[0m\n",
      "\u001b[34m[50]#011train-auc:0.723355#011validation-auc:0.720182\u001b[0m\n",
      "\u001b[34m[51]#011train-auc:0.723576#011validation-auc:0.720355\u001b[0m\n",
      "\u001b[34m[52]#011train-auc:0.72384#011validation-auc:0.72058\u001b[0m\n",
      "\u001b[34m[53]#011train-auc:0.724059#011validation-auc:0.720755\u001b[0m\n",
      "\u001b[34m[54]#011train-auc:0.724406#011validation-auc:0.721003\u001b[0m\n",
      "\u001b[34m[55]#011train-auc:0.724714#011validation-auc:0.721269\u001b[0m\n",
      "\u001b[34m[56]#011train-auc:0.725062#011validation-auc:0.721565\u001b[0m\n",
      "\u001b[34m[57]#011train-auc:0.7256#011validation-auc:0.722081\u001b[0m\n",
      "\u001b[34m[58]#011train-auc:0.726016#011validation-auc:0.72246\u001b[0m\n",
      "\u001b[34m[59]#011train-auc:0.726673#011validation-auc:0.723148\u001b[0m\n",
      "\u001b[34m[60]#011train-auc:0.72722#011validation-auc:0.723696\u001b[0m\n",
      "\u001b[34m[61]#011train-auc:0.727378#011validation-auc:0.723843\u001b[0m\n",
      "\u001b[34m[62]#011train-auc:0.727599#011validation-auc:0.724026\u001b[0m\n",
      "\u001b[34m[63]#011train-auc:0.727694#011validation-auc:0.72411\u001b[0m\n",
      "\u001b[34m[64]#011train-auc:0.727914#011validation-auc:0.72432\u001b[0m\n",
      "\u001b[34m[65]#011train-auc:0.72819#011validation-auc:0.724643\u001b[0m\n",
      "\u001b[34m[66]#011train-auc:0.728437#011validation-auc:0.724867\u001b[0m\n",
      "\u001b[34m[67]#011train-auc:0.728577#011validation-auc:0.724963\u001b[0m\n",
      "\u001b[34m[68]#011train-auc:0.728782#011validation-auc:0.725114\u001b[0m\n",
      "\u001b[34m[69]#011train-auc:0.728922#011validation-auc:0.725195\u001b[0m\n",
      "\u001b[34m[70]#011train-auc:0.729229#011validation-auc:0.725415\u001b[0m\n",
      "\u001b[34m[71]#011train-auc:0.729424#011validation-auc:0.725605\u001b[0m\n",
      "\u001b[34m[72]#011train-auc:0.729817#011validation-auc:0.72595\u001b[0m\n",
      "\u001b[34m[73]#011train-auc:0.730182#011validation-auc:0.726312\u001b[0m\n",
      "\u001b[34m[74]#011train-auc:0.730541#011validation-auc:0.726673\u001b[0m\n",
      "\u001b[34m[75]#011train-auc:0.730662#011validation-auc:0.72676\u001b[0m\n",
      "\u001b[34m[76]#011train-auc:0.730855#011validation-auc:0.726939\u001b[0m\n",
      "\u001b[34m[77]#011train-auc:0.731305#011validation-auc:0.727362\u001b[0m\n",
      "\u001b[34m[78]#011train-auc:0.731504#011validation-auc:0.727529\u001b[0m\n",
      "\u001b[34m[79]#011train-auc:0.731755#011validation-auc:0.727744\u001b[0m\n",
      "\u001b[34m[80]#011train-auc:0.731916#011validation-auc:0.72785\u001b[0m\n",
      "\u001b[34m[81]#011train-auc:0.732123#011validation-auc:0.728086\u001b[0m\n",
      "\u001b[34m[82]#011train-auc:0.732269#011validation-auc:0.728232\u001b[0m\n",
      "\u001b[34m[83]#011train-auc:0.732452#011validation-auc:0.728394\u001b[0m\n",
      "\u001b[34m[84]#011train-auc:0.732702#011validation-auc:0.728594\u001b[0m\n",
      "\u001b[34m[85]#011train-auc:0.732898#011validation-auc:0.728807\u001b[0m\n",
      "\u001b[34m[86]#011train-auc:0.733114#011validation-auc:0.728976\u001b[0m\n",
      "\u001b[34m[87]#011train-auc:0.733206#011validation-auc:0.729052\u001b[0m\n",
      "\u001b[34m[88]#011train-auc:0.733285#011validation-auc:0.729117\u001b[0m\n",
      "\u001b[34m[89]#011train-auc:0.733405#011validation-auc:0.729234\u001b[0m\n",
      "\u001b[34m[90]#011train-auc:0.733429#011validation-auc:0.729256\u001b[0m\n",
      "\u001b[34m[91]#011train-auc:0.733713#011validation-auc:0.729568\u001b[0m\n",
      "\u001b[34m[92]#011train-auc:0.733872#011validation-auc:0.729675\u001b[0m\n",
      "\u001b[34m[93]#011train-auc:0.734075#011validation-auc:0.729832\u001b[0m\n",
      "\u001b[34m[94]#011train-auc:0.734254#011validation-auc:0.730005\u001b[0m\n",
      "\u001b[34m[95]#011train-auc:0.734346#011validation-auc:0.730079\u001b[0m\n",
      "\u001b[34m[96]#011train-auc:0.73444#011validation-auc:0.730185\u001b[0m\n",
      "\u001b[34m[97]#011train-auc:0.73462#011validation-auc:0.730374\u001b[0m\n",
      "\u001b[34m[98]#011train-auc:0.734851#011validation-auc:0.730569\u001b[0m\n",
      "\u001b[34m[99]#011train-auc:0.734987#011validation-auc:0.730604\u001b[0m\n",
      "\n",
      "2023-01-24 20:00:28 Uploading - Uploading generated training model\n",
      "2023-01-24 20:00:28 Completed - Training job completed\n",
      "Training seconds: 313\n",
      "Billable seconds: 313\n"
     ]
    }
   ],
   "source": [
    "sess = sagemaker.Session()\n",
    "\n",
    "xgb = sagemaker.estimator.Estimator(container,\n",
    "                                    role = sagemaker.get_execution_role(), \n",
    "                                    instance_count=1, \n",
    "                                    instance_type='ml.m4.xlarge',\n",
    "                                    output_path='s3://{}/{}/output'.format(bucket, prefix),\n",
    "                                    sagemaker_session=sess)\n",
    "xgb.set_hyperparameters(max_depth=5,\n",
    "                        eta=0.2,\n",
    "                        gamma=4,\n",
    "                        min_child_weight=6,\n",
    "                        subsample=0.8,\n",
    "                        silent=0,\n",
    "                        objective='binary:logistic',\n",
    "                        eval_metric = \"auc\", \n",
    "                        num_round=100)\n",
    "\n",
    "xgb.fit({'train': s3_input_train, 'validation': s3_input_validation})"
   ]
  },
  {
   "cell_type": "markdown",
   "metadata": {},
   "source": [
    "Deploy the predictor for your new model and evaluate the model on the test dataset."
   ]
  },
  {
   "cell_type": "code",
   "execution_count": 73,
   "metadata": {},
   "outputs": [
    {
     "name": "stderr",
     "output_type": "stream",
     "text": [
      "INFO:sagemaker:Creating model with name: sagemaker-xgboost-2023-01-24-20-00-46-902\n",
      "INFO:sagemaker:Creating endpoint-config with name sagemaker-xgboost-2023-01-24-20-00-46-902\n",
      "INFO:sagemaker:Creating endpoint with name sagemaker-xgboost-2023-01-24-20-00-46-902\n"
     ]
    },
    {
     "name": "stdout",
     "output_type": "stream",
     "text": [
      "------!"
     ]
    }
   ],
   "source": [
    "from sagemaker.serializers import CSVSerializer\n",
    "\n",
    "xgb_predictor = xgb.deploy(initial_instance_count = 1,\n",
    "                           instance_type = 'ml.m4.xlarge', \n",
    "                           serializer=CSVSerializer())"
   ]
  },
  {
   "cell_type": "code",
   "execution_count": 74,
   "metadata": {},
   "outputs": [],
   "source": [
    "test_data = pd.concat([test_data['target'], test_data.drop(['target'], axis=1)], axis=1)"
   ]
  },
  {
   "cell_type": "code",
   "execution_count": 75,
   "metadata": {},
   "outputs": [],
   "source": [
    "def predict(predictor , features, labels , prob_threshold = 0.5, rows=500):\n",
    "    \"\"\"\n",
    "    Return evaluation results\n",
    "    predictor : Predictor object of model\n",
    "    features: Input features to model\n",
    "    label: Ground truth target values\n",
    "    prob_threshold : Probability cut off to separate positive and negative class\n",
    "    \"\"\"\n",
    "    split_array = np.array_split(features, int(features.shape[0] / float(rows) + 1))\n",
    "    predictions = ''\n",
    "    for array in split_array:\n",
    "        predictions = ','.join([predictions, predictor.predict(array).decode('utf-8')])\n",
    "\n",
    "    preds = np.fromstring(predictions[1:], sep=',')\n",
    "    preds = preds.reshape((-1,))\n",
    "    predictions = np.where(preds > prob_threshold , 1, 0)\n",
    "    labels = labels.reshape((-1,))\n",
    "    \n",
    "    # Calculate accuracy\n",
    "    accuracy = (predictions == labels).sum() / labels.shape[0]\n",
    "    print(f'Accuracy: {accuracy}')\n",
    "    \n",
    "    auc = roc_auc_score(labels, preds)\n",
    "    print(f'AUC     : {auc}')\n",
    "    \n",
    "    precision, recall, f1_score, _ = precision_recall_fscore_support(labels, predictions, average = 'binary')\n",
    "    print(f'Precision: {precision}')\n",
    "    print(f'Recall: {recall}')\n",
    "    print(f'F1_score: {f1_score}')\n",
    "    \n",
    "    confusion_matrix = pd.crosstab(index=labels, columns=(preds > prob_threshold), rownames=['True'], colnames=['predictions']).astype(int)\n",
    "    plt.figure(figsize = (5,5))\n",
    "    sns.heatmap(confusion_matrix, annot=True, fmt='.2f', cmap=\"YlGnBu\").set_title('Confusion Matrix') \n",
    "    return list(preds)"
   ]
  },
  {
   "cell_type": "code",
   "execution_count": 76,
   "metadata": {},
   "outputs": [
    {
     "name": "stdout",
     "output_type": "stream",
     "text": [
      "Accuracy: 0.8032514260908907\n",
      "AUC     : 0.7291064318676646\n",
      "Precision: 0.6557194544948511\n",
      "Recall: 0.1369051077924342\n",
      "F1_score: 0.2265166810883569\n"
     ]
    },
    {
     "data": {
      "image/png": "[encoded data removed]",
      "text/plain": [
       "<Figure size 500x500 with 2 Axes>"
      ]
     },
     "metadata": {},
     "output_type": "display_data"
    }
   ],
   "source": [
    "predictions = predict(xgb_predictor, test_data.values[:, 1:] ,  test_data.iloc[:, 0:1].values, prob_threshold = 0.5)"
   ]
  },
  {
   "cell_type": "markdown",
   "metadata": {},
   "source": [
    "### Try different thresholds"
   ]
  },
  {
   "cell_type": "code",
   "execution_count": 77,
   "metadata": {},
   "outputs": [
    {
     "name": "stdout",
     "output_type": "stream",
     "text": [
      "Accuracy: 0.7913719208359064\n",
      "AUC     : 0.7291064318676646\n",
      "Precision: 0.9019073569482289\n",
      "Recall: 0.009617060840258004\n",
      "F1_score: 0.019031191605577112\n"
     ]
    },
    {
     "data": {
      "image/png": "[encoded data removed]",
      "text/plain": [
       "<Figure size 500x500 with 2 Axes>"
      ]
     },
     "metadata": {},
     "output_type": "display_data"
    }
   ],
   "source": [
    "predictions = predict(xgb_predictor, test_data.values[:, 1:] ,  test_data.iloc[:, 0:1].values, prob_threshold = 0.8)"
   ]
  },
  {
   "cell_type": "markdown",
   "metadata": {},
   "source": [
    "**Question**: What can you conclude from how the model did on the test set?"
   ]
  },
  {
   "cell_type": "markdown",
   "metadata": {},
   "source": [
    "**Answer:** By changing the threshold for positive class, we see that:\n",
    "- AUC doesnt change.  \n",
    "- Precision, recall, and accuracy change. We could use a threshold based on precision-recall trade-off or use metrics like AUC to gauge model performance.  "
   ]
  },
  {
   "cell_type": "markdown",
   "metadata": {},
   "source": [
    "### Hyperparameter optimization (HPO)"
   ]
  },
  {
   "cell_type": "code",
   "execution_count": 78,
   "metadata": {},
   "outputs": [
    {
     "name": "stderr",
     "output_type": "stream",
     "text": [
      "INFO:botocore.credentials:Found credentials from IAM Role: BaseNotebookInstanceEc2InstanceRole\n"
     ]
    }
   ],
   "source": [
    "from sagemaker.tuner import IntegerParameter, CategoricalParameter, ContinuousParameter, HyperparameterTuner\n",
    "\n",
    "### You can spin up multiple instances to do hyperparameter optimization in parallel\n",
    "\n",
    "xgb = sagemaker.estimator.Estimator(container,\n",
    "                                    role=sagemaker.get_execution_role(), \n",
    "                                    instance_count= 2, # make sure you have limit set for these instances\n",
    "                                    instance_type='ml.m4.xlarge', \n",
    "                                    output_path='s3://{}/{}/output'.format(bucket, prefix),\n",
    "                                    sagemaker_session=sess)\n",
    "\n",
    "xgb.set_hyperparameters(eval_metric='auc',\n",
    "                        objective='binary:logistic',\n",
    "                        num_round=100,\n",
    "                        early_stopping_rounds=50,\n",
    "                        rate_drop=0.3,\n",
    "                        tweedie_variance_power=1.4)"
   ]
  },
  {
   "cell_type": "code",
   "execution_count": 79,
   "metadata": {},
   "outputs": [],
   "source": [
    "hyperparameter_ranges = {'eta': ContinuousParameter(0, 0.5),\n",
    "                        'min_child_weight': ContinuousParameter(3, 10),\n",
    "                        'alpha': ContinuousParameter(0, 2)}\n",
    "\n",
    "objective_metric_name = 'validation:auc'\n",
    "\n",
    "tuner = HyperparameterTuner(xgb,\n",
    "                            objective_metric_name,\n",
    "                            hyperparameter_ranges,\n",
    "                            max_jobs=9,\n",
    "                            max_parallel_jobs=3)"
   ]
  },
  {
   "cell_type": "code",
   "execution_count": 80,
   "metadata": {},
   "outputs": [
    {
     "name": "stderr",
     "output_type": "stream",
     "text": [
      "WARNING:sagemaker.estimator:No finished training job found associated with this estimator. Please make sure this estimator is only used for building workflow config\n",
      "WARNING:sagemaker.estimator:No finished training job found associated with this estimator. Please make sure this estimator is only used for building workflow config\n",
      "INFO:sagemaker:Creating hyperparameter tuning job with name: sagemaker-xgboost-230124-2004\n"
     ]
    },
    {
     "name": "stdout",
     "output_type": "stream",
     "text": [
      "....................................................................................................................................................................................................................................................................................................................................................................................................................................................................................!\n"
     ]
    }
   ],
   "source": [
    "tuner.fit({'train': s3_input_train, 'validation': s3_input_validation})"
   ]
  },
  {
   "cell_type": "code",
   "execution_count": 81,
   "metadata": {},
   "outputs": [
    {
     "name": "stderr",
     "output_type": "stream",
     "text": [
      "INFO:botocore.credentials:Found credentials from IAM Role: BaseNotebookInstanceEc2InstanceRole\n"
     ]
    },
    {
     "data": {
      "text/plain": [
       "'Completed'"
      ]
     },
     "execution_count": 81,
     "metadata": {},
     "output_type": "execute_result"
    }
   ],
   "source": [
    "boto3.client('sagemaker').describe_hyper_parameter_tuning_job(\n",
    "    HyperParameterTuningJobName=tuner.latest_tuning_job.job_name)['HyperParameterTuningJobStatus']"
   ]
  },
  {
   "cell_type": "markdown",
   "metadata": {},
   "source": [
    "Wait until the training job is finished. It may take 25-30 minutes.\n",
    "\n",
    "**To monitor hyperparameter optimization jobs:**  \n",
    "\n",
    "1. In the AWS Management Console, on the **Services** menu, click **Amazon SageMaker**.  \n",
    "1. Click **Training** > **Hyperparameter tuning jobs**.  \n",
    "1. You can check the status of each hyperparametertuning job, its objective metric value, and its logs.  "
   ]
  },
  {
   "cell_type": "code",
   "execution_count": 82,
   "metadata": {
    "scrolled": true
   },
   "outputs": [
    {
     "name": "stderr",
     "output_type": "stream",
     "text": [
      "INFO:botocore.credentials:Found credentials from IAM Role: BaseNotebookInstanceEc2InstanceRole\n"
     ]
    },
    {
     "name": "stdout",
     "output_type": "stream",
     "text": [
      "9 training jobs have completed\n",
      "Best model found so far:\n",
      "{'CreationTime': datetime.datetime(2023, 1, 24, 20, 30, 40, tzinfo=tzlocal()),\n",
      " 'FinalHyperParameterTuningJobObjectiveMetric': {'MetricName': 'validation:auc',\n",
      "                                                 'Value': 0.7492629885673523},\n",
      " 'ObjectiveStatus': 'Succeeded',\n",
      " 'TrainingEndTime': datetime.datetime(2023, 1, 24, 20, 42, tzinfo=tzlocal()),\n",
      " 'TrainingJobArn': 'arn:aws:sagemaker:us-east-1:431225565897:training-job/sagemaker-xgboost-230124-2004-007-abac3025',\n",
      " 'TrainingJobName': 'sagemaker-xgboost-230124-2004-007-abac3025',\n",
      " 'TrainingJobStatus': 'Completed',\n",
      " 'TrainingStartTime': datetime.datetime(2023, 1, 24, 20, 31, 4, tzinfo=tzlocal()),\n",
      " 'TunedHyperParameters': {'alpha': '1.0111262350567745',\n",
      "                          'eta': '0.42860683830854157',\n",
      "                          'min_child_weight': '7.847427428438931'}}\n",
      "Number of training jobs with valid objective: 9\n",
      "{'lowest': 0.7305110096931458, 'highest': 0.7492629885673523}\n"
     ]
    },
    {
     "data": {
      "text/html": [
       "<div>\n",
       "<style scoped>\n",
       "    .dataframe tbody tr th:only-of-type {\n",
       "        vertical-align: middle;\n",
       "    }\n",
       "\n",
       "    .dataframe tbody tr th {\n",
       "        vertical-align: top;\n",
       "    }\n",
       "\n",
       "    .dataframe thead th {\n",
       "        text-align: right;\n",
       "    }\n",
       "</style>\n",
       "<table border=\"1\" class=\"dataframe\">\n",
       "  <thead>\n",
       "    <tr style=\"text-align: right;\">\n",
       "      <th></th>\n",
       "      <th>alpha</th>\n",
       "      <th>eta</th>\n",
       "      <th>min_child_weight</th>\n",
       "      <th>TrainingJobName</th>\n",
       "      <th>TrainingJobStatus</th>\n",
       "      <th>FinalObjectiveValue</th>\n",
       "      <th>TrainingStartTime</th>\n",
       "      <th>TrainingEndTime</th>\n",
       "      <th>TrainingElapsedTimeSeconds</th>\n",
       "    </tr>\n",
       "  </thead>\n",
       "  <tbody>\n",
       "    <tr>\n",
       "      <th>0</th>\n",
       "      <td>0.576282</td>\n",
       "      <td>0.349102</td>\n",
       "      <td>8.000316</td>\n",
       "      <td>sagemaker-xgboost-230124-2004-009-9209645e</td>\n",
       "      <td>Completed</td>\n",
       "      <td>0.745824</td>\n",
       "      <td>2023-01-24 20:31:45+00:00</td>\n",
       "      <td>2023-01-24 20:42:46+00:00</td>\n",
       "      <td>661.0</td>\n",
       "    </tr>\n",
       "    <tr>\n",
       "      <th>1</th>\n",
       "      <td>0.525260</td>\n",
       "      <td>0.420644</td>\n",
       "      <td>9.191533</td>\n",
       "      <td>sagemaker-xgboost-230124-2004-008-2147074b</td>\n",
       "      <td>Completed</td>\n",
       "      <td>0.747301</td>\n",
       "      <td>2023-01-24 20:30:56+00:00</td>\n",
       "      <td>2023-01-24 20:42:18+00:00</td>\n",
       "      <td>682.0</td>\n",
       "    </tr>\n",
       "    <tr>\n",
       "      <th>2</th>\n",
       "      <td>1.011126</td>\n",
       "      <td>0.428607</td>\n",
       "      <td>7.847427</td>\n",
       "      <td>sagemaker-xgboost-230124-2004-007-abac3025</td>\n",
       "      <td>Completed</td>\n",
       "      <td>0.749263</td>\n",
       "      <td>2023-01-24 20:31:04+00:00</td>\n",
       "      <td>2023-01-24 20:42:00+00:00</td>\n",
       "      <td>656.0</td>\n",
       "    </tr>\n",
       "    <tr>\n",
       "      <th>3</th>\n",
       "      <td>1.937623</td>\n",
       "      <td>0.385931</td>\n",
       "      <td>3.339627</td>\n",
       "      <td>sagemaker-xgboost-230124-2004-006-6d0f5001</td>\n",
       "      <td>Completed</td>\n",
       "      <td>0.745695</td>\n",
       "      <td>2023-01-24 20:20:18+00:00</td>\n",
       "      <td>2023-01-24 20:31:24+00:00</td>\n",
       "      <td>666.0</td>\n",
       "    </tr>\n",
       "    <tr>\n",
       "      <th>4</th>\n",
       "      <td>0.592026</td>\n",
       "      <td>0.117848</td>\n",
       "      <td>6.254248</td>\n",
       "      <td>sagemaker-xgboost-230124-2004-005-e5f09b4a</td>\n",
       "      <td>Completed</td>\n",
       "      <td>0.731408</td>\n",
       "      <td>2023-01-24 20:19:28+00:00</td>\n",
       "      <td>2023-01-24 20:30:24+00:00</td>\n",
       "      <td>656.0</td>\n",
       "    </tr>\n",
       "    <tr>\n",
       "      <th>5</th>\n",
       "      <td>1.347492</td>\n",
       "      <td>0.460585</td>\n",
       "      <td>8.628647</td>\n",
       "      <td>sagemaker-xgboost-230124-2004-004-a3bf2104</td>\n",
       "      <td>Completed</td>\n",
       "      <td>0.748325</td>\n",
       "      <td>2023-01-24 20:19:26+00:00</td>\n",
       "      <td>2023-01-24 20:30:03+00:00</td>\n",
       "      <td>637.0</td>\n",
       "    </tr>\n",
       "    <tr>\n",
       "      <th>6</th>\n",
       "      <td>0.077554</td>\n",
       "      <td>0.180121</td>\n",
       "      <td>5.444983</td>\n",
       "      <td>sagemaker-xgboost-230124-2004-003-12dc7b1e</td>\n",
       "      <td>Completed</td>\n",
       "      <td>0.737383</td>\n",
       "      <td>2023-01-24 20:06:49+00:00</td>\n",
       "      <td>2023-01-24 20:18:56+00:00</td>\n",
       "      <td>727.0</td>\n",
       "    </tr>\n",
       "    <tr>\n",
       "      <th>7</th>\n",
       "      <td>1.838321</td>\n",
       "      <td>0.366947</td>\n",
       "      <td>3.328574</td>\n",
       "      <td>sagemaker-xgboost-230124-2004-002-05b696dc</td>\n",
       "      <td>Completed</td>\n",
       "      <td>0.746571</td>\n",
       "      <td>2023-01-24 20:06:46+00:00</td>\n",
       "      <td>2023-01-24 20:19:59+00:00</td>\n",
       "      <td>793.0</td>\n",
       "    </tr>\n",
       "    <tr>\n",
       "      <th>8</th>\n",
       "      <td>1.377184</td>\n",
       "      <td>0.111975</td>\n",
       "      <td>6.006544</td>\n",
       "      <td>sagemaker-xgboost-230124-2004-001-6d33ec77</td>\n",
       "      <td>Completed</td>\n",
       "      <td>0.730511</td>\n",
       "      <td>2023-01-24 20:06:24+00:00</td>\n",
       "      <td>2023-01-24 20:18:41+00:00</td>\n",
       "      <td>737.0</td>\n",
       "    </tr>\n",
       "  </tbody>\n",
       "</table>\n",
       "</div>"
      ],
      "text/plain": [
       "      alpha       eta  min_child_weight  \\\n",
       "0  0.576282  0.349102  8.000316           \n",
       "1  0.525260  0.420644  9.191533           \n",
       "2  1.011126  0.428607  7.847427           \n",
       "3  1.937623  0.385931  3.339627           \n",
       "4  0.592026  0.117848  6.254248           \n",
       "5  1.347492  0.460585  8.628647           \n",
       "6  0.077554  0.180121  5.444983           \n",
       "7  1.838321  0.366947  3.328574           \n",
       "8  1.377184  0.111975  6.006544           \n",
       "\n",
       "                              TrainingJobName TrainingJobStatus  \\\n",
       "0  sagemaker-xgboost-230124-2004-009-9209645e  Completed          \n",
       "1  sagemaker-xgboost-230124-2004-008-2147074b  Completed          \n",
       "2  sagemaker-xgboost-230124-2004-007-abac3025  Completed          \n",
       "3  sagemaker-xgboost-230124-2004-006-6d0f5001  Completed          \n",
       "4  sagemaker-xgboost-230124-2004-005-e5f09b4a  Completed          \n",
       "5  sagemaker-xgboost-230124-2004-004-a3bf2104  Completed          \n",
       "6  sagemaker-xgboost-230124-2004-003-12dc7b1e  Completed          \n",
       "7  sagemaker-xgboost-230124-2004-002-05b696dc  Completed          \n",
       "8  sagemaker-xgboost-230124-2004-001-6d33ec77  Completed          \n",
       "\n",
       "   FinalObjectiveValue         TrainingStartTime           TrainingEndTime  \\\n",
       "0  0.745824            2023-01-24 20:31:45+00:00 2023-01-24 20:42:46+00:00   \n",
       "1  0.747301            2023-01-24 20:30:56+00:00 2023-01-24 20:42:18+00:00   \n",
       "2  0.749263            2023-01-24 20:31:04+00:00 2023-01-24 20:42:00+00:00   \n",
       "3  0.745695            2023-01-24 20:20:18+00:00 2023-01-24 20:31:24+00:00   \n",
       "4  0.731408            2023-01-24 20:19:28+00:00 2023-01-24 20:30:24+00:00   \n",
       "5  0.748325            2023-01-24 20:19:26+00:00 2023-01-24 20:30:03+00:00   \n",
       "6  0.737383            2023-01-24 20:06:49+00:00 2023-01-24 20:18:56+00:00   \n",
       "7  0.746571            2023-01-24 20:06:46+00:00 2023-01-24 20:19:59+00:00   \n",
       "8  0.730511            2023-01-24 20:06:24+00:00 2023-01-24 20:18:41+00:00   \n",
       "\n",
       "   TrainingElapsedTimeSeconds  \n",
       "0  661.0                       \n",
       "1  682.0                       \n",
       "2  656.0                       \n",
       "3  666.0                       \n",
       "4  656.0                       \n",
       "5  637.0                       \n",
       "6  727.0                       \n",
       "7  793.0                       \n",
       "8  737.0                       "
      ]
     },
     "execution_count": 82,
     "metadata": {},
     "output_type": "execute_result"
    }
   ],
   "source": [
    "sage_client = boto3.Session().client('sagemaker')\n",
    "tuning_job_name = tuner.latest_tuning_job.job_name\n",
    "\n",
    "# Run this cell to check current status of hyperparameter tuning job\n",
    "tuning_job_result = sage_client.describe_hyper_parameter_tuning_job(HyperParameterTuningJobName=tuning_job_name)\n",
    "\n",
    "status = tuning_job_result['HyperParameterTuningJobStatus']\n",
    "if status != 'Completed':\n",
    "    print('Reminder: the tuning job has not been completed.')\n",
    "    \n",
    "job_count = tuning_job_result['TrainingJobStatusCounters']['Completed']\n",
    "print(\"%d training jobs have completed\" % job_count)\n",
    "    \n",
    "is_minimize = (tuning_job_result['HyperParameterTuningJobConfig']['HyperParameterTuningJobObjective']['Type'] != 'Maximize')\n",
    "objective_name = tuning_job_result['HyperParameterTuningJobConfig']['HyperParameterTuningJobObjective']['MetricName']\n",
    "\n",
    "\n",
    "from pprint import pprint\n",
    "if tuning_job_result.get('BestTrainingJob',None):\n",
    "    print(\"Best model found so far:\")\n",
    "    pprint(tuning_job_result['BestTrainingJob'])\n",
    "else:\n",
    "    print(\"No training jobs have reported results yet.\")\n",
    "    \n",
    "### Get the hyperparameter tuning job results in a dataframe\n",
    "tuner_df = sagemaker.HyperparameterTuningJobAnalytics(tuning_job_name).dataframe()\n",
    "\n",
    "if len(tuner_df) > 0:\n",
    "    df = tuner_df[tuner_df['FinalObjectiveValue'] > -float('inf')]\n",
    "    if len(df) > 0:\n",
    "        df = df.sort_values('FinalObjectiveValue', ascending=is_minimize)\n",
    "        print(\"Number of training jobs with valid objective: %d\" % len(df))\n",
    "        print({\"lowest\":min(df['FinalObjectiveValue']),\"highest\": max(df['FinalObjectiveValue'])})\n",
    "        pd.set_option('display.max_colwidth', None)  # Don't truncate TrainingJobName        \n",
    "    else:\n",
    "        print(\"No training jobs have reported valid results yet.\")\n",
    "        \n",
    "tuner_df"
   ]
  },
  {
   "cell_type": "markdown",
   "metadata": {},
   "source": [
    "Deploy the best model from the hyperparameter optimization training."
   ]
  },
  {
   "cell_type": "code",
   "execution_count": 83,
   "metadata": {},
   "outputs": [
    {
     "name": "stdout",
     "output_type": "stream",
     "text": [
      "\n",
      "2023-01-24 20:42:02 Starting - Found matching resource for reuse\n",
      "2023-01-24 20:42:02 Downloading - Downloading input data\n",
      "2023-01-24 20:42:02 Training - Training image download completed. Training in progress.\n",
      "2023-01-24 20:42:02 Uploading - Uploading generated training model\n",
      "2023-01-24 20:42:02 Completed - Resource retained for reuse"
     ]
    },
    {
     "name": "stderr",
     "output_type": "stream",
     "text": [
      "INFO:sagemaker:Creating model with name: sagemaker-xgboost-2023-01-24-20-44-04-498\n"
     ]
    },
    {
     "name": "stdout",
     "output_type": "stream",
     "text": [
      "\n"
     ]
    },
    {
     "name": "stderr",
     "output_type": "stream",
     "text": [
      "INFO:sagemaker:Creating endpoint-config with name sagemaker-xgboost-230124-2004-007-abac3025\n",
      "INFO:sagemaker:Creating endpoint with name sagemaker-xgboost-230124-2004-007-abac3025\n"
     ]
    },
    {
     "name": "stdout",
     "output_type": "stream",
     "text": [
      "---------!"
     ]
    }
   ],
   "source": [
    "xgb_predictor_hpo = tuner.deploy(initial_instance_count = 1,\n",
    "                                 instance_type = 'ml.m4.xlarge',\n",
    "                                serializer=CSVSerializer())"
   ]
  },
  {
   "cell_type": "code",
   "execution_count": 84,
   "metadata": {},
   "outputs": [
    {
     "name": "stdout",
     "output_type": "stream",
     "text": [
      "Accuracy: 0.8094082257778539\n",
      "AUC     : 0.7471713674650853\n",
      "Precision: 0.6620069895157265\n",
      "Recall: 0.19263176244988087\n",
      "F1_score: 0.298426844912565\n"
     ]
    },
    {
     "data": {
      "image/png": "[encoded data removed]",
      "text/plain": [
       "<Figure size 500x500 with 2 Axes>"
      ]
     },
     "metadata": {},
     "output_type": "display_data"
    }
   ],
   "source": [
    "predictions = predict(xgb_predictor_hpo, test_data.values[:, 1:] ,  test_data.iloc[:, 0:1].values, prob_threshold = 0.5)"
   ]
  },
  {
   "cell_type": "markdown",
   "metadata": {},
   "source": [
    "### Feature importance\n",
    "\n",
    "The model files for all hyperparameter tuning jobs are saved by the training job name as in the table above in the folder: \"{bucket}/{prefix}/output/\". You can load the model and use it like a regular sklearn model object for interpretation.\n",
    "\n",
    "Replace **`<TrainingJobName>`** with the best training job name from the hyperparameter tuning jobs table."
   ]
  },
  {
   "cell_type": "code",
   "execution_count": 88,
   "metadata": {},
   "outputs": [],
   "source": [
    "best_model_job_name = \"<TrainingJobName>\""
   ]
  },
  {
   "cell_type": "code",
   "execution_count": 89,
   "metadata": {},
   "outputs": [
    {
     "name": "stdout",
     "output_type": "stream",
     "text": [
      "download: s3://labstack-mccuisp-mxgt8ghyr14ay5ong44eg2-labbucket-iez74mntajza/sagemaker/xgboost/output/sagemaker-xgboost-230124-2004-002-05b696dc/output/model.tar.gz to ./model.tar.gz\r\n"
     ]
    }
   ],
   "source": [
    "# best_hpo_model_path = \"s3://\" + bucket + \"/sagemaker/xgboost/output/<Best model TrainingJobName>/output/model.tar.gz\"\n",
    "best_hpo_model_path = \"s3://\" + bucket + \"/sagemaker/xgboost/output/\" + best_model_job_name + \"/output/model.tar.gz\"\n",
    "### Download best_hpo_model_path to local\n",
    "!aws s3 cp {best_hpo_model_path} ."
   ]
  },
  {
   "cell_type": "markdown",
   "metadata": {},
   "source": [
    "#### Load picked model file"
   ]
  },
  {
   "cell_type": "code",
   "execution_count": 90,
   "metadata": {},
   "outputs": [],
   "source": [
    "import pickle\n",
    "import tarfile\n",
    "import xgboost\n",
    "\n",
    "with open('model.tar.gz', 'rb') as f:\n",
    "    with tarfile.open(fileobj=f, mode='r') as tar_f:\n",
    "        with tar_f.extractfile('xgboost-model') as extracted_f:\n",
    "            xgbooster = pickle.load(extracted_f)"
   ]
  },
  {
   "cell_type": "markdown",
   "metadata": {},
   "source": [
    "#### Map column names to XGBoost model"
   ]
  },
  {
   "cell_type": "code",
   "execution_count": 91,
   "metadata": {},
   "outputs": [],
   "source": [
    "columns = list(data.columns)\n",
    "columns.remove('target')"
   ]
  },
  {
   "cell_type": "code",
   "execution_count": 92,
   "metadata": {},
   "outputs": [],
   "source": [
    "feature_importance = xgbooster.get_fscore()\n",
    "feature_importance_col = {}\n",
    "\n",
    "for column, fname in zip(columns, xgbooster.feature_names):\n",
    "    try:\n",
    "         feature_importance_col[column] = feature_importance[fname]\n",
    "    except Exception:\n",
    "        pass"
   ]
  },
  {
   "cell_type": "markdown",
   "metadata": {},
   "source": [
    "#### Sort by feature importance value"
   ]
  },
  {
   "cell_type": "code",
   "execution_count": 93,
   "metadata": {},
   "outputs": [
    {
     "data": {
      "text/plain": [
       "[('DepHourofDay', 603),\n",
       " ('TAVG_O', 439),\n",
       " ('TAVG_D', 437),\n",
       " ('AWND_D', 388),\n",
       " ('AWND_O', 369),\n",
       " ('Distance', 320),\n",
       " ('PRCP_O', 274),\n",
       " ('PRCP_D', 267),\n",
       " ('Year_2017', 118),\n",
       " ('Year_2018', 97),\n",
       " ('Year_2015', 92),\n",
       " ('Year_2016', 83),\n",
       " ('SNOW_O', 80),\n",
       " ('Reporting_Airline_WN', 76),\n",
       " ('Reporting_Airline_DL', 74),\n",
       " ('Reporting_Airline_UA', 67),\n",
       " ('Dest_SFO', 66),\n",
       " ('DayOfWeek_7', 59),\n",
       " ('Origin_ORD', 59),\n",
       " ('SNOW_D', 57),\n",
       " ('Month_12', 54),\n",
       " ('Reporting_Airline_OO', 50),\n",
       " ('Dest_LAX', 50),\n",
       " ('Quarter_2', 49),\n",
       " ('Quarter_4', 48),\n",
       " ('Month_9', 48),\n",
       " ('Origin_LAX', 48),\n",
       " ('Dest_ORD', 48),\n",
       " ('DayOfWeek_2', 46),\n",
       " ('DayOfWeek_4', 46),\n",
       " ('Month_4', 45),\n",
       " ('Month_8', 45),\n",
       " ('DayOfWeek_6', 45),\n",
       " ('Month_5', 44),\n",
       " ('Month_3', 42),\n",
       " ('Month_2', 40),\n",
       " ('Month_7', 39),\n",
       " ('Origin_SFO', 39),\n",
       " ('DayOfWeek_5', 38),\n",
       " ('Month_10', 37),\n",
       " ('Origin_DFW', 37),\n",
       " ('Dest_PHX', 35),\n",
       " ('Month_6', 34),\n",
       " ('DayofMonth_3', 34),\n",
       " ('DayofMonth_14', 32),\n",
       " ('Month_11', 31),\n",
       " ('Origin_CLT', 28),\n",
       " ('Dest_DFW', 28),\n",
       " ('Quarter_3', 27),\n",
       " ('DayofMonth_13', 27),\n",
       " ('DayofMonth_27', 27),\n",
       " ('Origin_IAH', 27),\n",
       " ('DayofMonth_5', 24),\n",
       " ('DayOfWeek_3', 24),\n",
       " ('Origin_DEN', 24),\n",
       " ('DayofMonth_7', 23),\n",
       " ('DayofMonth_15', 23),\n",
       " ('DayofMonth_21', 23),\n",
       " ('DayofMonth_23', 23),\n",
       " ('DayofMonth_2', 22),\n",
       " ('DayofMonth_20', 22),\n",
       " ('DayofMonth_4', 21),\n",
       " ('DayofMonth_6', 21),\n",
       " ('DayofMonth_22', 21),\n",
       " ('DayofMonth_28', 21),\n",
       " ('Origin_PHX', 21),\n",
       " ('Dest_DEN', 21),\n",
       " ('is_holiday_1', 21),\n",
       " ('DayofMonth_16', 20),\n",
       " ('DayofMonth_29', 20),\n",
       " ('DayofMonth_17', 19),\n",
       " ('DayofMonth_30', 19),\n",
       " ('DayofMonth_9', 18),\n",
       " ('DayofMonth_10', 18),\n",
       " ('DayofMonth_26', 18),\n",
       " ('Dest_IAH', 18),\n",
       " ('DayofMonth_8', 16),\n",
       " ('DayofMonth_18', 16),\n",
       " ('DayofMonth_24', 16),\n",
       " ('Dest_CLT', 16),\n",
       " ('DayofMonth_11', 15),\n",
       " ('DayofMonth_12', 15),\n",
       " ('DayofMonth_31', 15),\n",
       " ('DayofMonth_19', 14),\n",
       " ('DayofMonth_25', 11)]"
      ]
     },
     "execution_count": 93,
     "metadata": {},
     "output_type": "execute_result"
    }
   ],
   "source": [
    "sorted(feature_importance_col.items(), key=lambda kv: kv[1], reverse=True)"
   ]
  },
  {
   "cell_type": "markdown",
   "metadata": {},
   "source": [
    "Based on the feature importance above, you can see that DepHourofDay, Airwind, and Temperature at both source and destination are the major influencers in deciding the flight delay.\n",
    "\n"
   ]
  },
  {
   "cell_type": "markdown",
   "metadata": {},
   "source": []
  },
  {
   "cell_type": "code",
   "execution_count": null,
   "metadata": {},
   "outputs": [],
   "source": []
  }
 ],
 "metadata": {
  "kernelspec": {
   "display_name": "conda_python3",
   "language": "python",
   "name": "conda_python3"
  },
  "language_info": {
   "codemirror_mode": {
    "name": "ipython",
    "version": 3
   },
   "file_extension": ".py",
   "mimetype": "text/x-python",
   "name": "python",
   "nbconvert_exporter": "python",
   "pygments_lexer": "ipython3",
   "version": "3.10.14"
  }
 },
 "nbformat": 4,
 "nbformat_minor": 2
}
